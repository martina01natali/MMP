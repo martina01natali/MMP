{
 "cells": [
  {
   "cell_type": "markdown",
   "id": "be31d391-4559-4860-afd0-3471dda885a6",
   "metadata": {},
   "source": [
    "# Finite elements for BVP with Neumann conditions"
   ]
  },
  {
   "cell_type": "markdown",
   "id": "d178d806-007a-4db6-8ff4-07fbc2f7f90c",
   "metadata": {},
   "source": [
    "Example 6.10 - Inhomogeneous Neumann BVP\n",
    "\n",
    "This example is taken from Gockenbach, Sect. 6.5."
   ]
  },
  {
   "cell_type": "code",
   "execution_count": 1,
   "id": "4d3c5ed6-3d72-47f5-80b5-a4dff77caf0d",
   "metadata": {},
   "outputs": [],
   "source": [
    "%matplotlib inline\n",
    "\n",
    "from sympy import *\n",
    "init_printing()\n",
    "\n",
    "import numpy as np\n",
    "import matplotlib.pyplot as plt\n",
    "from scipy.integrate import quad\n",
    "from scipy.linalg import solve_banded\n",
    "\n",
    "# init_session()"
   ]
  },
  {
   "cell_type": "code",
   "execution_count": 2,
   "id": "dda0aced-b779-4d7d-a13f-a7beb188d6de",
   "metadata": {},
   "outputs": [],
   "source": [
    "u = symbols('u', cls=Function)\n",
    "x = Symbol('x', real=True, domain=Interval(0,1))\n",
    "l = Symbol('l', real=True, positive=True)\n",
    "i = Symbol('i', integer=True)\n",
    "h = Symbol('h', real=True, positive=True)"
   ]
  },
  {
   "cell_type": "code",
   "execution_count": 3,
   "id": "6dace981-47dc-4409-a6ca-f8150635c95c",
   "metadata": {},
   "outputs": [
    {
     "data": {
      "image/png": "[encoded data removed]",
      "text/latex": [
       "$\\displaystyle - \\frac{d^{2}}{d x^{2}} u{\\left(x \\right)} = 2 x - 1$"
      ],
      "text/plain": [
       "   2                \n",
       "  d                 \n",
       "-───(u(x)) = 2⋅x - 1\n",
       "   2                \n",
       " dx                 "
      ]
     },
     "execution_count": 3,
     "metadata": {},
     "output_type": "execute_result"
    }
   ],
   "source": [
    "ode = Eq((-u(x).diff(x, x)), x*2-1, domain=Interval(0,1)); ode"
   ]
  },
  {
   "cell_type": "code",
   "execution_count": 4,
   "id": "7a19a352-4268-4b45-986b-95ef3e92a898",
   "metadata": {},
   "outputs": [
    {
     "data": {
      "image/png": "[encoded data removed]",
      "text/latex": [
       "$\\displaystyle 2 x - 1$"
      ],
      "text/plain": [
       "2⋅x - 1"
      ]
     },
     "execution_count": 4,
     "metadata": {},
     "output_type": "execute_result"
    }
   ],
   "source": [
    "rhs = ode.args[1]; rhs"
   ]
  },
  {
   "cell_type": "code",
   "execution_count": 5,
   "id": "0186019e-fa5d-4f41-bd80-c660a6ebf164",
   "metadata": {},
   "outputs": [],
   "source": [
    "ics = {\n",
    "    u(0) : 0,\n",
    "    u(1) : 0,\n",
    "#     u(x).diff(x).subs(x, 0) : 0,\n",
    "#     u(x).diff(x).subs(x, l) : 0,\n",
    "}"
   ]
  },
  {
   "cell_type": "code",
   "execution_count": 6,
   "id": "4514eef6-1d33-4a34-a6b7-6f3f5656679b",
   "metadata": {},
   "outputs": [
    {
     "data": {
      "image/png": "[encoded data removed]",
      "text/latex": [
       "$\\displaystyle - \\frac{x^{3}}{3} + \\frac{x^{2}}{2} - \\frac{x}{6}$"
      ],
      "text/plain": [
       "   3    2    \n",
       "  x    x    x\n",
       "- ── + ── - ─\n",
       "  3    2    6"
      ]
     },
     "execution_count": 6,
     "metadata": {},
     "output_type": "execute_result"
    }
   ],
   "source": [
    "u_true = dsolve(ode, func=u(x), ics=ics).args[1]; u_true"
   ]
  },
  {
   "cell_type": "raw",
   "id": "82167573-5845-4fe4-bfff-82d3dc8db666",
   "metadata": {},
   "source": [
    "u_true = -x**3/Integer(6)+x**2/Integer(4)-S.One/Integer(12); u_true"
   ]
  },
  {
   "cell_type": "code",
   "execution_count": 7,
   "id": "592ae153-2c0f-4727-b5de-3412e4fa4ef8",
   "metadata": {},
   "outputs": [],
   "source": [
    "# Fix number of intervals\n",
    "n = 10"
   ]
  },
  {
   "cell_type": "markdown",
   "id": "cd1be18b-e236-46be-acfe-16004819ca36",
   "metadata": {},
   "source": [
    "## Implementing matrix representation of piecewise linear polynomials basis\n",
    "\n",
    "Consider a uniformly spaced grid on the x axis, with n+1 nodes $x_i$, such that $x_0 = 0$ and $x_n = l$. Then consider the piecewise polynomials: every element $\\phi_j$ takes some value in every interval, and this value can be viewed as the entry of a vector of n components. \\\n",
    "Ex. $\\phi_0 = [-\\frac{x}{h}+1, 0, 0, ..., 0]$ \\\n",
    "We can build a matrix whose rows are the vectors that represent the piecewise polynomials in the form that we have showed. With this convention, we have n+1 rows that represent the piecewise polynomials, and n columns, one for every interval."
   ]
  },
  {
   "cell_type": "markdown",
   "id": "f5e704af-a3dd-4f25-9ed4-102f5f692c94",
   "metadata": {},
   "source": [
    "Call each interval $X_j$ and each piecewise polynomial $\\phi_i$. \\\n",
    "Build the analytical matrix with symbols as entries."
   ]
  },
  {
   "cell_type": "code",
   "execution_count": 8,
   "id": "4f402f62-ea0a-4666-ac78-21a17dae23fe",
   "metadata": {},
   "outputs": [
    {
     "data": {
      "image/png": "[encoded data removed]",
      "text/latex": [
       "$\\displaystyle \\left[ X_{0}, \\  X_{1}, \\  X_{2}, \\  X_{3}, \\  X_{4}, \\  X_{5}, \\  X_{6}, \\  X_{7}, \\  X_{8}, \\  X_{9}\\right]$"
      ],
      "text/plain": [
       "[X₀, X₁, X₂, X₃, X₄, X₅, X₆, X₇, X₈, X₉]"
      ]
     },
     "execution_count": 8,
     "metadata": {},
     "output_type": "execute_result"
    }
   ],
   "source": [
    "x_list = [Symbol(f'X_{i}') for i in range(n)]; x_list"
   ]
  },
  {
   "cell_type": "code",
   "execution_count": 9,
   "id": "b953e237-373d-4f15-b8e6-cd141e767465",
   "metadata": {},
   "outputs": [
    {
     "data": {
      "text/plain": [
       "[phi_0, phi_1, phi_2, phi_3, phi_4, phi_5, phi_6, phi_7, phi_8, phi_9, phi_10]"
      ]
     },
     "execution_count": 9,
     "metadata": {},
     "output_type": "execute_result"
    }
   ],
   "source": [
    "phi_list = [symbols(f'phi_{i}', cls=Function) for i in range(n+1)]; phi_list"
   ]
  },
  {
   "cell_type": "code",
   "execution_count": 10,
   "id": "80035789-1aa4-4e7c-baea-459663c8da8a",
   "metadata": {},
   "outputs": [
    {
     "data": {
      "text/latex": [
       "$\\displaystyle \\left[\\begin{matrix}\\phi_{0}{\\left(X_{0} \\right)} & 0 & 0 & 0 & 0 & 0 & 0 & 0 & 0 & 0\\\\\\phi_{1}{\\left(X_{0} \\right)} & \\phi_{1}{\\left(X_{1} \\right)} & 0 & 0 & 0 & 0 & 0 & 0 & 0 & 0\\\\0 & \\phi_{2}{\\left(X_{1} \\right)} & \\phi_{2}{\\left(X_{2} \\right)} & 0 & 0 & 0 & 0 & 0 & 0 & 0\\\\0 & 0 & \\phi_{3}{\\left(X_{2} \\right)} & \\phi_{3}{\\left(X_{3} \\right)} & 0 & 0 & 0 & 0 & 0 & 0\\\\0 & 0 & 0 & \\phi_{4}{\\left(X_{3} \\right)} & \\phi_{4}{\\left(X_{4} \\right)} & 0 & 0 & 0 & 0 & 0\\\\0 & 0 & 0 & 0 & \\phi_{5}{\\left(X_{4} \\right)} & \\phi_{5}{\\left(X_{5} \\right)} & 0 & 0 & 0 & 0\\\\0 & 0 & 0 & 0 & 0 & \\phi_{6}{\\left(X_{5} \\right)} & \\phi_{6}{\\left(X_{6} \\right)} & 0 & 0 & 0\\\\0 & 0 & 0 & 0 & 0 & 0 & \\phi_{7}{\\left(X_{6} \\right)} & \\phi_{7}{\\left(X_{7} \\right)} & 0 & 0\\\\0 & 0 & 0 & 0 & 0 & 0 & 0 & \\phi_{8}{\\left(X_{7} \\right)} & \\phi_{8}{\\left(X_{8} \\right)} & 0\\\\0 & 0 & 0 & 0 & 0 & 0 & 0 & 0 & \\phi_{9}{\\left(X_{8} \\right)} & \\phi_{9}{\\left(X_{9} \\right)}\\\\0 & 0 & 0 & 0 & 0 & 0 & 0 & 0 & 0 & \\phi_{10}{\\left(X_{9} \\right)}\\end{matrix}\\right]$"
      ],
      "text/plain": [
       "⎡φ₀(X₀)    0       0       0       0       0       0       0       0        0 \n",
       "⎢                                                                             \n",
       "⎢φ₁(X₀)  φ₁(X₁)    0       0       0       0       0       0       0        0 \n",
       "⎢                                                                             \n",
       "⎢  0     φ₂(X₁)  φ₂(X₂)    0       0       0       0       0       0        0 \n",
       "⎢                                                                             \n",
       "⎢  0       0     φ₃(X₂)  φ₃(X₃)    0       0       0       0       0        0 \n",
       "⎢                                                                             \n",
       "⎢  0       0       0     φ₄(X₃)  φ₄(X₄)    0       0       0       0        0 \n",
       "⎢                                                                             \n",
       "⎢  0       0       0       0     φ₅(X₄)  φ₅(X₅)    0       0       0        0 \n",
       "⎢                                                                             \n",
       "⎢  0       0       0       0       0     φ₆(X₅)  φ₆(X₆)    0       0        0 \n",
       "⎢                                                                             \n",
       "⎢  0       0       0       0       0       0     φ₇(X₆)  φ₇(X₇)    0        0 \n",
       "⎢                                                                             \n",
       "⎢  0       0       0       0       0       0       0     φ₈(X₇)  φ₈(X₈)     0 \n",
       "⎢                                                                             \n",
       "⎢  0       0       0       0       0       0       0       0     φ₉(X₈)  φ₉(X₉\n",
       "⎢                                                                             \n",
       "⎣  0       0       0       0       0       0       0       0       0     φ₁₀(X\n",
       "\n",
       "  ⎤\n",
       "  ⎥\n",
       "  ⎥\n",
       "  ⎥\n",
       "  ⎥\n",
       "  ⎥\n",
       "  ⎥\n",
       "  ⎥\n",
       "  ⎥\n",
       "  ⎥\n",
       "  ⎥\n",
       "  ⎥\n",
       "  ⎥\n",
       "  ⎥\n",
       "  ⎥\n",
       "  ⎥\n",
       "  ⎥\n",
       "  ⎥\n",
       ") ⎥\n",
       "  ⎥\n",
       "₉)⎦"
      ]
     },
     "execution_count": 10,
     "metadata": {},
     "output_type": "execute_result"
    }
   ],
   "source": [
    "symbollist = []\n",
    "for a in range(len(phi_list)):\n",
    "    lista = [S.Zero for b in range(len(x_list))]\n",
    "    for b in range(len(x_list)):\n",
    "        if (a!=0)&(b==a-1):  lista[b]=phi_list[a](x_list[b])\n",
    "        elif a==b:  lista[b]=phi_list[a](x_list[a])\n",
    "    symbollist.append(lista)\n",
    "symbolic = Matrix(symbollist); symbolic"
   ]
  },
  {
   "cell_type": "code",
   "execution_count": 11,
   "id": "9e5ab9f7-4051-4913-8b2d-f8b7ce6c7e29",
   "metadata": {},
   "outputs": [
    {
     "data": {
      "text/latex": [
       "$\\displaystyle \\left[\\begin{matrix}\\phi_{0}{\\left(X_{0} \\right)} & 0 & 0 & 0 & 0 & 0 & 0 & 0 & 0 & 0\\\\\\phi_{1}{\\left(X_{0} \\right)} & \\phi_{1}{\\left(X_{1} \\right)} & 0 & 0 & 0 & 0 & 0 & 0 & 0 & 0\\\\0 & \\phi_{2}{\\left(X_{1} \\right)} & \\phi_{2}{\\left(X_{2} \\right)} & 0 & 0 & 0 & 0 & 0 & 0 & 0\\\\0 & 0 & \\phi_{3}{\\left(X_{2} \\right)} & \\phi_{3}{\\left(X_{3} \\right)} & 0 & 0 & 0 & 0 & 0 & 0\\\\0 & 0 & 0 & \\phi_{4}{\\left(X_{3} \\right)} & \\phi_{4}{\\left(X_{4} \\right)} & 0 & 0 & 0 & 0 & 0\\\\0 & 0 & 0 & 0 & \\phi_{5}{\\left(X_{4} \\right)} & \\phi_{5}{\\left(X_{5} \\right)} & 0 & 0 & 0 & 0\\\\0 & 0 & 0 & 0 & 0 & \\phi_{6}{\\left(X_{5} \\right)} & \\phi_{6}{\\left(X_{6} \\right)} & 0 & 0 & 0\\\\0 & 0 & 0 & 0 & 0 & 0 & \\phi_{7}{\\left(X_{6} \\right)} & \\phi_{7}{\\left(X_{7} \\right)} & 0 & 0\\\\0 & 0 & 0 & 0 & 0 & 0 & 0 & \\phi_{8}{\\left(X_{7} \\right)} & \\phi_{8}{\\left(X_{8} \\right)} & 0\\\\0 & 0 & 0 & 0 & 0 & 0 & 0 & 0 & \\phi_{9}{\\left(X_{8} \\right)} & \\phi_{9}{\\left(X_{9} \\right)}\\\\0 & 0 & 0 & 0 & 0 & 0 & 0 & 0 & 0 & \\phi_{10}{\\left(X_{9} \\right)}\\end{matrix}\\right]$"
      ],
      "text/plain": [
       "⎡φ₀(X₀)    0       0       0       0       0       0       0       0        0 \n",
       "⎢                                                                             \n",
       "⎢φ₁(X₀)  φ₁(X₁)    0       0       0       0       0       0       0        0 \n",
       "⎢                                                                             \n",
       "⎢  0     φ₂(X₁)  φ₂(X₂)    0       0       0       0       0       0        0 \n",
       "⎢                                                                             \n",
       "⎢  0       0     φ₃(X₂)  φ₃(X₃)    0       0       0       0       0        0 \n",
       "⎢                                                                             \n",
       "⎢  0       0       0     φ₄(X₃)  φ₄(X₄)    0       0       0       0        0 \n",
       "⎢                                                                             \n",
       "⎢  0       0       0       0     φ₅(X₄)  φ₅(X₅)    0       0       0        0 \n",
       "⎢                                                                             \n",
       "⎢  0       0       0       0       0     φ₆(X₅)  φ₆(X₆)    0       0        0 \n",
       "⎢                                                                             \n",
       "⎢  0       0       0       0       0       0     φ₇(X₆)  φ₇(X₇)    0        0 \n",
       "⎢                                                                             \n",
       "⎢  0       0       0       0       0       0       0     φ₈(X₇)  φ₈(X₈)     0 \n",
       "⎢                                                                             \n",
       "⎢  0       0       0       0       0       0       0       0     φ₉(X₈)  φ₉(X₉\n",
       "⎢                                                                             \n",
       "⎣  0       0       0       0       0       0       0       0       0     φ₁₀(X\n",
       "\n",
       "  ⎤\n",
       "  ⎥\n",
       "  ⎥\n",
       "  ⎥\n",
       "  ⎥\n",
       "  ⎥\n",
       "  ⎥\n",
       "  ⎥\n",
       "  ⎥\n",
       "  ⎥\n",
       "  ⎥\n",
       "  ⎥\n",
       "  ⎥\n",
       "  ⎥\n",
       "  ⎥\n",
       "  ⎥\n",
       "  ⎥\n",
       "  ⎥\n",
       ") ⎥\n",
       "  ⎥\n",
       "₉)⎦"
      ]
     },
     "execution_count": 11,
     "metadata": {},
     "output_type": "execute_result"
    }
   ],
   "source": [
    "symbollist_de = []\n",
    "for a in range(len(phi_list)):\n",
    "    lista = [S.Zero for b in range(len(x_list))]\n",
    "    for b in range(len(x_list)):\n",
    "        if (a!=0)&(b==a-1):  lista[b]=phi_list[a](x_list[b])\n",
    "        elif a==b:  lista[b]=phi_list[a](x_list[a])\n",
    "    symbollist_de.append(lista)\n",
    "symbolic_de = Matrix(symbollist_de); symbolic_de"
   ]
  },
  {
   "cell_type": "code",
   "execution_count": 12,
   "id": "32d4424a-668d-4490-8c0e-cce30ea81dc2",
   "metadata": {},
   "outputs": [
    {
     "data": {
      "text/latex": [
       "$\\displaystyle \\left[\\begin{matrix}\\frac{d}{d x} \\phi_{0}{\\left(X_{0} \\right)} & 0 & 0 & 0 & 0 & 0 & 0 & 0 & 0 & 0\\\\\\frac{d}{d x} \\phi_{1}{\\left(X_{0} \\right)} & \\frac{d}{d x} \\phi_{1}{\\left(X_{1} \\right)} & 0 & 0 & 0 & 0 & 0 & 0 & 0 & 0\\\\0 & \\frac{d}{d x} \\phi_{2}{\\left(X_{1} \\right)} & \\frac{d}{d x} \\phi_{2}{\\left(X_{2} \\right)} & 0 & 0 & 0 & 0 & 0 & 0 & 0\\\\0 & 0 & \\frac{d}{d x} \\phi_{3}{\\left(X_{2} \\right)} & \\frac{d}{d x} \\phi_{3}{\\left(X_{3} \\right)} & 0 & 0 & 0 & 0 & 0 & 0\\\\0 & 0 & 0 & \\frac{d}{d x} \\phi_{4}{\\left(X_{3} \\right)} & \\frac{d}{d x} \\phi_{4}{\\left(X_{4} \\right)} & 0 & 0 & 0 & 0 & 0\\\\0 & 0 & 0 & 0 & \\frac{d}{d x} \\phi_{5}{\\left(X_{4} \\right)} & \\frac{d}{d x} \\phi_{5}{\\left(X_{5} \\right)} & 0 & 0 & 0 & 0\\\\0 & 0 & 0 & 0 & 0 & \\frac{d}{d x} \\phi_{6}{\\left(X_{5} \\right)} & \\frac{d}{d x} \\phi_{6}{\\left(X_{6} \\right)} & 0 & 0 & 0\\\\0 & 0 & 0 & 0 & 0 & 0 & \\frac{d}{d x} \\phi_{7}{\\left(X_{6} \\right)} & \\frac{d}{d x} \\phi_{7}{\\left(X_{7} \\right)} & 0 & 0\\\\0 & 0 & 0 & 0 & 0 & 0 & 0 & \\frac{d}{d x} \\phi_{8}{\\left(X_{7} \\right)} & \\frac{d}{d x} \\phi_{8}{\\left(X_{8} \\right)} & 0\\\\0 & 0 & 0 & 0 & 0 & 0 & 0 & 0 & \\frac{d}{d x} \\phi_{9}{\\left(X_{8} \\right)} & \\frac{d}{d x} \\phi_{9}{\\left(X_{9} \\right)}\\\\0 & 0 & 0 & 0 & 0 & 0 & 0 & 0 & 0 & \\frac{d}{d x} \\phi_{10}{\\left(X_{9} \\right)}\\end{matrix}\\right]$"
      ],
      "text/plain": [
       "⎡d                                                                            \n",
       "⎢──(φ₀(X₀))      0           0           0           0           0           0\n",
       "⎢dx                                                                           \n",
       "⎢                                                                             \n",
       "⎢d           d                                                                \n",
       "⎢──(φ₁(X₀))  ──(φ₁(X₁))      0           0           0           0           0\n",
       "⎢dx          dx                                                               \n",
       "⎢                                                                             \n",
       "⎢            d           d                                                    \n",
       "⎢    0       ──(φ₂(X₁))  ──(φ₂(X₂))      0           0           0           0\n",
       "⎢            dx          dx                                                   \n",
       "⎢                                                                             \n",
       "⎢                        d           d                                        \n",
       "⎢    0           0       ──(φ₃(X₂))  ──(φ₃(X₃))      0           0           0\n",
       "⎢                        dx          dx                                       \n",
       "⎢                                                                             \n",
       "⎢                                    d           d                            \n",
       "⎢    0           0           0       ──(φ₄(X₃))  ──(φ₄(X₄))      0           0\n",
       "⎢                                    dx          dx                           \n",
       "⎢                                                                             \n",
       "⎢                                                d           d                \n",
       "⎢    0           0           0           0       ──(φ₅(X₄))  ──(φ₅(X₅))      0\n",
       "⎢                                                dx          dx               \n",
       "⎢                                                                             \n",
       "⎢                                                            d           d    \n",
       "⎢    0           0           0           0           0       ──(φ₆(X₅))  ──(φ₆\n",
       "⎢                                                            dx          dx   \n",
       "⎢                                                                             \n",
       "⎢                                                                        d    \n",
       "⎢    0           0           0           0           0           0       ──(φ₇\n",
       "⎢                                                                        dx   \n",
       "⎢                                                                             \n",
       "⎢                                                                             \n",
       "⎢    0           0           0           0           0           0           0\n",
       "⎢                                                                             \n",
       "⎢                                                                             \n",
       "⎢                                                                             \n",
       "⎢    0           0           0           0           0           0           0\n",
       "⎢                                                                             \n",
       "⎢                                                                             \n",
       "⎢                                                                             \n",
       "⎢    0           0           0           0           0           0           0\n",
       "⎣                                                                             \n",
       "\n",
       "                                          ⎤\n",
       "           0           0            0     ⎥\n",
       "                                          ⎥\n",
       "                                          ⎥\n",
       "                                          ⎥\n",
       "           0           0            0     ⎥\n",
       "                                          ⎥\n",
       "                                          ⎥\n",
       "                                          ⎥\n",
       "           0           0            0     ⎥\n",
       "                                          ⎥\n",
       "                                          ⎥\n",
       "                                          ⎥\n",
       "           0           0            0     ⎥\n",
       "                                          ⎥\n",
       "                                          ⎥\n",
       "                                          ⎥\n",
       "           0           0            0     ⎥\n",
       "                                          ⎥\n",
       "                                          ⎥\n",
       "                                          ⎥\n",
       "           0           0            0     ⎥\n",
       "                                          ⎥\n",
       "                                          ⎥\n",
       "                                          ⎥\n",
       "(X₆))      0           0            0     ⎥\n",
       "                                          ⎥\n",
       "                                          ⎥\n",
       "       d                                  ⎥\n",
       "(X₆))  ──(φ₇(X₇))      0            0     ⎥\n",
       "       dx                                 ⎥\n",
       "                                          ⎥\n",
       "       d           d                      ⎥\n",
       "       ──(φ₈(X₇))  ──(φ₈(X₈))       0     ⎥\n",
       "       dx          dx                     ⎥\n",
       "                                          ⎥\n",
       "                   d           d          ⎥\n",
       "           0       ──(φ₉(X₈))  ──(φ₉(X₉)) ⎥\n",
       "                   dx          dx         ⎥\n",
       "                                          ⎥\n",
       "                               d          ⎥\n",
       "           0           0       ──(φ₁₀(X₉))⎥\n",
       "                               dx         ⎦"
      ]
     },
     "execution_count": 12,
     "metadata": {},
     "output_type": "execute_result"
    }
   ],
   "source": [
    "symbolic_de = symbolic.applyfunc(lambda entry : entry.diff(x, evaluate=False) if entry!=0 else 0); symbolic_de"
   ]
  },
  {
   "cell_type": "code",
   "execution_count": 13,
   "id": "c725df97-e302-48c6-b31c-6a038bc5daee",
   "metadata": {},
   "outputs": [
    {
     "data": {
      "text/latex": [
       "$\\displaystyle \\left[\\begin{array}{ccccccccccc}\\left(\\frac{d}{d x} \\phi_{0}{\\left(X_{0} \\right)}\\right)^{2} & \\frac{d}{d x} \\phi_{0}{\\left(X_{0} \\right)} \\frac{d}{d x} \\phi_{1}{\\left(X_{0} \\right)} & 0 & 0 & 0 & 0 & 0 & 0 & 0 & 0 & 0\\\\\\frac{d}{d x} \\phi_{0}{\\left(X_{0} \\right)} \\frac{d}{d x} \\phi_{1}{\\left(X_{0} \\right)} & \\left(\\frac{d}{d x} \\phi_{1}{\\left(X_{0} \\right)}\\right)^{2} + \\left(\\frac{d}{d x} \\phi_{1}{\\left(X_{1} \\right)}\\right)^{2} & \\frac{d}{d x} \\phi_{1}{\\left(X_{1} \\right)} \\frac{d}{d x} \\phi_{2}{\\left(X_{1} \\right)} & 0 & 0 & 0 & 0 & 0 & 0 & 0 & 0\\\\0 & \\frac{d}{d x} \\phi_{1}{\\left(X_{1} \\right)} \\frac{d}{d x} \\phi_{2}{\\left(X_{1} \\right)} & \\left(\\frac{d}{d x} \\phi_{2}{\\left(X_{1} \\right)}\\right)^{2} + \\left(\\frac{d}{d x} \\phi_{2}{\\left(X_{2} \\right)}\\right)^{2} & \\frac{d}{d x} \\phi_{2}{\\left(X_{2} \\right)} \\frac{d}{d x} \\phi_{3}{\\left(X_{2} \\right)} & 0 & 0 & 0 & 0 & 0 & 0 & 0\\\\0 & 0 & \\frac{d}{d x} \\phi_{2}{\\left(X_{2} \\right)} \\frac{d}{d x} \\phi_{3}{\\left(X_{2} \\right)} & \\left(\\frac{d}{d x} \\phi_{3}{\\left(X_{2} \\right)}\\right)^{2} + \\left(\\frac{d}{d x} \\phi_{3}{\\left(X_{3} \\right)}\\right)^{2} & \\frac{d}{d x} \\phi_{3}{\\left(X_{3} \\right)} \\frac{d}{d x} \\phi_{4}{\\left(X_{3} \\right)} & 0 & 0 & 0 & 0 & 0 & 0\\\\0 & 0 & 0 & \\frac{d}{d x} \\phi_{3}{\\left(X_{3} \\right)} \\frac{d}{d x} \\phi_{4}{\\left(X_{3} \\right)} & \\left(\\frac{d}{d x} \\phi_{4}{\\left(X_{3} \\right)}\\right)^{2} + \\left(\\frac{d}{d x} \\phi_{4}{\\left(X_{4} \\right)}\\right)^{2} & \\frac{d}{d x} \\phi_{4}{\\left(X_{4} \\right)} \\frac{d}{d x} \\phi_{5}{\\left(X_{4} \\right)} & 0 & 0 & 0 & 0 & 0\\\\0 & 0 & 0 & 0 & \\frac{d}{d x} \\phi_{4}{\\left(X_{4} \\right)} \\frac{d}{d x} \\phi_{5}{\\left(X_{4} \\right)} & \\left(\\frac{d}{d x} \\phi_{5}{\\left(X_{4} \\right)}\\right)^{2} + \\left(\\frac{d}{d x} \\phi_{5}{\\left(X_{5} \\right)}\\right)^{2} & \\frac{d}{d x} \\phi_{5}{\\left(X_{5} \\right)} \\frac{d}{d x} \\phi_{6}{\\left(X_{5} \\right)} & 0 & 0 & 0 & 0\\\\0 & 0 & 0 & 0 & 0 & \\frac{d}{d x} \\phi_{5}{\\left(X_{5} \\right)} \\frac{d}{d x} \\phi_{6}{\\left(X_{5} \\right)} & \\left(\\frac{d}{d x} \\phi_{6}{\\left(X_{5} \\right)}\\right)^{2} + \\left(\\frac{d}{d x} \\phi_{6}{\\left(X_{6} \\right)}\\right)^{2} & \\frac{d}{d x} \\phi_{6}{\\left(X_{6} \\right)} \\frac{d}{d x} \\phi_{7}{\\left(X_{6} \\right)} & 0 & 0 & 0\\\\0 & 0 & 0 & 0 & 0 & 0 & \\frac{d}{d x} \\phi_{6}{\\left(X_{6} \\right)} \\frac{d}{d x} \\phi_{7}{\\left(X_{6} \\right)} & \\left(\\frac{d}{d x} \\phi_{7}{\\left(X_{6} \\right)}\\right)^{2} + \\left(\\frac{d}{d x} \\phi_{7}{\\left(X_{7} \\right)}\\right)^{2} & \\frac{d}{d x} \\phi_{7}{\\left(X_{7} \\right)} \\frac{d}{d x} \\phi_{8}{\\left(X_{7} \\right)} & 0 & 0\\\\0 & 0 & 0 & 0 & 0 & 0 & 0 & \\frac{d}{d x} \\phi_{7}{\\left(X_{7} \\right)} \\frac{d}{d x} \\phi_{8}{\\left(X_{7} \\right)} & \\left(\\frac{d}{d x} \\phi_{8}{\\left(X_{7} \\right)}\\right)^{2} + \\left(\\frac{d}{d x} \\phi_{8}{\\left(X_{8} \\right)}\\right)^{2} & \\frac{d}{d x} \\phi_{8}{\\left(X_{8} \\right)} \\frac{d}{d x} \\phi_{9}{\\left(X_{8} \\right)} & 0\\\\0 & 0 & 0 & 0 & 0 & 0 & 0 & 0 & \\frac{d}{d x} \\phi_{8}{\\left(X_{8} \\right)} \\frac{d}{d x} \\phi_{9}{\\left(X_{8} \\right)} & \\left(\\frac{d}{d x} \\phi_{9}{\\left(X_{8} \\right)}\\right)^{2} + \\left(\\frac{d}{d x} \\phi_{9}{\\left(X_{9} \\right)}\\right)^{2} & \\frac{d}{d x} \\phi_{10}{\\left(X_{9} \\right)} \\frac{d}{d x} \\phi_{9}{\\left(X_{9} \\right)}\\\\0 & 0 & 0 & 0 & 0 & 0 & 0 & 0 & 0 & \\frac{d}{d x} \\phi_{10}{\\left(X_{9} \\right)} \\frac{d}{d x} \\phi_{9}{\\left(X_{9} \\right)} & \\left(\\frac{d}{d x} \\phi_{10}{\\left(X_{9} \\right)}\\right)^{2}\\end{array}\\right]$"
      ],
      "text/plain": [
       "⎡                2                                                            \n",
       "⎢    ⎛d         ⎞           d          d                                      \n",
       "⎢    ⎜──(φ₀(X₀))⎟           ──(φ₀(X₀))⋅──(φ₁(X₀))                    0        \n",
       "⎢    ⎝dx        ⎠           dx         dx                                     \n",
       "⎢                                                                             \n",
       "⎢                                   2               2                         \n",
       "⎢d          d           ⎛d         ⎞    ⎛d         ⎞       d          d       \n",
       "⎢──(φ₀(X₀))⋅──(φ₁(X₀))  ⎜──(φ₁(X₀))⎟  + ⎜──(φ₁(X₁))⎟       ──(φ₁(X₁))⋅──(φ₂(X₁\n",
       "⎢dx         dx          ⎝dx        ⎠    ⎝dx        ⎠       dx         dx      \n",
       "⎢                                                                             \n",
       "⎢                                                                  2          \n",
       "⎢                           d          d               ⎛d         ⎞    ⎛d     \n",
       "⎢          0                ──(φ₁(X₁))⋅──(φ₂(X₁))      ⎜──(φ₂(X₁))⎟  + ⎜──(φ₂(\n",
       "⎢                           dx         dx              ⎝dx        ⎠    ⎝dx    \n",
       "⎢                                                                             \n",
       "⎢                                                                             \n",
       "⎢                                                          d          d       \n",
       "⎢          0                          0                    ──(φ₂(X₂))⋅──(φ₃(X₂\n",
       "⎢                                                          dx         dx      \n",
       "⎢                                                                             \n",
       "⎢                                                                             \n",
       "⎢                                                                             \n",
       "⎢          0                          0                              0        \n",
       "⎢                                                                             \n",
       "⎢                                                                             \n",
       "⎢                                                                             \n",
       "⎢                                                                             \n",
       "⎢          0                          0                              0        \n",
       "⎢                                                                             \n",
       "⎢                                                                             \n",
       "⎢                                                                             \n",
       "⎢                                                                             \n",
       "⎢          0                          0                              0        \n",
       "⎢                                                                             \n",
       "⎢                                                                             \n",
       "⎢                                                                             \n",
       "⎢                                                                             \n",
       "⎢          0                          0                              0        \n",
       "⎢                                                                             \n",
       "⎢                                                                             \n",
       "⎢                                                                             \n",
       "⎢                                                                             \n",
       "⎢          0                          0                              0        \n",
       "⎢                                                                             \n",
       "⎢                                                                             \n",
       "⎢                                                                             \n",
       "⎢                                                                             \n",
       "⎢          0                          0                              0        \n",
       "⎢                                                                             \n",
       "⎢                                                                             \n",
       "⎢                                                                             \n",
       "⎢                                                                             \n",
       "⎢          0                          0                              0        \n",
       "⎣                                                                             \n",
       "\n",
       "                                                                              \n",
       "                                                                              \n",
       "                      0                              0                        \n",
       "                                                                              \n",
       "                                                                              \n",
       "                                                                              \n",
       "                                                                              \n",
       "))                    0                              0                        \n",
       "                                                                              \n",
       "                                                                              \n",
       "     2                                                                        \n",
       "    ⎞       d          d                                                      \n",
       "X₂))⎟       ──(φ₂(X₂))⋅──(φ₃(X₂))                    0                        \n",
       "    ⎠       dx         dx                                                     \n",
       "                                                                              \n",
       "                    2               2                                         \n",
       "        ⎛d         ⎞    ⎛d         ⎞       d          d                       \n",
       "))      ⎜──(φ₃(X₂))⎟  + ⎜──(φ₃(X₃))⎟       ──(φ₃(X₃))⋅──(φ₄(X₃))              \n",
       "        ⎝dx        ⎠    ⎝dx        ⎠       dx         dx                      \n",
       "                                                                              \n",
       "                                                   2               2          \n",
       "            d          d               ⎛d         ⎞    ⎛d         ⎞       d   \n",
       "            ──(φ₃(X₃))⋅──(φ₄(X₃))      ⎜──(φ₄(X₃))⎟  + ⎜──(φ₄(X₄))⎟       ──(φ\n",
       "            dx         dx              ⎝dx        ⎠    ⎝dx        ⎠       dx  \n",
       "                                                                              \n",
       "                                                                              \n",
       "                                           d          d               ⎛d      \n",
       "                      0                    ──(φ₄(X₄))⋅──(φ₅(X₄))      ⎜──(φ₅(X\n",
       "                                           dx         dx              ⎝dx     \n",
       "                                                                              \n",
       "                                                                              \n",
       "                                                                          d   \n",
       "                      0                              0                    ──(φ\n",
       "                                                                          dx  \n",
       "                                                                              \n",
       "                                                                              \n",
       "                                                                              \n",
       "                      0                              0                        \n",
       "                                                                              \n",
       "                                                                              \n",
       "                                                                              \n",
       "                                                                              \n",
       "                      0                              0                        \n",
       "                                                                              \n",
       "                                                                              \n",
       "                                                                              \n",
       "                                                                              \n",
       "                      0                              0                        \n",
       "                                                                              \n",
       "                                                                              \n",
       "                                                                              \n",
       "                                                                              \n",
       "                      0                              0                        \n",
       "                                                                              \n",
       "\n",
       "                                                                              \n",
       "                                                                              \n",
       "      0                              0                              0         \n",
       "                                                                              \n",
       "                                                                              \n",
       "                                                                              \n",
       "                                                                              \n",
       "      0                              0                              0         \n",
       "                                                                              \n",
       "                                                                              \n",
       "                                                                              \n",
       "                                                                              \n",
       "      0                              0                              0         \n",
       "                                                                              \n",
       "                                                                              \n",
       "                                                                              \n",
       "                                                                              \n",
       "      0                              0                              0         \n",
       "                                                                              \n",
       "                                                                              \n",
       "                                                                              \n",
       "       d                                                                      \n",
       "₄(X₄))⋅──(φ₅(X₄))                    0                              0         \n",
       "       dx                                                                     \n",
       "                                                                              \n",
       "    2               2                                                         \n",
       "   ⎞    ⎛d         ⎞       d          d                                       \n",
       "₄))⎟  + ⎜──(φ₅(X₅))⎟       ──(φ₅(X₅))⋅──(φ₆(X₅))                    0         \n",
       "   ⎠    ⎝dx        ⎠       dx         dx                                      \n",
       "                                                                              \n",
       "                                   2               2                          \n",
       "       d               ⎛d         ⎞    ⎛d         ⎞       d          d        \n",
       "₅(X₅))⋅──(φ₆(X₅))      ⎜──(φ₆(X₅))⎟  + ⎜──(φ₆(X₆))⎟       ──(φ₆(X₆))⋅──(φ₇(X₆)\n",
       "       dx              ⎝dx        ⎠    ⎝dx        ⎠       dx         dx       \n",
       "                                                                              \n",
       "                                                                  2           \n",
       "                           d          d               ⎛d         ⎞    ⎛d      \n",
       "      0                    ──(φ₆(X₆))⋅──(φ₇(X₆))      ⎜──(φ₇(X₆))⎟  + ⎜──(φ₇(X\n",
       "                           dx         dx              ⎝dx        ⎠    ⎝dx     \n",
       "                                                                              \n",
       "                                                                              \n",
       "                                                          d          d        \n",
       "      0                              0                    ──(φ₇(X₇))⋅──(φ₈(X₇)\n",
       "                                                          dx         dx       \n",
       "                                                                              \n",
       "                                                                              \n",
       "                                                                              \n",
       "      0                              0                              0         \n",
       "                                                                              \n",
       "                                                                              \n",
       "                                                                              \n",
       "                                                                              \n",
       "      0                              0                              0         \n",
       "                                                                              \n",
       "\n",
       "                                                                              \n",
       "                                                                              \n",
       "                     0                              0                         \n",
       "                                                                              \n",
       "                                                                              \n",
       "                                                                              \n",
       "                                                                              \n",
       "                     0                              0                         \n",
       "                                                                              \n",
       "                                                                              \n",
       "                                                                              \n",
       "                                                                              \n",
       "                     0                              0                         \n",
       "                                                                              \n",
       "                                                                              \n",
       "                                                                              \n",
       "                                                                              \n",
       "                     0                              0                         \n",
       "                                                                              \n",
       "                                                                              \n",
       "                                                                              \n",
       "                                                                              \n",
       "                     0                              0                         \n",
       "                                                                              \n",
       "                                                                              \n",
       "                                                                              \n",
       "                                                                              \n",
       "                     0                              0                         \n",
       "                                                                              \n",
       "                                                                              \n",
       "                                                                              \n",
       "                                                                              \n",
       ")                    0                              0                         \n",
       "                                                                              \n",
       "                                                                              \n",
       "    2                                                                         \n",
       "   ⎞       d          d                                                       \n",
       "₇))⎟       ──(φ₇(X₇))⋅──(φ₈(X₇))                    0                         \n",
       "   ⎠       dx         dx                                                      \n",
       "                                                                              \n",
       "                   2               2                                          \n",
       "       ⎛d         ⎞    ⎛d         ⎞       d          d                        \n",
       ")      ⎜──(φ₈(X₇))⎟  + ⎜──(φ₈(X₈))⎟       ──(φ₈(X₈))⋅──(φ₉(X₈))               \n",
       "       ⎝dx        ⎠    ⎝dx        ⎠       dx         dx                       \n",
       "                                                                              \n",
       "                                                  2               2           \n",
       "           d          d               ⎛d         ⎞    ⎛d         ⎞   d        \n",
       "           ──(φ₈(X₈))⋅──(φ₉(X₈))      ⎜──(φ₉(X₈))⎟  + ⎜──(φ₉(X₉))⎟   ──(φ₁₀(X₉\n",
       "           dx         dx              ⎝dx        ⎠    ⎝dx        ⎠   dx       \n",
       "                                                                              \n",
       "                                                                              \n",
       "                                         d           d                   ⎛d   \n",
       "                     0                   ──(φ₁₀(X₉))⋅──(φ₉(X₉))          ⎜──(φ\n",
       "                                         dx          dx                  ⎝dx  \n",
       "\n",
       "             ⎤\n",
       "             ⎥\n",
       " 0           ⎥\n",
       "             ⎥\n",
       "             ⎥\n",
       "             ⎥\n",
       "             ⎥\n",
       " 0           ⎥\n",
       "             ⎥\n",
       "             ⎥\n",
       "             ⎥\n",
       "             ⎥\n",
       " 0           ⎥\n",
       "             ⎥\n",
       "             ⎥\n",
       "             ⎥\n",
       "             ⎥\n",
       " 0           ⎥\n",
       "             ⎥\n",
       "             ⎥\n",
       "             ⎥\n",
       "             ⎥\n",
       " 0           ⎥\n",
       "             ⎥\n",
       "             ⎥\n",
       "             ⎥\n",
       "             ⎥\n",
       " 0           ⎥\n",
       "             ⎥\n",
       "             ⎥\n",
       "             ⎥\n",
       "             ⎥\n",
       " 0           ⎥\n",
       "             ⎥\n",
       "             ⎥\n",
       "             ⎥\n",
       "             ⎥\n",
       " 0           ⎥\n",
       "             ⎥\n",
       "             ⎥\n",
       "             ⎥\n",
       "             ⎥\n",
       " 0           ⎥\n",
       "             ⎥\n",
       "             ⎥\n",
       "             ⎥\n",
       "   d         ⎥\n",
       "))⋅──(φ₉(X₉))⎥\n",
       "   dx        ⎥\n",
       "             ⎥\n",
       "        2    ⎥\n",
       "       ⎞     ⎥\n",
       "₁₀(X₉))⎟     ⎥\n",
       "       ⎠     ⎦"
      ]
     },
     "execution_count": 13,
     "metadata": {},
     "output_type": "execute_result"
    }
   ],
   "source": [
    "symbolic_Iij = symbolic_de*symbolic_de.T; symbolic_Iij"
   ]
  },
  {
   "cell_type": "code",
   "execution_count": 14,
   "id": "bc2dc758-41d4-4bef-be5e-289278b104b8",
   "metadata": {},
   "outputs": [
    {
     "data": {
      "text/latex": [
       "$\\displaystyle \\left[\\begin{array}{ccccccccccc}\\int\\limits_{0}^{h} \\left(\\frac{d}{d x} \\phi_{0}{\\left(X_{0} \\right)}\\right)^{2}\\, dx & \\int\\limits_{0}^{h} \\frac{d}{d x} \\phi_{0}{\\left(X_{0} \\right)} \\frac{d}{d x} \\phi_{1}{\\left(X_{0} \\right)}\\, dx & 0 & 0 & 0 & 0 & 0 & 0 & 0 & 0 & 0\\\\\\int\\limits_{0}^{h} \\frac{d}{d x} \\phi_{0}{\\left(X_{0} \\right)} \\frac{d}{d x} \\phi_{1}{\\left(X_{0} \\right)}\\, dx & \\int\\limits_{0}^{h} \\left(\\left(\\frac{d}{d x} \\phi_{1}{\\left(X_{0} \\right)}\\right)^{2} + \\left(\\frac{d}{d x} \\phi_{1}{\\left(X_{1} \\right)}\\right)^{2}\\right)\\, dx & \\int\\limits_{0}^{h} \\frac{d}{d x} \\phi_{1}{\\left(X_{1} \\right)} \\frac{d}{d x} \\phi_{2}{\\left(X_{1} \\right)}\\, dx & 0 & 0 & 0 & 0 & 0 & 0 & 0 & 0\\\\0 & \\int\\limits_{0}^{h} \\frac{d}{d x} \\phi_{1}{\\left(X_{1} \\right)} \\frac{d}{d x} \\phi_{2}{\\left(X_{1} \\right)}\\, dx & \\int\\limits_{0}^{h} \\left(\\left(\\frac{d}{d x} \\phi_{2}{\\left(X_{1} \\right)}\\right)^{2} + \\left(\\frac{d}{d x} \\phi_{2}{\\left(X_{2} \\right)}\\right)^{2}\\right)\\, dx & \\int\\limits_{0}^{h} \\frac{d}{d x} \\phi_{2}{\\left(X_{2} \\right)} \\frac{d}{d x} \\phi_{3}{\\left(X_{2} \\right)}\\, dx & 0 & 0 & 0 & 0 & 0 & 0 & 0\\\\0 & 0 & \\int\\limits_{0}^{h} \\frac{d}{d x} \\phi_{2}{\\left(X_{2} \\right)} \\frac{d}{d x} \\phi_{3}{\\left(X_{2} \\right)}\\, dx & \\int\\limits_{0}^{h} \\left(\\left(\\frac{d}{d x} \\phi_{3}{\\left(X_{2} \\right)}\\right)^{2} + \\left(\\frac{d}{d x} \\phi_{3}{\\left(X_{3} \\right)}\\right)^{2}\\right)\\, dx & \\int\\limits_{0}^{h} \\frac{d}{d x} \\phi_{3}{\\left(X_{3} \\right)} \\frac{d}{d x} \\phi_{4}{\\left(X_{3} \\right)}\\, dx & 0 & 0 & 0 & 0 & 0 & 0\\\\0 & 0 & 0 & \\int\\limits_{0}^{h} \\frac{d}{d x} \\phi_{3}{\\left(X_{3} \\right)} \\frac{d}{d x} \\phi_{4}{\\left(X_{3} \\right)}\\, dx & \\int\\limits_{0}^{h} \\left(\\left(\\frac{d}{d x} \\phi_{4}{\\left(X_{3} \\right)}\\right)^{2} + \\left(\\frac{d}{d x} \\phi_{4}{\\left(X_{4} \\right)}\\right)^{2}\\right)\\, dx & \\int\\limits_{0}^{h} \\frac{d}{d x} \\phi_{4}{\\left(X_{4} \\right)} \\frac{d}{d x} \\phi_{5}{\\left(X_{4} \\right)}\\, dx & 0 & 0 & 0 & 0 & 0\\\\0 & 0 & 0 & 0 & \\int\\limits_{0}^{h} \\frac{d}{d x} \\phi_{4}{\\left(X_{4} \\right)} \\frac{d}{d x} \\phi_{5}{\\left(X_{4} \\right)}\\, dx & \\int\\limits_{0}^{h} \\left(\\left(\\frac{d}{d x} \\phi_{5}{\\left(X_{4} \\right)}\\right)^{2} + \\left(\\frac{d}{d x} \\phi_{5}{\\left(X_{5} \\right)}\\right)^{2}\\right)\\, dx & \\int\\limits_{0}^{h} \\frac{d}{d x} \\phi_{5}{\\left(X_{5} \\right)} \\frac{d}{d x} \\phi_{6}{\\left(X_{5} \\right)}\\, dx & 0 & 0 & 0 & 0\\\\0 & 0 & 0 & 0 & 0 & \\int\\limits_{0}^{h} \\frac{d}{d x} \\phi_{5}{\\left(X_{5} \\right)} \\frac{d}{d x} \\phi_{6}{\\left(X_{5} \\right)}\\, dx & \\int\\limits_{0}^{h} \\left(\\left(\\frac{d}{d x} \\phi_{6}{\\left(X_{5} \\right)}\\right)^{2} + \\left(\\frac{d}{d x} \\phi_{6}{\\left(X_{6} \\right)}\\right)^{2}\\right)\\, dx & \\int\\limits_{0}^{h} \\frac{d}{d x} \\phi_{6}{\\left(X_{6} \\right)} \\frac{d}{d x} \\phi_{7}{\\left(X_{6} \\right)}\\, dx & 0 & 0 & 0\\\\0 & 0 & 0 & 0 & 0 & 0 & \\int\\limits_{0}^{h} \\frac{d}{d x} \\phi_{6}{\\left(X_{6} \\right)} \\frac{d}{d x} \\phi_{7}{\\left(X_{6} \\right)}\\, dx & \\int\\limits_{0}^{h} \\left(\\left(\\frac{d}{d x} \\phi_{7}{\\left(X_{6} \\right)}\\right)^{2} + \\left(\\frac{d}{d x} \\phi_{7}{\\left(X_{7} \\right)}\\right)^{2}\\right)\\, dx & \\int\\limits_{0}^{h} \\frac{d}{d x} \\phi_{7}{\\left(X_{7} \\right)} \\frac{d}{d x} \\phi_{8}{\\left(X_{7} \\right)}\\, dx & 0 & 0\\\\0 & 0 & 0 & 0 & 0 & 0 & 0 & \\int\\limits_{0}^{h} \\frac{d}{d x} \\phi_{7}{\\left(X_{7} \\right)} \\frac{d}{d x} \\phi_{8}{\\left(X_{7} \\right)}\\, dx & \\int\\limits_{0}^{h} \\left(\\left(\\frac{d}{d x} \\phi_{8}{\\left(X_{7} \\right)}\\right)^{2} + \\left(\\frac{d}{d x} \\phi_{8}{\\left(X_{8} \\right)}\\right)^{2}\\right)\\, dx & \\int\\limits_{0}^{h} \\frac{d}{d x} \\phi_{8}{\\left(X_{8} \\right)} \\frac{d}{d x} \\phi_{9}{\\left(X_{8} \\right)}\\, dx & 0\\\\0 & 0 & 0 & 0 & 0 & 0 & 0 & 0 & \\int\\limits_{0}^{h} \\frac{d}{d x} \\phi_{8}{\\left(X_{8} \\right)} \\frac{d}{d x} \\phi_{9}{\\left(X_{8} \\right)}\\, dx & \\int\\limits_{0}^{h} \\left(\\left(\\frac{d}{d x} \\phi_{9}{\\left(X_{8} \\right)}\\right)^{2} + \\left(\\frac{d}{d x} \\phi_{9}{\\left(X_{9} \\right)}\\right)^{2}\\right)\\, dx & \\int\\limits_{0}^{h} \\frac{d}{d x} \\phi_{10}{\\left(X_{9} \\right)} \\frac{d}{d x} \\phi_{9}{\\left(X_{9} \\right)}\\, dx\\\\0 & 0 & 0 & 0 & 0 & 0 & 0 & 0 & 0 & \\int\\limits_{0}^{h} \\frac{d}{d x} \\phi_{10}{\\left(X_{9} \\right)} \\frac{d}{d x} \\phi_{9}{\\left(X_{9} \\right)}\\, dx & \\int\\limits_{0}^{h} \\left(\\frac{d}{d x} \\phi_{10}{\\left(X_{9} \\right)}\\right)^{2}\\, dx\\end{array}\\right]$"
      ],
      "text/plain": [
       "⎡    h                                                                        \n",
       "⎢    ⌠                           h                                            \n",
       "⎢    ⎮             2             ⌠                                            \n",
       "⎢    ⎮ ⎛d         ⎞              ⎮ d          d                               \n",
       "⎢    ⎮ ⎜──(φ₀(X₀))⎟  dx          ⎮ ──(φ₀(X₀))⋅──(φ₁(X₀)) dx                   \n",
       "⎢    ⎮ ⎝dx        ⎠              ⎮ dx         dx                              \n",
       "⎢    ⌡                           ⌡                                            \n",
       "⎢    0                           0                                            \n",
       "⎢                                                                             \n",
       "⎢                            h                                                \n",
       "⎢h                           ⌠                                       h        \n",
       "⎢⌠                           ⎮             2               2         ⌠        \n",
       "⎢⎮ d          d              ⎮ ⎛d         ⎞    ⎛d         ⎞          ⎮ d      \n",
       "⎢⎮ ──(φ₀(X₀))⋅──(φ₁(X₀)) dx  ⎮ ⎜──(φ₁(X₀))⎟  + ⎜──(φ₁(X₁))⎟  dx      ⎮ ──(φ₁(X\n",
       "⎢⎮ dx         dx             ⎮ ⎝dx        ⎠    ⎝dx        ⎠          ⎮ dx     \n",
       "⎢⌡                           ⌡                                       ⌡        \n",
       "⎢0                           0                                       0        \n",
       "⎢                                                                             \n",
       "⎢                                                                h            \n",
       "⎢                                h                               ⌠            \n",
       "⎢                                ⌠                               ⎮            \n",
       "⎢                                ⎮ d          d                  ⎮ ⎛d         \n",
       "⎢            0                   ⎮ ──(φ₁(X₁))⋅──(φ₂(X₁)) dx      ⎮ ⎜──(φ₂(X₁))\n",
       "⎢                                ⎮ dx         dx                 ⎮ ⎝dx        \n",
       "⎢                                ⌡                               ⌡            \n",
       "⎢                                0                               0            \n",
       "⎢                                                                             \n",
       "⎢                                                                             \n",
       "⎢                                                                    h        \n",
       "⎢                                                                    ⌠        \n",
       "⎢                                                                    ⎮ d      \n",
       "⎢            0                               0                       ⎮ ──(φ₂(X\n",
       "⎢                                                                    ⎮ dx     \n",
       "⎢                                                                    ⌡        \n",
       "⎢                                                                    0        \n",
       "⎢                                                                             \n",
       "⎢                                                                             \n",
       "⎢                                                                             \n",
       "⎢                                                                             \n",
       "⎢                                                                             \n",
       "⎢            0                               0                                \n",
       "⎢                                                                             \n",
       "⎢                                                                             \n",
       "⎢                                                                             \n",
       "⎢                                                                             \n",
       "⎢                                                                             \n",
       "⎢                                                                             \n",
       "⎢                                                                             \n",
       "⎢                                                                             \n",
       "⎢            0                               0                                \n",
       "⎢                                                                             \n",
       "⎢                                                                             \n",
       "⎢                                                                             \n",
       "⎢                                                                             \n",
       "⎢                                                                             \n",
       "⎢                                                                             \n",
       "⎢                                                                             \n",
       "⎢                                                                             \n",
       "⎢            0                               0                                \n",
       "⎢                                                                             \n",
       "⎢                                                                             \n",
       "⎢                                                                             \n",
       "⎢                                                                             \n",
       "⎢                                                                             \n",
       "⎢                                                                             \n",
       "⎢                                                                             \n",
       "⎢                                                                             \n",
       "⎢            0                               0                                \n",
       "⎢                                                                             \n",
       "⎢                                                                             \n",
       "⎢                                                                             \n",
       "⎢                                                                             \n",
       "⎢                                                                             \n",
       "⎢                                                                             \n",
       "⎢                                                                             \n",
       "⎢                                                                             \n",
       "⎢            0                               0                                \n",
       "⎢                                                                             \n",
       "⎢                                                                             \n",
       "⎢                                                                             \n",
       "⎢                                                                             \n",
       "⎢                                                                             \n",
       "⎢                                                                             \n",
       "⎢                                                                             \n",
       "⎢                                                                             \n",
       "⎢            0                               0                                \n",
       "⎢                                                                             \n",
       "⎢                                                                             \n",
       "⎢                                                                             \n",
       "⎢                                                                             \n",
       "⎢                                                                             \n",
       "⎢                                                                             \n",
       "⎢                                                                             \n",
       "⎢                                                                             \n",
       "⎢            0                               0                                \n",
       "⎢                                                                             \n",
       "⎢                                                                             \n",
       "⎣                                                                             \n",
       "\n",
       "                                                                              \n",
       "                                                                              \n",
       "                                                                              \n",
       "                                                                              \n",
       "   0                                   0                                   0  \n",
       "                                                                              \n",
       "                                                                              \n",
       "                                                                              \n",
       "                                                                              \n",
       "                                                                              \n",
       "                                                                              \n",
       "                                                                              \n",
       "    d                                                                         \n",
       "₁))⋅──(φ₂(X₁)) dx                      0                                   0  \n",
       "    dx                                                                        \n",
       "                                                                              \n",
       "                                                                              \n",
       "                                                                              \n",
       "                                                                              \n",
       "                           h                                                  \n",
       " 2               2         ⌠                                                  \n",
       "⎞    ⎛d         ⎞          ⎮ d          d                                     \n",
       "⎟  + ⎜──(φ₂(X₂))⎟  dx      ⎮ ──(φ₂(X₂))⋅──(φ₃(X₂)) dx                      0  \n",
       "⎠    ⎝dx        ⎠          ⎮ dx         dx                                    \n",
       "                           ⌡                                                  \n",
       "                           0                                                  \n",
       "                                                                              \n",
       "                       h                                                      \n",
       "                       ⌠                                       h              \n",
       "                       ⎮             2               2         ⌠              \n",
       "    d                  ⎮ ⎛d         ⎞    ⎛d         ⎞          ⎮ d          d \n",
       "₂))⋅──(φ₃(X₂)) dx      ⎮ ⎜──(φ₃(X₂))⎟  + ⎜──(φ₃(X₃))⎟  dx      ⎮ ──(φ₃(X₃))⋅──\n",
       "    dx                 ⎮ ⎝dx        ⎠    ⎝dx        ⎠          ⎮ dx         dx\n",
       "                       ⌡                                       ⌡              \n",
       "                       0                                       0              \n",
       "                                                                              \n",
       "                                                           h                  \n",
       "                           h                               ⌠                  \n",
       "                           ⌠                               ⎮             2    \n",
       "                           ⎮ d          d                  ⎮ ⎛d         ⎞    ⎛\n",
       "   0                       ⎮ ──(φ₃(X₃))⋅──(φ₄(X₃)) dx      ⎮ ⎜──(φ₄(X₃))⎟  + ⎜\n",
       "                           ⎮ dx         dx                 ⎮ ⎝dx        ⎠    ⎝\n",
       "                           ⌡                               ⌡                  \n",
       "                           0                               0                  \n",
       "                                                                              \n",
       "                                                                              \n",
       "                                                               h              \n",
       "                                                               ⌠              \n",
       "                                                               ⎮ d          d \n",
       "   0                                   0                       ⎮ ──(φ₄(X₄))⋅──\n",
       "                                                               ⎮ dx         dx\n",
       "                                                               ⌡              \n",
       "                                                               0              \n",
       "                                                                              \n",
       "                                                                              \n",
       "                                                                              \n",
       "                                                                              \n",
       "                                                                              \n",
       "   0                                   0                                   0  \n",
       "                                                                              \n",
       "                                                                              \n",
       "                                                                              \n",
       "                                                                              \n",
       "                                                                              \n",
       "                                                                              \n",
       "                                                                              \n",
       "                                                                              \n",
       "   0                                   0                                   0  \n",
       "                                                                              \n",
       "                                                                              \n",
       "                                                                              \n",
       "                                                                              \n",
       "                                                                              \n",
       "                                                                              \n",
       "                                                                              \n",
       "                                                                              \n",
       "   0                                   0                                   0  \n",
       "                                                                              \n",
       "                                                                              \n",
       "                                                                              \n",
       "                                                                              \n",
       "                                                                              \n",
       "                                                                              \n",
       "                                                                              \n",
       "                                                                              \n",
       "   0                                   0                                   0  \n",
       "                                                                              \n",
       "                                                                              \n",
       "                                                                              \n",
       "                                                                              \n",
       "                                                                              \n",
       "                                                                              \n",
       "                                                                              \n",
       "                                                                              \n",
       "   0                                   0                                   0  \n",
       "                                                                              \n",
       "                                                                              \n",
       "                                                                              \n",
       "\n",
       "                                                                              \n",
       "                                                                              \n",
       "                                                                              \n",
       "                                                                              \n",
       "                                 0                                   0        \n",
       "                                                                              \n",
       "                                                                              \n",
       "                                                                              \n",
       "                                                                              \n",
       "                                                                              \n",
       "                                                                              \n",
       "                                                                              \n",
       "                                                                              \n",
       "                                 0                                   0        \n",
       "                                                                              \n",
       "                                                                              \n",
       "                                                                              \n",
       "                                                                              \n",
       "                                                                              \n",
       "                                                                              \n",
       "                                                                              \n",
       "                                                                              \n",
       "                                 0                                   0        \n",
       "                                                                              \n",
       "                                                                              \n",
       "                                                                              \n",
       "                                                                              \n",
       "                                                                              \n",
       "                                                                              \n",
       "                                                                              \n",
       "                                                                              \n",
       "(φ₄(X₃)) dx                      0                                   0        \n",
       "                                                                              \n",
       "                                                                              \n",
       "                                                                              \n",
       "                                                                              \n",
       "                                                                              \n",
       "                     h                                                        \n",
       "           2         ⌠                                                        \n",
       "d         ⎞          ⎮ d          d                                           \n",
       "──(φ₄(X₄))⎟  dx      ⎮ ──(φ₄(X₄))⋅──(φ₅(X₄)) dx                      0        \n",
       "dx        ⎠          ⎮ dx         dx                                          \n",
       "                     ⌡                                                        \n",
       "                     0                                                        \n",
       "                                                                              \n",
       "                 h                                                            \n",
       "                 ⌠                                       h                    \n",
       "                 ⎮             2               2         ⌠                    \n",
       "                 ⎮ ⎛d         ⎞    ⎛d         ⎞          ⎮ d          d       \n",
       "(φ₅(X₄)) dx      ⎮ ⎜──(φ₅(X₄))⎟  + ⎜──(φ₅(X₅))⎟  dx      ⎮ ──(φ₅(X₅))⋅──(φ₆(X₅\n",
       "                 ⎮ ⎝dx        ⎠    ⎝dx        ⎠          ⎮ dx         dx      \n",
       "                 ⌡                                       ⌡                    \n",
       "                 0                                       0                    \n",
       "                                                                              \n",
       "                                                     h                        \n",
       "                     h                               ⌠                        \n",
       "                     ⌠                               ⎮             2          \n",
       "                     ⎮ d          d                  ⎮ ⎛d         ⎞    ⎛d     \n",
       "                     ⎮ ──(φ₅(X₅))⋅──(φ₆(X₅)) dx      ⎮ ⎜──(φ₆(X₅))⎟  + ⎜──(φ₆(\n",
       "                     ⎮ dx         dx                 ⎮ ⎝dx        ⎠    ⎝dx    \n",
       "                     ⌡                               ⌡                        \n",
       "                     0                               0                        \n",
       "                                                                              \n",
       "                                                                              \n",
       "                                                         h                    \n",
       "                                                         ⌠                    \n",
       "                                                         ⎮ d          d       \n",
       "                                 0                       ⎮ ──(φ₆(X₆))⋅──(φ₇(X₆\n",
       "                                                         ⎮ dx         dx      \n",
       "                                                         ⌡                    \n",
       "                                                         0                    \n",
       "                                                                              \n",
       "                                                                              \n",
       "                                                                              \n",
       "                                                                              \n",
       "                                                                              \n",
       "                                 0                                   0        \n",
       "                                                                              \n",
       "                                                                              \n",
       "                                                                              \n",
       "                                                                              \n",
       "                                                                              \n",
       "                                                                              \n",
       "                                                                              \n",
       "                                                                              \n",
       "                                 0                                   0        \n",
       "                                                                              \n",
       "                                                                              \n",
       "                                                                              \n",
       "                                                                              \n",
       "                                                                              \n",
       "                                                                              \n",
       "                                                                              \n",
       "                                                                              \n",
       "                                 0                                   0        \n",
       "                                                                              \n",
       "                                                                              \n",
       "                                                                              \n",
       "\n",
       "                                                                              \n",
       "                                                                              \n",
       "                                                                              \n",
       "                                                                              \n",
       "                           0                                   0              \n",
       "                                                                              \n",
       "                                                                              \n",
       "                                                                              \n",
       "                                                                              \n",
       "                                                                              \n",
       "                                                                              \n",
       "                                                                              \n",
       "                                                                              \n",
       "                           0                                   0              \n",
       "                                                                              \n",
       "                                                                              \n",
       "                                                                              \n",
       "                                                                              \n",
       "                                                                              \n",
       "                                                                              \n",
       "                                                                              \n",
       "                                                                              \n",
       "                           0                                   0              \n",
       "                                                                              \n",
       "                                                                              \n",
       "                                                                              \n",
       "                                                                              \n",
       "                                                                              \n",
       "                                                                              \n",
       "                                                                              \n",
       "                                                                              \n",
       "                           0                                   0              \n",
       "                                                                              \n",
       "                                                                              \n",
       "                                                                              \n",
       "                                                                              \n",
       "                                                                              \n",
       "                                                                              \n",
       "                                                                              \n",
       "                                                                              \n",
       "                           0                                   0              \n",
       "                                                                              \n",
       "                                                                              \n",
       "                                                                              \n",
       "                                                                              \n",
       "                                                                              \n",
       "                                                                              \n",
       "                                                                              \n",
       "                                                                              \n",
       ")) dx                      0                                   0              \n",
       "                                                                              \n",
       "                                                                              \n",
       "                                                                              \n",
       "                                                                              \n",
       "                                                                              \n",
       "               h                                                              \n",
       "     2         ⌠                                                              \n",
       "    ⎞          ⎮ d          d                                                 \n",
       "X₆))⎟  dx      ⎮ ──(φ₆(X₆))⋅──(φ₇(X₆)) dx                      0              \n",
       "    ⎠          ⎮ dx         dx                                                \n",
       "               ⌡                                                              \n",
       "               0                                                              \n",
       "                                                                              \n",
       "           h                                                                  \n",
       "           ⌠                                       h                          \n",
       "           ⎮             2               2         ⌠                          \n",
       "           ⎮ ⎛d         ⎞    ⎛d         ⎞          ⎮ d          d             \n",
       ")) dx      ⎮ ⎜──(φ₇(X₆))⎟  + ⎜──(φ₇(X₇))⎟  dx      ⎮ ──(φ₇(X₇))⋅──(φ₈(X₇)) dx \n",
       "           ⎮ ⎝dx        ⎠    ⎝dx        ⎠          ⎮ dx         dx            \n",
       "           ⌡                                       ⌡                          \n",
       "           0                                       0                          \n",
       "                                                                              \n",
       "                                               h                              \n",
       "               h                               ⌠                              \n",
       "               ⌠                               ⎮             2               2\n",
       "               ⎮ d          d                  ⎮ ⎛d         ⎞    ⎛d         ⎞ \n",
       "               ⎮ ──(φ₇(X₇))⋅──(φ₈(X₇)) dx      ⎮ ⎜──(φ₈(X₇))⎟  + ⎜──(φ₈(X₈))⎟ \n",
       "               ⎮ dx         dx                 ⎮ ⎝dx        ⎠    ⎝dx        ⎠ \n",
       "               ⌡                               ⌡                              \n",
       "               0                               0                              \n",
       "                                                                              \n",
       "                                                                              \n",
       "                                                   h                          \n",
       "                                                   ⌠                          \n",
       "                                                   ⎮ d          d             \n",
       "                           0                       ⎮ ──(φ₈(X₈))⋅──(φ₉(X₈)) dx \n",
       "                                                   ⎮ dx         dx            \n",
       "                                                   ⌡                          \n",
       "                                                   0                          \n",
       "                                                                              \n",
       "                                                                              \n",
       "                                                                              \n",
       "                                                                              \n",
       "                                                                              \n",
       "                           0                                   0              \n",
       "                                                                              \n",
       "                                                                              \n",
       "                                                                              \n",
       "\n",
       "                                                                    ⎤\n",
       "                                                                    ⎥\n",
       "                                                                    ⎥\n",
       "                                                                    ⎥\n",
       "                     0                                0             ⎥\n",
       "                                                                    ⎥\n",
       "                                                                    ⎥\n",
       "                                                                    ⎥\n",
       "                                                                    ⎥\n",
       "                                                                    ⎥\n",
       "                                                                    ⎥\n",
       "                                                                    ⎥\n",
       "                                                                    ⎥\n",
       "                     0                                0             ⎥\n",
       "                                                                    ⎥\n",
       "                                                                    ⎥\n",
       "                                                                    ⎥\n",
       "                                                                    ⎥\n",
       "                                                                    ⎥\n",
       "                                                                    ⎥\n",
       "                                                                    ⎥\n",
       "                                                                    ⎥\n",
       "                     0                                0             ⎥\n",
       "                                                                    ⎥\n",
       "                                                                    ⎥\n",
       "                                                                    ⎥\n",
       "                                                                    ⎥\n",
       "                                                                    ⎥\n",
       "                                                                    ⎥\n",
       "                                                                    ⎥\n",
       "                                                                    ⎥\n",
       "                     0                                0             ⎥\n",
       "                                                                    ⎥\n",
       "                                                                    ⎥\n",
       "                                                                    ⎥\n",
       "                                                                    ⎥\n",
       "                                                                    ⎥\n",
       "                                                                    ⎥\n",
       "                                                                    ⎥\n",
       "                                                                    ⎥\n",
       "                     0                                0             ⎥\n",
       "                                                                    ⎥\n",
       "                                                                    ⎥\n",
       "                                                                    ⎥\n",
       "                                                                    ⎥\n",
       "                                                                    ⎥\n",
       "                                                                    ⎥\n",
       "                                                                    ⎥\n",
       "                                                                    ⎥\n",
       "                     0                                0             ⎥\n",
       "                                                                    ⎥\n",
       "                                                                    ⎥\n",
       "                                                                    ⎥\n",
       "                                                                    ⎥\n",
       "                                                                    ⎥\n",
       "                                                                    ⎥\n",
       "                                                                    ⎥\n",
       "                                                                    ⎥\n",
       "                     0                                0             ⎥\n",
       "                                                                    ⎥\n",
       "                                                                    ⎥\n",
       "                                                                    ⎥\n",
       "                                                                    ⎥\n",
       "                                                                    ⎥\n",
       "                                                                    ⎥\n",
       "                                                                    ⎥\n",
       "                                                                    ⎥\n",
       "                     0                                0             ⎥\n",
       "                                                                    ⎥\n",
       "                                                                    ⎥\n",
       "                                                                    ⎥\n",
       "                                                                    ⎥\n",
       "                                                                    ⎥\n",
       "         h                                                          ⎥\n",
       "         ⌠                                                          ⎥\n",
       "         ⎮ d          d                                             ⎥\n",
       " dx      ⎮ ──(φ₈(X₈))⋅──(φ₉(X₈)) dx                   0             ⎥\n",
       "         ⎮ dx         dx                                            ⎥\n",
       "         ⌡                                                          ⎥\n",
       "         0                                                          ⎥\n",
       "                                                                    ⎥\n",
       "     h                                                              ⎥\n",
       "     ⌠                                   h                          ⎥\n",
       "     ⎮             2               2     ⌠                          ⎥\n",
       "     ⎮ ⎛d         ⎞    ⎛d         ⎞      ⎮ d           d            ⎥\n",
       "     ⎮ ⎜──(φ₉(X₈))⎟  + ⎜──(φ₉(X₉))⎟  dx  ⎮ ──(φ₁₀(X₉))⋅──(φ₉(X₉)) dx⎥\n",
       "     ⎮ ⎝dx        ⎠    ⎝dx        ⎠      ⎮ dx          dx           ⎥\n",
       "     ⌡                                   ⌡                          ⎥\n",
       "     0                                   0                          ⎥\n",
       "                                                                    ⎥\n",
       "                                             h                      ⎥\n",
       "        h                                    ⌠                      ⎥\n",
       "        ⌠                                    ⎮              2       ⎥\n",
       "        ⎮ d           d                      ⎮ ⎛d          ⎞        ⎥\n",
       "        ⎮ ──(φ₁₀(X₉))⋅──(φ₉(X₉)) dx          ⎮ ⎜──(φ₁₀(X₉))⎟  dx    ⎥\n",
       "        ⎮ dx          dx                     ⎮ ⎝dx         ⎠        ⎥\n",
       "        ⌡                                    ⌡                      ⎥\n",
       "        0                                    0                      ⎦"
      ]
     },
     "execution_count": 14,
     "metadata": {},
     "output_type": "execute_result"
    }
   ],
   "source": [
    "symbolic_Kij = symbolic_Iij.applyfunc(\n",
    "    lambda entry :\n",
    "    Integral(UnevaluatedExpr(entry), (x, S.Zero, h)) if entry!=0\n",
    "    else 0\n",
    "); symbolic_Kij"
   ]
  },
  {
   "cell_type": "code",
   "execution_count": null,
   "id": "90bd955b-b320-4311-a98f-7b5e7e57780f",
   "metadata": {},
   "outputs": [],
   "source": []
  },
  {
   "cell_type": "markdown",
   "id": "4889d948-8c8f-4743-946e-c0ed899cc39c",
   "metadata": {},
   "source": [
    "## Numerical computation"
   ]
  },
  {
   "cell_type": "code",
   "execution_count": 15,
   "id": "e4d48d97-a8ce-43e7-a8f2-fc151585eb65",
   "metadata": {},
   "outputs": [
    {
     "name": "stdout",
     "output_type": "stream",
     "text": [
      "e00 = i + 1 - x/h\n"
     ]
    }
   ],
   "source": [
    "# The first (and only) element of the e0 component\n",
    "# From now on, the elements of the basis are called eX, with X their index,\n",
    "# eXY are the entries of the matrix built with the vectors eX,\n",
    "# deXY are the elements of the matrix of the derivatives,\n",
    "# eXeY are the elements of the matrix that has the scalar products as components\n",
    "\n",
    "# e00 = sy_basis.args[1][0]; e00 # this assignment leads to incompatibility\n",
    "                                    # with other expressions and simplification\n",
    "e00 = -x/h + i + S.One; print(\"e00 =\", e00)"
   ]
  },
  {
   "cell_type": "code",
   "execution_count": 16,
   "id": "ef8a79e0-edef-46c3-b2d1-d9bd37fb9146",
   "metadata": {},
   "outputs": [
    {
     "name": "stdout",
     "output_type": "stream",
     "text": [
      "enn = -i + 1 + x/h\n"
     ]
    }
   ],
   "source": [
    "# enn = sy_basis.args[0][0]; enn\n",
    "enn = x/h - i + S.One; print(\"enn =\", enn)"
   ]
  },
  {
   "cell_type": "code",
   "execution_count": 17,
   "id": "939daea9-62cd-49cb-b35c-d1f441e4ebf5",
   "metadata": {},
   "outputs": [
    {
     "data": {
      "text/latex": [
       "$\\displaystyle \\begin{cases} - i + 1 + \\frac{x}{h} & \\text{for}\\: x > h \\left(i - 1\\right) \\wedge x < h i \\\\i + 1 - \\frac{x}{h} & \\text{for}\\: x > h i \\wedge x < h \\left(i + 1\\right) \\\\0 & \\text{otherwise} \\end{cases}$"
      ],
      "text/plain": [
       "⎧         x                             \n",
       "⎪-i + 1 + ─  for x > h⋅(i - 1) ∧ x < h⋅i\n",
       "⎪         h                             \n",
       "⎪                                       \n",
       "⎨        x                              \n",
       "⎪i + 1 - ─   for x > h⋅i ∧ x < h⋅(i + 1)\n",
       "⎪        h                              \n",
       "⎪                                       \n",
       "⎩    0                otherwise         "
      ]
     },
     "execution_count": 17,
     "metadata": {},
     "output_type": "execute_result"
    }
   ],
   "source": [
    "sy_basis = Piecewise(\n",
    "    (enn, (x>(i-1)*h)&(x<i*h)),\n",
    "    (e00, (x>i*h)&(x<(i+1)*h)),\n",
    "    (0, True),\n",
    "); sy_basis"
   ]
  },
  {
   "cell_type": "code",
   "execution_count": 18,
   "id": "57d67639-e010-40e6-9532-b3dd34942629",
   "metadata": {},
   "outputs": [
    {
     "data": {
      "text/latex": [
       "$\\displaystyle \\left[\\begin{matrix}1 - \\frac{x}{h} & 0 & 0 & 0 & 0 & 0 & 0 & 0 & 0 & 0\\\\\\frac{x}{h} & 2 - \\frac{x}{h} & 0 & 0 & 0 & 0 & 0 & 0 & 0 & 0\\\\0 & -1 + \\frac{x}{h} & 3 - \\frac{x}{h} & 0 & 0 & 0 & 0 & 0 & 0 & 0\\\\0 & 0 & -2 + \\frac{x}{h} & 4 - \\frac{x}{h} & 0 & 0 & 0 & 0 & 0 & 0\\\\0 & 0 & 0 & -3 + \\frac{x}{h} & 5 - \\frac{x}{h} & 0 & 0 & 0 & 0 & 0\\\\0 & 0 & 0 & 0 & -4 + \\frac{x}{h} & 6 - \\frac{x}{h} & 0 & 0 & 0 & 0\\\\0 & 0 & 0 & 0 & 0 & -5 + \\frac{x}{h} & 7 - \\frac{x}{h} & 0 & 0 & 0\\\\0 & 0 & 0 & 0 & 0 & 0 & -6 + \\frac{x}{h} & 8 - \\frac{x}{h} & 0 & 0\\\\0 & 0 & 0 & 0 & 0 & 0 & 0 & -7 + \\frac{x}{h} & 9 - \\frac{x}{h} & 0\\\\0 & 0 & 0 & 0 & 0 & 0 & 0 & 0 & -8 + \\frac{x}{h} & 10 - \\frac{x}{h}\\\\0 & 0 & 0 & 0 & 0 & 0 & 0 & 0 & 0 & -9 + \\frac{x}{h}\\end{matrix}\\right]$"
      ],
      "text/plain": [
       "⎡    x                                                                        \n",
       "⎢1 - ─    0       0       0       0       0       0       0       0       0   \n",
       "⎢    h                                                                        \n",
       "⎢                                                                             \n",
       "⎢  x        x                                                                 \n",
       "⎢  ─    2 - ─     0       0       0       0       0       0       0       0   \n",
       "⎢  h        h                                                                 \n",
       "⎢                                                                             \n",
       "⎢            x      x                                                         \n",
       "⎢  0    -1 + ─  3 - ─     0       0       0       0       0       0       0   \n",
       "⎢            h      h                                                         \n",
       "⎢                                                                             \n",
       "⎢                    x      x                                                 \n",
       "⎢  0      0     -2 + ─  4 - ─     0       0       0       0       0       0   \n",
       "⎢                    h      h                                                 \n",
       "⎢                                                                             \n",
       "⎢                            x      x                                         \n",
       "⎢  0      0       0     -3 + ─  5 - ─     0       0       0       0       0   \n",
       "⎢                            h      h                                         \n",
       "⎢                                                                             \n",
       "⎢                                    x      x                                 \n",
       "⎢  0      0       0       0     -4 + ─  6 - ─     0       0       0       0   \n",
       "⎢                                    h      h                                 \n",
       "⎢                                                                             \n",
       "⎢                                            x      x                         \n",
       "⎢  0      0       0       0       0     -5 + ─  7 - ─     0       0       0   \n",
       "⎢                                            h      h                         \n",
       "⎢                                                                             \n",
       "⎢                                                    x      x                 \n",
       "⎢  0      0       0       0       0       0     -6 + ─  8 - ─     0       0   \n",
       "⎢                                                    h      h                 \n",
       "⎢                                                                             \n",
       "⎢                                                            x      x         \n",
       "⎢  0      0       0       0       0       0       0     -7 + ─  9 - ─     0   \n",
       "⎢                                                            h      h         \n",
       "⎢                                                                             \n",
       "⎢                                                                    x       x\n",
       "⎢  0      0       0       0       0       0       0       0     -8 + ─  10 - ─\n",
       "⎢                                                                    h       h\n",
       "⎢                                                                             \n",
       "⎢                                                                            x\n",
       "⎢  0      0       0       0       0       0       0       0       0     -9 + ─\n",
       "⎣                                                                            h\n",
       "\n",
       "⎤\n",
       "⎥\n",
       "⎥\n",
       "⎥\n",
       "⎥\n",
       "⎥\n",
       "⎥\n",
       "⎥\n",
       "⎥\n",
       "⎥\n",
       "⎥\n",
       "⎥\n",
       "⎥\n",
       "⎥\n",
       "⎥\n",
       "⎥\n",
       "⎥\n",
       "⎥\n",
       "⎥\n",
       "⎥\n",
       "⎥\n",
       "⎥\n",
       "⎥\n",
       "⎥\n",
       "⎥\n",
       "⎥\n",
       "⎥\n",
       "⎥\n",
       "⎥\n",
       "⎥\n",
       "⎥\n",
       "⎥\n",
       "⎥\n",
       "⎥\n",
       "⎥\n",
       "⎥\n",
       "⎥\n",
       "⎥\n",
       "⎥\n",
       "⎥\n",
       "⎥\n",
       "⎥\n",
       "⎦"
      ]
     },
     "execution_count": 18,
     "metadata": {},
     "output_type": "execute_result"
    }
   ],
   "source": [
    "# We build the matrix of the elements starting from a list of lists:\n",
    "# each sublist is filled with conditional statements with the\n",
    "# sympy objects e00 and enn that represent the values of the pp basis'\n",
    "# elements in a given interval (represented by index j). The index i\n",
    "# loops on the pp basis (from 0 to n) and is substituted in the expr\n",
    "# e00 and enn. What we obtain is a pure sympy.Matrix object.\n",
    "\n",
    "elist = []\n",
    "for a in range(n+1):\n",
    "    lista = [0 for b in range(n)]\n",
    "    for b in range(n):\n",
    "        if (a!=0)&(b==a-1): lista[b]=enn.subs(i, a)\n",
    "        elif a==b: lista[b]=e00.subs(i, a)\n",
    "        else: lista[b]=0\n",
    "    elist.append(lista)\n",
    "e = Matrix(elist); e"
   ]
  },
  {
   "cell_type": "code",
   "execution_count": 19,
   "id": "26c93d7b-b6f2-4d38-afdc-615294a01ea8",
   "metadata": {},
   "outputs": [
    {
     "data": {
      "text/latex": [
       "$\\displaystyle \\left[\\begin{matrix}- \\frac{1}{h} & 0 & 0 & 0 & 0 & 0 & 0 & 0 & 0 & 0\\\\\\frac{1}{h} & - \\frac{1}{h} & 0 & 0 & 0 & 0 & 0 & 0 & 0 & 0\\\\0 & \\frac{1}{h} & - \\frac{1}{h} & 0 & 0 & 0 & 0 & 0 & 0 & 0\\\\0 & 0 & \\frac{1}{h} & - \\frac{1}{h} & 0 & 0 & 0 & 0 & 0 & 0\\\\0 & 0 & 0 & \\frac{1}{h} & - \\frac{1}{h} & 0 & 0 & 0 & 0 & 0\\\\0 & 0 & 0 & 0 & \\frac{1}{h} & - \\frac{1}{h} & 0 & 0 & 0 & 0\\\\0 & 0 & 0 & 0 & 0 & \\frac{1}{h} & - \\frac{1}{h} & 0 & 0 & 0\\\\0 & 0 & 0 & 0 & 0 & 0 & \\frac{1}{h} & - \\frac{1}{h} & 0 & 0\\\\0 & 0 & 0 & 0 & 0 & 0 & 0 & \\frac{1}{h} & - \\frac{1}{h} & 0\\\\0 & 0 & 0 & 0 & 0 & 0 & 0 & 0 & \\frac{1}{h} & - \\frac{1}{h}\\\\0 & 0 & 0 & 0 & 0 & 0 & 0 & 0 & 0 & \\frac{1}{h}\\end{matrix}\\right]$"
      ],
      "text/plain": [
       "⎡-1                                              ⎤\n",
       "⎢───   0    0    0    0    0    0    0    0    0 ⎥\n",
       "⎢ h                                              ⎥\n",
       "⎢                                                ⎥\n",
       "⎢ 1   -1                                         ⎥\n",
       "⎢ ─   ───   0    0    0    0    0    0    0    0 ⎥\n",
       "⎢ h    h                                         ⎥\n",
       "⎢                                                ⎥\n",
       "⎢      1   -1                                    ⎥\n",
       "⎢ 0    ─   ───   0    0    0    0    0    0    0 ⎥\n",
       "⎢      h    h                                    ⎥\n",
       "⎢                                                ⎥\n",
       "⎢           1   -1                               ⎥\n",
       "⎢ 0    0    ─   ───   0    0    0    0    0    0 ⎥\n",
       "⎢           h    h                               ⎥\n",
       "⎢                                                ⎥\n",
       "⎢                1   -1                          ⎥\n",
       "⎢ 0    0    0    ─   ───   0    0    0    0    0 ⎥\n",
       "⎢                h    h                          ⎥\n",
       "⎢                                                ⎥\n",
       "⎢                     1   -1                     ⎥\n",
       "⎢ 0    0    0    0    ─   ───   0    0    0    0 ⎥\n",
       "⎢                     h    h                     ⎥\n",
       "⎢                                                ⎥\n",
       "⎢                          1   -1                ⎥\n",
       "⎢ 0    0    0    0    0    ─   ───   0    0    0 ⎥\n",
       "⎢                          h    h                ⎥\n",
       "⎢                                                ⎥\n",
       "⎢                               1   -1           ⎥\n",
       "⎢ 0    0    0    0    0    0    ─   ───   0    0 ⎥\n",
       "⎢                               h    h           ⎥\n",
       "⎢                                                ⎥\n",
       "⎢                                    1   -1      ⎥\n",
       "⎢ 0    0    0    0    0    0    0    ─   ───   0 ⎥\n",
       "⎢                                    h    h      ⎥\n",
       "⎢                                                ⎥\n",
       "⎢                                         1   -1 ⎥\n",
       "⎢ 0    0    0    0    0    0    0    0    ─   ───⎥\n",
       "⎢                                         h    h ⎥\n",
       "⎢                                                ⎥\n",
       "⎢                                              1 ⎥\n",
       "⎢ 0    0    0    0    0    0    0    0    0    ─ ⎥\n",
       "⎣                                              h ⎦"
      ]
     },
     "execution_count": 19,
     "metadata": {},
     "output_type": "execute_result"
    }
   ],
   "source": [
    "# Build the matrix of the derivatives via a lambda function passed as argument\n",
    "# to the native sympy method sympy.applyfunc()\n",
    "# The function differentiates each entry with respect to x.\n",
    "\n",
    "de = e.applyfunc(lambda entry : entry.diff(x)); de"
   ]
  },
  {
   "cell_type": "code",
   "execution_count": 20,
   "id": "b48ff9e6-f259-4fc5-b29e-79c1aaad78da",
   "metadata": {},
   "outputs": [
    {
     "data": {
      "text/latex": [
       "$\\displaystyle \\left[\\begin{array}{ccccccccccc}\\frac{1}{h^{2}} & - \\frac{1}{h^{2}} & 0 & 0 & 0 & 0 & 0 & 0 & 0 & 0 & 0\\\\- \\frac{1}{h^{2}} & \\frac{2}{h^{2}} & - \\frac{1}{h^{2}} & 0 & 0 & 0 & 0 & 0 & 0 & 0 & 0\\\\0 & - \\frac{1}{h^{2}} & \\frac{2}{h^{2}} & - \\frac{1}{h^{2}} & 0 & 0 & 0 & 0 & 0 & 0 & 0\\\\0 & 0 & - \\frac{1}{h^{2}} & \\frac{2}{h^{2}} & - \\frac{1}{h^{2}} & 0 & 0 & 0 & 0 & 0 & 0\\\\0 & 0 & 0 & - \\frac{1}{h^{2}} & \\frac{2}{h^{2}} & - \\frac{1}{h^{2}} & 0 & 0 & 0 & 0 & 0\\\\0 & 0 & 0 & 0 & - \\frac{1}{h^{2}} & \\frac{2}{h^{2}} & - \\frac{1}{h^{2}} & 0 & 0 & 0 & 0\\\\0 & 0 & 0 & 0 & 0 & - \\frac{1}{h^{2}} & \\frac{2}{h^{2}} & - \\frac{1}{h^{2}} & 0 & 0 & 0\\\\0 & 0 & 0 & 0 & 0 & 0 & - \\frac{1}{h^{2}} & \\frac{2}{h^{2}} & - \\frac{1}{h^{2}} & 0 & 0\\\\0 & 0 & 0 & 0 & 0 & 0 & 0 & - \\frac{1}{h^{2}} & \\frac{2}{h^{2}} & - \\frac{1}{h^{2}} & 0\\\\0 & 0 & 0 & 0 & 0 & 0 & 0 & 0 & - \\frac{1}{h^{2}} & \\frac{2}{h^{2}} & - \\frac{1}{h^{2}}\\\\0 & 0 & 0 & 0 & 0 & 0 & 0 & 0 & 0 & - \\frac{1}{h^{2}} & \\frac{1}{h^{2}}\\end{array}\\right]$"
      ],
      "text/plain": [
       "⎡1    -1                                              ⎤\n",
       "⎢──   ───   0    0    0    0    0    0    0    0    0 ⎥\n",
       "⎢ 2     2                                             ⎥\n",
       "⎢h     h                                              ⎥\n",
       "⎢                                                     ⎥\n",
       "⎢-1   2    -1                                         ⎥\n",
       "⎢───  ──   ───   0    0    0    0    0    0    0    0 ⎥\n",
       "⎢  2   2     2                                        ⎥\n",
       "⎢ h   h     h                                         ⎥\n",
       "⎢                                                     ⎥\n",
       "⎢     -1   2    -1                                    ⎥\n",
       "⎢ 0   ───  ──   ───   0    0    0    0    0    0    0 ⎥\n",
       "⎢       2   2     2                                   ⎥\n",
       "⎢      h   h     h                                    ⎥\n",
       "⎢                                                     ⎥\n",
       "⎢          -1   2    -1                               ⎥\n",
       "⎢ 0    0   ───  ──   ───   0    0    0    0    0    0 ⎥\n",
       "⎢            2   2     2                              ⎥\n",
       "⎢           h   h     h                               ⎥\n",
       "⎢                                                     ⎥\n",
       "⎢               -1   2    -1                          ⎥\n",
       "⎢ 0    0    0   ───  ──   ───   0    0    0    0    0 ⎥\n",
       "⎢                 2   2     2                         ⎥\n",
       "⎢                h   h     h                          ⎥\n",
       "⎢                                                     ⎥\n",
       "⎢                    -1   2    -1                     ⎥\n",
       "⎢ 0    0    0    0   ───  ──   ───   0    0    0    0 ⎥\n",
       "⎢                      2   2     2                    ⎥\n",
       "⎢                     h   h     h                     ⎥\n",
       "⎢                                                     ⎥\n",
       "⎢                         -1   2    -1                ⎥\n",
       "⎢ 0    0    0    0    0   ───  ──   ───   0    0    0 ⎥\n",
       "⎢                           2   2     2               ⎥\n",
       "⎢                          h   h     h                ⎥\n",
       "⎢                                                     ⎥\n",
       "⎢                              -1   2    -1           ⎥\n",
       "⎢ 0    0    0    0    0    0   ───  ──   ───   0    0 ⎥\n",
       "⎢                                2   2     2          ⎥\n",
       "⎢                               h   h     h           ⎥\n",
       "⎢                                                     ⎥\n",
       "⎢                                   -1   2    -1      ⎥\n",
       "⎢ 0    0    0    0    0    0    0   ───  ──   ───   0 ⎥\n",
       "⎢                                     2   2     2     ⎥\n",
       "⎢                                    h   h     h      ⎥\n",
       "⎢                                                     ⎥\n",
       "⎢                                        -1   2    -1 ⎥\n",
       "⎢ 0    0    0    0    0    0    0    0   ───  ──   ───⎥\n",
       "⎢                                          2   2     2⎥\n",
       "⎢                                         h   h     h ⎥\n",
       "⎢                                                     ⎥\n",
       "⎢                                             -1   1  ⎥\n",
       "⎢ 0    0    0    0    0    0    0    0    0   ───  ── ⎥\n",
       "⎢                                               2   2 ⎥\n",
       "⎣                                              h   h  ⎦"
      ]
     },
     "execution_count": 20,
     "metadata": {},
     "output_type": "execute_result"
    }
   ],
   "source": [
    "# Implement an interval-wise scalar product by computing the matrix\n",
    "# product of the matrix of the derivatives and its transpose.\n",
    "# The resulting matrix is the matrix of the integrands of the matrix Kij,\n",
    "# and we should call it Iij.\n",
    "\n",
    "Iij = de*de.T; Iij"
   ]
  },
  {
   "cell_type": "code",
   "execution_count": 21,
   "id": "0ebb5cb5-754a-47a6-a864-7b048871ece1",
   "metadata": {},
   "outputs": [
    {
     "data": {
      "text/latex": [
       "$\\displaystyle \\left[\\begin{array}{ccccccccccc}\\frac{1}{h} & - \\frac{1}{h} & 0 & 0 & 0 & 0 & 0 & 0 & 0 & 0 & 0\\\\- \\frac{1}{h} & \\frac{2}{h} & - \\frac{1}{h} & 0 & 0 & 0 & 0 & 0 & 0 & 0 & 0\\\\0 & - \\frac{1}{h} & \\frac{2}{h} & - \\frac{1}{h} & 0 & 0 & 0 & 0 & 0 & 0 & 0\\\\0 & 0 & - \\frac{1}{h} & \\frac{2}{h} & - \\frac{1}{h} & 0 & 0 & 0 & 0 & 0 & 0\\\\0 & 0 & 0 & - \\frac{1}{h} & \\frac{2}{h} & - \\frac{1}{h} & 0 & 0 & 0 & 0 & 0\\\\0 & 0 & 0 & 0 & - \\frac{1}{h} & \\frac{2}{h} & - \\frac{1}{h} & 0 & 0 & 0 & 0\\\\0 & 0 & 0 & 0 & 0 & - \\frac{1}{h} & \\frac{2}{h} & - \\frac{1}{h} & 0 & 0 & 0\\\\0 & 0 & 0 & 0 & 0 & 0 & - \\frac{1}{h} & \\frac{2}{h} & - \\frac{1}{h} & 0 & 0\\\\0 & 0 & 0 & 0 & 0 & 0 & 0 & - \\frac{1}{h} & \\frac{2}{h} & - \\frac{1}{h} & 0\\\\0 & 0 & 0 & 0 & 0 & 0 & 0 & 0 & - \\frac{1}{h} & \\frac{2}{h} & - \\frac{1}{h}\\\\0 & 0 & 0 & 0 & 0 & 0 & 0 & 0 & 0 & - \\frac{1}{h} & \\frac{1}{h}\\end{array}\\right]$"
      ],
      "text/plain": [
       "⎡ 1   -1                                              ⎤\n",
       "⎢ ─   ───   0    0    0    0    0    0    0    0    0 ⎥\n",
       "⎢ h    h                                              ⎥\n",
       "⎢                                                     ⎥\n",
       "⎢-1    2   -1                                         ⎥\n",
       "⎢───   ─   ───   0    0    0    0    0    0    0    0 ⎥\n",
       "⎢ h    h    h                                         ⎥\n",
       "⎢                                                     ⎥\n",
       "⎢     -1    2   -1                                    ⎥\n",
       "⎢ 0   ───   ─   ───   0    0    0    0    0    0    0 ⎥\n",
       "⎢      h    h    h                                    ⎥\n",
       "⎢                                                     ⎥\n",
       "⎢          -1    2   -1                               ⎥\n",
       "⎢ 0    0   ───   ─   ───   0    0    0    0    0    0 ⎥\n",
       "⎢           h    h    h                               ⎥\n",
       "⎢                                                     ⎥\n",
       "⎢               -1    2   -1                          ⎥\n",
       "⎢ 0    0    0   ───   ─   ───   0    0    0    0    0 ⎥\n",
       "⎢                h    h    h                          ⎥\n",
       "⎢                                                     ⎥\n",
       "⎢                    -1    2   -1                     ⎥\n",
       "⎢ 0    0    0    0   ───   ─   ───   0    0    0    0 ⎥\n",
       "⎢                     h    h    h                     ⎥\n",
       "⎢                                                     ⎥\n",
       "⎢                         -1    2   -1                ⎥\n",
       "⎢ 0    0    0    0    0   ───   ─   ───   0    0    0 ⎥\n",
       "⎢                          h    h    h                ⎥\n",
       "⎢                                                     ⎥\n",
       "⎢                              -1    2   -1           ⎥\n",
       "⎢ 0    0    0    0    0    0   ───   ─   ───   0    0 ⎥\n",
       "⎢                               h    h    h           ⎥\n",
       "⎢                                                     ⎥\n",
       "⎢                                   -1    2   -1      ⎥\n",
       "⎢ 0    0    0    0    0    0    0   ───   ─   ───   0 ⎥\n",
       "⎢                                    h    h    h      ⎥\n",
       "⎢                                                     ⎥\n",
       "⎢                                        -1    2   -1 ⎥\n",
       "⎢ 0    0    0    0    0    0    0    0   ───   ─   ───⎥\n",
       "⎢                                         h    h    h ⎥\n",
       "⎢                                                     ⎥\n",
       "⎢                                             -1    1 ⎥\n",
       "⎢ 0    0    0    0    0    0    0    0    0   ───   ─ ⎥\n",
       "⎣                                              h    h ⎦"
      ]
     },
     "execution_count": 21,
     "metadata": {},
     "output_type": "execute_result"
    }
   ],
   "source": [
    "# Since the entries of the matrix of the integrands are interval-wise,\n",
    "# the integrals on each interval, which will be the entries of the matrix\n",
    "# Kij, can be computed by integrating from 0 to h each entry of Iij.\n",
    "# This is true only because the entries of Iij don't depend on the index\n",
    "# of the piecewise element they refer to.\n",
    "\n",
    "Kij = Iij.applyfunc(lambda entry : entry.integrate((x, S.Zero, h))); Kij"
   ]
  },
  {
   "cell_type": "markdown",
   "id": "4de8c0db-52f9-49ea-b722-158362bf1cc7",
   "metadata": {},
   "source": [
    "## Implementing vector representation of rhs function"
   ]
  },
  {
   "cell_type": "code",
   "execution_count": 22,
   "id": "9b483b88-c2a8-46be-a500-fbe6aaced922",
   "metadata": {},
   "outputs": [
    {
     "data": {
      "image/png": "[encoded data removed]",
      "text/latex": [
       "$\\displaystyle 2 x - 1$"
      ],
      "text/plain": [
       "2⋅x - 1"
      ]
     },
     "execution_count": 22,
     "metadata": {},
     "output_type": "execute_result"
    }
   ],
   "source": [
    "# The rhs function may be defined as a sympy object\n",
    "\n",
    "rhs"
   ]
  },
  {
   "cell_type": "code",
   "execution_count": 23,
   "id": "eff1e814-70fc-4f92-8c27-da19c6d14dfb",
   "metadata": {},
   "outputs": [
    {
     "data": {
      "text/latex": [
       "$\\displaystyle \\left[\\begin{matrix}\\left(1 - \\frac{x}{h}\\right) \\left(2 x - 1\\right) & 0 & 0 & 0 & 0 & 0 & 0 & 0 & 0 & 0\\\\\\frac{x \\left(2 x - 1\\right)}{h} & \\left(2 - \\frac{x}{h}\\right) \\left(2 x - 1\\right) & 0 & 0 & 0 & 0 & 0 & 0 & 0 & 0\\\\0 & \\left(-1 + \\frac{x}{h}\\right) \\left(2 x - 1\\right) & \\left(3 - \\frac{x}{h}\\right) \\left(2 x - 1\\right) & 0 & 0 & 0 & 0 & 0 & 0 & 0\\\\0 & 0 & \\left(-2 + \\frac{x}{h}\\right) \\left(2 x - 1\\right) & \\left(4 - \\frac{x}{h}\\right) \\left(2 x - 1\\right) & 0 & 0 & 0 & 0 & 0 & 0\\\\0 & 0 & 0 & \\left(-3 + \\frac{x}{h}\\right) \\left(2 x - 1\\right) & \\left(5 - \\frac{x}{h}\\right) \\left(2 x - 1\\right) & 0 & 0 & 0 & 0 & 0\\\\0 & 0 & 0 & 0 & \\left(-4 + \\frac{x}{h}\\right) \\left(2 x - 1\\right) & \\left(6 - \\frac{x}{h}\\right) \\left(2 x - 1\\right) & 0 & 0 & 0 & 0\\\\0 & 0 & 0 & 0 & 0 & \\left(-5 + \\frac{x}{h}\\right) \\left(2 x - 1\\right) & \\left(7 - \\frac{x}{h}\\right) \\left(2 x - 1\\right) & 0 & 0 & 0\\\\0 & 0 & 0 & 0 & 0 & 0 & \\left(-6 + \\frac{x}{h}\\right) \\left(2 x - 1\\right) & \\left(8 - \\frac{x}{h}\\right) \\left(2 x - 1\\right) & 0 & 0\\\\0 & 0 & 0 & 0 & 0 & 0 & 0 & \\left(-7 + \\frac{x}{h}\\right) \\left(2 x - 1\\right) & \\left(9 - \\frac{x}{h}\\right) \\left(2 x - 1\\right) & 0\\\\0 & 0 & 0 & 0 & 0 & 0 & 0 & 0 & \\left(-8 + \\frac{x}{h}\\right) \\left(2 x - 1\\right) & \\left(10 - \\frac{x}{h}\\right) \\left(2 x - 1\\right)\\\\0 & 0 & 0 & 0 & 0 & 0 & 0 & 0 & 0 & \\left(-9 + \\frac{x}{h}\\right) \\left(2 x - 1\\right)\\end{matrix}\\right]$"
      ],
      "text/plain": [
       "⎡⎛    x⎞                                                                      \n",
       "⎢⎜1 - ─⎟⋅(2⋅x - 1)          0                   0                   0         \n",
       "⎢⎝    h⎠                                                                      \n",
       "⎢                                                                             \n",
       "⎢   x⋅(2⋅x - 1)     ⎛    x⎞                                                   \n",
       "⎢   ───────────     ⎜2 - ─⎟⋅(2⋅x - 1)           0                   0         \n",
       "⎢        h          ⎝    h⎠                                                   \n",
       "⎢                                                                             \n",
       "⎢                   ⎛     x⎞            ⎛    x⎞                               \n",
       "⎢        0          ⎜-1 + ─⎟⋅(2⋅x - 1)  ⎜3 - ─⎟⋅(2⋅x - 1)           0         \n",
       "⎢                   ⎝     h⎠            ⎝    h⎠                               \n",
       "⎢                                                                             \n",
       "⎢                                       ⎛     x⎞            ⎛    x⎞           \n",
       "⎢        0                  0           ⎜-2 + ─⎟⋅(2⋅x - 1)  ⎜4 - ─⎟⋅(2⋅x - 1) \n",
       "⎢                                       ⎝     h⎠            ⎝    h⎠           \n",
       "⎢                                                                             \n",
       "⎢                                                           ⎛     x⎞          \n",
       "⎢        0                  0                   0           ⎜-3 + ─⎟⋅(2⋅x - 1)\n",
       "⎢                                                           ⎝     h⎠          \n",
       "⎢                                                                             \n",
       "⎢                                                                             \n",
       "⎢        0                  0                   0                   0         \n",
       "⎢                                                                             \n",
       "⎢                                                                             \n",
       "⎢                                                                             \n",
       "⎢        0                  0                   0                   0         \n",
       "⎢                                                                             \n",
       "⎢                                                                             \n",
       "⎢                                                                             \n",
       "⎢        0                  0                   0                   0         \n",
       "⎢                                                                             \n",
       "⎢                                                                             \n",
       "⎢                                                                             \n",
       "⎢        0                  0                   0                   0         \n",
       "⎢                                                                             \n",
       "⎢                                                                             \n",
       "⎢                                                                             \n",
       "⎢        0                  0                   0                   0         \n",
       "⎢                                                                             \n",
       "⎢                                                                             \n",
       "⎢                                                                             \n",
       "⎢        0                  0                   0                   0         \n",
       "⎣                                                                             \n",
       "\n",
       "                                                                              \n",
       "          0                   0                   0                   0       \n",
       "                                                                              \n",
       "                                                                              \n",
       "                                                                              \n",
       "          0                   0                   0                   0       \n",
       "                                                                              \n",
       "                                                                              \n",
       "                                                                              \n",
       "          0                   0                   0                   0       \n",
       "                                                                              \n",
       "                                                                              \n",
       "                                                                              \n",
       "          0                   0                   0                   0       \n",
       "                                                                              \n",
       "                                                                              \n",
       "  ⎛    x⎞                                                                     \n",
       "  ⎜5 - ─⎟⋅(2⋅x - 1)           0                   0                   0       \n",
       "  ⎝    h⎠                                                                     \n",
       "                                                                              \n",
       "  ⎛     x⎞            ⎛    x⎞                                                 \n",
       "  ⎜-4 + ─⎟⋅(2⋅x - 1)  ⎜6 - ─⎟⋅(2⋅x - 1)           0                   0       \n",
       "  ⎝     h⎠            ⎝    h⎠                                                 \n",
       "                                                                              \n",
       "                      ⎛     x⎞            ⎛    x⎞                             \n",
       "          0           ⎜-5 + ─⎟⋅(2⋅x - 1)  ⎜7 - ─⎟⋅(2⋅x - 1)           0       \n",
       "                      ⎝     h⎠            ⎝    h⎠                             \n",
       "                                                                              \n",
       "                                          ⎛     x⎞            ⎛    x⎞         \n",
       "          0                   0           ⎜-6 + ─⎟⋅(2⋅x - 1)  ⎜8 - ─⎟⋅(2⋅x - 1\n",
       "                                          ⎝     h⎠            ⎝    h⎠         \n",
       "                                                                              \n",
       "                                                              ⎛     x⎞        \n",
       "          0                   0                   0           ⎜-7 + ─⎟⋅(2⋅x - \n",
       "                                                              ⎝     h⎠        \n",
       "                                                                              \n",
       "                                                                              \n",
       "          0                   0                   0                   0       \n",
       "                                                                              \n",
       "                                                                              \n",
       "                                                                              \n",
       "          0                   0                   0                   0       \n",
       "                                                                              \n",
       "\n",
       "                                          ⎤\n",
       "            0                   0         ⎥\n",
       "                                          ⎥\n",
       "                                          ⎥\n",
       "                                          ⎥\n",
       "            0                   0         ⎥\n",
       "                                          ⎥\n",
       "                                          ⎥\n",
       "                                          ⎥\n",
       "            0                   0         ⎥\n",
       "                                          ⎥\n",
       "                                          ⎥\n",
       "                                          ⎥\n",
       "            0                   0         ⎥\n",
       "                                          ⎥\n",
       "                                          ⎥\n",
       "                                          ⎥\n",
       "            0                   0         ⎥\n",
       "                                          ⎥\n",
       "                                          ⎥\n",
       "                                          ⎥\n",
       "            0                   0         ⎥\n",
       "                                          ⎥\n",
       "                                          ⎥\n",
       "                                          ⎥\n",
       "            0                   0         ⎥\n",
       "                                          ⎥\n",
       "                                          ⎥\n",
       "                                          ⎥\n",
       ")           0                   0         ⎥\n",
       "                                          ⎥\n",
       "                                          ⎥\n",
       "    ⎛    x⎞                               ⎥\n",
       "1)  ⎜9 - ─⎟⋅(2⋅x - 1)           0         ⎥\n",
       "    ⎝    h⎠                               ⎥\n",
       "                                          ⎥\n",
       "    ⎛     x⎞            ⎛     x⎞          ⎥\n",
       "    ⎜-8 + ─⎟⋅(2⋅x - 1)  ⎜10 - ─⎟⋅(2⋅x - 1)⎥\n",
       "    ⎝     h⎠            ⎝     h⎠          ⎥\n",
       "                                          ⎥\n",
       "                        ⎛     x⎞          ⎥\n",
       "            0           ⎜-9 + ─⎟⋅(2⋅x - 1)⎥\n",
       "                        ⎝     h⎠          ⎦"
      ]
     },
     "execution_count": 23,
     "metadata": {},
     "output_type": "execute_result"
    }
   ],
   "source": [
    "If = e.applyfunc(lambda entry : entry*rhs); If"
   ]
  },
  {
   "cell_type": "code",
   "execution_count": 24,
   "id": "4d4b6692-0e11-4424-9adc-88bea42df01d",
   "metadata": {},
   "outputs": [
    {
     "data": {
      "text/latex": [
       "$\\displaystyle \\left[\\begin{matrix}\\frac{h^{2}}{3} - \\frac{h}{2} & 0 & 0 & 0 & 0 & 0 & 0 & 0 & 0 & 0\\\\\\frac{14 h^{2}}{3} - \\frac{3 h}{2} & \\frac{4 h^{2}}{3} - \\frac{h}{2} & 0 & 0 & 0 & 0 & 0 & 0 & 0 & 0\\\\0 & \\frac{23 h^{2}}{3} - \\frac{3 h}{2} & \\frac{7 h^{2}}{3} - \\frac{h}{2} & 0 & 0 & 0 & 0 & 0 & 0 & 0\\\\0 & 0 & \\frac{32 h^{2}}{3} - \\frac{3 h}{2} & \\frac{10 h^{2}}{3} - \\frac{h}{2} & 0 & 0 & 0 & 0 & 0 & 0\\\\0 & 0 & 0 & \\frac{41 h^{2}}{3} - \\frac{3 h}{2} & \\frac{13 h^{2}}{3} - \\frac{h}{2} & 0 & 0 & 0 & 0 & 0\\\\0 & 0 & 0 & 0 & \\frac{50 h^{2}}{3} - \\frac{3 h}{2} & \\frac{16 h^{2}}{3} - \\frac{h}{2} & 0 & 0 & 0 & 0\\\\0 & 0 & 0 & 0 & 0 & \\frac{59 h^{2}}{3} - \\frac{3 h}{2} & \\frac{19 h^{2}}{3} - \\frac{h}{2} & 0 & 0 & 0\\\\0 & 0 & 0 & 0 & 0 & 0 & \\frac{68 h^{2}}{3} - \\frac{3 h}{2} & \\frac{22 h^{2}}{3} - \\frac{h}{2} & 0 & 0\\\\0 & 0 & 0 & 0 & 0 & 0 & 0 & \\frac{77 h^{2}}{3} - \\frac{3 h}{2} & \\frac{25 h^{2}}{3} - \\frac{h}{2} & 0\\\\0 & 0 & 0 & 0 & 0 & 0 & 0 & 0 & \\frac{86 h^{2}}{3} - \\frac{3 h}{2} & \\frac{28 h^{2}}{3} - \\frac{h}{2}\\\\0 & 0 & 0 & 0 & 0 & 0 & 0 & 0 & 0 & \\frac{29 h^{2}}{3} - \\frac{21 h}{2} + 1\\end{matrix}\\right]$"
      ],
      "text/plain": [
       "⎡   2                                                                         \n",
       "⎢  h    h                                                                     \n",
       "⎢  ── - ─          0            0            0            0            0      \n",
       "⎢  3    2                                                                     \n",
       "⎢                                                                             \n",
       "⎢    2            2                                                           \n",
       "⎢14⋅h    3⋅h   4⋅h    h                                                       \n",
       "⎢───── - ───   ──── - ─         0            0            0            0      \n",
       "⎢  3      2     3     2                                                       \n",
       "⎢                                                                             \n",
       "⎢                 2            2                                              \n",
       "⎢             23⋅h    3⋅h   7⋅h    h                                          \n",
       "⎢     0       ───── - ───   ──── - ─         0            0            0      \n",
       "⎢               3      2     3     2                                          \n",
       "⎢                                                                             \n",
       "⎢                              2             2                                \n",
       "⎢                          32⋅h    3⋅h   10⋅h    h                            \n",
       "⎢     0            0       ───── - ───   ───── - ─        0            0      \n",
       "⎢                            3      2      3     2                            \n",
       "⎢                                                                             \n",
       "⎢                                           2             2                   \n",
       "⎢                                       41⋅h    3⋅h   13⋅h    h               \n",
       "⎢     0            0            0       ───── - ───   ───── - ─        0      \n",
       "⎢                                         3      2      3     2               \n",
       "⎢                                                                             \n",
       "⎢                                                        2             2      \n",
       "⎢                                                    50⋅h    3⋅h   16⋅h    h  \n",
       "⎢     0            0            0            0       ───── - ───   ───── - ─  \n",
       "⎢                                                      3      2      3     2  \n",
       "⎢                                                                             \n",
       "⎢                                                                     2       \n",
       "⎢                                                                 59⋅h    3⋅h \n",
       "⎢     0            0            0            0            0       ───── - ─── \n",
       "⎢                                                                   3      2  \n",
       "⎢                                                                             \n",
       "⎢                                                                             \n",
       "⎢                                                                             \n",
       "⎢     0            0            0            0            0            0      \n",
       "⎢                                                                             \n",
       "⎢                                                                             \n",
       "⎢                                                                             \n",
       "⎢                                                                             \n",
       "⎢     0            0            0            0            0            0      \n",
       "⎢                                                                             \n",
       "⎢                                                                             \n",
       "⎢                                                                             \n",
       "⎢                                                                             \n",
       "⎢     0            0            0            0            0            0      \n",
       "⎢                                                                             \n",
       "⎢                                                                             \n",
       "⎢                                                                             \n",
       "⎢                                                                             \n",
       "⎢     0            0            0            0            0            0      \n",
       "⎣                                                                             \n",
       "\n",
       "                                                        ⎤\n",
       "                                                        ⎥\n",
       "      0            0            0              0        ⎥\n",
       "                                                        ⎥\n",
       "                                                        ⎥\n",
       "                                                        ⎥\n",
       "                                                        ⎥\n",
       "      0            0            0              0        ⎥\n",
       "                                                        ⎥\n",
       "                                                        ⎥\n",
       "                                                        ⎥\n",
       "                                                        ⎥\n",
       "      0            0            0              0        ⎥\n",
       "                                                        ⎥\n",
       "                                                        ⎥\n",
       "                                                        ⎥\n",
       "                                                        ⎥\n",
       "      0            0            0              0        ⎥\n",
       "                                                        ⎥\n",
       "                                                        ⎥\n",
       "                                                        ⎥\n",
       "                                                        ⎥\n",
       "      0            0            0              0        ⎥\n",
       "                                                        ⎥\n",
       "                                                        ⎥\n",
       "                                                        ⎥\n",
       "                                                        ⎥\n",
       "      0            0            0              0        ⎥\n",
       "                                                        ⎥\n",
       "                                                        ⎥\n",
       "      2                                                 ⎥\n",
       "  19⋅h    h                                             ⎥\n",
       "  ───── - ─        0            0              0        ⎥\n",
       "    3     2                                             ⎥\n",
       "                                                        ⎥\n",
       "     2             2                                    ⎥\n",
       " 68⋅h    3⋅h   22⋅h    h                                ⎥\n",
       " ───── - ───   ───── - ─        0              0        ⎥\n",
       "   3      2      3     2                                ⎥\n",
       "                                                        ⎥\n",
       "                  2             2                       ⎥\n",
       "              77⋅h    3⋅h   25⋅h    h                   ⎥\n",
       "      0       ───── - ───   ───── - ─          0        ⎥\n",
       "                3      2      3     2                   ⎥\n",
       "                                                        ⎥\n",
       "                               2               2        ⎥\n",
       "                           86⋅h    3⋅h     28⋅h    h    ⎥\n",
       "      0            0       ───── - ───     ───── - ─    ⎥\n",
       "                             3      2        3     2    ⎥\n",
       "                                                        ⎥\n",
       "                                            2           ⎥\n",
       "                                        29⋅h    21⋅h    ⎥\n",
       "      0            0            0       ───── - ──── + 1⎥\n",
       "                                          3      2      ⎦"
      ]
     },
     "execution_count": 24,
     "metadata": {},
     "output_type": "execute_result"
    }
   ],
   "source": [
    "# 2. build the matrix with the result of the integration of each\n",
    "# integrand function (per interval, per piecewise element)\n",
    "\n",
    "fflist = []\n",
    "for a in range(n+1):\n",
    "    lista = [0 for b in range(n)]\n",
    "    for b in range(n):\n",
    "        if (a==0): lista[b]=expand(If.row(a)[b].integrate((x, S.Zero, h)))\n",
    "        elif (a==n): lista[b]=expand(If.row(a)[b].integrate((x, S.One-h, S.One)))\n",
    "        else: lista[b]=expand(If.row(a)[b].integrate((x, a*h, (a+1)*h)))\n",
    "    fflist.append(lista)\n",
    "fij = Matrix(fflist); fij"
   ]
  },
  {
   "cell_type": "code",
   "execution_count": 25,
   "id": "3f92cdaf-8c2f-4a70-9837-60aec81a8acc",
   "metadata": {},
   "outputs": [
    {
     "data": {
      "text/latex": [
       "$\\displaystyle \\left[\\begin{matrix}\\frac{h^{2}}{3} - \\frac{h}{2}\\\\6 h^{2} - 2 h\\\\10 h^{2} - 2 h\\\\14 h^{2} - 2 h\\\\18 h^{2} - 2 h\\\\22 h^{2} - 2 h\\\\26 h^{2} - 2 h\\\\30 h^{2} - 2 h\\\\34 h^{2} - 2 h\\\\38 h^{2} - 2 h\\\\\\frac{29 h^{2}}{3} - \\frac{21 h}{2} + 1\\end{matrix}\\right]$"
      ],
      "text/plain": [
       "⎡      2         ⎤\n",
       "⎢     h    h     ⎥\n",
       "⎢     ── - ─     ⎥\n",
       "⎢     3    2     ⎥\n",
       "⎢                ⎥\n",
       "⎢      2         ⎥\n",
       "⎢   6⋅h  - 2⋅h   ⎥\n",
       "⎢                ⎥\n",
       "⎢      2         ⎥\n",
       "⎢  10⋅h  - 2⋅h   ⎥\n",
       "⎢                ⎥\n",
       "⎢      2         ⎥\n",
       "⎢  14⋅h  - 2⋅h   ⎥\n",
       "⎢                ⎥\n",
       "⎢      2         ⎥\n",
       "⎢  18⋅h  - 2⋅h   ⎥\n",
       "⎢                ⎥\n",
       "⎢      2         ⎥\n",
       "⎢  22⋅h  - 2⋅h   ⎥\n",
       "⎢                ⎥\n",
       "⎢      2         ⎥\n",
       "⎢  26⋅h  - 2⋅h   ⎥\n",
       "⎢                ⎥\n",
       "⎢      2         ⎥\n",
       "⎢  30⋅h  - 2⋅h   ⎥\n",
       "⎢                ⎥\n",
       "⎢      2         ⎥\n",
       "⎢  34⋅h  - 2⋅h   ⎥\n",
       "⎢                ⎥\n",
       "⎢      2         ⎥\n",
       "⎢  38⋅h  - 2⋅h   ⎥\n",
       "⎢                ⎥\n",
       "⎢    2           ⎥\n",
       "⎢29⋅h    21⋅h    ⎥\n",
       "⎢───── - ──── + 1⎥\n",
       "⎣  3      2      ⎦"
      ]
     },
     "execution_count": 25,
     "metadata": {},
     "output_type": "execute_result"
    }
   ],
   "source": [
    "# 3. build the vector fi, whose entries are the sums of the integrals\n",
    "# on each piecewise element. To do that, we project each row on a\n",
    "# column vector of ones.\n",
    "\n",
    "ones = Matrix([S.One for i in range(n)])\n",
    "\n",
    "flist = []\n",
    "for a in range(n+1):\n",
    "    flist.append(fij.row(a)*ones)\n",
    "fi = Matrix(flist); fi"
   ]
  },
  {
   "cell_type": "markdown",
   "id": "0faf6421-7010-44ed-b9ff-bf1d67e5f570",
   "metadata": {},
   "source": [
    "## Building a solution\n",
    "\n",
    "Being Kij singular, one way to make it full-rank, thus invertible, is to remove its last row and column. The same must be applied to the fi vector, whose last element is popped. In this way, the linear algebra problem **Ku=f** has a unique solution."
   ]
  },
  {
   "cell_type": "code",
   "execution_count": 26,
   "id": "e22ef5e5-6c5c-4df1-9e75-e84ca882f282",
   "metadata": {},
   "outputs": [
    {
     "data": {
      "text/latex": [
       "$\\displaystyle \\left[\\begin{array}{ccccccccccc}\\frac{1}{h} & - \\frac{1}{h} & 0 & 0 & 0 & 0 & 0 & 0 & 0 & 0 & 0\\\\- \\frac{1}{h} & \\frac{2}{h} & - \\frac{1}{h} & 0 & 0 & 0 & 0 & 0 & 0 & 0 & 0\\\\0 & - \\frac{1}{h} & \\frac{2}{h} & - \\frac{1}{h} & 0 & 0 & 0 & 0 & 0 & 0 & 0\\\\0 & 0 & - \\frac{1}{h} & \\frac{2}{h} & - \\frac{1}{h} & 0 & 0 & 0 & 0 & 0 & 0\\\\0 & 0 & 0 & - \\frac{1}{h} & \\frac{2}{h} & - \\frac{1}{h} & 0 & 0 & 0 & 0 & 0\\\\0 & 0 & 0 & 0 & - \\frac{1}{h} & \\frac{2}{h} & - \\frac{1}{h} & 0 & 0 & 0 & 0\\\\0 & 0 & 0 & 0 & 0 & - \\frac{1}{h} & \\frac{2}{h} & - \\frac{1}{h} & 0 & 0 & 0\\\\0 & 0 & 0 & 0 & 0 & 0 & - \\frac{1}{h} & \\frac{2}{h} & - \\frac{1}{h} & 0 & 0\\\\0 & 0 & 0 & 0 & 0 & 0 & 0 & - \\frac{1}{h} & \\frac{2}{h} & - \\frac{1}{h} & 0\\\\0 & 0 & 0 & 0 & 0 & 0 & 0 & 0 & - \\frac{1}{h} & \\frac{2}{h} & - \\frac{1}{h}\\\\0 & 0 & 0 & 0 & 0 & 0 & 0 & 0 & 0 & - \\frac{1}{h} & \\frac{1}{h}\\end{array}\\right]$"
      ],
      "text/plain": [
       "⎡ 1   -1                                              ⎤\n",
       "⎢ ─   ───   0    0    0    0    0    0    0    0    0 ⎥\n",
       "⎢ h    h                                              ⎥\n",
       "⎢                                                     ⎥\n",
       "⎢-1    2   -1                                         ⎥\n",
       "⎢───   ─   ───   0    0    0    0    0    0    0    0 ⎥\n",
       "⎢ h    h    h                                         ⎥\n",
       "⎢                                                     ⎥\n",
       "⎢     -1    2   -1                                    ⎥\n",
       "⎢ 0   ───   ─   ───   0    0    0    0    0    0    0 ⎥\n",
       "⎢      h    h    h                                    ⎥\n",
       "⎢                                                     ⎥\n",
       "⎢          -1    2   -1                               ⎥\n",
       "⎢ 0    0   ───   ─   ───   0    0    0    0    0    0 ⎥\n",
       "⎢           h    h    h                               ⎥\n",
       "⎢                                                     ⎥\n",
       "⎢               -1    2   -1                          ⎥\n",
       "⎢ 0    0    0   ───   ─   ───   0    0    0    0    0 ⎥\n",
       "⎢                h    h    h                          ⎥\n",
       "⎢                                                     ⎥\n",
       "⎢                    -1    2   -1                     ⎥\n",
       "⎢ 0    0    0    0   ───   ─   ───   0    0    0    0 ⎥\n",
       "⎢                     h    h    h                     ⎥\n",
       "⎢                                                     ⎥\n",
       "⎢                         -1    2   -1                ⎥\n",
       "⎢ 0    0    0    0    0   ───   ─   ───   0    0    0 ⎥\n",
       "⎢                          h    h    h                ⎥\n",
       "⎢                                                     ⎥\n",
       "⎢                              -1    2   -1           ⎥\n",
       "⎢ 0    0    0    0    0    0   ───   ─   ───   0    0 ⎥\n",
       "⎢                               h    h    h           ⎥\n",
       "⎢                                                     ⎥\n",
       "⎢                                   -1    2   -1      ⎥\n",
       "⎢ 0    0    0    0    0    0    0   ───   ─   ───   0 ⎥\n",
       "⎢                                    h    h    h      ⎥\n",
       "⎢                                                     ⎥\n",
       "⎢                                        -1    2   -1 ⎥\n",
       "⎢ 0    0    0    0    0    0    0    0   ───   ─   ───⎥\n",
       "⎢                                         h    h    h ⎥\n",
       "⎢                                                     ⎥\n",
       "⎢                                             -1    1 ⎥\n",
       "⎢ 0    0    0    0    0    0    0    0    0   ───   ─ ⎥\n",
       "⎣                                              h    h ⎦"
      ]
     },
     "execution_count": 26,
     "metadata": {},
     "output_type": "execute_result"
    }
   ],
   "source": [
    "Kij"
   ]
  },
  {
   "cell_type": "code",
   "execution_count": 27,
   "id": "757e77f3-bf38-4de3-891e-343189ea3b75",
   "metadata": {},
   "outputs": [
    {
     "data": {
      "text/latex": [
       "$\\displaystyle \\left[\\begin{matrix}\\frac{1}{h} & - \\frac{1}{h} & 0 & 0 & 0 & 0 & 0 & 0 & 0 & 0\\\\- \\frac{1}{h} & \\frac{2}{h} & - \\frac{1}{h} & 0 & 0 & 0 & 0 & 0 & 0 & 0\\\\0 & - \\frac{1}{h} & \\frac{2}{h} & - \\frac{1}{h} & 0 & 0 & 0 & 0 & 0 & 0\\\\0 & 0 & - \\frac{1}{h} & \\frac{2}{h} & - \\frac{1}{h} & 0 & 0 & 0 & 0 & 0\\\\0 & 0 & 0 & - \\frac{1}{h} & \\frac{2}{h} & - \\frac{1}{h} & 0 & 0 & 0 & 0\\\\0 & 0 & 0 & 0 & - \\frac{1}{h} & \\frac{2}{h} & - \\frac{1}{h} & 0 & 0 & 0\\\\0 & 0 & 0 & 0 & 0 & - \\frac{1}{h} & \\frac{2}{h} & - \\frac{1}{h} & 0 & 0\\\\0 & 0 & 0 & 0 & 0 & 0 & - \\frac{1}{h} & \\frac{2}{h} & - \\frac{1}{h} & 0\\\\0 & 0 & 0 & 0 & 0 & 0 & 0 & - \\frac{1}{h} & \\frac{2}{h} & - \\frac{1}{h}\\\\0 & 0 & 0 & 0 & 0 & 0 & 0 & 0 & - \\frac{1}{h} & \\frac{2}{h}\\end{matrix}\\right]$"
      ],
      "text/plain": [
       "⎡ 1   -1                                         ⎤\n",
       "⎢ ─   ───   0    0    0    0    0    0    0    0 ⎥\n",
       "⎢ h    h                                         ⎥\n",
       "⎢                                                ⎥\n",
       "⎢-1    2   -1                                    ⎥\n",
       "⎢───   ─   ───   0    0    0    0    0    0    0 ⎥\n",
       "⎢ h    h    h                                    ⎥\n",
       "⎢                                                ⎥\n",
       "⎢     -1    2   -1                               ⎥\n",
       "⎢ 0   ───   ─   ───   0    0    0    0    0    0 ⎥\n",
       "⎢      h    h    h                               ⎥\n",
       "⎢                                                ⎥\n",
       "⎢          -1    2   -1                          ⎥\n",
       "⎢ 0    0   ───   ─   ───   0    0    0    0    0 ⎥\n",
       "⎢           h    h    h                          ⎥\n",
       "⎢                                                ⎥\n",
       "⎢               -1    2   -1                     ⎥\n",
       "⎢ 0    0    0   ───   ─   ───   0    0    0    0 ⎥\n",
       "⎢                h    h    h                     ⎥\n",
       "⎢                                                ⎥\n",
       "⎢                    -1    2   -1                ⎥\n",
       "⎢ 0    0    0    0   ───   ─   ───   0    0    0 ⎥\n",
       "⎢                     h    h    h                ⎥\n",
       "⎢                                                ⎥\n",
       "⎢                         -1    2   -1           ⎥\n",
       "⎢ 0    0    0    0    0   ───   ─   ───   0    0 ⎥\n",
       "⎢                          h    h    h           ⎥\n",
       "⎢                                                ⎥\n",
       "⎢                              -1    2   -1      ⎥\n",
       "⎢ 0    0    0    0    0    0   ───   ─   ───   0 ⎥\n",
       "⎢                               h    h    h      ⎥\n",
       "⎢                                                ⎥\n",
       "⎢                                   -1    2   -1 ⎥\n",
       "⎢ 0    0    0    0    0    0    0   ───   ─   ───⎥\n",
       "⎢                                    h    h    h ⎥\n",
       "⎢                                                ⎥\n",
       "⎢                                        -1    2 ⎥\n",
       "⎢ 0    0    0    0    0    0    0    0   ───   ─ ⎥\n",
       "⎣                                         h    h ⎦"
      ]
     },
     "execution_count": 27,
     "metadata": {},
     "output_type": "execute_result"
    }
   ],
   "source": [
    "K = Kij[0:-1, 0:-1]; K"
   ]
  },
  {
   "cell_type": "code",
   "execution_count": 28,
   "id": "6a2e02c8-6066-4dee-b88d-b3fc14a8d652",
   "metadata": {},
   "outputs": [
    {
     "data": {
      "image/png": "[encoded data removed]",
      "text/latex": [
       "$\\displaystyle \\left( 10, \\  10\\right)$"
      ],
      "text/plain": [
       "(10, 10)"
      ]
     },
     "execution_count": 28,
     "metadata": {},
     "output_type": "execute_result"
    }
   ],
   "source": [
    "shape(K)"
   ]
  },
  {
   "cell_type": "code",
   "execution_count": 29,
   "id": "a464407f-ad88-4088-9089-5802b30213a7",
   "metadata": {},
   "outputs": [
    {
     "data": {
      "text/latex": [
       "$\\displaystyle \\left[\\begin{matrix}\\frac{h^{2}}{3} - \\frac{h}{2}\\\\6 h^{2} - 2 h\\\\10 h^{2} - 2 h\\\\14 h^{2} - 2 h\\\\18 h^{2} - 2 h\\\\22 h^{2} - 2 h\\\\26 h^{2} - 2 h\\\\30 h^{2} - 2 h\\\\34 h^{2} - 2 h\\\\38 h^{2} - 2 h\\end{matrix}\\right]$"
      ],
      "text/plain": [
       "⎡   2       ⎤\n",
       "⎢  h    h   ⎥\n",
       "⎢  ── - ─   ⎥\n",
       "⎢  3    2   ⎥\n",
       "⎢           ⎥\n",
       "⎢   2       ⎥\n",
       "⎢6⋅h  - 2⋅h ⎥\n",
       "⎢           ⎥\n",
       "⎢    2      ⎥\n",
       "⎢10⋅h  - 2⋅h⎥\n",
       "⎢           ⎥\n",
       "⎢    2      ⎥\n",
       "⎢14⋅h  - 2⋅h⎥\n",
       "⎢           ⎥\n",
       "⎢    2      ⎥\n",
       "⎢18⋅h  - 2⋅h⎥\n",
       "⎢           ⎥\n",
       "⎢    2      ⎥\n",
       "⎢22⋅h  - 2⋅h⎥\n",
       "⎢           ⎥\n",
       "⎢    2      ⎥\n",
       "⎢26⋅h  - 2⋅h⎥\n",
       "⎢           ⎥\n",
       "⎢    2      ⎥\n",
       "⎢30⋅h  - 2⋅h⎥\n",
       "⎢           ⎥\n",
       "⎢    2      ⎥\n",
       "⎢34⋅h  - 2⋅h⎥\n",
       "⎢           ⎥\n",
       "⎢    2      ⎥\n",
       "⎣38⋅h  - 2⋅h⎦"
      ]
     },
     "execution_count": 29,
     "metadata": {},
     "output_type": "execute_result"
    }
   ],
   "source": [
    "f = Matrix(fi[:-1]); f"
   ]
  },
  {
   "cell_type": "code",
   "execution_count": 30,
   "id": "999c672e-5d38-4890-99f6-0de374fdb079",
   "metadata": {},
   "outputs": [
    {
     "data": {
      "image/png": "[encoded data removed]",
      "text/latex": [
       "$\\displaystyle \\left( 10, \\  1\\right)$"
      ],
      "text/plain": [
       "(10, 1)"
      ]
     },
     "execution_count": 30,
     "metadata": {},
     "output_type": "execute_result"
    }
   ],
   "source": [
    "shape(f)"
   ]
  },
  {
   "cell_type": "code",
   "execution_count": 31,
   "id": "7ee28ad6-daa2-4662-8581-12446c8e1114",
   "metadata": {},
   "outputs": [
    {
     "data": {
      "text/latex": [
       "$\\displaystyle \\left[\\begin{matrix}\\frac{2260 h^{3}}{3} - 95 h^{2}\\\\753 h^{3} - \\frac{189 h^{2}}{2}\\\\\\frac{2240 h^{3}}{3} - 92 h^{2}\\\\\\frac{2191 h^{3}}{3} - \\frac{175 h^{2}}{2}\\\\700 h^{3} - 81 h^{2}\\\\\\frac{1955 h^{3}}{3} - \\frac{145 h^{2}}{2}\\\\\\frac{1744 h^{3}}{3} - 62 h^{2}\\\\485 h^{3} - \\frac{99 h^{2}}{2}\\\\\\frac{1076 h^{3}}{3} - 35 h^{2}\\\\\\frac{595 h^{3}}{3} - \\frac{37 h^{2}}{2}\\end{matrix}\\right]$"
      ],
      "text/plain": [
       "⎡      3         ⎤\n",
       "⎢2260⋅h        2 ⎥\n",
       "⎢─────── - 95⋅h  ⎥\n",
       "⎢   3            ⎥\n",
       "⎢                ⎥\n",
       "⎢              2 ⎥\n",
       "⎢     3   189⋅h  ⎥\n",
       "⎢753⋅h  - ────── ⎥\n",
       "⎢           2    ⎥\n",
       "⎢                ⎥\n",
       "⎢      3         ⎥\n",
       "⎢2240⋅h        2 ⎥\n",
       "⎢─────── - 92⋅h  ⎥\n",
       "⎢   3            ⎥\n",
       "⎢                ⎥\n",
       "⎢      3        2⎥\n",
       "⎢2191⋅h    175⋅h ⎥\n",
       "⎢─────── - ──────⎥\n",
       "⎢   3        2   ⎥\n",
       "⎢                ⎥\n",
       "⎢      3       2 ⎥\n",
       "⎢ 700⋅h  - 81⋅h  ⎥\n",
       "⎢                ⎥\n",
       "⎢      3        2⎥\n",
       "⎢1955⋅h    145⋅h ⎥\n",
       "⎢─────── - ──────⎥\n",
       "⎢   3        2   ⎥\n",
       "⎢                ⎥\n",
       "⎢      3         ⎥\n",
       "⎢1744⋅h        2 ⎥\n",
       "⎢─────── - 62⋅h  ⎥\n",
       "⎢   3            ⎥\n",
       "⎢                ⎥\n",
       "⎢              2 ⎥\n",
       "⎢      3   99⋅h  ⎥\n",
       "⎢ 485⋅h  - ───── ⎥\n",
       "⎢            2   ⎥\n",
       "⎢                ⎥\n",
       "⎢      3         ⎥\n",
       "⎢1076⋅h        2 ⎥\n",
       "⎢─────── - 35⋅h  ⎥\n",
       "⎢   3            ⎥\n",
       "⎢                ⎥\n",
       "⎢      3       2 ⎥\n",
       "⎢ 595⋅h    37⋅h  ⎥\n",
       "⎢ ────── - ───── ⎥\n",
       "⎣   3        2   ⎦"
      ]
     },
     "execution_count": 31,
     "metadata": {},
     "output_type": "execute_result"
    }
   ],
   "source": [
    "u = K.LUsolve(f); u = u.applyfunc(lambda x : expand(x)); u"
   ]
  },
  {
   "cell_type": "code",
   "execution_count": 32,
   "id": "ed6280f3-4c15-4800-a4ae-9d13b2be91b2",
   "metadata": {},
   "outputs": [
    {
     "data": {
      "image/png": "[encoded data removed]",
      "text/latex": [
       "$\\displaystyle \\left( 10, \\  1\\right)$"
      ],
      "text/plain": [
       "(10, 1)"
      ]
     },
     "execution_count": 32,
     "metadata": {},
     "output_type": "execute_result"
    }
   ],
   "source": [
    "shape(u)"
   ]
  },
  {
   "cell_type": "code",
   "execution_count": 33,
   "id": "7a568920-c9a1-4c7d-954e-30eeb0e34f67",
   "metadata": {},
   "outputs": [
    {
     "data": {
      "image/png": "[encoded data removed]",
      "text/latex": [
       "$\\displaystyle 0.1$"
      ],
      "text/plain": [
       "0.1"
      ]
     },
     "execution_count": 33,
     "metadata": {},
     "output_type": "execute_result"
    }
   ],
   "source": [
    "# Now fix the length of the bar, e.g. l = 1 m, and substitute the value of h\n",
    "\n",
    "l = 1 # m\n",
    "hvalue = l/n; hvalue"
   ]
  },
  {
   "cell_type": "code",
   "execution_count": 34,
   "id": "a2f7c680-cc8e-48c3-88db-0e5b97c1951e",
   "metadata": {},
   "outputs": [
    {
     "data": {
      "image/png": "[encoded data removed]",
      "text/latex": [
       "$\\displaystyle \\left[ -0.19667, \\  -0.192, \\  -0.17333, \\  -0.14467, \\  -0.11, \\  -0.073333, \\  -0.038667, \\  -0.01, \\  0.0086667, \\  0.013333\\right]$"
      ],
      "text/plain": [
       "[-0.19667, -0.192, -0.17333, -0.14467, -0.11, -0.073333, -0.038667, -0.01, 0.0\n",
       "086667, 0.013333]"
      ]
     },
     "execution_count": 34,
     "metadata": {},
     "output_type": "execute_result"
    }
   ],
   "source": [
    "y = list(u.subs(h, hvalue).evalf(5)); y"
   ]
  },
  {
   "cell_type": "code",
   "execution_count": 35,
   "id": "b59f9803-e7a7-4b4a-8df5-231309340791",
   "metadata": {},
   "outputs": [
    {
     "data": {
      "image/png": "[encoded data removed]",
      "text/latex": [
       "$\\displaystyle \\left[ 0.0, \\  0.1, \\  0.2, \\  0.3, \\  0.4, \\  0.5, \\  0.6, \\  0.7, \\  0.8, \\  0.9\\right]$"
      ],
      "text/plain": [
       "[0.0, 0.1, 0.2, 0.30000000000000004, 0.4, 0.5, 0.6000000000000001, 0.700000000\n",
       "0000001, 0.8, 0.9]"
      ]
     },
     "execution_count": 35,
     "metadata": {},
     "output_type": "execute_result"
    }
   ],
   "source": [
    "xgrid = [0+hvalue*i for i in range(n)]; xgrid"
   ]
  },
  {
   "cell_type": "code",
   "execution_count": 36,
   "id": "ff19c492-c2fe-4624-85c8-bcb75b4c037f",
   "metadata": {},
   "outputs": [
    {
     "data": {
      "image/png": "[encoded data removed]",
      "text/latex": [
       "$\\displaystyle \\left[ 0, \\  -0.012, \\  -0.016, \\  -0.014, \\  -0.008, \\  1.3878 \\cdot 10^{-17}, \\  0.008, \\  0.014, \\  0.016, \\  0.012\\right]$"
      ],
      "text/plain": [
       "[0, -0.012, -0.016, -0.014, -0.008, 1.3878e-17, 0.008, 0.014, 0.016, 0.012]"
      ]
     },
     "execution_count": 36,
     "metadata": {},
     "output_type": "execute_result"
    }
   ],
   "source": [
    "y_true = [u_true.subs(x, xgrid[i]).evalf(5) for i in range(n)]; y_true"
   ]
  },
  {
   "cell_type": "code",
   "execution_count": 37,
   "id": "31251312-b7a7-4a8f-8f5e-c0cc5d0a0e34",
   "metadata": {},
   "outputs": [
    {
     "data": {
      "image/png": "[encoded data removed]",
      "text/plain": [
       "<Figure size 432x288 with 1 Axes>"
      ]
     },
     "metadata": {
      "needs_background": "light"
     },
     "output_type": "display_data"
    },
    {
     "data": {
      "image/png": "[encoded data removed]",
      "text/plain": [
       "<Figure size 432x288 with 1 Axes>"
      ]
     },
     "metadata": {
      "needs_background": "light"
     },
     "output_type": "display_data"
    }
   ],
   "source": [
    "# Plot the approximated solution\n",
    "\n",
    "plt.figure(1)\n",
    "plt.plot(xgrid, y, color='blue')\n",
    "\n",
    "# Plot the true solution\n",
    "plt.plot(xgrid, y_true, linestyle='--', color='red', alpha=.9)\n",
    "\n",
    "# Plot the differences\n",
    "plt.figure(2)\n",
    "error = [y_true[i]-y[i] for i in range(len(y))]\n",
    "plt.plot(xgrid, error, color='green')\n",
    "\n",
    "plt.show()"
   ]
  },
  {
   "cell_type": "markdown",
   "id": "d235398f-3a30-41c7-895a-3ca1545ee3cb",
   "metadata": {},
   "source": [
    "# Discussion\n",
    "\n",
    "As one can appreciate by the differences' plot, the difference between the\n",
    "approximated solution and the true (analytical) solution vanishes at the\n",
    "nodes. The method implemented here does not permit to compute a more\n",
    "refined approximated solution at this level. \\\n",
    "To do that, one should build a vector of y that contains an arbitrary\n",
    "number of computed points exploiting the analytical form of u as a\n",
    "function of h. \\\n",
    "The components of u, for a fixed h, restitutes the values of u at the\n",
    "lower limits of the interval. in which they are defined. To find a function\n",
    "that properly connects two consecutive points of u, one should interpolate\n",
    "in some way, with a fitting routine."
   ]
  },
  {
   "cell_type": "code",
   "execution_count": 38,
   "id": "d5ab416f-e3e7-4ee2-ba60-94fd2f037cac",
   "metadata": {},
   "outputs": [
    {
     "data": {
      "image/png": "[encoded data removed]",
      "text/latex": [
       "$\\displaystyle \\left[ 0.047 x - 0.2, \\  0.19 x - 0.21, \\  0.29 x - 0.23, \\  0.35 x - 0.25, \\  0.37 x - 0.26, \\  0.35 x - 0.25, \\  0.29 x - 0.21, \\  0.19 x - 0.14, \\  0.047 x - 0.029\\right]$"
      ],
      "text/plain": [
       "[0.047⋅x - 0.2, 0.19⋅x - 0.21, 0.29⋅x - 0.23, 0.35⋅x - 0.25, 0.37⋅x - 0.26, 0.\n",
       "35⋅x - 0.25, 0.29⋅x - 0.21, 0.19⋅x - 0.14, 0.047⋅x - 0.029]"
      ]
     },
     "execution_count": 38,
     "metadata": {},
     "output_type": "execute_result"
    }
   ],
   "source": [
    "g = []\n",
    "for i in range(len(y)-1):\n",
    "    g.append((y[i]+(y[i+1]-y[i])/hvalue*(x-hvalue*i)).evalf(2))\n",
    "g"
   ]
  },
  {
   "cell_type": "code",
   "execution_count": 39,
   "id": "10af2d95-b5e0-47b9-9aec-620bec61b2c4",
   "metadata": {},
   "outputs": [],
   "source": [
    "npoints = 100\n",
    "npoints_per_interval = int(npoints/n)-1\n",
    "x_subvalue = hvalue/npoints_per_interval\n",
    "\n",
    "yrefined = []\n",
    "xrefined = []\n",
    "for index, entry in enumerate(g):\n",
    "    for subinterval in range(npoints_per_interval):\n",
    "        xval = hvalue*index+x_subvalue*subinterval\n",
    "        yrefined.append(entry.subs(x, xval).evalf(5))\n",
    "        xrefined.append(round(xval, 5))\n",
    "yrefined = np.array(yrefined)\n",
    "xrefined = np.array(xrefined)"
   ]
  },
  {
   "cell_type": "code",
   "execution_count": 40,
   "id": "2074306f-c219-46b6-9fc4-791134679f32",
   "metadata": {},
   "outputs": [],
   "source": [
    "y_truerefined = np.array([u_true.subs(x, xrefined[i]).evalf(5) for i in range(len(xrefined))]); # y_truerefined"
   ]
  },
  {
   "cell_type": "code",
   "execution_count": 41,
   "id": "5770908a-3e9c-4835-9d01-cb8a6cf06561",
   "metadata": {},
   "outputs": [],
   "source": [
    "error_refined = y_truerefined-yrefined; # error_refined"
   ]
  },
  {
   "cell_type": "code",
   "execution_count": 42,
   "id": "b7e3bf3a-5ce0-4259-b76a-7aa1e6f91954",
   "metadata": {},
   "outputs": [
    {
     "data": {
      "image/png": "[encoded data removed]",
      "text/plain": [
       "<Figure size 432x288 with 1 Axes>"
      ]
     },
     "metadata": {
      "needs_background": "light"
     },
     "output_type": "display_data"
    },
    {
     "data": {
      "image/png": "[encoded data removed]",
      "text/plain": [
       "<Figure size 432x288 with 1 Axes>"
      ]
     },
     "metadata": {
      "needs_background": "light"
     },
     "output_type": "display_data"
    }
   ],
   "source": [
    "plt.close()\n",
    "\n",
    "plt.figure(3)\n",
    "plt.plot(xrefined, yrefined, color='black')\n",
    "plt.plot(xrefined, y_truerefined, color='red')\n",
    "\n",
    "plt.figure(4)\n",
    "plt.plot(xrefined, error_refined, color='green')\n",
    "\n",
    "plt.show()"
   ]
  }
 ],
 "metadata": {
  "kernelspec": {
   "display_name": "mmp",
   "language": "python",
   "name": "mmp"
  },
  "language_info": {
   "codemirror_mode": {
    "name": "ipython",
    "version": 3
   },
   "file_extension": ".py",
   "mimetype": "text/x-python",
   "name": "python",
   "nbconvert_exporter": "python",
   "pygments_lexer": "ipython3",
   "version": "3.9.12"
  }
 },
 "nbformat": 4,
 "nbformat_minor": 5
}
