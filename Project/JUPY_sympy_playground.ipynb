{
 "cells": [
  {
   "cell_type": "markdown",
   "id": "71b846b1-9684-4330-b712-b5f9bdd6c76d",
   "metadata": {},
   "source": [
    "# `sympy` playground :)\n",
    "\n",
    "Following the official sympy documentation, I will build this playfield\n",
    "to be able to perform a large set of numerical and analytical operations\n",
    "by exploiting the analytical construction of functions and equations of any\n",
    "sort that is provided by the use of sympy, with the goal of implementing\n",
    "some of its features in the bigger project of Mathematical Methods.\n",
    "\n",
    "**Main ref.: https://docs.sympy.org/latest/index.html**"
   ]
  },
  {
   "cell_type": "code",
   "execution_count": 51,
   "id": "e815bd3f-bd70-4659-a1ec-97e29d4a07aa",
   "metadata": {},
   "outputs": [],
   "source": [
    "from sympy import *\n",
    "init_printing(use_unicode=True)"
   ]
  },
  {
   "cell_type": "markdown",
   "id": "d0dea6ef-af0a-4c1d-9aa3-04521c3b23e0",
   "metadata": {},
   "source": [
    "## Basic operations\n",
    "Following https://docs.sympy.org/latest/tutorial/basic_operations.html"
   ]
  },
  {
   "cell_type": "code",
   "execution_count": 52,
   "id": "e273401f-21d7-4868-9af0-df42d73b94d6",
   "metadata": {},
   "outputs": [
    {
     "name": "stdout",
     "output_type": "stream",
     "text": [
      "#***************** BASIC OPERATIONS ********************#\n",
      "x\n",
      "5 - 0.2*Abs(x - 25)\n",
      "0.399999999999999\n",
      "5 - abs(x - 25)/5\n",
      "0.39999999999999947\n",
      "0.39999999999999947\n"
     ]
    },
    {
     "data": {
      "image/png": "[encoded data removed]",
      "text/latex": [
       "$\\displaystyle 5 - 0.2 \\left|{x - 25}\\right|$"
      ],
      "text/plain": [
       "5 - 0.2⋅│x - 25│"
      ]
     },
     "execution_count": 52,
     "metadata": {},
     "output_type": "execute_result"
    }
   ],
   "source": [
    "print(\"#***************** BASIC OPERATIONS ********************#\")\n",
    "\n",
    "# Building variables\n",
    "x = symbols('x')\n",
    "print(x)\n",
    "\n",
    "# Building expressions\n",
    "psi = 5-1/5*abs(x-25)\n",
    "print(psi)\n",
    "\n",
    "# Sunstituting a value inside an expression\n",
    "# Notice that this syntax works as well with any variable, so one can subs\n",
    "# any variable y to x to obtain an expression that depends on y, instead of x,\n",
    "# or one can also pass a list of tuples to substitute multiple variables\n",
    "# all at once.\n",
    "# Also notice that subs does not perform in-place substitution.\n",
    "print(psi.subs([(x, 2)]))\n",
    "\n",
    "# sympify converts a string expression to a sympy expression\n",
    "psi_str = \"5-1/5*abs(x-25)\"\n",
    "psi_sym = sympify(psi_str)\n",
    "# To do the opposite, you can recast an expression as you would normally do\n",
    "# Notice how the sympy-born expression and this below differ from each other\n",
    "print(str(psi_sym))\n",
    "\n",
    "# evalf evaluates a sympy expression:\n",
    "# in the case in which you want to evaluate an expression with variables\n",
    "# for given values of those variables, you may use subs inside evalf\n",
    "# In the case in which your expression is a numerical expression (say sin(1))\n",
    "# then the first argument of evalf is the number of decimals that you will get\n",
    "# in the displayed result.\n",
    "# Also evalf can restitute only 1 significative number by setting\n",
    "# the chop flag, chop=True\n",
    "psi_sym.evalf(subs={x: 2})\n",
    "\n",
    "# lambdify is a lambda function that converts sympy expressions to other\n",
    "# numerical modules' expressions, such as numpy and scipy\n",
    "psi_np = lambdify(x, psi_sym, \"numpy\")\n",
    "print(psi_np(2))\n",
    "psi_np = lambdify(x, psi_sym, \"scipy\")\n",
    "print(psi_np(2))\n",
    "\n",
    "# If you are working in a jupyter environment, you may also print your\n",
    "# expressions in a nice way by simply writing them as you were in an\n",
    "# interactive console\n",
    "psi"
   ]
  },
  {
   "cell_type": "markdown",
   "id": "bca74102-e114-49ca-bf91-792b1684b99c",
   "metadata": {},
   "source": [
    "## Printing\n",
    "\n",
    "https://docs.sympy.org/latest/tutorial/printing.html"
   ]
  },
  {
   "cell_type": "code",
   "execution_count": 53,
   "id": "1d19623c-de8a-4263-8929-1197b0c6ba72",
   "metadata": {},
   "outputs": [
    {
     "name": "stdout",
     "output_type": "stream",
     "text": [
      "IPython console for SymPy 1.9 (Python 3.9.7-64-bit) (ground types: gmpy)\n",
      "\n",
      "These commands were executed:\n",
      ">>> from __future__ import division\n",
      ">>> from sympy import *\n",
      ">>> x, y, z, t = symbols('x y z t')\n",
      ">>> k, m, n = symbols('k m n', integer=True)\n",
      ">>> f, g, h = symbols('f g h', cls=Function)\n",
      ">>> init_printing()\n",
      "\n",
      "Documentation can be found at https://docs.sympy.org/1.9/\n",
      "\n",
      "#***************** PRINTING ********************#\n",
      "\\int \\sqrt{\\frac{1}{x}}\\, dx\n",
      "⌠         \n",
      "⎮  ⎛ 2⎞   \n",
      "⎮  ⎝x ⎠   \n",
      "⎮ ℯ     dx\n",
      "⌡         \n"
     ]
    }
   ],
   "source": [
    "# The default setup() function in sympy is\n",
    "# init_session()\n",
    "# that performs a series of commands, imports everything from the library\n",
    "# and also gives an idea of how variables and functions are built in sympy.\n",
    "\n",
    "from sympy import init_session\n",
    "init_session()\n",
    "print(\"#***************** PRINTING ********************#\")\n",
    "\n",
    "# Check if LaTeX is installed and recognized by python by running the\n",
    "# following line in the interactive line\n",
    "# Integral(sqrt(1/x), x)\n",
    "\n",
    "# >>> LaTeX is indeed installed and recognized, and sympy prints pretty\n",
    "\n",
    "# You can get the LaTeX expression (with LaTeX commands) of an expression\n",
    "# (I beg your pardon) with the latex() command\n",
    "print(latex(Integral(sqrt(1/x), x)))\n",
    "\n",
    "# This is an important note: there is no way, as I see at the moment,\n",
    "# to make this script print pretty expressions in LaTeX rendering\n",
    "# directly from the script, it can only be made possible by using\n",
    "# the interactive console. Nevertheless, you can print out things in\n",
    "# unicode rendering by using pprint() with option use_unicode\n",
    "# set to True.\n",
    "pprint(Integral(exp(x**2),x), use_unicode=True)"
   ]
  },
  {
   "cell_type": "markdown",
   "id": "34c393b6-6b96-49e5-969b-b8d777ad9927",
   "metadata": {},
   "source": [
    "## Simplification\n",
    "https://docs.sympy.org/latest/tutorial/simplification.html"
   ]
  },
  {
   "cell_type": "code",
   "execution_count": 54,
   "id": "12b61c25-79d9-40df-a578-38d876975288",
   "metadata": {},
   "outputs": [
    {
     "name": "stdout",
     "output_type": "stream",
     "text": [
      "IPython console for SymPy 1.9 (Python 3.9.7-64-bit) (ground types: gmpy)\n",
      "\n",
      "These commands were executed:\n",
      ">>> from __future__ import division\n",
      ">>> from sympy import *\n",
      ">>> x, y, z, t = symbols('x y z t')\n",
      ">>> k, m, n = symbols('k m n', integer=True)\n",
      ">>> f, g, h = symbols('f g h', cls=Function)\n",
      ">>> init_printing()\n",
      "\n",
      "Documentation can be found at https://docs.sympy.org/1.9/\n",
      "\n",
      "#***************** SIMPLIFICATION ********************#\n",
      "#***************** WIP ********************#\n"
     ]
    }
   ],
   "source": [
    "from sympy import init_session\n",
    "init_session()\n",
    "print(\"#***************** SIMPLIFICATION ********************#\")\n",
    "print(\"#***************** WIP ********************#\")\n",
    "\n",
    "         \n",
    "# %%"
   ]
  },
  {
   "cell_type": "markdown",
   "id": "f9fa1f30-d859-426b-8c30-f12d39eddb89",
   "metadata": {},
   "source": [
    "## Calculus\n",
    "https://docs.sympy.org/latest/tutorial/calculus.html"
   ]
  },
  {
   "cell_type": "code",
   "execution_count": 55,
   "id": "2a35368f-e71b-4c34-bdc7-d78f8ec9f64e",
   "metadata": {},
   "outputs": [
    {
     "name": "stdout",
     "output_type": "stream",
     "text": [
      "IPython console for SymPy 1.9 (Python 3.9.7-64-bit) (ground types: gmpy)\n",
      "\n",
      "These commands were executed:\n",
      ">>> from __future__ import division\n",
      ">>> from sympy import *\n",
      ">>> x, y, z, t = symbols('x y z t')\n",
      ">>> k, m, n = symbols('k m n', integer=True)\n",
      ">>> f, g, h = symbols('f g h', cls=Function)\n",
      ">>> init_printing()\n",
      "\n",
      "Documentation can be found at https://docs.sympy.org/1.9/\n",
      "\n",
      "\n",
      "#************* CALCULUS *************#\n",
      "\n",
      "\n",
      "#************* Derivatives *************#\n",
      "\n",
      "cos(x)\n",
      "cos(x)\n",
      "-sin(x)\n",
      "-2*x*exp(-x**2)\n",
      "Derivative(exp(-x**2), x)\n",
      "-2*x*exp(-x**2)\n",
      "\n",
      "#************* Integrals *************#\n",
      "\n",
      "sin(x)\n",
      "sin(1)\n",
      "Integral(cos(x), x)\n",
      "sin(x)\n",
      "\n",
      "#************* Limits[WIP] *************#\n",
      "\n",
      "\n",
      "#************* Series expansion *************#\n",
      "\n",
      "x - x**3/6 + O(x**4)\n",
      "\n",
      "#************* Finite differences[WIP] *************#\n",
      "\n"
     ]
    }
   ],
   "source": [
    "from sympy import init_session\n",
    "init_session()\n",
    "print(\"\\n#*************\", \"CALCULUS\", \"*************#\\n\")\n",
    "print(\"\\n#*************\", \"Derivatives\", \"*************#\\n\")\n",
    "\n",
    "# Derivatives are computed with the diff function, and are restituded as\n",
    "# analytical expressions.\n",
    "# Higher order derivatives are computed by passing the variable as many\n",
    "# times as the order of derivation\n",
    "print(diff(sin(x)))\n",
    "print(diff(sin(x), x)) # equivalent to above since single variable\n",
    "print(diff(sin(x), x, x))\n",
    "\n",
    "# diff is also supported as a method of expr objects of sympy, with arguments\n",
    "# the variable and the order of derivation\n",
    "expr = exp(-x**2)\n",
    "print(expr.diff(x, 1))\n",
    "\n",
    "# Objects are also supported via Derivative class\n",
    "deriv = Derivative(expr, x, 1)\n",
    "print(deriv)\n",
    "# To evaluate the derivative object, use the method doit()\n",
    "print(deriv.doit())\n",
    "\n",
    "# if you don't see the derivative \"pretty printed\", initialize printing via\n",
    "# init_printing(use_unicode=True) doesn't work, and I don't know what else\n",
    "# could\n",
    "\n",
    "print(\"\\n#*************\", \"Integrals\", \"*************#\\n\")\n",
    "# The easiest is integrate(), you may pass the expression as an argument\n",
    "print(integrate(cos(x), x))\n",
    "print(integrate(cos(x), (x, 0, 1)))\n",
    "\n",
    "# Unevaluated integral objects can also be made with the Integral class\n",
    "integ = Integral(cos(x), x)\n",
    "print(integ)\n",
    "print(integ.doit())\n",
    "\n",
    "print(\"\\n#*************\", \"Limits[WIP]\", \"*************#\\n\")\n",
    "# Limits can also be computed\n",
    "\n",
    "print(\"\\n#*************\", \"Series expansion\", \"*************#\\n\")\n",
    "# Performs standard Taylor - Mc Laurin series expansion\n",
    "print((sin(x).series(x, 0, 4)))\n",
    "\n",
    "print(\"\\n#*************\", \"Finite differences[WIP]\", \"*************#\\n\")\n",
    "# https://docs.sympy.org/latest/tutorial/calculus.html#finite-differences\n",
    "\n",
    "# %%"
   ]
  },
  {
   "cell_type": "code",
   "execution_count": 56,
   "id": "704f6bae-db01-4a04-a996-75fd0fec2f7b",
   "metadata": {},
   "outputs": [
    {
     "name": "stdout",
     "output_type": "stream",
     "text": [
      "\n",
      "#************* SOLVERS *************#\n",
      "\n",
      "{-1, 1}\n"
     ]
    }
   ],
   "source": [
    "from sympy import *\n",
    "# init_session()\n",
    "# init_printing(pretty_print=True, use_unicode=False, use_latex=True)\n",
    "\n",
    "\n",
    "print(\"\\n#*************\", \"SOLVERS\", \"*************#\\n\")\n",
    "\n",
    "# Equation objects may be the first thing we want to build and solve\n",
    "# The arguments passed to the Eq constructor are the lhs and the rhs of the\n",
    "# equation\n",
    "Eq(x, y)\n",
    "\n",
    "# solveset() is the first solver that we see, and it interprets any expression \n",
    "# as an equation in which the expression that is passed is equal to 0,\n",
    "# so it only requires the variable that we have wrt we have to solve the\n",
    "# equation\n",
    "pprint(solveset(x**2-1, x), use_unicode=True)"
   ]
  },
  {
   "cell_type": "code",
   "execution_count": 57,
   "id": "42d8dbf7-811f-405e-9ac4-2b4d15475309",
   "metadata": {},
   "outputs": [
    {
     "data": {
      "image/png": "[encoded data removed]",
      "text/latex": [
       "$\\displaystyle \\left\\{x\\; \\middle|\\; x \\in \\mathbb{C} \\wedge - x + \\cos{\\left(x \\right)} = 0 \\right\\}$"
      ],
      "text/plain": [
       "{x │ x ∊ ℂ ∧ (-x + cos(x) = 0)}"
      ]
     },
     "execution_count": 57,
     "metadata": {},
     "output_type": "execute_result"
    }
   ],
   "source": [
    "# solveset is a solver for algebraic expressions, and takes as arguments\n",
    "# the expression of the equation, the variable to find an explicit form for,\n",
    "# and the domain in which we are working, such as S.Reals, S.Complexes.\n",
    "# It returns a FiniteSet, Interval, ImageSet, EmptySet for the solutions.\n",
    "solveset(cos(x)-x, x)\n",
    "\n",
    "# Solve linear systems with linsolve\n",
    "# A system of equations may be passed as:\n",
    "# - a list, in which case the equations must be in homogeneous form\n",
    "# since you may pass a single element to describe the equation\n",
    "# - a matrix, in which the rightmost element is the rhs of the\n",
    "# equations, so a coefficient (and matrix means a Matrix object\n",
    "# of sympy)\n",
    "# - A*x=B form, see below:\n",
    "# M = Matrix(((1, 1, 1, 1), (1, 1, 2, 3)))\n",
    "# system = A, b = M[:, :-1], M[:, -1]\n",
    "# linsolve(system, x, y, z)\n",
    "# {(-y - 1, y, 2)}"
   ]
  },
  {
   "cell_type": "markdown",
   "id": "57d08289-f3ff-47fc-8dfa-39e2786e5535",
   "metadata": {},
   "source": [
    "Non-linear systems of equations may be solved using `nonlinsolve()` in the same way as one uses `linsolve()`"
   ]
  },
  {
   "cell_type": "markdown",
   "id": "1cdefce1-b572-48bc-8888-9c38415cfe32",
   "metadata": {},
   "source": [
    "### Solving Differential Equations\n",
    "\n",
    "Use `dsolve`, that takes and returns an equation object of type `Eq`.\n",
    "\n",
    "#### Creating functions\n",
    "To create undefined functions, you may use the `symbols` constructor and pass the chosen class for your symbols, in this case cls=Function.\n",
    "Once you have created your functions, you can call them by making them depend on a variable, that you only need to pass to them as an argument."
   ]
  },
  {
   "cell_type": "markdown",
   "id": "777e371c-a2bf-4047-89a6-699cd405379a",
   "metadata": {},
   "source": [
    "## Advanced Expression Manipulation\n",
    "\n",
    "First things first: we need to understand how expressions are treated by sympy.\n",
    "We can visualize it by using the representation function of the module, that is `srepr`."
   ]
  },
  {
   "cell_type": "code",
   "execution_count": 58,
   "id": "1b31ccf7-fa11-4ae6-a617-3d551af70f33",
   "metadata": {},
   "outputs": [
    {
     "data": {
      "text/plain": [
       "\"Add(Pow(Symbol('x'), Integer(2)), Mul(Symbol('x'), Symbol('y')))\""
      ]
     },
     "execution_count": 58,
     "metadata": {},
     "output_type": "execute_result"
    }
   ],
   "source": [
    "expr = x**2 + x*y\n",
    "srepr(expr)"
   ]
  },
  {
   "cell_type": "markdown",
   "id": "d61849bb-47c5-4063-975c-c8d5984f2e4d",
   "metadata": {},
   "source": [
    "Sympy classes are various:\n",
    "- Symbol\n",
    "- Integer (int number), Rational (float number), etc...\n",
    "- Add (addition object), Pow (a \"power of something\" object), Mul (multiplication), etc...\n",
    "- Function\n",
    "- Eq\n",
    "- Integral\n",
    "\n",
    "One can build a sympy object by using the `sympify` function."
   ]
  },
  {
   "cell_type": "code",
   "execution_count": 59,
   "id": "8ab8bcf8-fbb1-4b54-8d67-c3ee3945b64f",
   "metadata": {},
   "outputs": [
    {
     "data": {
      "text/plain": [
       "sympy.core.numbers.Integer"
      ]
     },
     "execution_count": 59,
     "metadata": {},
     "output_type": "execute_result"
    }
   ],
   "source": [
    "type(sympify(2))"
   ]
  },
  {
   "cell_type": "markdown",
   "id": "b1980d95-283a-4482-87a3-c80ec3608205",
   "metadata": {},
   "source": [
    "# Classes and objects overview"
   ]
  },
  {
   "cell_type": "markdown",
   "id": "fa59afa9-30a1-4d7d-9bcf-9a83f5e28188",
   "metadata": {},
   "source": [
    "## Functions\n",
    "https://docs.sympy.org/latest/modules/functions/index.html"
   ]
  },
  {
   "cell_type": "code",
   "execution_count": 60,
   "id": "aa274a5e-7e4f-4d47-9f5d-c630fccaf969",
   "metadata": {},
   "outputs": [],
   "source": [
    "# Create an undefined function\n",
    "f = Function('f')\n",
    "\n",
    "# Create an undefined function of a variable x\n",
    "g = Function('g')(x)"
   ]
  },
  {
   "cell_type": "code",
   "execution_count": 61,
   "id": "ea5e4ab3-9354-4fd9-84ed-1ec5e6c7ac1c",
   "metadata": {},
   "outputs": [
    {
     "data": {
      "image/png": "[encoded data removed]",
      "text/latex": [
       "$\\displaystyle \\frac{d}{d x} f{\\left(x \\right)}$"
      ],
      "text/plain": [
       "d       \n",
       "──(f(x))\n",
       "dx      "
      ]
     },
     "execution_count": 61,
     "metadata": {},
     "output_type": "execute_result"
    }
   ],
   "source": [
    "f(x).diff(x)"
   ]
  },
  {
   "cell_type": "markdown",
   "id": "9eb01fad-16f8-403d-9f1f-79bdf9537ea9",
   "metadata": {},
   "source": [
    "## ODEs\n",
    "\n",
    "https://docs.sympy.org/latest/modules/solvers/ode.html\n",
    "\n",
    "Ordinary differential equations with initial conditions or boundary conditions can be solved by using `dsolve` with flag `ics` equal to a dictionary that stores the conditions."
   ]
  },
  {
   "cell_type": "code",
   "execution_count": 62,
   "id": "69eb90ae-a31e-41b9-b126-e3b487908845",
   "metadata": {},
   "outputs": [
    {
     "data": {
      "image/png": "[encoded data removed]",
      "text/latex": [
       "$\\displaystyle - w^{2} f{\\left(x \\right)} + \\frac{d^{2}}{d x^{2}} f{\\left(x \\right)} = 0$"
      ],
      "text/plain": [
       "              2          \n",
       "   2         d           \n",
       "- w ⋅f(x) + ───(f(x)) = 0\n",
       "              2          \n",
       "            dx           "
      ]
     },
     "execution_count": 62,
     "metadata": {},
     "output_type": "execute_result"
    }
   ],
   "source": [
    "f, g = symbols('f g', cls=Function)\n",
    "w = Symbol('w')\n",
    "eq = Eq(f(x).diff(x,x)-w**2*f(x), 0)\n",
    "eq"
   ]
  },
  {
   "cell_type": "code",
   "execution_count": 63,
   "id": "1721da51-59d8-4bc7-8aa3-39cd0db7de71",
   "metadata": {},
   "outputs": [],
   "source": [
    "ics = {\n",
    "    f(0) : 1,\n",
    "    f(x).diff(x).subs(x, 0) : 0,\n",
    "}"
   ]
  },
  {
   "cell_type": "code",
   "execution_count": 64,
   "id": "88c1a841-c555-4112-906a-6af51e4f9b52",
   "metadata": {},
   "outputs": [
    {
     "data": {
      "image/png": "[encoded data removed]",
      "text/latex": [
       "$\\displaystyle f{\\left(x \\right)} = \\frac{e^{w x}}{2} + \\frac{e^{- w x}}{2}$"
      ],
      "text/plain": [
       "        w⋅x    -w⋅x\n",
       "       ℯ      ℯ    \n",
       "f(x) = ──── + ─────\n",
       "        2       2  "
      ]
     },
     "execution_count": 64,
     "metadata": {},
     "output_type": "execute_result"
    }
   ],
   "source": [
    "dsolve(eq, f(x), ics=ics)"
   ]
  },
  {
   "cell_type": "markdown",
   "id": "4ee6978b-f265-4ddf-b80a-dc11ebef7685",
   "metadata": {},
   "source": [
    "## Integrals\n",
    "https://docs.sympy.org/latest/modules/integrals/integrals.html"
   ]
  },
  {
   "cell_type": "code",
   "execution_count": null,
   "id": "cda54947-fc8c-4e86-9ac3-cffadc2a873d",
   "metadata": {},
   "outputs": [],
   "source": []
  },
  {
   "cell_type": "markdown",
   "id": "af326775-5219-4ad3-9571-aa75ddb66cb5",
   "metadata": {},
   "source": [
    "# Serious playground"
   ]
  },
  {
   "cell_type": "code",
   "execution_count": 65,
   "id": "47b90f9d-9712-4f77-9a1d-a83a157bedd6",
   "metadata": {},
   "outputs": [],
   "source": [
    "l = 50\n",
    "c = 0.437 # J/(g K)\n",
    "rho = 7.88 #g/cm**3\n",
    "k = 0.836 # W/(cm K)"
   ]
  },
  {
   "cell_type": "code",
   "execution_count": 66,
   "id": "91152921-8d8f-415a-8d43-2ddc8089aec8",
   "metadata": {},
   "outputs": [
    {
     "data": {
      "image/png": "[encoded data removed]",
      "text/latex": [
       "$\\displaystyle 5 - \\frac{\\left|{x - 25}\\right|}{5}$"
      ],
      "text/plain": [
       "    │x - 25│\n",
       "5 - ────────\n",
       "       5    "
      ]
     },
     "execution_count": 66,
     "metadata": {},
     "output_type": "execute_result"
    }
   ],
   "source": [
    "psi = 5 - Abs(x-25)/5\n",
    "type(psi)\n",
    "psi"
   ]
  },
  {
   "cell_type": "code",
   "execution_count": 67,
   "id": "a78704bb-4caa-4589-8105-8eac091f76e1",
   "metadata": {},
   "outputs": [
    {
     "data": {
      "text/plain": [
       "Piecewise"
      ]
     },
     "execution_count": 67,
     "metadata": {},
     "output_type": "execute_result"
    }
   ],
   "source": [
    "b = integrate(2/l*psi*sin(n*S.Pi*x/50), (x, 0, 50))\n",
    "type(b)\n",
    "# https://docs.sympy.org/latest/modules/functions/elementary.html#piecewiseb"
   ]
  },
  {
   "cell_type": "code",
   "execution_count": 68,
   "id": "5c125aa7-072a-4fd9-b913-4108c1d06921",
   "metadata": {},
   "outputs": [
    {
     "data": {
      "image/png": "[encoded data removed]",
      "text/latex": [
       "$\\displaystyle \\frac{40.0 \\sin{\\left(\\frac{\\pi n}{2} \\right)}}{\\pi^{2} n^{2}}$"
      ],
      "text/plain": [
       "        ⎛π⋅n⎞\n",
       "40.0⋅sin⎜───⎟\n",
       "        ⎝ 2 ⎠\n",
       "─────────────\n",
       "     2  2    \n",
       "    π ⋅n     "
      ]
     },
     "execution_count": 68,
     "metadata": {},
     "output_type": "execute_result"
    }
   ],
   "source": [
    "bn = (b.args[0][0])\n",
    "bn"
   ]
  },
  {
   "cell_type": "code",
   "execution_count": 69,
   "id": "127e043f-49a7-431d-9c8d-1ff9ed42db82",
   "metadata": {},
   "outputs": [
    {
     "data": {
      "image/png": "[encoded data removed]",
      "text/latex": [
       "$\\displaystyle 9.71088060030898 \\cdot 10^{-5} \\pi^{2} n^{2} \\operatorname{a_{n}}{\\left(t \\right)} + \\frac{d}{d t} \\operatorname{a_{n}}{\\left(t \\right)} = 0$"
      ],
      "text/plain": [
       "                     2  2         d            \n",
       "9.71088060030898e-5⋅π ⋅n ⋅aₙ(t) + ──(aₙ(t)) = 0\n",
       "                                  dt           "
      ]
     },
     "execution_count": 69,
     "metadata": {},
     "output_type": "execute_result"
    }
   ],
   "source": [
    "# Solve an ODE in a(t)\n",
    "an, b = symbols('a_n b', cls=Function)\n",
    "eqa = Eq(an(t).diff(t)+k*n**2*pi**2*an(t)/(50**2*rho*c), 0)\n",
    "eqa"
   ]
  },
  {
   "cell_type": "code",
   "execution_count": 70,
   "id": "010c505f-8fab-4047-9dae-691e719fe251",
   "metadata": {},
   "outputs": [],
   "source": [
    "an0 = {\n",
    "    an(0) : bn\n",
    "}"
   ]
  },
  {
   "cell_type": "code",
   "execution_count": 71,
   "id": "bbe1dda9-c5c3-48ba-89a6-2494cb1099a3",
   "metadata": {},
   "outputs": [
    {
     "data": {
      "image/png": "[encoded data removed]",
      "text/latex": [
       "$\\displaystyle \\frac{4.05284734569351 e^{- 9.71088060030898 \\cdot 10^{-5} \\pi^{2} n^{2} t} \\sin{\\left(1.5707963267949 n \\right)}}{n^{2}}$"
      ],
      "text/plain": [
       "                                        2  2                         \n",
       "                  -9.71088060030898e-5⋅π ⋅n ⋅t                       \n",
       "4.05284734569351⋅ℯ                            ⋅sin(1.5707963267949⋅n)\n",
       "─────────────────────────────────────────────────────────────────────\n",
       "                                   2                                 \n",
       "                                  n                                  "
      ]
     },
     "execution_count": 71,
     "metadata": {},
     "output_type": "execute_result"
    }
   ],
   "source": [
    "ant = dsolve(eqa, an(t), ics = an0, simplify=True).args[1]\n",
    "ant"
   ]
  },
  {
   "cell_type": "markdown",
   "id": "fcb83b32-c8e5-44b6-85fa-5db0c8db3eaa",
   "metadata": {},
   "source": [
    "### Series (built-in Fourier series expansion)\n",
    "https://docs.sympy.org/latest/modules/series/index.html\n",
    "\n",
    "### Summations, finite and infinite\n",
    "https://docs.sympy.org/latest/modules/concrete.html"
   ]
  },
  {
   "cell_type": "code",
   "execution_count": 72,
   "id": "bf46316a-5a84-4328-a42f-bd6adf44f4f5",
   "metadata": {},
   "outputs": [
    {
     "data": {
      "image/png": "[encoded data removed]",
      "text/latex": [
       "$\\displaystyle 2 \\sin{\\left(x \\right)} - \\sin{\\left(2 x \\right)} + \\frac{2 \\sin{\\left(3 x \\right)}}{3} + \\ldots$"
      ],
      "text/plain": [
       "                      2⋅sin(3⋅x)    \n",
       "2⋅sin(x) - sin(2⋅x) + ────────── + …\n",
       "                          3         "
      ]
     },
     "execution_count": 72,
     "metadata": {},
     "output_type": "execute_result"
    }
   ],
   "source": [
    "fourier_series(x)"
   ]
  },
  {
   "cell_type": "code",
   "execution_count": 73,
   "id": "cd5d8a70-980e-4bb5-9224-5d87fe2259b7",
   "metadata": {},
   "outputs": [],
   "source": [
    "f_sine = sin(n*pi*x/50)"
   ]
  },
  {
   "cell_type": "code",
   "execution_count": 78,
   "id": "4b999fb0-eb2b-44c4-80e5-6fb5364bb510",
   "metadata": {},
   "outputs": [
    {
     "data": {
      "image/png": "[encoded data removed]",
      "text/latex": [
       "$\\displaystyle \\sum_{n=1}^{10} \\frac{4.05284734569351 e^{- 9.71088060030898 \\cdot 10^{-5} \\pi^{2} n^{2} t} \\sin{\\left(1.5707963267949 n \\right)} \\sin{\\left(\\frac{\\pi n x}{50} \\right)}}{n^{2}}$"
      ],
      "text/plain": [
       "  10                                                                                   \n",
       "______                                                                                 \n",
       "╲                                                                                      \n",
       " ╲                                                                                     \n",
       "  ╲                                            2  2                                    \n",
       "   ╲                     -9.71088060030898e-5⋅π ⋅n ⋅t                           ⎛π⋅n⋅x⎞\n",
       "    ╲  4.05284734569351⋅ℯ                            ⋅sin(1.5707963267949⋅n)⋅sin⎜─────⎟\n",
       "    ╱                                                                           ⎝  50 ⎠\n",
       "   ╱   ────────────────────────────────────────────────────────────────────────────────\n",
       "  ╱                                            2                                       \n",
       " ╱                                            n                                        \n",
       "╱                                                                                      \n",
       "‾‾‾‾‾‾                                                                                 \n",
       "n = 1                                                                                  "
      ]
     },
     "execution_count": 78,
     "metadata": {},
     "output_type": "execute_result"
    }
   ],
   "source": [
    "u10 = Sum(ant*f_sine, (n, 1, 10))\n",
    "u10"
   ]
  },
  {
   "cell_type": "code",
   "execution_count": 79,
   "id": "70eefa53-c109-4d2a-a6ea-6dfbd338a383",
   "metadata": {},
   "outputs": [
    {
     "data": {
      "image/png": "[encoded data removed]",
      "text/latex": [
       "$\\displaystyle 0.912174092269646$"
      ],
      "text/plain": [
       "0.9121740922696457"
      ]
     },
     "execution_count": 79,
     "metadata": {},
     "output_type": "execute_result"
    }
   ],
   "source": [
    "u10_np = lambdify((x, t), u10, 'numpy')\n",
    "u10_np(5,300)"
   ]
  },
  {
   "cell_type": "markdown",
   "id": "718cd8fb-3d06-4d26-8186-309cc635ef76",
   "metadata": {},
   "source": [
    "It works fine: I am able to compute the value of the solution at a single point in space and time for a fixed number of terms in the fourier series. I can do better, by vectorizing the numpy function."
   ]
  },
  {
   "cell_type": "code",
   "execution_count": 98,
   "id": "10429fdb-a382-45b9-9270-89551e7c4e5d",
   "metadata": {},
   "outputs": [
    {
     "data": {
      "text/plain": [
       "array([ 0.00000000e+00,  1.04850737e-01,  2.09306480e-01,  3.13011306e-01,\n",
       "        4.15683728e-01,  5.17144991e-01,  6.17337568e-01,  7.16332035e-01,\n",
       "        8.14321556e-01,  9.11604367e-01,  1.00855575e+00,  1.10559201e+00,\n",
       "        1.20312975e+00,  1.30154421e+00,  1.40113062e+00,  1.50207233e+00,\n",
       "        1.60441894e+00,  1.70807682e+00,  1.81281328e+00,  1.91827458e+00,\n",
       "        2.02401647e+00,  2.12954501e+00,  2.23436416e+00,  2.33802604e+00,\n",
       "        2.44017927e+00,  2.54061067e+00,  2.63927611e+00,  2.73631694e+00,\n",
       "        2.83205950e+00,  2.92699649e+00,  3.02175062e+00,  3.11702216e+00,\n",
       "        3.21352372e+00,  3.31190668e+00,  3.41268448e+00,  3.51615871e+00,\n",
       "        3.62235395e+00,  3.73096673e+00,  3.84133354e+00,  3.95242127e+00,\n",
       "        4.06284204e+00,  4.17089288e+00,  4.27461861e+00,  4.37189476e+00,\n",
       "        4.46052586e+00,  4.53835312e+00,  4.60336479e+00,  4.65380203e+00,\n",
       "        4.68825365e+00,  4.70573313e+00,  4.70573313e+00,  4.68825365e+00,\n",
       "        4.65380203e+00,  4.60336479e+00,  4.53835312e+00,  4.46052586e+00,\n",
       "        4.37189476e+00,  4.27461861e+00,  4.17089288e+00,  4.06284204e+00,\n",
       "        3.95242127e+00,  3.84133354e+00,  3.73096673e+00,  3.62235395e+00,\n",
       "        3.51615871e+00,  3.41268448e+00,  3.31190668e+00,  3.21352372e+00,\n",
       "        3.11702216e+00,  3.02175062e+00,  2.92699649e+00,  2.83205950e+00,\n",
       "        2.73631694e+00,  2.63927611e+00,  2.54061067e+00,  2.44017927e+00,\n",
       "        2.33802604e+00,  2.23436416e+00,  2.12954501e+00,  2.02401647e+00,\n",
       "        1.91827458e+00,  1.81281328e+00,  1.70807682e+00,  1.60441894e+00,\n",
       "        1.50207233e+00,  1.40113062e+00,  1.30154421e+00,  1.20312975e+00,\n",
       "        1.10559201e+00,  1.00855575e+00,  9.11604367e-01,  8.14321556e-01,\n",
       "        7.16332035e-01,  6.17337568e-01,  5.17144991e-01,  4.15683728e-01,\n",
       "        3.13011306e-01,  2.09306480e-01,  1.04850737e-01, -1.15397160e-15])"
      ]
     },
     "execution_count": 98,
     "metadata": {},
     "output_type": "execute_result"
    }
   ],
   "source": [
    "xgrid = np.linspace(0,50,100)\n",
    "u10_np_v = np.vectorize(u10_np)\n",
    "u10_np_v(xgrid,5)"
   ]
  },
  {
   "cell_type": "code",
   "execution_count": 99,
   "id": "26e6fefb-96d0-49f9-b13c-8d2e40af07b1",
   "metadata": {},
   "outputs": [],
   "source": [
    "from matplotlib import pyplot as plt"
   ]
  },
  {
   "cell_type": "code",
   "execution_count": 121,
   "id": "a84e11f0-6f95-435d-ab98-51fe33ec957d",
   "metadata": {},
   "outputs": [],
   "source": [
    "for time in np.linspace(0,1000,10):\n",
    "    plt.plot(xgrid, u10_np_v(xgrid, time))\n",
    "plt.show()"
   ]
  },
  {
   "cell_type": "code",
   "execution_count": 109,
   "id": "62d7f457-3ab7-4a3c-83eb-e5e5910d2890",
   "metadata": {},
   "outputs": [],
   "source": [
    "plt.close()"
   ]
  },
  {
   "cell_type": "code",
   "execution_count": 111,
   "id": "db83d7f3-d5bc-411b-97b6-f342951cadaa",
   "metadata": {},
   "outputs": [],
   "source": [
    "# TODO: if time=0 plot numpified, vectorized initial condition, if present, so\n",
    "# it would be better to numpify and vectorize it at the very beginning\n",
    "# TODO: substitution of values of parameters should be done at the end\n",
    "# of calculations to prevent ugly expressions"
   ]
  },
  {
   "cell_type": "code",
   "execution_count": 112,
   "id": "fdab70ad-fdc7-498f-b217-46915022b0f3",
   "metadata": {},
   "outputs": [],
   "source": [
    "plt.style.use('seaborn-pastel')"
   ]
  },
  {
   "cell_type": "code",
   "execution_count": 125,
   "id": "cbc87a1e-0fe3-430c-912c-bd9181599578",
   "metadata": {},
   "outputs": [],
   "source": [
    "from matplotlib.animation import FuncAnimation\n",
    "\n",
    "fig = plt.figure()\n",
    "ax = plt.axes(xlim=(0,50), ylim=(0,5))\n",
    "line, = ax.plot([], [], lw=3)\n",
    "\n",
    "def init():\n",
    "    line.set_data([], [])\n",
    "    return line,\n",
    "def animate(i):\n",
    "    x = np.linspace(0,50,100)\n",
    "    y = u10_np_v(xgrid, i)\n",
    "    line.set_data(x, y)\n",
    "    return line,\n",
    "\n",
    "anim = FuncAnimation(fig, animate, init_func=init,\n",
    "                     frames=1000, interval=20, blit=True,)\n",
    "\n",
    "anim.save('sine_wave.gif', writer='pillow')\n",
    "\n",
    "# this is sick, man, is sick for real"
   ]
  },
  {
   "cell_type": "code",
   "execution_count": 123,
   "id": "bfac7c2f-04bd-43ba-8f5f-ec38a0bb53eb",
   "metadata": {},
   "outputs": [],
   "source": [
    "# TODO: superimpose initial distribution to animation"
   ]
  }
 ],
 "metadata": {
  "kernelspec": {
   "display_name": "Python 3 (ipykernel)",
   "language": "python",
   "name": "python3"
  },
  "language_info": {
   "codemirror_mode": {
    "name": "ipython",
    "version": 3
   },
   "file_extension": ".py",
   "mimetype": "text/x-python",
   "name": "python",
   "nbconvert_exporter": "python",
   "pygments_lexer": "ipython3",
   "version": "3.9.7"
  }
 },
 "nbformat": 4,
 "nbformat_minor": 5
}
