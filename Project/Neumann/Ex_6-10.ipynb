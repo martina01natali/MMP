{
 "cells": [
  {
   "cell_type": "markdown",
   "id": "be31d391-4559-4860-afd0-3471dda885a6",
   "metadata": {},
   "source": [
    "# Finite elements for IVBP with Neumann conditions"
   ]
  },
  {
   "cell_type": "markdown",
   "id": "04d9a03e-06eb-481d-b780-bb4bbb28053f",
   "metadata": {},
   "source": [
    "## Start simple: BVP with Neumann BC"
   ]
  },
  {
   "cell_type": "markdown",
   "id": "d178d806-007a-4db6-8ff4-07fbc2f7f90c",
   "metadata": {},
   "source": [
    "Example 6.10 - Inhomogeneous Neumann BVP\n",
    "\n",
    "This example is taken from Gockenbach, Sect. 6.5."
   ]
  },
  {
   "cell_type": "code",
   "execution_count": 165,
   "id": "1d4c0d52-6c24-4b85-b5d4-73348b6103e2",
   "metadata": {},
   "outputs": [],
   "source": [
    "from sympy import *\n",
    "init_printing(use_unicode=True)"
   ]
  },
  {
   "cell_type": "code",
   "execution_count": 166,
   "id": "2a5ce3bf-6c7d-4415-ae22-bdbe993e2e86",
   "metadata": {},
   "outputs": [],
   "source": [
    "import numpy as np\n",
    "import matplotlib.pyplot as plt\n",
    "from scipy.integrate import quad\n",
    "from scipy.linalg import solve_banded"
   ]
  },
  {
   "cell_type": "code",
   "execution_count": 167,
   "id": "26c78b50-3b96-46d1-8b93-2cb37439743d",
   "metadata": {},
   "outputs": [
    {
     "name": "stdout",
     "output_type": "stream",
     "text": [
      "IPython console for SymPy 1.10.1 (Python 3.9.12-64-bit) (ground types: python)\n",
      "\n",
      "These commands were executed:\n",
      ">>> from sympy import *\n",
      ">>> x, y, z, t = symbols('x y z t')\n",
      ">>> k, m, n = symbols('k m n', integer=True)\n",
      ">>> f, g, h = symbols('f g h', cls=Function)\n",
      ">>> init_printing()\n",
      "\n",
      "Documentation can be found at https://docs.sympy.org/1.10.1/\n",
      "\n"
     ]
    }
   ],
   "source": [
    "init_session()"
   ]
  },
  {
   "cell_type": "code",
   "execution_count": 168,
   "id": "dda0aced-b779-4d7d-a13f-a7beb188d6de",
   "metadata": {},
   "outputs": [],
   "source": [
    "u = symbols('u', cls=Function)\n",
    "l = Symbol('l', real=True, positive=True)\n",
    "i = Symbol('i', integer=True)\n",
    "h = Symbol('h', real=True, positive=True)"
   ]
  },
  {
   "cell_type": "code",
   "execution_count": 169,
   "id": "6dace981-47dc-4409-a6ca-f8150635c95c",
   "metadata": {},
   "outputs": [],
   "source": [
    "ode = Eq((-u(x).diff(x, x)),(x-1/2), domain=Interval(0,1))"
   ]
  },
  {
   "cell_type": "code",
   "execution_count": 170,
   "id": "77345bcf-11e3-4e3b-94c6-91efec2c1560",
   "metadata": {},
   "outputs": [
    {
     "data": {
      "image/png": "[encoded data removed]",
      "text/latex": [
       "$\\displaystyle - \\frac{d^{2}}{d x^{2}} u{\\left(x \\right)} = x - 0.5$"
      ],
      "text/plain": [
       "   2                \n",
       "  d                 \n",
       "-───(u(x)) = x - 0.5\n",
       "   2                \n",
       " dx                 "
      ]
     },
     "execution_count": 170,
     "metadata": {},
     "output_type": "execute_result"
    }
   ],
   "source": [
    "ode"
   ]
  },
  {
   "cell_type": "code",
   "execution_count": 171,
   "id": "0186019e-fa5d-4f41-bd80-c660a6ebf164",
   "metadata": {},
   "outputs": [],
   "source": [
    "ics = {\n",
    "    u(x).diff(x).subs(x, 0) : 0,\n",
    "    u(x).diff(x).subs(x, l) : 0,\n",
    "    u(0) : 0,\n",
    "}"
   ]
  },
  {
   "cell_type": "code",
   "execution_count": 172,
   "id": "c1a535bb-8ddb-4d3a-aa73-44d01bceaf19",
   "metadata": {},
   "outputs": [
    {
     "data": {
      "text/plain": [
       "\"Equality(Mul(Integer(-1), Derivative(Function('u')(Symbol('x')), Tuple(Symbol('x'), Integer(2)))), Add(Symbol('x'), Float('-0.5', precision=53)))\""
      ]
     },
     "execution_count": 172,
     "metadata": {},
     "output_type": "execute_result"
    }
   ],
   "source": [
    "srepr(ode)"
   ]
  },
  {
   "cell_type": "raw",
   "id": "cf2fe3cc-90af-488e-85c3-cdc6b9f8e6d3",
   "metadata": {},
   "source": [
    "dsolve(ode, func=u(x), ics=ics,)"
   ]
  },
  {
   "cell_type": "code",
   "execution_count": 173,
   "id": "4532bf9d-f479-4daf-a997-a082a110acdf",
   "metadata": {},
   "outputs": [],
   "source": [
    "def basis(x, i):\n",
    "    return np.piecewise(x, [x < (i-1)*h,\n",
    "                            ((i-1)*h <= x) & (x <= i*h),\n",
    "                            (i*h < x) & (x <= (i+1)*h),\n",
    "                            x > (i+1)*h],\n",
    "                        [0, (x - (i - 1) * h)/h, -(x - (i + 1) * h)/h, 0])\n",
    "\n",
    "vbasis = np.vectorize(basis)"
   ]
  },
  {
   "cell_type": "markdown",
   "id": "898ac142-69ad-4e26-afd6-05669929ffac",
   "metadata": {},
   "source": [
    "## Build the piecewise polynomials basis\n",
    "\n",
    "The following is a single element $\\phi_j (x)$ of the basis of piecewise polynomials. This means that, when building the matrixes $\\textbf{K}_{ij}$ and $\\textbf{M}_{ij}$, one has to take into account to loop on the j index as a function of the i index."
   ]
  },
  {
   "cell_type": "code",
   "execution_count": 174,
   "id": "939daea9-62cd-49cb-b35c-d1f441e4ebf5",
   "metadata": {},
   "outputs": [
    {
     "data": {
      "text/latex": [
       "$\\displaystyle \\begin{cases} - i + 1 + \\frac{x}{h} & \\text{for}\\: x > h \\left(i - 1\\right) \\wedge x < h i \\\\i + 1 - \\frac{x}{h} & \\text{for}\\: x > h i \\wedge x < h \\left(i + 1\\right) \\\\0 & \\text{otherwise} \\end{cases}$"
      ],
      "text/plain": [
       "⎧         x                             \n",
       "⎪-i + 1 + ─  for x > h⋅(i - 1) ∧ x < h⋅i\n",
       "⎪         h                             \n",
       "⎪                                       \n",
       "⎨        x                              \n",
       "⎪i + 1 - ─   for x > h⋅i ∧ x < h⋅(i + 1)\n",
       "⎪        h                              \n",
       "⎪                                       \n",
       "⎩    0                otherwise         "
      ]
     },
     "execution_count": 174,
     "metadata": {},
     "output_type": "execute_result"
    }
   ],
   "source": [
    "sy_basis = Piecewise(\n",
    "    (x/h-i+1, (x>(i-1)*h)&(x<i*h)),\n",
    "    (-x/h+i+1, (x>i*h)&(x<(i+1)*h)),\n",
    "    (0, True),\n",
    "); sy_basis"
   ]
  },
  {
   "cell_type": "code",
   "execution_count": 175,
   "id": "0f4b09d5-bd24-4ab8-842f-c59195890e12",
   "metadata": {},
   "outputs": [
    {
     "data": {
      "text/latex": [
       "$\\displaystyle \\begin{cases} \\left(- i + 1 + \\frac{x}{h}\\right)^{2} & \\text{for}\\: x > h \\left(i - 1\\right) \\wedge x < h i \\\\\\left(i + 1 - \\frac{x}{h}\\right)^{2} & \\text{for}\\: x > h i \\wedge x < h \\left(i + 1\\right) \\\\0 & \\text{otherwise} \\end{cases}$"
      ],
      "text/plain": [
       "⎧            2                             \n",
       "⎪⎛         x⎞                              \n",
       "⎪⎜-i + 1 + ─⎟   for x > h⋅(i - 1) ∧ x < h⋅i\n",
       "⎪⎝         h⎠                              \n",
       "⎪                                          \n",
       "⎨           2                              \n",
       "⎪⎛        x⎞                               \n",
       "⎪⎜i + 1 - ─⎟    for x > h⋅i ∧ x < h⋅(i + 1)\n",
       "⎪⎝        h⎠                               \n",
       "⎪                                          \n",
       "⎩      0                 otherwise         "
      ]
     },
     "execution_count": 175,
     "metadata": {},
     "output_type": "execute_result"
    }
   ],
   "source": [
    "sy_basis2 = sy_basis**2; sy_basis2"
   ]
  },
  {
   "cell_type": "code",
   "execution_count": 176,
   "id": "79b091f1-946e-437b-b0bd-9477bf7a6b01",
   "metadata": {},
   "outputs": [
    {
     "data": {
      "text/latex": [
       "$\\displaystyle \\begin{cases} 0 & \\text{for}\\: x \\leq h \\left(i - 1\\right) \\\\- h \\left(1 - i\\right) \\left(i - 1\\right)^{2} - \\frac{h \\left(i - 1\\right)^{3}}{3} - h \\left(i - 1\\right) \\left(i^{2} - 2 i + 1\\right) + x \\left(i^{2} - 2 i + 1\\right) + \\frac{x^{2} \\cdot \\left(1 - i\\right)}{h} + \\frac{x^{3}}{3 h^{2}} & \\text{for}\\: x < h i \\\\h i^{2} \\cdot \\left(1 - i\\right) - h i^{2} \\left(- i - 1\\right) + h i \\left(i^{2} - 2 i + 1\\right) - h i \\left(i^{2} + 2 i + 1\\right) - h \\left(1 - i\\right) \\left(i - 1\\right)^{2} - \\frac{h \\left(i - 1\\right)^{3}}{3} - h \\left(i - 1\\right) \\left(i^{2} - 2 i + 1\\right) + x \\left(i^{2} + 2 i + 1\\right) + \\frac{x^{2} \\left(- i - 1\\right)}{h} + \\frac{x^{3}}{3 h^{2}} & \\text{for}\\: x < h \\left(i + 1\\right) \\\\h i^{2} \\cdot \\left(1 - i\\right) - h i^{2} \\left(- i - 1\\right) + h i \\left(i^{2} - 2 i + 1\\right) - h i \\left(i^{2} + 2 i + 1\\right) - h \\left(1 - i\\right) \\left(i - 1\\right)^{2} + h \\left(- i - 1\\right) \\left(i + 1\\right)^{2} - \\frac{h \\left(i - 1\\right)^{3}}{3} - h \\left(i - 1\\right) \\left(i^{2} - 2 i + 1\\right) + \\frac{h \\left(i + 1\\right)^{3}}{3} + h \\left(i + 1\\right) \\left(i^{2} + 2 i + 1\\right) & \\text{otherwise} \\end{cases}$"
      ],
      "text/plain": [
       "⎧                                                                             \n",
       "⎪                                                                             \n",
       "⎪                                                                             \n",
       "⎪                                                                  2   h⋅(i - \n",
       "⎪                                               - h⋅(1 - i)⋅(i - 1)  - ───────\n",
       "⎪                                                                          3  \n",
       "⎪                                                                             \n",
       "⎪                                                                             \n",
       "⎪                                                                             \n",
       "⎨              2              2                ⎛ 2          ⎞       ⎛ 2       \n",
       "⎪           h⋅i ⋅(1 - i) - h⋅i ⋅(-i - 1) + h⋅i⋅⎝i  - 2⋅i + 1⎠ - h⋅i⋅⎝i  + 2⋅i \n",
       "⎪                                                                             \n",
       "⎪                                                                             \n",
       "⎪                                                                             \n",
       "⎪                                                                             \n",
       "⎪   2              2                ⎛ 2          ⎞       ⎛ 2          ⎞       \n",
       "⎪h⋅i ⋅(1 - i) - h⋅i ⋅(-i - 1) + h⋅i⋅⎝i  - 2⋅i + 1⎠ - h⋅i⋅⎝i  + 2⋅i + 1⎠ - h⋅(1\n",
       "⎪                                                                             \n",
       "⎩                                                                             \n",
       "\n",
       "                   0                                                          \n",
       "                                                                              \n",
       "  3                                                  2             3          \n",
       "1)              ⎛ 2          ⎞     ⎛ 2          ⎞   x ⋅(1 - i)    x           \n",
       "─── - h⋅(i - 1)⋅⎝i  - 2⋅i + 1⎠ + x⋅⎝i  - 2⋅i + 1⎠ + ────────── + ────         \n",
       "                                                        h           2         \n",
       "                                                                 3⋅h          \n",
       "                                                                              \n",
       "                                     3                                        \n",
       "   ⎞                    2   h⋅(i - 1)              ⎛ 2          ⎞     ⎛ 2     \n",
       "+ 1⎠ - h⋅(1 - i)⋅(i - 1)  - ────────── - h⋅(i - 1)⋅⎝i  - 2⋅i + 1⎠ + x⋅⎝i  + 2⋅\n",
       "                                3                                             \n",
       "                                                                              \n",
       "                                                                              \n",
       "                                                3                             \n",
       "             2                     2   h⋅(i - 1)              ⎛ 2          ⎞  \n",
       " - i)⋅(i - 1)  + h⋅(-i - 1)⋅(i + 1)  - ────────── - h⋅(i - 1)⋅⎝i  - 2⋅i + 1⎠ +\n",
       "                                           3                                  \n",
       "                                                                              \n",
       "\n",
       "                                        for x ≤ h⋅(i - 1)\n",
       "                                                         \n",
       "                                                         \n",
       "                                                         \n",
       "                                           for x < h⋅i   \n",
       "                                                         \n",
       "                                                         \n",
       "                                                         \n",
       "          2              3                               \n",
       "     ⎞   x ⋅(-i - 1)    x                                \n",
       "i + 1⎠ + ─────────── + ────             for x < h⋅(i + 1)\n",
       "              h           2                              \n",
       "                       3⋅h                               \n",
       "                                                         \n",
       "          3                                              \n",
       " h⋅(i + 1)              ⎛ 2          ⎞                   \n",
       " ────────── + h⋅(i + 1)⋅⎝i  + 2⋅i + 1⎠      otherwise    \n",
       "     3                                                   \n",
       "                                                         "
      ]
     },
     "execution_count": 176,
     "metadata": {},
     "output_type": "execute_result"
    }
   ],
   "source": [
    "sy_basis2.integrate(x)"
   ]
  },
  {
   "cell_type": "code",
   "execution_count": 177,
   "id": "e6b78238-3170-4704-9157-b0efa00b8d54",
   "metadata": {},
   "outputs": [
    {
     "data": {
      "image/png": "[encoded data removed]",
      "text/latex": [
       "$\\displaystyle - h \\left(1 - i\\right) \\left(i - 1\\right)^{2} - \\frac{h \\left(i - 1\\right)^{3}}{3} - h \\left(i - 1\\right) \\left(i^{2} - 2 i + 1\\right) + x \\left(i^{2} - 2 i + 1\\right) + \\frac{x^{2} \\cdot \\left(1 - i\\right)}{h} + \\frac{x^{3}}{3 h^{2}}$"
      ],
      "text/plain": [
       "                                3                                             \n",
       "                   2   h⋅(i - 1)              ⎛ 2          ⎞     ⎛ 2          \n",
       "- h⋅(1 - i)⋅(i - 1)  - ────────── - h⋅(i - 1)⋅⎝i  - 2⋅i + 1⎠ + x⋅⎝i  - 2⋅i + 1\n",
       "                           3                                                  \n",
       "                                                                              \n",
       "\n",
       "     2             3 \n",
       "⎞   x ⋅(1 - i)    x  \n",
       "⎠ + ────────── + ────\n",
       "        h           2\n",
       "                 3⋅h "
      ]
     },
     "execution_count": 177,
     "metadata": {},
     "output_type": "execute_result"
    }
   ],
   "source": [
    "sy_basis2.integrate(x).args[1][0]"
   ]
  },
  {
   "cell_type": "code",
   "execution_count": 178,
   "id": "99c5b754-3775-448d-a96a-1ba8514e71c3",
   "metadata": {},
   "outputs": [
    {
     "data": {
      "text/latex": [
       "$\\displaystyle \\begin{cases} \\frac{1}{h} & \\text{for}\\: x > h \\left(i - 1\\right) \\wedge x < h i \\\\- \\frac{1}{h} & \\text{for}\\: x > h i \\wedge x < h \\left(i + 1\\right) \\\\0 & \\text{otherwise} \\end{cases}$"
      ],
      "text/plain": [
       "⎧ 1                              \n",
       "⎪ ─   for x > h⋅(i - 1) ∧ x < h⋅i\n",
       "⎪ h                              \n",
       "⎪                                \n",
       "⎨-1                              \n",
       "⎪───  for x > h⋅i ∧ x < h⋅(i + 1)\n",
       "⎪ h                              \n",
       "⎪                                \n",
       "⎩ 0            otherwise         "
      ]
     },
     "execution_count": 178,
     "metadata": {},
     "output_type": "execute_result"
    }
   ],
   "source": [
    "sy_dbasis = Derivative(sy_basis, x).doit(); sy_dbasis"
   ]
  },
  {
   "cell_type": "code",
   "execution_count": 179,
   "id": "3e061b46-3be2-4ba7-bf6f-48dc8c08d963",
   "metadata": {},
   "outputs": [
    {
     "data": {
      "text/latex": [
       "$\\displaystyle \\begin{cases} \\frac{1}{h^{2}} & \\text{for}\\: \\left(x > h i \\vee x > h \\left(i - 1\\right)\\right) \\wedge \\left(x > h i \\vee x < h i\\right) \\wedge \\left(x > h \\left(i - 1\\right) \\vee x < h \\left(i + 1\\right)\\right) \\wedge \\left(x < h i \\vee x < h \\left(i + 1\\right)\\right) \\\\0 & \\text{otherwise} \\end{cases}$"
      ],
      "text/plain": [
       "⎧1                                                                            \n",
       "⎪──  for (x > h⋅i ∨ x > h⋅(i - 1)) ∧ (x > h⋅i ∨ x < h⋅i) ∧ (x > h⋅(i - 1) ∨ x \n",
       "⎪ 2                                                                           \n",
       "⎨h                                                                            \n",
       "⎪                                                                             \n",
       "⎪0                                                       otherwise            \n",
       "⎩                                                                             \n",
       "\n",
       "                                        \n",
       "< h⋅(i + 1)) ∧ (x < h⋅i ∨ x < h⋅(i + 1))\n",
       "                                        \n",
       "                                        \n",
       "                                        \n",
       "                                        \n",
       "                                        "
      ]
     },
     "execution_count": 179,
     "metadata": {},
     "output_type": "execute_result"
    }
   ],
   "source": [
    "sy_dbasis2 = sy_dbasis**2; sy_dbasis2"
   ]
  },
  {
   "cell_type": "code",
   "execution_count": 180,
   "id": "436dc167-1b7c-4b4b-bfd3-f8dc3c0b6e2b",
   "metadata": {},
   "outputs": [
    {
     "data": {
      "text/latex": [
       "$\\displaystyle \\begin{cases} \\frac{x}{h^{2}} & \\text{for}\\: \\left(x > h i \\vee x > h \\left(i - 1\\right)\\right) \\wedge \\left(x > h i \\vee x < h i\\right) \\wedge \\left(x > h \\left(i - 1\\right) \\vee x < h \\left(i + 1\\right)\\right) \\wedge \\left(x < h i \\vee x < h \\left(i + 1\\right)\\right) \\\\0 & \\text{otherwise} \\end{cases}$"
      ],
      "text/plain": [
       "⎧x                                                                            \n",
       "⎪──  for (x > h⋅i ∨ x > h⋅(i - 1)) ∧ (x > h⋅i ∨ x < h⋅i) ∧ (x > h⋅(i - 1) ∨ x \n",
       "⎪ 2                                                                           \n",
       "⎨h                                                                            \n",
       "⎪                                                                             \n",
       "⎪0                                                       otherwise            \n",
       "⎩                                                                             \n",
       "\n",
       "                                        \n",
       "< h⋅(i + 1)) ∧ (x < h⋅i ∨ x < h⋅(i + 1))\n",
       "                                        \n",
       "                                        \n",
       "                                        \n",
       "                                        \n",
       "                                        "
      ]
     },
     "execution_count": 180,
     "metadata": {},
     "output_type": "execute_result"
    }
   ],
   "source": [
    "sy_dbasis2.piecewise_integrate(x)"
   ]
  },
  {
   "cell_type": "markdown",
   "id": "307fbd88-f9be-4785-a41c-2b2ffd97c68a",
   "metadata": {},
   "source": [
    "### 1st element of the basis\n",
    "\n",
    "Consider $\\phi_j(x_i)$ with j = 1. Then the integer variable i = j. \\\n",
    "Elements $\\phi_0$ and $\\phi_n$ are to be defined indipendently from the others with i = 1, ... , n-1."
   ]
  },
  {
   "cell_type": "code",
   "execution_count": 181,
   "id": "c2536f08-8218-430d-977a-0c13bab98f74",
   "metadata": {},
   "outputs": [
    {
     "data": {
      "text/latex": [
       "$\\displaystyle \\begin{cases} \\frac{x}{h} & \\text{for}\\: h > x \\wedge x > 0 \\\\2 - \\frac{x}{h} & \\text{for}\\: h < x \\wedge x < 2 h \\\\0 & \\text{otherwise} \\end{cases}$"
      ],
      "text/plain": [
       "⎧  x                       \n",
       "⎪  ─     for h > x ∧ x > 0 \n",
       "⎪  h                       \n",
       "⎪                          \n",
       "⎨    x                     \n",
       "⎪2 - ─  for h < x ∧ x < 2⋅h\n",
       "⎪    h                     \n",
       "⎪                          \n",
       "⎩  0         otherwise     "
      ]
     },
     "execution_count": 181,
     "metadata": {},
     "output_type": "execute_result"
    }
   ],
   "source": [
    "# Take the general definition of the basis and substitute i = 1\n",
    "e1 = sy_basis.subs(i, 1); e1"
   ]
  },
  {
   "cell_type": "code",
   "execution_count": 182,
   "id": "0cc9cb65-6f58-4ad9-9359-c59394bdf515",
   "metadata": {},
   "outputs": [
    {
     "data": {
      "text/latex": [
       "$\\displaystyle \\begin{cases} \\frac{1}{h^{2}} & \\text{for}\\: \\left(h > x \\vee h < x\\right) \\wedge \\left(h > x \\vee x < 2 h\\right) \\wedge \\left(x > 0 \\vee h < x\\right) \\wedge \\left(x > 0 \\vee x < 2 h\\right) \\\\0 & \\text{otherwise} \\end{cases}$"
      ],
      "text/plain": [
       "⎧1                                                                            \n",
       "⎪──  for (h > x ∨ h < x) ∧ (h > x ∨ x < 2⋅h) ∧ (x > 0 ∨ h < x) ∧ (x > 0 ∨ x < \n",
       "⎪ 2                                                                           \n",
       "⎨h                                                                            \n",
       "⎪                                                                             \n",
       "⎪0                                     otherwise                              \n",
       "⎩                                                                             \n",
       "\n",
       "    \n",
       "2⋅h)\n",
       "    \n",
       "    \n",
       "    \n",
       "    \n",
       "    "
      ]
     },
     "execution_count": 182,
     "metadata": {},
     "output_type": "execute_result"
    }
   ],
   "source": [
    "de1_2 = sy_dbasis2.subs(i,1); de1_2"
   ]
  },
  {
   "cell_type": "code",
   "execution_count": 183,
   "id": "a7de2fb4-706b-41ba-89bd-e803c94eb292",
   "metadata": {},
   "outputs": [
    {
     "data": {
      "image/png": "[encoded data removed]",
      "text/latex": [
       "$\\displaystyle \\frac{2}{h}$"
      ],
      "text/plain": [
       "2\n",
       "─\n",
       "h"
      ]
     },
     "execution_count": 183,
     "metadata": {},
     "output_type": "execute_result"
    }
   ],
   "source": [
    "de1_2.integrate((x, 0, 2*h))"
   ]
  },
  {
   "cell_type": "markdown",
   "id": "0f5188e0-ff1d-4989-b8e6-309254a0c455",
   "metadata": {},
   "source": [
    "And this, my man, is the entry 11 of the stiffness matrix. Time to make this object-oriented and cycle over the indexes."
   ]
  },
  {
   "cell_type": "markdown",
   "id": "c1db87cb-c8df-4d22-88cd-3a33906a9c57",
   "metadata": {},
   "source": [
    "### Construction of the entries of the K matrix"
   ]
  },
  {
   "cell_type": "code",
   "execution_count": 184,
   "id": "45eb9f12-17cb-4af7-873b-b2abf2a2303e",
   "metadata": {},
   "outputs": [
    {
     "name": "stdout",
     "output_type": "stream",
     "text": [
      "2/h\n",
      "2/h\n",
      "2/h\n",
      "2/h\n",
      "2/h\n",
      "2/h\n",
      "2/h\n",
      "2/h\n",
      "2/h\n",
      "2/h\n"
     ]
    }
   ],
   "source": [
    "# Build the main diagonal first\n",
    "for n in [m+1 for m in range(10)]:\n",
    "    dummy = sy_dbasis2.subs(i,n).integrate((x, (n-1)*h, (n+1)*h))\n",
    "    print(dummy)"
   ]
  },
  {
   "cell_type": "code",
   "execution_count": 191,
   "id": "5a80d675-a054-4b7e-aaec-0b0e41080726",
   "metadata": {},
   "outputs": [
    {
     "data": {
      "text/latex": [
       "$\\displaystyle \\begin{cases} i + 1 - \\frac{x}{h} & \\text{for}\\: h > x \\wedge x > 0 \\\\0 & \\text{otherwise} \\end{cases}$"
      ],
      "text/plain": [
       "⎧        x                   \n",
       "⎪i + 1 - ─  for h > x ∧ x > 0\n",
       "⎨        h                   \n",
       "⎪                            \n",
       "⎩    0          otherwise    "
      ]
     },
     "execution_count": 191,
     "metadata": {},
     "output_type": "execute_result"
    }
   ],
   "source": [
    "e0 = Piecewise(\n",
    "    (-x/h+i+1, (x>0)&(x<h)),\n",
    "    (0, True),\n",
    "); e0"
   ]
  },
  {
   "cell_type": "markdown",
   "id": "799e46c0-4d0e-40f9-be8f-f90a57cda160",
   "metadata": {},
   "source": [
    "### Last try to see if I can implement some sort of inner product\n",
    "\n",
    "**Note: the following is just for trying and is not related to the computation of matrix K: in fact, it uses the elements of the basis and not their derivatives.**"
   ]
  },
  {
   "cell_type": "code",
   "execution_count": 186,
   "id": "d9c4d298-4689-4fa4-a938-6ab1ea925f1e",
   "metadata": {},
   "outputs": [
    {
     "data": {
      "text/latex": [
       "$\\displaystyle \\begin{cases} -1 + \\frac{x}{h} & \\text{for}\\: h < x \\wedge x < 2 h \\\\3 - \\frac{x}{h} & \\text{for}\\: x > 2 h \\wedge x < 3 h \\\\0 & \\text{otherwise} \\end{cases}$"
      ],
      "text/plain": [
       "⎧     x                       \n",
       "⎪-1 + ─   for h < x ∧ x < 2⋅h \n",
       "⎪     h                       \n",
       "⎪                             \n",
       "⎨    x                        \n",
       "⎪3 - ─   for x > 2⋅h ∧ x < 3⋅h\n",
       "⎪    h                        \n",
       "⎪                             \n",
       "⎩  0           otherwise      "
      ]
     },
     "execution_count": 186,
     "metadata": {},
     "output_type": "execute_result"
    }
   ],
   "source": [
    "# Build the second element of the basis\n",
    "e2 = sy_basis.subs(i, 2); e2"
   ]
  },
  {
   "cell_type": "markdown",
   "id": "ebf7c86f-5e5a-405b-beba-c1942af1ccc9",
   "metadata": {},
   "source": [
    "**WARNING** \\ The result below is by no means correct: this may be due to the order of the "
   ]
  },
  {
   "cell_type": "code",
   "execution_count": 200,
   "id": "fd2ffb4a-a497-484e-8c84-691e5c38d1ef",
   "metadata": {},
   "outputs": [
    {
     "data": {
      "text/latex": [
       "$\\displaystyle \\left(\\begin{cases} \\frac{x}{h} & \\text{for}\\: h > x \\wedge x > 0 \\\\2.0 - \\frac{x}{h} & \\text{for}\\: h < x \\wedge x < 2 h \\\\0 & \\text{otherwise} \\end{cases}\\right) \\left(\\begin{cases} -1.0 + \\frac{x}{h} & \\text{for}\\: h < x \\wedge x < 2 h \\\\3.0 - \\frac{x}{h} & \\text{for}\\: x > 2 h \\wedge x < 3 h \\\\0 & \\text{otherwise} \\end{cases}\\right)$"
      ],
      "text/plain": [
       "⎛⎧   x                        ⎞ ⎛⎧       x                       ⎞\n",
       "⎜⎪   ─      for h > x ∧ x > 0 ⎟ ⎜⎪-1.0 + ─   for h < x ∧ x < 2⋅h ⎟\n",
       "⎜⎪   h                        ⎟ ⎜⎪       h                       ⎟\n",
       "⎜⎪                            ⎟ ⎜⎪                               ⎟\n",
       "⎜⎨      x                     ⎟⋅⎜⎨      x                        ⎟\n",
       "⎜⎪2.0 - ─  for h < x ∧ x < 2⋅h⎟ ⎜⎪3.0 - ─   for x > 2⋅h ∧ x < 3⋅h⎟\n",
       "⎜⎪      h                     ⎟ ⎜⎪      h                        ⎟\n",
       "⎜⎪                            ⎟ ⎜⎪                               ⎟\n",
       "⎝⎩   0          otherwise     ⎠ ⎝⎩   0            otherwise      ⎠"
      ]
     },
     "execution_count": 200,
     "metadata": {},
     "output_type": "execute_result"
    }
   ],
   "source": [
    "# Compute the product of e1 and e2\n",
    "e1e2 = e1*e2; e1e2\n",
    "e1e2.evalf()"
   ]
  },
  {
   "cell_type": "code",
   "execution_count": 198,
   "id": "9e6d05cc-79ec-4e60-b294-0511f293236b",
   "metadata": {},
   "outputs": [
    {
     "data": {
      "image/png": "[encoded data removed]",
      "text/latex": [
       "$\\displaystyle \\frac{h}{6}$"
      ],
      "text/plain": [
       "h\n",
       "─\n",
       "6"
      ]
     },
     "execution_count": 198,
     "metadata": {},
     "output_type": "execute_result"
    }
   ],
   "source": [
    "integrate(e1*e2, (x, 0, 2*h))"
   ]
  },
  {
   "cell_type": "code",
   "execution_count": 188,
   "id": "4d1516d8-f946-4e87-b9a4-7a5dcb27122b",
   "metadata": {},
   "outputs": [
    {
     "data": {
      "text/plain": [
       "sympy.core.mul.Mul"
      ]
     },
     "execution_count": 188,
     "metadata": {},
     "output_type": "execute_result"
    }
   ],
   "source": [
    "type(e1e2)"
   ]
  },
  {
   "cell_type": "raw",
   "id": "216508d7-379b-49c1-b909-810c0f3bc696",
   "metadata": {},
   "source": [
    "e1e2.subs(h, 1).doit().integrate((x, 0, 2))"
   ]
  },
  {
   "cell_type": "code",
   "execution_count": null,
   "id": "a2be484c-dc8a-4607-a04b-faa288e4e270",
   "metadata": {},
   "outputs": [],
   "source": []
  },
  {
   "cell_type": "markdown",
   "id": "b0b49b72-1d4d-4235-8d7f-479355de1696",
   "metadata": {},
   "source": [
    "## B-spline tries"
   ]
  },
  {
   "cell_type": "code",
   "execution_count": 189,
   "id": "a9c08f40-89c6-4599-aec3-603812910d3d",
   "metadata": {},
   "outputs": [
    {
     "data": {
      "image/png": "[encoded data removed]",
      "text/latex": [
       "$\\displaystyle 10$"
      ],
      "text/plain": [
       "10"
      ]
     },
     "execution_count": 189,
     "metadata": {},
     "output_type": "execute_result"
    }
   ],
   "source": [
    "d = 1 # degree pf the B-splines\n",
    "knots = tuple(range(10)); len(knots)"
   ]
  },
  {
   "cell_type": "code",
   "execution_count": 190,
   "id": "9fa9ee98-0953-4854-8f78-bfec7a00d568",
   "metadata": {},
   "outputs": [
    {
     "data": {
      "text/latex": [
       "$\\displaystyle \\begin{cases} x - 7 & \\text{for}\\: x \\geq 7 \\wedge x \\leq 8 \\\\9 - x & \\text{for}\\: x \\geq 8 \\wedge x \\leq 9 \\\\0 & \\text{otherwise} \\end{cases}$"
      ],
      "text/plain": [
       "⎧x - 7  for x ≥ 7 ∧ x ≤ 8\n",
       "⎪                        \n",
       "⎨9 - x  for x ≥ 8 ∧ x ≤ 9\n",
       "⎪                        \n",
       "⎩  0        otherwise    "
      ]
     },
     "execution_count": 190,
     "metadata": {},
     "output_type": "execute_result"
    }
   ],
   "source": [
    "bspline_basis(d, knots, 7, x)"
   ]
  },
  {
   "cell_type": "code",
   "execution_count": null,
   "id": "b319dfcf-b653-46db-b090-f6c6585adb4a",
   "metadata": {},
   "outputs": [],
   "source": []
  }
 ],
 "metadata": {
  "kernelspec": {
   "display_name": "mmp",
   "language": "python",
   "name": "mmp"
  },
  "language_info": {
   "codemirror_mode": {
    "name": "ipython",
    "version": 3
   },
   "file_extension": ".py",
   "mimetype": "text/x-python",
   "name": "python",
   "nbconvert_exporter": "python",
   "pygments_lexer": "ipython3",
   "version": "3.9.12"
  }
 },
 "nbformat": 4,
 "nbformat_minor": 5
}
