{
 "cells": [
  {
   "cell_type": "markdown",
   "id": "be31d391-4559-4860-afd0-3471dda885a6",
   "metadata": {},
   "source": [
    "# Finite elements for IVBP with Neumann conditions"
   ]
  },
  {
   "cell_type": "markdown",
   "id": "04d9a03e-06eb-481d-b780-bb4bbb28053f",
   "metadata": {},
   "source": [
    "## Start simple: BVP with Neumann BC"
   ]
  },
  {
   "cell_type": "markdown",
   "id": "d178d806-007a-4db6-8ff4-07fbc2f7f90c",
   "metadata": {},
   "source": [
    "Example 6.10 - Inhomogeneous Neumann BVP\n",
    "\n",
    "This example is taken from Gockenbach, Sect. 6.5."
   ]
  },
  {
   "cell_type": "code",
   "execution_count": 396,
   "id": "1d4c0d52-6c24-4b85-b5d4-73348b6103e2",
   "metadata": {},
   "outputs": [],
   "source": [
    "from sympy import *\n",
    "init_printing(use_unicode=True)"
   ]
  },
  {
   "cell_type": "code",
   "execution_count": 397,
   "id": "2a5ce3bf-6c7d-4415-ae22-bdbe993e2e86",
   "metadata": {},
   "outputs": [],
   "source": [
    "import numpy as np\n",
    "import matplotlib.pyplot as plt\n",
    "from scipy.integrate import quad\n",
    "from scipy.linalg import solve_banded"
   ]
  },
  {
   "cell_type": "code",
   "execution_count": 398,
   "id": "26c78b50-3b96-46d1-8b93-2cb37439743d",
   "metadata": {},
   "outputs": [
    {
     "name": "stdout",
     "output_type": "stream",
     "text": [
      "IPython console for SymPy 1.10.1 (Python 3.9.12-64-bit) (ground types: python)\n",
      "\n",
      "These commands were executed:\n",
      ">>> from sympy import *\n",
      ">>> x, y, z, t = symbols('x y z t')\n",
      ">>> k, m, n = symbols('k m n', integer=True)\n",
      ">>> f, g, h = symbols('f g h', cls=Function)\n",
      ">>> init_printing()\n",
      "\n",
      "Documentation can be found at https://docs.sympy.org/1.10.1/\n",
      "\n"
     ]
    }
   ],
   "source": [
    "init_session()"
   ]
  },
  {
   "cell_type": "code",
   "execution_count": 399,
   "id": "dda0aced-b779-4d7d-a13f-a7beb188d6de",
   "metadata": {},
   "outputs": [],
   "source": [
    "u = symbols('u', cls=Function)\n",
    "l = Symbol('l', real=True, positive=True)\n",
    "i = Symbol('i', integer=True)\n",
    "h = Symbol('h', real=True, positive=True)"
   ]
  },
  {
   "cell_type": "code",
   "execution_count": 400,
   "id": "6dace981-47dc-4409-a6ca-f8150635c95c",
   "metadata": {},
   "outputs": [],
   "source": [
    "ode = Eq((-u(x).diff(x, x)),(x-1/2), domain=Interval(0,1))"
   ]
  },
  {
   "cell_type": "code",
   "execution_count": 401,
   "id": "77345bcf-11e3-4e3b-94c6-91efec2c1560",
   "metadata": {},
   "outputs": [
    {
     "data": {
      "image/png": "[encoded data removed]",
      "text/latex": [
       "$\\displaystyle - \\frac{d^{2}}{d x^{2}} u{\\left(x \\right)} = x - 0.5$"
      ],
      "text/plain": [
       "   2                \n",
       "  d                 \n",
       "-───(u(x)) = x - 0.5\n",
       "   2                \n",
       " dx                 "
      ]
     },
     "execution_count": 401,
     "metadata": {},
     "output_type": "execute_result"
    }
   ],
   "source": [
    "ode"
   ]
  },
  {
   "cell_type": "code",
   "execution_count": 402,
   "id": "0186019e-fa5d-4f41-bd80-c660a6ebf164",
   "metadata": {},
   "outputs": [],
   "source": [
    "ics = {\n",
    "    u(x).diff(x).subs(x, 0) : 0,\n",
    "    u(x).diff(x).subs(x, l) : 0,\n",
    "    u(0) : 0,\n",
    "}"
   ]
  },
  {
   "cell_type": "code",
   "execution_count": 403,
   "id": "c1a535bb-8ddb-4d3a-aa73-44d01bceaf19",
   "metadata": {},
   "outputs": [
    {
     "data": {
      "text/plain": [
       "\"Equality(Mul(Integer(-1), Derivative(Function('u')(Symbol('x')), Tuple(Symbol('x'), Integer(2)))), Add(Symbol('x'), Float('-0.5', precision=53)))\""
      ]
     },
     "execution_count": 403,
     "metadata": {},
     "output_type": "execute_result"
    }
   ],
   "source": [
    "srepr(ode)"
   ]
  },
  {
   "cell_type": "raw",
   "id": "cf2fe3cc-90af-488e-85c3-cdc6b9f8e6d3",
   "metadata": {},
   "source": [
    "dsolve(ode, func=u(x), ics=ics,)"
   ]
  },
  {
   "cell_type": "code",
   "execution_count": 404,
   "id": "4532bf9d-f479-4daf-a997-a082a110acdf",
   "metadata": {},
   "outputs": [],
   "source": [
    "def basis(x, i):\n",
    "    return np.piecewise(x, [x < (i-1)*h,\n",
    "                            ((i-1)*h <= x) & (x <= i*h),\n",
    "                            (i*h < x) & (x <= (i+1)*h),\n",
    "                            x > (i+1)*h],\n",
    "                        [0, (x - (i - 1) * h)/h, -(x - (i + 1) * h)/h, 0])\n",
    "\n",
    "vbasis = np.vectorize(basis)"
   ]
  },
  {
   "cell_type": "markdown",
   "id": "898ac142-69ad-4e26-afd6-05669929ffac",
   "metadata": {},
   "source": [
    "## Build the piecewise polynomials basis\n",
    "\n",
    "The following is a single element $\\phi_j (x)$ of the basis of piecewise polynomials. This means that, when building the matrixes $\\textbf{K}_{ij}$ and $\\textbf{M}_{ij}$, one has to take into account to loop on the j index as a function of the i index."
   ]
  },
  {
   "cell_type": "code",
   "execution_count": 405,
   "id": "939daea9-62cd-49cb-b35c-d1f441e4ebf5",
   "metadata": {},
   "outputs": [
    {
     "data": {
      "text/latex": [
       "$\\displaystyle \\begin{cases} - i + 1 + \\frac{x}{h} & \\text{for}\\: x > h \\left(i - 1\\right) \\wedge x < h i \\\\i + 1 - \\frac{x}{h} & \\text{for}\\: x > h i \\wedge x < h \\left(i + 1\\right) \\\\0 & \\text{otherwise} \\end{cases}$"
      ],
      "text/plain": [
       "⎧         x                             \n",
       "⎪-i + 1 + ─  for x > h⋅(i - 1) ∧ x < h⋅i\n",
       "⎪         h                             \n",
       "⎪                                       \n",
       "⎨        x                              \n",
       "⎪i + 1 - ─   for x > h⋅i ∧ x < h⋅(i + 1)\n",
       "⎪        h                              \n",
       "⎪                                       \n",
       "⎩    0                otherwise         "
      ]
     },
     "execution_count": 405,
     "metadata": {},
     "output_type": "execute_result"
    }
   ],
   "source": [
    "sy_basis = Piecewise(\n",
    "    (x/h-i+1, (x>(i-1)*h)&(x<i*h)),\n",
    "    (-x/h+i+1, (x>i*h)&(x<(i+1)*h)),\n",
    "    (0, True),\n",
    "); sy_basis"
   ]
  },
  {
   "cell_type": "code",
   "execution_count": 406,
   "id": "0f4b09d5-bd24-4ab8-842f-c59195890e12",
   "metadata": {},
   "outputs": [
    {
     "data": {
      "text/latex": [
       "$\\displaystyle \\begin{cases} \\left(- i + 1 + \\frac{x}{h}\\right)^{2} & \\text{for}\\: x > h \\left(i - 1\\right) \\wedge x < h i \\\\\\left(i + 1 - \\frac{x}{h}\\right)^{2} & \\text{for}\\: x > h i \\wedge x < h \\left(i + 1\\right) \\\\0 & \\text{otherwise} \\end{cases}$"
      ],
      "text/plain": [
       "⎧            2                             \n",
       "⎪⎛         x⎞                              \n",
       "⎪⎜-i + 1 + ─⎟   for x > h⋅(i - 1) ∧ x < h⋅i\n",
       "⎪⎝         h⎠                              \n",
       "⎪                                          \n",
       "⎨           2                              \n",
       "⎪⎛        x⎞                               \n",
       "⎪⎜i + 1 - ─⎟    for x > h⋅i ∧ x < h⋅(i + 1)\n",
       "⎪⎝        h⎠                               \n",
       "⎪                                          \n",
       "⎩      0                 otherwise         "
      ]
     },
     "execution_count": 406,
     "metadata": {},
     "output_type": "execute_result"
    }
   ],
   "source": [
    "sy_basis2 = sy_basis**2; sy_basis2"
   ]
  },
  {
   "cell_type": "code",
   "execution_count": 407,
   "id": "79b091f1-946e-437b-b0bd-9477bf7a6b01",
   "metadata": {},
   "outputs": [
    {
     "data": {
      "text/latex": [
       "$\\displaystyle \\begin{cases} 0 & \\text{for}\\: x \\leq h \\left(i - 1\\right) \\\\- h \\left(1 - i\\right) \\left(i - 1\\right)^{2} - \\frac{h \\left(i - 1\\right)^{3}}{3} - h \\left(i - 1\\right) \\left(i^{2} - 2 i + 1\\right) + x \\left(i^{2} - 2 i + 1\\right) + \\frac{x^{2} \\cdot \\left(1 - i\\right)}{h} + \\frac{x^{3}}{3 h^{2}} & \\text{for}\\: x < h i \\\\h i^{2} \\cdot \\left(1 - i\\right) - h i^{2} \\left(- i - 1\\right) + h i \\left(i^{2} - 2 i + 1\\right) - h i \\left(i^{2} + 2 i + 1\\right) - h \\left(1 - i\\right) \\left(i - 1\\right)^{2} - \\frac{h \\left(i - 1\\right)^{3}}{3} - h \\left(i - 1\\right) \\left(i^{2} - 2 i + 1\\right) + x \\left(i^{2} + 2 i + 1\\right) + \\frac{x^{2} \\left(- i - 1\\right)}{h} + \\frac{x^{3}}{3 h^{2}} & \\text{for}\\: x < h \\left(i + 1\\right) \\\\h i^{2} \\cdot \\left(1 - i\\right) - h i^{2} \\left(- i - 1\\right) + h i \\left(i^{2} - 2 i + 1\\right) - h i \\left(i^{2} + 2 i + 1\\right) - h \\left(1 - i\\right) \\left(i - 1\\right)^{2} + h \\left(- i - 1\\right) \\left(i + 1\\right)^{2} - \\frac{h \\left(i - 1\\right)^{3}}{3} - h \\left(i - 1\\right) \\left(i^{2} - 2 i + 1\\right) + \\frac{h \\left(i + 1\\right)^{3}}{3} + h \\left(i + 1\\right) \\left(i^{2} + 2 i + 1\\right) & \\text{otherwise} \\end{cases}$"
      ],
      "text/plain": [
       "⎧                                                                             \n",
       "⎪                                                                             \n",
       "⎪                                                                             \n",
       "⎪                                                                  2   h⋅(i - \n",
       "⎪                                               - h⋅(1 - i)⋅(i - 1)  - ───────\n",
       "⎪                                                                          3  \n",
       "⎪                                                                             \n",
       "⎪                                                                             \n",
       "⎪                                                                             \n",
       "⎨              2              2                ⎛ 2          ⎞       ⎛ 2       \n",
       "⎪           h⋅i ⋅(1 - i) - h⋅i ⋅(-i - 1) + h⋅i⋅⎝i  - 2⋅i + 1⎠ - h⋅i⋅⎝i  + 2⋅i \n",
       "⎪                                                                             \n",
       "⎪                                                                             \n",
       "⎪                                                                             \n",
       "⎪                                                                             \n",
       "⎪   2              2                ⎛ 2          ⎞       ⎛ 2          ⎞       \n",
       "⎪h⋅i ⋅(1 - i) - h⋅i ⋅(-i - 1) + h⋅i⋅⎝i  - 2⋅i + 1⎠ - h⋅i⋅⎝i  + 2⋅i + 1⎠ - h⋅(1\n",
       "⎪                                                                             \n",
       "⎩                                                                             \n",
       "\n",
       "                   0                                                          \n",
       "                                                                              \n",
       "  3                                                  2             3          \n",
       "1)              ⎛ 2          ⎞     ⎛ 2          ⎞   x ⋅(1 - i)    x           \n",
       "─── - h⋅(i - 1)⋅⎝i  - 2⋅i + 1⎠ + x⋅⎝i  - 2⋅i + 1⎠ + ────────── + ────         \n",
       "                                                        h           2         \n",
       "                                                                 3⋅h          \n",
       "                                                                              \n",
       "                                     3                                        \n",
       "   ⎞                    2   h⋅(i - 1)              ⎛ 2          ⎞     ⎛ 2     \n",
       "+ 1⎠ - h⋅(1 - i)⋅(i - 1)  - ────────── - h⋅(i - 1)⋅⎝i  - 2⋅i + 1⎠ + x⋅⎝i  + 2⋅\n",
       "                                3                                             \n",
       "                                                                              \n",
       "                                                                              \n",
       "                                                3                             \n",
       "             2                     2   h⋅(i - 1)              ⎛ 2          ⎞  \n",
       " - i)⋅(i - 1)  + h⋅(-i - 1)⋅(i + 1)  - ────────── - h⋅(i - 1)⋅⎝i  - 2⋅i + 1⎠ +\n",
       "                                           3                                  \n",
       "                                                                              \n",
       "\n",
       "                                        for x ≤ h⋅(i - 1)\n",
       "                                                         \n",
       "                                                         \n",
       "                                                         \n",
       "                                           for x < h⋅i   \n",
       "                                                         \n",
       "                                                         \n",
       "                                                         \n",
       "          2              3                               \n",
       "     ⎞   x ⋅(-i - 1)    x                                \n",
       "i + 1⎠ + ─────────── + ────             for x < h⋅(i + 1)\n",
       "              h           2                              \n",
       "                       3⋅h                               \n",
       "                                                         \n",
       "          3                                              \n",
       " h⋅(i + 1)              ⎛ 2          ⎞                   \n",
       " ────────── + h⋅(i + 1)⋅⎝i  + 2⋅i + 1⎠      otherwise    \n",
       "     3                                                   \n",
       "                                                         "
      ]
     },
     "execution_count": 407,
     "metadata": {},
     "output_type": "execute_result"
    }
   ],
   "source": [
    "sy_basis2.integrate(x)"
   ]
  },
  {
   "cell_type": "code",
   "execution_count": 408,
   "id": "e6b78238-3170-4704-9157-b0efa00b8d54",
   "metadata": {},
   "outputs": [
    {
     "data": {
      "image/png": "[encoded data removed]",
      "text/latex": [
       "$\\displaystyle - h \\left(1 - i\\right) \\left(i - 1\\right)^{2} - \\frac{h \\left(i - 1\\right)^{3}}{3} - h \\left(i - 1\\right) \\left(i^{2} - 2 i + 1\\right) + x \\left(i^{2} - 2 i + 1\\right) + \\frac{x^{2} \\cdot \\left(1 - i\\right)}{h} + \\frac{x^{3}}{3 h^{2}}$"
      ],
      "text/plain": [
       "                                3                                             \n",
       "                   2   h⋅(i - 1)              ⎛ 2          ⎞     ⎛ 2          \n",
       "- h⋅(1 - i)⋅(i - 1)  - ────────── - h⋅(i - 1)⋅⎝i  - 2⋅i + 1⎠ + x⋅⎝i  - 2⋅i + 1\n",
       "                           3                                                  \n",
       "                                                                              \n",
       "\n",
       "     2             3 \n",
       "⎞   x ⋅(1 - i)    x  \n",
       "⎠ + ────────── + ────\n",
       "        h           2\n",
       "                 3⋅h "
      ]
     },
     "execution_count": 408,
     "metadata": {},
     "output_type": "execute_result"
    }
   ],
   "source": [
    "sy_basis2.integrate(x).args[1][0]"
   ]
  },
  {
   "cell_type": "code",
   "execution_count": 409,
   "id": "99c5b754-3775-448d-a96a-1ba8514e71c3",
   "metadata": {},
   "outputs": [
    {
     "data": {
      "text/latex": [
       "$\\displaystyle \\begin{cases} \\frac{1}{h} & \\text{for}\\: x > h \\left(i - 1\\right) \\wedge x < h i \\\\- \\frac{1}{h} & \\text{for}\\: x > h i \\wedge x < h \\left(i + 1\\right) \\\\0 & \\text{otherwise} \\end{cases}$"
      ],
      "text/plain": [
       "⎧ 1                              \n",
       "⎪ ─   for x > h⋅(i - 1) ∧ x < h⋅i\n",
       "⎪ h                              \n",
       "⎪                                \n",
       "⎨-1                              \n",
       "⎪───  for x > h⋅i ∧ x < h⋅(i + 1)\n",
       "⎪ h                              \n",
       "⎪                                \n",
       "⎩ 0            otherwise         "
      ]
     },
     "execution_count": 409,
     "metadata": {},
     "output_type": "execute_result"
    }
   ],
   "source": [
    "sy_dbasis = Derivative(sy_basis, x).doit(); sy_dbasis"
   ]
  },
  {
   "cell_type": "code",
   "execution_count": 410,
   "id": "3e061b46-3be2-4ba7-bf6f-48dc8c08d963",
   "metadata": {},
   "outputs": [
    {
     "data": {
      "text/latex": [
       "$\\displaystyle \\begin{cases} \\frac{1}{h^{2}} & \\text{for}\\: \\left(x > h i \\vee x > h \\left(i - 1\\right)\\right) \\wedge \\left(x > h i \\vee x < h i\\right) \\wedge \\left(x > h \\left(i - 1\\right) \\vee x < h \\left(i + 1\\right)\\right) \\wedge \\left(x < h i \\vee x < h \\left(i + 1\\right)\\right) \\\\0 & \\text{otherwise} \\end{cases}$"
      ],
      "text/plain": [
       "⎧1                                                                            \n",
       "⎪──  for (x > h⋅i ∨ x > h⋅(i - 1)) ∧ (x > h⋅i ∨ x < h⋅i) ∧ (x > h⋅(i - 1) ∨ x \n",
       "⎪ 2                                                                           \n",
       "⎨h                                                                            \n",
       "⎪                                                                             \n",
       "⎪0                                                       otherwise            \n",
       "⎩                                                                             \n",
       "\n",
       "                                        \n",
       "< h⋅(i + 1)) ∧ (x < h⋅i ∨ x < h⋅(i + 1))\n",
       "                                        \n",
       "                                        \n",
       "                                        \n",
       "                                        \n",
       "                                        "
      ]
     },
     "execution_count": 410,
     "metadata": {},
     "output_type": "execute_result"
    }
   ],
   "source": [
    "sy_dbasis2 = sy_dbasis**2; sy_dbasis2"
   ]
  },
  {
   "cell_type": "code",
   "execution_count": 411,
   "id": "436dc167-1b7c-4b4b-bfd3-f8dc3c0b6e2b",
   "metadata": {},
   "outputs": [
    {
     "data": {
      "text/latex": [
       "$\\displaystyle \\begin{cases} \\frac{x}{h^{2}} & \\text{for}\\: \\left(x > h i \\vee x > h \\left(i - 1\\right)\\right) \\wedge \\left(x > h i \\vee x < h i\\right) \\wedge \\left(x > h \\left(i - 1\\right) \\vee x < h \\left(i + 1\\right)\\right) \\wedge \\left(x < h i \\vee x < h \\left(i + 1\\right)\\right) \\\\0 & \\text{otherwise} \\end{cases}$"
      ],
      "text/plain": [
       "⎧x                                                                            \n",
       "⎪──  for (x > h⋅i ∨ x > h⋅(i - 1)) ∧ (x > h⋅i ∨ x < h⋅i) ∧ (x > h⋅(i - 1) ∨ x \n",
       "⎪ 2                                                                           \n",
       "⎨h                                                                            \n",
       "⎪                                                                             \n",
       "⎪0                                                       otherwise            \n",
       "⎩                                                                             \n",
       "\n",
       "                                        \n",
       "< h⋅(i + 1)) ∧ (x < h⋅i ∨ x < h⋅(i + 1))\n",
       "                                        \n",
       "                                        \n",
       "                                        \n",
       "                                        \n",
       "                                        "
      ]
     },
     "execution_count": 411,
     "metadata": {},
     "output_type": "execute_result"
    }
   ],
   "source": [
    "sy_dbasis2.piecewise_integrate(x)"
   ]
  },
  {
   "cell_type": "markdown",
   "id": "307fbd88-f9be-4785-a41c-2b2ffd97c68a",
   "metadata": {},
   "source": [
    "### 1st element of the basis\n",
    "\n",
    "Consider $\\phi_j(x_i)$ with j = 1. Then the integer variable i = j. \\\n",
    "Elements $\\phi_0$ and $\\phi_n$ are to be defined indipendently from the others with i = 1, ... , n-1."
   ]
  },
  {
   "cell_type": "code",
   "execution_count": 412,
   "id": "c2536f08-8218-430d-977a-0c13bab98f74",
   "metadata": {},
   "outputs": [
    {
     "data": {
      "text/latex": [
       "$\\displaystyle \\begin{cases} \\frac{x}{h} & \\text{for}\\: h > x \\wedge x > 0 \\\\2 - \\frac{x}{h} & \\text{for}\\: h < x \\wedge x < 2 h \\\\0 & \\text{otherwise} \\end{cases}$"
      ],
      "text/plain": [
       "⎧  x                       \n",
       "⎪  ─     for h > x ∧ x > 0 \n",
       "⎪  h                       \n",
       "⎪                          \n",
       "⎨    x                     \n",
       "⎪2 - ─  for h < x ∧ x < 2⋅h\n",
       "⎪    h                     \n",
       "⎪                          \n",
       "⎩  0         otherwise     "
      ]
     },
     "execution_count": 412,
     "metadata": {},
     "output_type": "execute_result"
    }
   ],
   "source": [
    "# Take the general definition of the basis and substitute i = 1\n",
    "e1 = sy_basis.subs(i, 1); e1"
   ]
  },
  {
   "cell_type": "code",
   "execution_count": 413,
   "id": "0cc9cb65-6f58-4ad9-9359-c59394bdf515",
   "metadata": {},
   "outputs": [
    {
     "data": {
      "text/latex": [
       "$\\displaystyle \\begin{cases} \\frac{1}{h^{2}} & \\text{for}\\: \\left(h > x \\vee h < x\\right) \\wedge \\left(h > x \\vee x < 2 h\\right) \\wedge \\left(x > 0 \\vee h < x\\right) \\wedge \\left(x > 0 \\vee x < 2 h\\right) \\\\0 & \\text{otherwise} \\end{cases}$"
      ],
      "text/plain": [
       "⎧1                                                                            \n",
       "⎪──  for (h > x ∨ h < x) ∧ (h > x ∨ x < 2⋅h) ∧ (x > 0 ∨ h < x) ∧ (x > 0 ∨ x < \n",
       "⎪ 2                                                                           \n",
       "⎨h                                                                            \n",
       "⎪                                                                             \n",
       "⎪0                                     otherwise                              \n",
       "⎩                                                                             \n",
       "\n",
       "    \n",
       "2⋅h)\n",
       "    \n",
       "    \n",
       "    \n",
       "    \n",
       "    "
      ]
     },
     "execution_count": 413,
     "metadata": {},
     "output_type": "execute_result"
    }
   ],
   "source": [
    "de1_2 = sy_dbasis2.subs(i,1); de1_2"
   ]
  },
  {
   "cell_type": "code",
   "execution_count": 414,
   "id": "a7de2fb4-706b-41ba-89bd-e803c94eb292",
   "metadata": {},
   "outputs": [
    {
     "data": {
      "image/png": "[encoded data removed]",
      "text/latex": [
       "$\\displaystyle \\frac{2}{h}$"
      ],
      "text/plain": [
       "2\n",
       "─\n",
       "h"
      ]
     },
     "execution_count": 414,
     "metadata": {},
     "output_type": "execute_result"
    }
   ],
   "source": [
    "de1_2.integrate((x, 0, 2*h))"
   ]
  },
  {
   "cell_type": "markdown",
   "id": "0f5188e0-ff1d-4989-b8e6-309254a0c455",
   "metadata": {},
   "source": [
    "And this, my man, is the entry 11 of the stiffness matrix. Time to make this object-oriented and cycle over the indexes."
   ]
  },
  {
   "cell_type": "markdown",
   "id": "c1db87cb-c8df-4d22-88cd-3a33906a9c57",
   "metadata": {},
   "source": [
    "### Construction of the entries of the K matrix"
   ]
  },
  {
   "cell_type": "code",
   "execution_count": 415,
   "id": "45eb9f12-17cb-4af7-873b-b2abf2a2303e",
   "metadata": {},
   "outputs": [
    {
     "name": "stdout",
     "output_type": "stream",
     "text": [
      "2/h\n",
      "2/h\n",
      "2/h\n",
      "2/h\n",
      "2/h\n",
      "2/h\n",
      "2/h\n",
      "2/h\n",
      "2/h\n",
      "2/h\n"
     ]
    }
   ],
   "source": [
    "# Build the main diagonal first\n",
    "for n in [m+1 for m in range(10)]:\n",
    "    dummy = sy_dbasis2.subs(i,n).integrate((x, (n-1)*h, (n+1)*h))\n",
    "    print(dummy)"
   ]
  },
  {
   "cell_type": "code",
   "execution_count": 416,
   "id": "5a80d675-a054-4b7e-aaec-0b0e41080726",
   "metadata": {},
   "outputs": [
    {
     "data": {
      "text/latex": [
       "$\\displaystyle \\begin{cases} i + 1 - \\frac{x}{h} & \\text{for}\\: h > x \\wedge x > 0 \\\\0 & \\text{otherwise} \\end{cases}$"
      ],
      "text/plain": [
       "⎧        x                   \n",
       "⎪i + 1 - ─  for h > x ∧ x > 0\n",
       "⎨        h                   \n",
       "⎪                            \n",
       "⎩    0          otherwise    "
      ]
     },
     "execution_count": 416,
     "metadata": {},
     "output_type": "execute_result"
    }
   ],
   "source": [
    "e0 = Piecewise(\n",
    "    (-x/h+i+1, (x>0)&(x<h)),\n",
    "    (0, True),\n",
    "); e0"
   ]
  },
  {
   "cell_type": "markdown",
   "id": "799e46c0-4d0e-40f9-be8f-f90a57cda160",
   "metadata": {},
   "source": [
    "### Last try to see if I can implement some sort of inner product\n",
    "\n",
    "**Note: the following is just for trying and is not related to the computation of matrix K: in fact, it uses the elements of the basis and not their derivatives.**"
   ]
  },
  {
   "cell_type": "code",
   "execution_count": 417,
   "id": "d9c4d298-4689-4fa4-a938-6ab1ea925f1e",
   "metadata": {},
   "outputs": [
    {
     "data": {
      "text/latex": [
       "$\\displaystyle \\begin{cases} -1 + \\frac{x}{h} & \\text{for}\\: h < x \\wedge x < 2 h \\\\3 - \\frac{x}{h} & \\text{for}\\: x > 2 h \\wedge x < 3 h \\\\0 & \\text{otherwise} \\end{cases}$"
      ],
      "text/plain": [
       "⎧     x                       \n",
       "⎪-1 + ─   for h < x ∧ x < 2⋅h \n",
       "⎪     h                       \n",
       "⎪                             \n",
       "⎨    x                        \n",
       "⎪3 - ─   for x > 2⋅h ∧ x < 3⋅h\n",
       "⎪    h                        \n",
       "⎪                             \n",
       "⎩  0           otherwise      "
      ]
     },
     "execution_count": 417,
     "metadata": {},
     "output_type": "execute_result"
    }
   ],
   "source": [
    "# Build the second element of the basis\n",
    "e2 = sy_basis.subs(i, 2); e2"
   ]
  },
  {
   "cell_type": "markdown",
   "id": "ebf7c86f-5e5a-405b-beba-c1942af1ccc9",
   "metadata": {},
   "source": [
    "**WARNING** \\ The result below is by no means correct: this may be due to the order of the "
   ]
  },
  {
   "cell_type": "code",
   "execution_count": 418,
   "id": "fd2ffb4a-a497-484e-8c84-691e5c38d1ef",
   "metadata": {},
   "outputs": [
    {
     "data": {
      "text/latex": [
       "$\\displaystyle \\left(\\begin{cases} \\frac{x}{h} & \\text{for}\\: h > x \\wedge x > 0 \\\\2.0 - \\frac{x}{h} & \\text{for}\\: h < x \\wedge x < 2 h \\\\0 & \\text{otherwise} \\end{cases}\\right) \\left(\\begin{cases} -1.0 + \\frac{x}{h} & \\text{for}\\: h < x \\wedge x < 2 h \\\\3.0 - \\frac{x}{h} & \\text{for}\\: x > 2 h \\wedge x < 3 h \\\\0 & \\text{otherwise} \\end{cases}\\right)$"
      ],
      "text/plain": [
       "⎛⎧   x                        ⎞ ⎛⎧       x                       ⎞\n",
       "⎜⎪   ─      for h > x ∧ x > 0 ⎟ ⎜⎪-1.0 + ─   for h < x ∧ x < 2⋅h ⎟\n",
       "⎜⎪   h                        ⎟ ⎜⎪       h                       ⎟\n",
       "⎜⎪                            ⎟ ⎜⎪                               ⎟\n",
       "⎜⎨      x                     ⎟⋅⎜⎨      x                        ⎟\n",
       "⎜⎪2.0 - ─  for h < x ∧ x < 2⋅h⎟ ⎜⎪3.0 - ─   for x > 2⋅h ∧ x < 3⋅h⎟\n",
       "⎜⎪      h                     ⎟ ⎜⎪      h                        ⎟\n",
       "⎜⎪                            ⎟ ⎜⎪                               ⎟\n",
       "⎝⎩   0          otherwise     ⎠ ⎝⎩   0            otherwise      ⎠"
      ]
     },
     "execution_count": 418,
     "metadata": {},
     "output_type": "execute_result"
    }
   ],
   "source": [
    "# Compute the product of e1 and e2\n",
    "e1e2 = e1*e2; e1e2\n",
    "e1e2.evalf()"
   ]
  },
  {
   "cell_type": "code",
   "execution_count": 419,
   "id": "9e6d05cc-79ec-4e60-b294-0511f293236b",
   "metadata": {},
   "outputs": [
    {
     "data": {
      "image/png": "[encoded data removed]",
      "text/latex": [
       "$\\displaystyle \\frac{h}{6}$"
      ],
      "text/plain": [
       "h\n",
       "─\n",
       "6"
      ]
     },
     "execution_count": 419,
     "metadata": {},
     "output_type": "execute_result"
    }
   ],
   "source": [
    "integrate(e1*e2, (x, 0, 2*h))"
   ]
  },
  {
   "cell_type": "code",
   "execution_count": 420,
   "id": "4d1516d8-f946-4e87-b9a4-7a5dcb27122b",
   "metadata": {},
   "outputs": [
    {
     "data": {
      "text/plain": [
       "sympy.core.mul.Mul"
      ]
     },
     "execution_count": 420,
     "metadata": {},
     "output_type": "execute_result"
    }
   ],
   "source": [
    "type(e1e2)"
   ]
  },
  {
   "cell_type": "raw",
   "id": "216508d7-379b-49c1-b909-810c0f3bc696",
   "metadata": {},
   "source": [
    "e1e2.subs(h, 1).doit().integrate((x, 0, 2))"
   ]
  },
  {
   "cell_type": "markdown",
   "id": "b0b49b72-1d4d-4235-8d7f-479355de1696",
   "metadata": {},
   "source": [
    "## B-spline tries"
   ]
  },
  {
   "cell_type": "code",
   "execution_count": 421,
   "id": "a9c08f40-89c6-4599-aec3-603812910d3d",
   "metadata": {},
   "outputs": [
    {
     "data": {
      "image/png": "[encoded data removed]",
      "text/latex": [
       "$\\displaystyle 10$"
      ],
      "text/plain": [
       "10"
      ]
     },
     "execution_count": 421,
     "metadata": {},
     "output_type": "execute_result"
    }
   ],
   "source": [
    "d = 1 # degree pf the B-splines\n",
    "knots = tuple(range(10)); len(knots)"
   ]
  },
  {
   "cell_type": "code",
   "execution_count": 422,
   "id": "9fa9ee98-0953-4854-8f78-bfec7a00d568",
   "metadata": {},
   "outputs": [
    {
     "data": {
      "text/latex": [
       "$\\displaystyle \\begin{cases} x - 7 & \\text{for}\\: x \\geq 7 \\wedge x \\leq 8 \\\\9 - x & \\text{for}\\: x \\geq 8 \\wedge x \\leq 9 \\\\0 & \\text{otherwise} \\end{cases}$"
      ],
      "text/plain": [
       "⎧x - 7  for x ≥ 7 ∧ x ≤ 8\n",
       "⎪                        \n",
       "⎨9 - x  for x ≥ 8 ∧ x ≤ 9\n",
       "⎪                        \n",
       "⎩  0        otherwise    "
      ]
     },
     "execution_count": 422,
     "metadata": {},
     "output_type": "execute_result"
    }
   ],
   "source": [
    "bspline_basis(d, knots, 7, x)"
   ]
  },
  {
   "cell_type": "markdown",
   "id": "cd1be18b-e236-46be-acfe-16004819ca36",
   "metadata": {},
   "source": [
    "## Implementing matrix representation of piecewise linear polynomials basis\n",
    "\n",
    "Consider a uniformly spaced grid on the x axis, with n+1 nodes $x_i$, such that $x_0 = 0$ and $x_n = l$. Then consider the piecewise polynomials: every element $\\phi_j$ takes some value in every interval, and this value can be viewed as the entry of a vector of n components. \\\n",
    "Ex. $\\phi_0 = [-\\frac{x}{h}+1, 0, 0, ..., 0]$ \\\n",
    "We can build a matrix whose rows are the vectors that represent the piecewise polynomials in the form that we have showed. With this convention, we have n+1 rows that represent the piecewise polynomials, and n columns, one for every interval."
   ]
  },
  {
   "cell_type": "code",
   "execution_count": 423,
   "id": "a825e026-54fd-48d4-b1c3-3e98835005a9",
   "metadata": {},
   "outputs": [
    {
     "data": {
      "text/latex": [
       "$\\displaystyle \\begin{cases} - i + 1 + \\frac{x}{h} & \\text{for}\\: x > h \\left(i - 1\\right) \\wedge x < h i \\\\i + 1 - \\frac{x}{h} & \\text{for}\\: x > h i \\wedge x < h \\left(i + 1\\right) \\\\0 & \\text{otherwise} \\end{cases}$"
      ],
      "text/plain": [
       "⎧         x                             \n",
       "⎪-i + 1 + ─  for x > h⋅(i - 1) ∧ x < h⋅i\n",
       "⎪         h                             \n",
       "⎪                                       \n",
       "⎨        x                              \n",
       "⎪i + 1 - ─   for x > h⋅i ∧ x < h⋅(i + 1)\n",
       "⎪        h                              \n",
       "⎪                                       \n",
       "⎩    0                otherwise         "
      ]
     },
     "execution_count": 423,
     "metadata": {},
     "output_type": "execute_result"
    }
   ],
   "source": [
    "sy_basis"
   ]
  },
  {
   "cell_type": "code",
   "execution_count": 424,
   "id": "e4d48d97-a8ce-43e7-a8f2-fc151585eb65",
   "metadata": {},
   "outputs": [
    {
     "data": {
      "image/png": "[encoded data removed]",
      "text/latex": [
       "$\\displaystyle i + 1 - \\frac{x}{h}$"
      ],
      "text/plain": [
       "        x\n",
       "i + 1 - ─\n",
       "        h"
      ]
     },
     "execution_count": 424,
     "metadata": {},
     "output_type": "execute_result"
    }
   ],
   "source": [
    "# The first (and only) element of the e0 component\n",
    "# From now on, the elements of the basis are called eX, with X their index,\n",
    "# eXY are the entries of the matrix built with the vectors eX,\n",
    "# deXY are the elements of the matrix of the derivatives,\n",
    "# eXeY are the elements of the matrix that has the scalar products as components\n",
    "\n",
    "# e00 = sy_basis.args[1][0]; e00 # this assignment leads to incompatibility\n",
    "                                    # with other expressions and simplification\n",
    "e00 = -x/h + i + S.One; e00"
   ]
  },
  {
   "cell_type": "code",
   "execution_count": 425,
   "id": "ef8a79e0-edef-46c3-b2d1-d9bd37fb9146",
   "metadata": {},
   "outputs": [
    {
     "data": {
      "image/png": "[encoded data removed]",
      "text/latex": [
       "$\\displaystyle - i + 1 + \\frac{x}{h}$"
      ],
      "text/plain": [
       "         x\n",
       "-i + 1 + ─\n",
       "         h"
      ]
     },
     "execution_count": 425,
     "metadata": {},
     "output_type": "execute_result"
    }
   ],
   "source": [
    "# enn = sy_basis.args[0][0]; enn\n",
    "enn = x/h - i + S.One; enn"
   ]
  },
  {
   "cell_type": "code",
   "execution_count": 426,
   "id": "592ae153-2c0f-4727-b5de-3412e4fa4ef8",
   "metadata": {},
   "outputs": [],
   "source": [
    "# Fix number of intervals\n",
    "n = 10"
   ]
  },
  {
   "cell_type": "raw",
   "id": "6f968aa9-c2b0-4bdf-abd3-f63988f8da59",
   "metadata": {},
   "source": [
    "# Fix l,h\n",
    "h = l/n; print(\"h =\", h)"
   ]
  },
  {
   "cell_type": "raw",
   "id": "ddcd5cca-3efe-4226-b628-bce1269fe101",
   "metadata": {},
   "source": [
    "# Check if np.array->sympy.Matrix is possible\n",
    "Matrix(np.ones(5))"
   ]
  },
  {
   "cell_type": "code",
   "execution_count": 427,
   "id": "5e8b4bb7-7991-4899-bacf-fb4550666819",
   "metadata": {},
   "outputs": [
    {
     "data": {
      "text/plain": [
       "array([1.0*i + 1.0 - 1.0*x/h, 1.0*i + 1.0 - 1.0*x/h,\n",
       "       1.0*i + 1.0 - 1.0*x/h, 1.0*i + 1.0 - 1.0*x/h,\n",
       "       1.0*i + 1.0 - 1.0*x/h, 1.0*i + 1.0 - 1.0*x/h,\n",
       "       1.0*i + 1.0 - 1.0*x/h, 1.0*i + 1.0 - 1.0*x/h,\n",
       "       1.0*i + 1.0 - 1.0*x/h, 1.0*i + 1.0 - 1.0*x/h,\n",
       "       1.0*i + 1.0 - 1.0*x/h], dtype=object)"
      ]
     },
     "execution_count": 427,
     "metadata": {},
     "output_type": "execute_result"
    }
   ],
   "source": [
    "# Build the matrix from scratch: it is a rectangular matrix.\n",
    "# The matrix can be viewed as a square matrix with \"descending\" values\n",
    "# (negative derivative) on the main diagonal, and a single off-diag\n",
    "# with \"ascending\" values, below the main diagonal. Then we add the\n",
    "# n+1 row that only contains the \n",
    "\n",
    "eii = np.ones(n+1)*e00; eii"
   ]
  },
  {
   "cell_type": "code",
   "execution_count": 428,
   "id": "a21b2066-6c18-410b-9194-402e6bd09516",
   "metadata": {},
   "outputs": [
    {
     "data": {
      "text/plain": [
       "array([-1.0*i + 1.0 + 1.0*x/h, -1.0*i + 1.0 + 1.0*x/h,\n",
       "       -1.0*i + 1.0 + 1.0*x/h, -1.0*i + 1.0 + 1.0*x/h,\n",
       "       -1.0*i + 1.0 + 1.0*x/h, -1.0*i + 1.0 + 1.0*x/h,\n",
       "       -1.0*i + 1.0 + 1.0*x/h, -1.0*i + 1.0 + 1.0*x/h,\n",
       "       -1.0*i + 1.0 + 1.0*x/h, -1.0*i + 1.0 + 1.0*x/h], dtype=object)"
      ]
     },
     "execution_count": 428,
     "metadata": {},
     "output_type": "execute_result"
    }
   ],
   "source": [
    "eii_1 = np.ones(n)*enn; eii_1"
   ]
  },
  {
   "cell_type": "code",
   "execution_count": 429,
   "id": "1f48f8d5-e724-4b30-957f-0871531b0efb",
   "metadata": {},
   "outputs": [
    {
     "data": {
      "image/png": "[encoded data removed]",
      "text/latex": [
       "$\\displaystyle \\left( 10, \\  10\\right)$"
      ],
      "text/plain": [
       "(10, 10)"
      ]
     },
     "execution_count": 429,
     "metadata": {},
     "output_type": "execute_result"
    }
   ],
   "source": [
    "shape(np.diag(eii_1))"
   ]
  },
  {
   "cell_type": "code",
   "execution_count": 430,
   "id": "a4599d6c-6b1c-4370-9699-568c3f7da946",
   "metadata": {},
   "outputs": [
    {
     "data": {
      "image/png": "[encoded data removed]",
      "text/latex": [
       "$\\displaystyle \\left( 11, \\  11\\right)$"
      ],
      "text/plain": [
       "(11, 11)"
      ]
     },
     "execution_count": 430,
     "metadata": {},
     "output_type": "execute_result"
    }
   ],
   "source": [
    "shape(np.diag(eii))"
   ]
  },
  {
   "cell_type": "raw",
   "id": "3efbe245-3b0b-4dda-b6de-c6a462dfa9c8",
   "metadata": {},
   "source": [
    "np.diag(eii)+np.diag(eii_1)"
   ]
  },
  {
   "cell_type": "code",
   "execution_count": 431,
   "id": "b0ecc548-10ce-42c6-878e-2b8ddb6f4223",
   "metadata": {},
   "outputs": [
    {
     "data": {
      "text/latex": [
       "$\\displaystyle \\left[\\begin{array}{ccccccccccc}1.0 i + 1.0 - \\frac{1.0 x}{h} & 0 & 0 & 0 & 0 & 0 & 0 & 0 & 0 & 0 & 0\\\\- 1.0 i + 1.0 + \\frac{1.0 x}{h} & 1.0 i + 1.0 - \\frac{1.0 x}{h} & 0 & 0 & 0 & 0 & 0 & 0 & 0 & 0 & 0\\\\0 & - 1.0 i + 1.0 + \\frac{1.0 x}{h} & 1.0 i + 1.0 - \\frac{1.0 x}{h} & 0 & 0 & 0 & 0 & 0 & 0 & 0 & 0\\\\0 & 0 & - 1.0 i + 1.0 + \\frac{1.0 x}{h} & 1.0 i + 1.0 - \\frac{1.0 x}{h} & 0 & 0 & 0 & 0 & 0 & 0 & 0\\\\0 & 0 & 0 & - 1.0 i + 1.0 + \\frac{1.0 x}{h} & 1.0 i + 1.0 - \\frac{1.0 x}{h} & 0 & 0 & 0 & 0 & 0 & 0\\\\0 & 0 & 0 & 0 & - 1.0 i + 1.0 + \\frac{1.0 x}{h} & 1.0 i + 1.0 - \\frac{1.0 x}{h} & 0 & 0 & 0 & 0 & 0\\\\0 & 0 & 0 & 0 & 0 & - 1.0 i + 1.0 + \\frac{1.0 x}{h} & 1.0 i + 1.0 - \\frac{1.0 x}{h} & 0 & 0 & 0 & 0\\\\0 & 0 & 0 & 0 & 0 & 0 & - 1.0 i + 1.0 + \\frac{1.0 x}{h} & 1.0 i + 1.0 - \\frac{1.0 x}{h} & 0 & 0 & 0\\\\0 & 0 & 0 & 0 & 0 & 0 & 0 & - 1.0 i + 1.0 + \\frac{1.0 x}{h} & 1.0 i + 1.0 - \\frac{1.0 x}{h} & 0 & 0\\\\0 & 0 & 0 & 0 & 0 & 0 & 0 & 0 & - 1.0 i + 1.0 + \\frac{1.0 x}{h} & 1.0 i + 1.0 - \\frac{1.0 x}{h} & 0\\\\0 & 0 & 0 & 0 & 0 & 0 & 0 & 0 & 0 & - 1.0 i + 1.0 + \\frac{1.0 x}{h} & 1.0 i + 1.0 - \\frac{1.0 x}{h}\\end{array}\\right]$"
      ],
      "text/plain": [
       "⎡              x                                                              \n",
       "⎢1.0⋅i + 1.0 - ─          0                 0                 0               \n",
       "⎢              h                                                              \n",
       "⎢                                                                             \n",
       "⎢           1.0⋅x                x                                            \n",
       "⎢-i + 1.0 + ─────  1.0⋅i + 1.0 - ─          0                 0               \n",
       "⎢             h                  h                                            \n",
       "⎢                                                                             \n",
       "⎢                             1.0⋅x                x                          \n",
       "⎢       0          -i + 1.0 + ─────  1.0⋅i + 1.0 - ─          0               \n",
       "⎢                               h                  h                          \n",
       "⎢                                                                             \n",
       "⎢                                               1.0⋅x                x        \n",
       "⎢       0                 0          -i + 1.0 + ─────  1.0⋅i + 1.0 - ─        \n",
       "⎢                                                 h                  h        \n",
       "⎢                                                                             \n",
       "⎢                                                                 1.0⋅x       \n",
       "⎢       0                 0                 0          -i + 1.0 + ─────  1.0⋅i\n",
       "⎢                                                                   h         \n",
       "⎢                                                                             \n",
       "⎢                                                                             \n",
       "⎢       0                 0                 0                 0          -i + \n",
       "⎢                                                                             \n",
       "⎢                                                                             \n",
       "⎢                                                                             \n",
       "⎢       0                 0                 0                 0               \n",
       "⎢                                                                             \n",
       "⎢                                                                             \n",
       "⎢                                                                             \n",
       "⎢       0                 0                 0                 0               \n",
       "⎢                                                                             \n",
       "⎢                                                                             \n",
       "⎢                                                                             \n",
       "⎢       0                 0                 0                 0               \n",
       "⎢                                                                             \n",
       "⎢                                                                             \n",
       "⎢                                                                             \n",
       "⎢       0                 0                 0                 0               \n",
       "⎢                                                                             \n",
       "⎢                                                                             \n",
       "⎢                                                                             \n",
       "⎢       0                 0                 0                 0               \n",
       "⎣                                                                             \n",
       "\n",
       "                                                                              \n",
       "  0                 0                 0                 0                 0   \n",
       "                                                                              \n",
       "                                                                              \n",
       "                                                                              \n",
       "  0                 0                 0                 0                 0   \n",
       "                                                                              \n",
       "                                                                              \n",
       "                                                                              \n",
       "  0                 0                 0                 0                 0   \n",
       "                                                                              \n",
       "                                                                              \n",
       "                                                                              \n",
       "  0                 0                 0                 0                 0   \n",
       "                                                                              \n",
       "                                                                              \n",
       "         x                                                                    \n",
       " + 1.0 - ─          0                 0                 0                 0   \n",
       "         h                                                                    \n",
       "                                                                              \n",
       "      1.0⋅x                x                                                  \n",
       "1.0 + ─────  1.0⋅i + 1.0 - ─          0                 0                 0   \n",
       "        h                  h                                                  \n",
       "                                                                              \n",
       "                        1.0⋅x                x                                \n",
       "  0          -i + 1.0 + ─────  1.0⋅i + 1.0 - ─          0                 0   \n",
       "                          h                  h                                \n",
       "                                                                              \n",
       "                                          1.0⋅x                x              \n",
       "  0                 0          -i + 1.0 + ─────  1.0⋅i + 1.0 - ─          0   \n",
       "                                            h                  h              \n",
       "                                                                              \n",
       "                                                            1.0⋅x             \n",
       "  0                 0                 0          -i + 1.0 + ─────  1.0⋅i + 1.0\n",
       "                                                              h               \n",
       "                                                                              \n",
       "                                                                              \n",
       "  0                 0                 0                 0          -i + 1.0 + \n",
       "                                                                              \n",
       "                                                                              \n",
       "                                                                              \n",
       "  0                 0                 0                 0                 0   \n",
       "                                                                              \n",
       "\n",
       "                                        ⎤\n",
       "              0                 0       ⎥\n",
       "                                        ⎥\n",
       "                                        ⎥\n",
       "                                        ⎥\n",
       "              0                 0       ⎥\n",
       "                                        ⎥\n",
       "                                        ⎥\n",
       "                                        ⎥\n",
       "              0                 0       ⎥\n",
       "                                        ⎥\n",
       "                                        ⎥\n",
       "                                        ⎥\n",
       "              0                 0       ⎥\n",
       "                                        ⎥\n",
       "                                        ⎥\n",
       "                                        ⎥\n",
       "              0                 0       ⎥\n",
       "                                        ⎥\n",
       "                                        ⎥\n",
       "                                        ⎥\n",
       "              0                 0       ⎥\n",
       "                                        ⎥\n",
       "                                        ⎥\n",
       "                                        ⎥\n",
       "              0                 0       ⎥\n",
       "                                        ⎥\n",
       "                                        ⎥\n",
       "                                        ⎥\n",
       "              0                 0       ⎥\n",
       "                                        ⎥\n",
       "                                        ⎥\n",
       "   x                                    ⎥\n",
       " - ─          0                 0       ⎥\n",
       "   h                                    ⎥\n",
       "                                        ⎥\n",
       "1.0⋅x                x                  ⎥\n",
       "─────  1.0⋅i + 1.0 - ─          0       ⎥\n",
       "  h                  h                  ⎥\n",
       "                                        ⎥\n",
       "                  1.0⋅x                x⎥\n",
       "       -i + 1.0 + ─────  1.0⋅i + 1.0 - ─⎥\n",
       "                    h                  h⎦"
      ]
     },
     "execution_count": 431,
     "metadata": {},
     "output_type": "execute_result"
    }
   ],
   "source": [
    "# This is ok but from here I cannot access the entries\n",
    "\n",
    "e = Matrix(np.diag(eii) + np.diag(eii_1, -1)); e"
   ]
  },
  {
   "cell_type": "code",
   "execution_count": 432,
   "id": "1435c791-2816-4c75-819e-34ef2e8b8f0c",
   "metadata": {},
   "outputs": [
    {
     "data": {
      "text/plain": [
       "array([[1.0*i + 1.0 - 1.0*x/h, 0, 0, 0, 0, 0, 0, 0, 0, 0, 0],\n",
       "       [-1.0*i + 1.0 + 1.0*x/h, 1.0*i + 1.0 - 1.0*x/h, 0, 0, 0, 0, 0, 0,\n",
       "        0, 0, 0],\n",
       "       [0, -1.0*i + 1.0 + 1.0*x/h, 1.0*i + 1.0 - 1.0*x/h, 0, 0, 0, 0, 0,\n",
       "        0, 0, 0],\n",
       "       [0, 0, -1.0*i + 1.0 + 1.0*x/h, 1.0*i + 1.0 - 1.0*x/h, 0, 0, 0, 0,\n",
       "        0, 0, 0],\n",
       "       [0, 0, 0, -1.0*i + 1.0 + 1.0*x/h, 1.0*i + 1.0 - 1.0*x/h, 0, 0, 0,\n",
       "        0, 0, 0],\n",
       "       [0, 0, 0, 0, -1.0*i + 1.0 + 1.0*x/h, 1.0*i + 1.0 - 1.0*x/h, 0, 0,\n",
       "        0, 0, 0],\n",
       "       [0, 0, 0, 0, 0, -1.0*i + 1.0 + 1.0*x/h, 1.0*i + 1.0 - 1.0*x/h, 0,\n",
       "        0, 0, 0],\n",
       "       [0, 0, 0, 0, 0, 0, -1.0*i + 1.0 + 1.0*x/h, 1.0*i + 1.0 - 1.0*x/h,\n",
       "        0, 0, 0],\n",
       "       [0, 0, 0, 0, 0, 0, 0, -1.0*i + 1.0 + 1.0*x/h,\n",
       "        1.0*i + 1.0 - 1.0*x/h, 0, 0],\n",
       "       [0, 0, 0, 0, 0, 0, 0, 0, -1.0*i + 1.0 + 1.0*x/h,\n",
       "        1.0*i + 1.0 - 1.0*x/h, 0],\n",
       "       [0, 0, 0, 0, 0, 0, 0, 0, 0, -1.0*i + 1.0 + 1.0*x/h,\n",
       "        1.0*i + 1.0 - 1.0*x/h]], dtype=object)"
      ]
     },
     "execution_count": 432,
     "metadata": {},
     "output_type": "execute_result"
    }
   ],
   "source": [
    "m = np.diag(eii_1, -1) + np.diag(eii); m"
   ]
  },
  {
   "cell_type": "code",
   "execution_count": 433,
   "id": "c7b971f8-ca60-4c98-912e-7c15131c9647",
   "metadata": {},
   "outputs": [],
   "source": [
    "e = zeros(n+1, n); e;"
   ]
  },
  {
   "cell_type": "raw",
   "id": "b8b39a35-3b2d-48c0-975c-bc0c20e65148",
   "metadata": {},
   "source": [
    "# Accessing rows and columns in sympy is a little bit more\n",
    "# complicated than in numpy\n",
    "\n",
    "e.row(0).col(0)=1; e"
   ]
  },
  {
   "cell_type": "code",
   "execution_count": 434,
   "id": "fe457da6-ed5a-4a9a-a392-1455b179479f",
   "metadata": {},
   "outputs": [
    {
     "data": {
      "text/plain": [
       "<function _lambdifygenerated(x, h, i)>"
      ]
     },
     "execution_count": 434,
     "metadata": {},
     "output_type": "execute_result"
    }
   ],
   "source": [
    "lambdify(args=[x,h,i], expr=e00, modules=[\"numpy\"])"
   ]
  },
  {
   "cell_type": "code",
   "execution_count": 435,
   "id": "39a2c251-5b89-4f87-8aca-4df78911cbce",
   "metadata": {},
   "outputs": [],
   "source": [
    "i = Symbol(\"i\", integer=True)"
   ]
  },
  {
   "cell_type": "raw",
   "id": "1e32e7b3-6b77-4615-95c6-826ea8fd5187",
   "metadata": {},
   "source": [
    "n = 10\n",
    "\n",
    "# We build the matrix of the elements starting from a list of lists:\n",
    "# each sublist is filled with conditional statements with the\n",
    "# sympy objects e00 and enn that represent the values of the pp basis'\n",
    "# elements in a given interval (represented by index j). The index i\n",
    "# loops on the pp basis (from 0 to n) and is substituted in the expr\n",
    "# e00 and enn. What we obtain is a pure sympy.Matrix object.\n",
    "\n",
    "elist = []\n",
    "for a in range(n+1):\n",
    "    lista = [0 for b in range(n)]\n",
    "    for b in range(n):\n",
    "        if (a!=0)&(b==a-1): lista[b]=enn.subs(i, b)\n",
    "        elif a==b: lista[b]=e00.subs(i, b)\n",
    "        else: lista[b]=0\n",
    "    elist.append(lista)\n",
    "e = Matrix(elist); e"
   ]
  },
  {
   "cell_type": "code",
   "execution_count": 436,
   "id": "9549b285-b883-4f9f-9b64-b3276eacfc4f",
   "metadata": {},
   "outputs": [
    {
     "data": {
      "text/latex": [
       "$\\displaystyle \\left[\\begin{matrix}1 - \\frac{x}{h} & 0 & 0 & 0 & 0 & 0 & 0 & 0 & 0 & 0\\\\\\frac{x}{h} & 2 - \\frac{x}{h} & 0 & 0 & 0 & 0 & 0 & 0 & 0 & 0\\\\0 & -1 + \\frac{x}{h} & 3 - \\frac{x}{h} & 0 & 0 & 0 & 0 & 0 & 0 & 0\\\\0 & 0 & -2 + \\frac{x}{h} & 4 - \\frac{x}{h} & 0 & 0 & 0 & 0 & 0 & 0\\\\0 & 0 & 0 & -3 + \\frac{x}{h} & 5 - \\frac{x}{h} & 0 & 0 & 0 & 0 & 0\\\\0 & 0 & 0 & 0 & -4 + \\frac{x}{h} & 6 - \\frac{x}{h} & 0 & 0 & 0 & 0\\\\0 & 0 & 0 & 0 & 0 & -5 + \\frac{x}{h} & 7 - \\frac{x}{h} & 0 & 0 & 0\\\\0 & 0 & 0 & 0 & 0 & 0 & -6 + \\frac{x}{h} & 8 - \\frac{x}{h} & 0 & 0\\\\0 & 0 & 0 & 0 & 0 & 0 & 0 & -7 + \\frac{x}{h} & 9 - \\frac{x}{h} & 0\\\\0 & 0 & 0 & 0 & 0 & 0 & 0 & 0 & -8 + \\frac{x}{h} & 10 - \\frac{x}{h}\\\\0 & 0 & 0 & 0 & 0 & 0 & 0 & 0 & 0 & -9 + \\frac{x}{h}\\end{matrix}\\right]$"
      ],
      "text/plain": [
       "⎡    x                                                                        \n",
       "⎢1 - ─    0       0       0       0       0       0       0       0       0   \n",
       "⎢    h                                                                        \n",
       "⎢                                                                             \n",
       "⎢  x        x                                                                 \n",
       "⎢  ─    2 - ─     0       0       0       0       0       0       0       0   \n",
       "⎢  h        h                                                                 \n",
       "⎢                                                                             \n",
       "⎢            x      x                                                         \n",
       "⎢  0    -1 + ─  3 - ─     0       0       0       0       0       0       0   \n",
       "⎢            h      h                                                         \n",
       "⎢                                                                             \n",
       "⎢                    x      x                                                 \n",
       "⎢  0      0     -2 + ─  4 - ─     0       0       0       0       0       0   \n",
       "⎢                    h      h                                                 \n",
       "⎢                                                                             \n",
       "⎢                            x      x                                         \n",
       "⎢  0      0       0     -3 + ─  5 - ─     0       0       0       0       0   \n",
       "⎢                            h      h                                         \n",
       "⎢                                                                             \n",
       "⎢                                    x      x                                 \n",
       "⎢  0      0       0       0     -4 + ─  6 - ─     0       0       0       0   \n",
       "⎢                                    h      h                                 \n",
       "⎢                                                                             \n",
       "⎢                                            x      x                         \n",
       "⎢  0      0       0       0       0     -5 + ─  7 - ─     0       0       0   \n",
       "⎢                                            h      h                         \n",
       "⎢                                                                             \n",
       "⎢                                                    x      x                 \n",
       "⎢  0      0       0       0       0       0     -6 + ─  8 - ─     0       0   \n",
       "⎢                                                    h      h                 \n",
       "⎢                                                                             \n",
       "⎢                                                            x      x         \n",
       "⎢  0      0       0       0       0       0       0     -7 + ─  9 - ─     0   \n",
       "⎢                                                            h      h         \n",
       "⎢                                                                             \n",
       "⎢                                                                    x       x\n",
       "⎢  0      0       0       0       0       0       0       0     -8 + ─  10 - ─\n",
       "⎢                                                                    h       h\n",
       "⎢                                                                             \n",
       "⎢                                                                            x\n",
       "⎢  0      0       0       0       0       0       0       0       0     -9 + ─\n",
       "⎣                                                                            h\n",
       "\n",
       "⎤\n",
       "⎥\n",
       "⎥\n",
       "⎥\n",
       "⎥\n",
       "⎥\n",
       "⎥\n",
       "⎥\n",
       "⎥\n",
       "⎥\n",
       "⎥\n",
       "⎥\n",
       "⎥\n",
       "⎥\n",
       "⎥\n",
       "⎥\n",
       "⎥\n",
       "⎥\n",
       "⎥\n",
       "⎥\n",
       "⎥\n",
       "⎥\n",
       "⎥\n",
       "⎥\n",
       "⎥\n",
       "⎥\n",
       "⎥\n",
       "⎥\n",
       "⎥\n",
       "⎥\n",
       "⎥\n",
       "⎥\n",
       "⎥\n",
       "⎥\n",
       "⎥\n",
       "⎥\n",
       "⎥\n",
       "⎥\n",
       "⎥\n",
       "⎥\n",
       "⎥\n",
       "⎥\n",
       "⎦"
      ]
     },
     "execution_count": 436,
     "metadata": {},
     "output_type": "execute_result"
    }
   ],
   "source": [
    "n = 10\n",
    "\n",
    "# We build the matrix of the elements starting from a list of lists:\n",
    "# each sublist is filled with conditional statements with the\n",
    "# sympy objects e00 and enn that represent the values of the pp basis'\n",
    "# elements in a given interval (represented by index j). The index i\n",
    "# loops on the pp basis (from 0 to n) and is substituted in the expr\n",
    "# e00 and enn. What we obtain is a pure sympy.Matrix object.\n",
    "\n",
    "elist = []\n",
    "for a in range(n+1):\n",
    "    lista = [0 for b in range(n)]\n",
    "    for b in range(n):\n",
    "        if (a!=0)&(b==a-1): lista[b]=enn.subs(i, a)\n",
    "        elif a==b: lista[b]=e00.subs(i, a)\n",
    "        else: lista[b]=0\n",
    "    elist.append(lista)\n",
    "e = Matrix(elist); e"
   ]
  },
  {
   "cell_type": "code",
   "execution_count": 437,
   "id": "068fa02b-79ec-4521-ab0e-79c88f143cd9",
   "metadata": {},
   "outputs": [
    {
     "data": {
      "image/png": "[encoded data removed]",
      "text/latex": [
       "$\\displaystyle - \\frac{1}{h}$"
      ],
      "text/plain": [
       "-1 \n",
       "───\n",
       " h "
      ]
     },
     "execution_count": 437,
     "metadata": {},
     "output_type": "execute_result"
    }
   ],
   "source": [
    "e00.diff(x)"
   ]
  },
  {
   "cell_type": "code",
   "execution_count": 438,
   "id": "03562abe-492f-46e3-b625-618f74accb79",
   "metadata": {},
   "outputs": [
    {
     "data": {
      "text/latex": [
       "$\\displaystyle \\left[\\begin{matrix}- \\frac{1}{h} & 0 & 0 & 0 & 0 & 0 & 0 & 0 & 0 & 0\\\\\\frac{1}{h} & - \\frac{1}{h} & 0 & 0 & 0 & 0 & 0 & 0 & 0 & 0\\\\0 & \\frac{1}{h} & - \\frac{1}{h} & 0 & 0 & 0 & 0 & 0 & 0 & 0\\\\0 & 0 & \\frac{1}{h} & - \\frac{1}{h} & 0 & 0 & 0 & 0 & 0 & 0\\\\0 & 0 & 0 & \\frac{1}{h} & - \\frac{1}{h} & 0 & 0 & 0 & 0 & 0\\\\0 & 0 & 0 & 0 & \\frac{1}{h} & - \\frac{1}{h} & 0 & 0 & 0 & 0\\\\0 & 0 & 0 & 0 & 0 & \\frac{1}{h} & - \\frac{1}{h} & 0 & 0 & 0\\\\0 & 0 & 0 & 0 & 0 & 0 & \\frac{1}{h} & - \\frac{1}{h} & 0 & 0\\\\0 & 0 & 0 & 0 & 0 & 0 & 0 & \\frac{1}{h} & - \\frac{1}{h} & 0\\\\0 & 0 & 0 & 0 & 0 & 0 & 0 & 0 & \\frac{1}{h} & - \\frac{1}{h}\\\\0 & 0 & 0 & 0 & 0 & 0 & 0 & 0 & 0 & \\frac{1}{h}\\end{matrix}\\right]$"
      ],
      "text/plain": [
       "⎡-1                                              ⎤\n",
       "⎢───   0    0    0    0    0    0    0    0    0 ⎥\n",
       "⎢ h                                              ⎥\n",
       "⎢                                                ⎥\n",
       "⎢ 1   -1                                         ⎥\n",
       "⎢ ─   ───   0    0    0    0    0    0    0    0 ⎥\n",
       "⎢ h    h                                         ⎥\n",
       "⎢                                                ⎥\n",
       "⎢      1   -1                                    ⎥\n",
       "⎢ 0    ─   ───   0    0    0    0    0    0    0 ⎥\n",
       "⎢      h    h                                    ⎥\n",
       "⎢                                                ⎥\n",
       "⎢           1   -1                               ⎥\n",
       "⎢ 0    0    ─   ───   0    0    0    0    0    0 ⎥\n",
       "⎢           h    h                               ⎥\n",
       "⎢                                                ⎥\n",
       "⎢                1   -1                          ⎥\n",
       "⎢ 0    0    0    ─   ───   0    0    0    0    0 ⎥\n",
       "⎢                h    h                          ⎥\n",
       "⎢                                                ⎥\n",
       "⎢                     1   -1                     ⎥\n",
       "⎢ 0    0    0    0    ─   ───   0    0    0    0 ⎥\n",
       "⎢                     h    h                     ⎥\n",
       "⎢                                                ⎥\n",
       "⎢                          1   -1                ⎥\n",
       "⎢ 0    0    0    0    0    ─   ───   0    0    0 ⎥\n",
       "⎢                          h    h                ⎥\n",
       "⎢                                                ⎥\n",
       "⎢                               1   -1           ⎥\n",
       "⎢ 0    0    0    0    0    0    ─   ───   0    0 ⎥\n",
       "⎢                               h    h           ⎥\n",
       "⎢                                                ⎥\n",
       "⎢                                    1   -1      ⎥\n",
       "⎢ 0    0    0    0    0    0    0    ─   ───   0 ⎥\n",
       "⎢                                    h    h      ⎥\n",
       "⎢                                                ⎥\n",
       "⎢                                         1   -1 ⎥\n",
       "⎢ 0    0    0    0    0    0    0    0    ─   ───⎥\n",
       "⎢                                         h    h ⎥\n",
       "⎢                                                ⎥\n",
       "⎢                                              1 ⎥\n",
       "⎢ 0    0    0    0    0    0    0    0    0    ─ ⎥\n",
       "⎣                                              h ⎦"
      ]
     },
     "execution_count": 438,
     "metadata": {},
     "output_type": "execute_result"
    }
   ],
   "source": [
    "# We build the matrix of the derivatives in the same way as we have built\n",
    "# the matrix of the elements.\n",
    "\n",
    "delist = []\n",
    "for a in range(n+1):\n",
    "    lista = [0 for b in range(n)]\n",
    "    for b in range(n):\n",
    "        if (a!=0)&(b==a-1): lista[b]=enn.diff(x)\n",
    "        elif a==b: lista[b]=e00.diff(x)\n",
    "        else: lista[b]=0\n",
    "    delist.append(lista)\n",
    "de = Matrix(delist); de"
   ]
  },
  {
   "cell_type": "code",
   "execution_count": 439,
   "id": "95937efa-b039-4762-b3c2-3c83108f6440",
   "metadata": {},
   "outputs": [
    {
     "data": {
      "image/png": "[encoded data removed]",
      "text/latex": [
       "$\\displaystyle \\left( 11, \\  10\\right)$"
      ],
      "text/plain": [
       "(11, 10)"
      ]
     },
     "execution_count": 439,
     "metadata": {},
     "output_type": "execute_result"
    }
   ],
   "source": [
    "# Checking that the shape is the one that we want\n",
    "\n",
    "shape(de)"
   ]
  },
  {
   "cell_type": "code",
   "execution_count": 440,
   "id": "b48ff9e6-f259-4fc5-b29e-79c1aaad78da",
   "metadata": {},
   "outputs": [
    {
     "data": {
      "text/latex": [
       "$\\displaystyle \\left[\\begin{array}{ccccccccccc}\\frac{1}{h^{2}} & - \\frac{1}{h^{2}} & 0 & 0 & 0 & 0 & 0 & 0 & 0 & 0 & 0\\\\- \\frac{1}{h^{2}} & \\frac{2}{h^{2}} & - \\frac{1}{h^{2}} & 0 & 0 & 0 & 0 & 0 & 0 & 0 & 0\\\\0 & - \\frac{1}{h^{2}} & \\frac{2}{h^{2}} & - \\frac{1}{h^{2}} & 0 & 0 & 0 & 0 & 0 & 0 & 0\\\\0 & 0 & - \\frac{1}{h^{2}} & \\frac{2}{h^{2}} & - \\frac{1}{h^{2}} & 0 & 0 & 0 & 0 & 0 & 0\\\\0 & 0 & 0 & - \\frac{1}{h^{2}} & \\frac{2}{h^{2}} & - \\frac{1}{h^{2}} & 0 & 0 & 0 & 0 & 0\\\\0 & 0 & 0 & 0 & - \\frac{1}{h^{2}} & \\frac{2}{h^{2}} & - \\frac{1}{h^{2}} & 0 & 0 & 0 & 0\\\\0 & 0 & 0 & 0 & 0 & - \\frac{1}{h^{2}} & \\frac{2}{h^{2}} & - \\frac{1}{h^{2}} & 0 & 0 & 0\\\\0 & 0 & 0 & 0 & 0 & 0 & - \\frac{1}{h^{2}} & \\frac{2}{h^{2}} & - \\frac{1}{h^{2}} & 0 & 0\\\\0 & 0 & 0 & 0 & 0 & 0 & 0 & - \\frac{1}{h^{2}} & \\frac{2}{h^{2}} & - \\frac{1}{h^{2}} & 0\\\\0 & 0 & 0 & 0 & 0 & 0 & 0 & 0 & - \\frac{1}{h^{2}} & \\frac{2}{h^{2}} & - \\frac{1}{h^{2}}\\\\0 & 0 & 0 & 0 & 0 & 0 & 0 & 0 & 0 & - \\frac{1}{h^{2}} & \\frac{1}{h^{2}}\\end{array}\\right]$"
      ],
      "text/plain": [
       "⎡1    -1                                              ⎤\n",
       "⎢──   ───   0    0    0    0    0    0    0    0    0 ⎥\n",
       "⎢ 2     2                                             ⎥\n",
       "⎢h     h                                              ⎥\n",
       "⎢                                                     ⎥\n",
       "⎢-1   2    -1                                         ⎥\n",
       "⎢───  ──   ───   0    0    0    0    0    0    0    0 ⎥\n",
       "⎢  2   2     2                                        ⎥\n",
       "⎢ h   h     h                                         ⎥\n",
       "⎢                                                     ⎥\n",
       "⎢     -1   2    -1                                    ⎥\n",
       "⎢ 0   ───  ──   ───   0    0    0    0    0    0    0 ⎥\n",
       "⎢       2   2     2                                   ⎥\n",
       "⎢      h   h     h                                    ⎥\n",
       "⎢                                                     ⎥\n",
       "⎢          -1   2    -1                               ⎥\n",
       "⎢ 0    0   ───  ──   ───   0    0    0    0    0    0 ⎥\n",
       "⎢            2   2     2                              ⎥\n",
       "⎢           h   h     h                               ⎥\n",
       "⎢                                                     ⎥\n",
       "⎢               -1   2    -1                          ⎥\n",
       "⎢ 0    0    0   ───  ──   ───   0    0    0    0    0 ⎥\n",
       "⎢                 2   2     2                         ⎥\n",
       "⎢                h   h     h                          ⎥\n",
       "⎢                                                     ⎥\n",
       "⎢                    -1   2    -1                     ⎥\n",
       "⎢ 0    0    0    0   ───  ──   ───   0    0    0    0 ⎥\n",
       "⎢                      2   2     2                    ⎥\n",
       "⎢                     h   h     h                     ⎥\n",
       "⎢                                                     ⎥\n",
       "⎢                         -1   2    -1                ⎥\n",
       "⎢ 0    0    0    0    0   ───  ──   ───   0    0    0 ⎥\n",
       "⎢                           2   2     2               ⎥\n",
       "⎢                          h   h     h                ⎥\n",
       "⎢                                                     ⎥\n",
       "⎢                              -1   2    -1           ⎥\n",
       "⎢ 0    0    0    0    0    0   ───  ──   ───   0    0 ⎥\n",
       "⎢                                2   2     2          ⎥\n",
       "⎢                               h   h     h           ⎥\n",
       "⎢                                                     ⎥\n",
       "⎢                                   -1   2    -1      ⎥\n",
       "⎢ 0    0    0    0    0    0    0   ───  ──   ───   0 ⎥\n",
       "⎢                                     2   2     2     ⎥\n",
       "⎢                                    h   h     h      ⎥\n",
       "⎢                                                     ⎥\n",
       "⎢                                        -1   2    -1 ⎥\n",
       "⎢ 0    0    0    0    0    0    0    0   ───  ──   ───⎥\n",
       "⎢                                          2   2     2⎥\n",
       "⎢                                         h   h     h ⎥\n",
       "⎢                                                     ⎥\n",
       "⎢                                             -1   1  ⎥\n",
       "⎢ 0    0    0    0    0    0    0    0    0   ───  ── ⎥\n",
       "⎢                                               2   2 ⎥\n",
       "⎣                                              h   h  ⎦"
      ]
     },
     "execution_count": 440,
     "metadata": {},
     "output_type": "execute_result"
    }
   ],
   "source": [
    "# And now try to implement the damn scalar product as a matrix product\n",
    "# of the de matrix and de.T. The resulting matrix is the matrix of the\n",
    "# integrands of the matrix Kij, and we should call it Iij\n",
    "\n",
    "Iij = de*de.T; Iij"
   ]
  },
  {
   "cell_type": "code",
   "execution_count": 441,
   "id": "1766f332-6ca3-4597-ad39-50240ec1ce39",
   "metadata": {},
   "outputs": [
    {
     "data": {
      "image/png": "[encoded data removed]",
      "text/latex": [
       "$\\displaystyle \\frac{1}{h^{2}}$"
      ],
      "text/plain": [
       "1 \n",
       "──\n",
       " 2\n",
       "h "
      ]
     },
     "execution_count": 441,
     "metadata": {},
     "output_type": "execute_result"
    }
   ],
   "source": [
    "# Access elements\n",
    "\n",
    "Iij.row(0)[0]"
   ]
  },
  {
   "cell_type": "code",
   "execution_count": 442,
   "id": "65804d47-cb5a-4a73-854a-a0fab226a7af",
   "metadata": {},
   "outputs": [
    {
     "data": {
      "image/png": "[encoded data removed]",
      "text/latex": [
       "$\\displaystyle \\frac{1}{h}$"
      ],
      "text/plain": [
       "1\n",
       "─\n",
       "h"
      ]
     },
     "execution_count": 442,
     "metadata": {},
     "output_type": "execute_result"
    }
   ],
   "source": [
    "Iij.row(0)[0].integrate((x, 0, h))"
   ]
  },
  {
   "cell_type": "code",
   "execution_count": 443,
   "id": "e7dc1b78-30dc-48a3-8d65-29026f0f06d7",
   "metadata": {},
   "outputs": [
    {
     "data": {
      "image/png": "[encoded data removed]",
      "text/latex": [
       "$\\displaystyle 1$"
      ],
      "text/plain": [
       "1"
      ]
     },
     "execution_count": 443,
     "metadata": {},
     "output_type": "execute_result"
    }
   ],
   "source": [
    "# Try function min(x,y)\n",
    "\n",
    "a, b = 1, 2\n",
    "min(a,b)"
   ]
  },
  {
   "cell_type": "code",
   "execution_count": 444,
   "id": "ee4222e4-052d-4906-88db-3064cb4c710d",
   "metadata": {},
   "outputs": [
    {
     "data": {
      "image/png": "[encoded data removed]",
      "text/latex": [
       "$\\displaystyle 11$"
      ],
      "text/plain": [
       "11"
      ]
     },
     "execution_count": 444,
     "metadata": {},
     "output_type": "execute_result"
    }
   ],
   "source": [
    "len(Iij.row(0))"
   ]
  },
  {
   "cell_type": "code",
   "execution_count": 445,
   "id": "6d77b490-af8b-4db3-8119-2103327475d9",
   "metadata": {},
   "outputs": [
    {
     "data": {
      "text/latex": [
       "$\\displaystyle \\left[\\begin{array}{ccccccccccc}\\frac{1}{h} & - \\frac{1}{h} & 0 & 0 & 0 & 0 & 0 & 0 & 0 & 0 & 0\\\\- \\frac{1}{h} & \\frac{2}{h} & - \\frac{1}{h} & 0 & 0 & 0 & 0 & 0 & 0 & 0 & 0\\\\0 & - \\frac{1}{h} & \\frac{2}{h} & - \\frac{1}{h} & 0 & 0 & 0 & 0 & 0 & 0 & 0\\\\0 & 0 & - \\frac{1}{h} & \\frac{2}{h} & - \\frac{1}{h} & 0 & 0 & 0 & 0 & 0 & 0\\\\0 & 0 & 0 & - \\frac{1}{h} & \\frac{2}{h} & - \\frac{1}{h} & 0 & 0 & 0 & 0 & 0\\\\0 & 0 & 0 & 0 & - \\frac{1}{h} & \\frac{2}{h} & - \\frac{1}{h} & 0 & 0 & 0 & 0\\\\0 & 0 & 0 & 0 & 0 & - \\frac{1}{h} & \\frac{2}{h} & - \\frac{1}{h} & 0 & 0 & 0\\\\0 & 0 & 0 & 0 & 0 & 0 & - \\frac{1}{h} & \\frac{2}{h} & - \\frac{1}{h} & 0 & 0\\\\0 & 0 & 0 & 0 & 0 & 0 & 0 & - \\frac{1}{h} & \\frac{2}{h} & - \\frac{1}{h} & 0\\\\0 & 0 & 0 & 0 & 0 & 0 & 0 & 0 & - \\frac{1}{h} & \\frac{2}{h} & - \\frac{1}{h}\\\\0 & 0 & 0 & 0 & 0 & 0 & 0 & 0 & 0 & - \\frac{1}{h} & \\frac{1}{h}\\end{array}\\right]$"
      ],
      "text/plain": [
       "⎡ 1   -1                                              ⎤\n",
       "⎢ ─   ───   0    0    0    0    0    0    0    0    0 ⎥\n",
       "⎢ h    h                                              ⎥\n",
       "⎢                                                     ⎥\n",
       "⎢-1    2   -1                                         ⎥\n",
       "⎢───   ─   ───   0    0    0    0    0    0    0    0 ⎥\n",
       "⎢ h    h    h                                         ⎥\n",
       "⎢                                                     ⎥\n",
       "⎢     -1    2   -1                                    ⎥\n",
       "⎢ 0   ───   ─   ───   0    0    0    0    0    0    0 ⎥\n",
       "⎢      h    h    h                                    ⎥\n",
       "⎢                                                     ⎥\n",
       "⎢          -1    2   -1                               ⎥\n",
       "⎢ 0    0   ───   ─   ───   0    0    0    0    0    0 ⎥\n",
       "⎢           h    h    h                               ⎥\n",
       "⎢                                                     ⎥\n",
       "⎢               -1    2   -1                          ⎥\n",
       "⎢ 0    0    0   ───   ─   ───   0    0    0    0    0 ⎥\n",
       "⎢                h    h    h                          ⎥\n",
       "⎢                                                     ⎥\n",
       "⎢                    -1    2   -1                     ⎥\n",
       "⎢ 0    0    0    0   ───   ─   ───   0    0    0    0 ⎥\n",
       "⎢                     h    h    h                     ⎥\n",
       "⎢                                                     ⎥\n",
       "⎢                         -1    2   -1                ⎥\n",
       "⎢ 0    0    0    0    0   ───   ─   ───   0    0    0 ⎥\n",
       "⎢                          h    h    h                ⎥\n",
       "⎢                                                     ⎥\n",
       "⎢                              -1    2   -1           ⎥\n",
       "⎢ 0    0    0    0    0    0   ───   ─   ───   0    0 ⎥\n",
       "⎢                               h    h    h           ⎥\n",
       "⎢                                                     ⎥\n",
       "⎢                                   -1    2   -1      ⎥\n",
       "⎢ 0    0    0    0    0    0    0   ───   ─   ───   0 ⎥\n",
       "⎢                                    h    h    h      ⎥\n",
       "⎢                                                     ⎥\n",
       "⎢                                        -1    2   -1 ⎥\n",
       "⎢ 0    0    0    0    0    0    0    0   ───   ─   ───⎥\n",
       "⎢                                         h    h    h ⎥\n",
       "⎢                                                     ⎥\n",
       "⎢                                             -1    1 ⎥\n",
       "⎢ 0    0    0    0    0    0    0    0    0   ───   ─ ⎥\n",
       "⎣                                              h    h ⎦"
      ]
     },
     "execution_count": 445,
     "metadata": {},
     "output_type": "execute_result"
    }
   ],
   "source": [
    "# Now we build the stiffness matrix Kij.\n",
    "# Notice that since every interval is of the same width h, we can just\n",
    "# integrate each entry of the Iij matrix between 0 and h.\n",
    "# If you want to use a non-linearly spaced grid for the xj nodes,\n",
    "# you have to modify dynamically the integration limits inside the\n",
    "# tuple (x, min, max) passed as an argument to Matrix.integrate()\n",
    "\n",
    "klist = []\n",
    "for a in range(len(Iij.col(0))):\n",
    "    lista = [0 for b in range(len(Iij.row(0)))]\n",
    "    for b,_ in enumerate(lista):\n",
    "        lista[b] = Iij.row(a)[b].integrate((x, 0, h))\n",
    "    klist.append(lista)\n",
    "\n",
    "Kij = Matrix(klist); Kij"
   ]
  },
  {
   "cell_type": "markdown",
   "id": "4de8c0db-52f9-49ea-b722-158362bf1cc7",
   "metadata": {},
   "source": [
    "## Implementing vector representation of rhs function"
   ]
  },
  {
   "cell_type": "code",
   "execution_count": 446,
   "id": "9b483b88-c2a8-46be-a500-fbe6aaced922",
   "metadata": {},
   "outputs": [
    {
     "data": {
      "image/png": "[encoded data removed]",
      "text/latex": [
       "$\\displaystyle x - \\frac{1}{2}$"
      ],
      "text/plain": [
       "x - 1/2"
      ]
     },
     "execution_count": 446,
     "metadata": {},
     "output_type": "execute_result"
    }
   ],
   "source": [
    "# The rhs function may be defined as a sympy object\n",
    "\n",
    "rhs = x - Rational(1,2); rhs"
   ]
  },
  {
   "cell_type": "code",
   "execution_count": 447,
   "id": "49a3a3a5-e5a4-4e53-b52a-56b44750782e",
   "metadata": {},
   "outputs": [
    {
     "data": {
      "text/latex": [
       "$\\displaystyle \\left[\\begin{matrix}\\left(1 - \\frac{x}{h}\\right) \\left(x - \\frac{1}{2}\\right) & 0 & 0 & 0 & 0 & 0 & 0 & 0 & 0 & 0\\\\\\frac{x \\left(x - \\frac{1}{2}\\right)}{h} & \\left(2 - \\frac{x}{h}\\right) \\left(x - \\frac{1}{2}\\right) & 0 & 0 & 0 & 0 & 0 & 0 & 0 & 0\\\\0 & \\left(-1 + \\frac{x}{h}\\right) \\left(x - \\frac{1}{2}\\right) & \\left(3 - \\frac{x}{h}\\right) \\left(x - \\frac{1}{2}\\right) & 0 & 0 & 0 & 0 & 0 & 0 & 0\\\\0 & 0 & \\left(-2 + \\frac{x}{h}\\right) \\left(x - \\frac{1}{2}\\right) & \\left(4 - \\frac{x}{h}\\right) \\left(x - \\frac{1}{2}\\right) & 0 & 0 & 0 & 0 & 0 & 0\\\\0 & 0 & 0 & \\left(-3 + \\frac{x}{h}\\right) \\left(x - \\frac{1}{2}\\right) & \\left(5 - \\frac{x}{h}\\right) \\left(x - \\frac{1}{2}\\right) & 0 & 0 & 0 & 0 & 0\\\\0 & 0 & 0 & 0 & \\left(-4 + \\frac{x}{h}\\right) \\left(x - \\frac{1}{2}\\right) & \\left(6 - \\frac{x}{h}\\right) \\left(x - \\frac{1}{2}\\right) & 0 & 0 & 0 & 0\\\\0 & 0 & 0 & 0 & 0 & \\left(-5 + \\frac{x}{h}\\right) \\left(x - \\frac{1}{2}\\right) & \\left(7 - \\frac{x}{h}\\right) \\left(x - \\frac{1}{2}\\right) & 0 & 0 & 0\\\\0 & 0 & 0 & 0 & 0 & 0 & \\left(-6 + \\frac{x}{h}\\right) \\left(x - \\frac{1}{2}\\right) & \\left(8 - \\frac{x}{h}\\right) \\left(x - \\frac{1}{2}\\right) & 0 & 0\\\\0 & 0 & 0 & 0 & 0 & 0 & 0 & \\left(-7 + \\frac{x}{h}\\right) \\left(x - \\frac{1}{2}\\right) & \\left(9 - \\frac{x}{h}\\right) \\left(x - \\frac{1}{2}\\right) & 0\\\\0 & 0 & 0 & 0 & 0 & 0 & 0 & 0 & \\left(-8 + \\frac{x}{h}\\right) \\left(x - \\frac{1}{2}\\right) & \\left(10 - \\frac{x}{h}\\right) \\left(x - \\frac{1}{2}\\right)\\\\0 & 0 & 0 & 0 & 0 & 0 & 0 & 0 & 0 & \\left(-9 + \\frac{x}{h}\\right) \\left(x - \\frac{1}{2}\\right)\\end{matrix}\\right]$"
      ],
      "text/plain": [
       "⎡⎛    x⎞                                                                      \n",
       "⎢⎜1 - ─⎟⋅(x - 1/2)          0                   0                   0         \n",
       "⎢⎝    h⎠                                                                      \n",
       "⎢                                                                             \n",
       "⎢   x⋅(x - 1/2)     ⎛    x⎞                                                   \n",
       "⎢   ───────────     ⎜2 - ─⎟⋅(x - 1/2)           0                   0         \n",
       "⎢        h          ⎝    h⎠                                                   \n",
       "⎢                                                                             \n",
       "⎢                   ⎛     x⎞            ⎛    x⎞                               \n",
       "⎢        0          ⎜-1 + ─⎟⋅(x - 1/2)  ⎜3 - ─⎟⋅(x - 1/2)           0         \n",
       "⎢                   ⎝     h⎠            ⎝    h⎠                               \n",
       "⎢                                                                             \n",
       "⎢                                       ⎛     x⎞            ⎛    x⎞           \n",
       "⎢        0                  0           ⎜-2 + ─⎟⋅(x - 1/2)  ⎜4 - ─⎟⋅(x - 1/2) \n",
       "⎢                                       ⎝     h⎠            ⎝    h⎠           \n",
       "⎢                                                                             \n",
       "⎢                                                           ⎛     x⎞          \n",
       "⎢        0                  0                   0           ⎜-3 + ─⎟⋅(x - 1/2)\n",
       "⎢                                                           ⎝     h⎠          \n",
       "⎢                                                                             \n",
       "⎢                                                                             \n",
       "⎢        0                  0                   0                   0         \n",
       "⎢                                                                             \n",
       "⎢                                                                             \n",
       "⎢                                                                             \n",
       "⎢        0                  0                   0                   0         \n",
       "⎢                                                                             \n",
       "⎢                                                                             \n",
       "⎢                                                                             \n",
       "⎢        0                  0                   0                   0         \n",
       "⎢                                                                             \n",
       "⎢                                                                             \n",
       "⎢                                                                             \n",
       "⎢        0                  0                   0                   0         \n",
       "⎢                                                                             \n",
       "⎢                                                                             \n",
       "⎢                                                                             \n",
       "⎢        0                  0                   0                   0         \n",
       "⎢                                                                             \n",
       "⎢                                                                             \n",
       "⎢                                                                             \n",
       "⎢        0                  0                   0                   0         \n",
       "⎣                                                                             \n",
       "\n",
       "                                                                              \n",
       "          0                   0                   0                   0       \n",
       "                                                                              \n",
       "                                                                              \n",
       "                                                                              \n",
       "          0                   0                   0                   0       \n",
       "                                                                              \n",
       "                                                                              \n",
       "                                                                              \n",
       "          0                   0                   0                   0       \n",
       "                                                                              \n",
       "                                                                              \n",
       "                                                                              \n",
       "          0                   0                   0                   0       \n",
       "                                                                              \n",
       "                                                                              \n",
       "  ⎛    x⎞                                                                     \n",
       "  ⎜5 - ─⎟⋅(x - 1/2)           0                   0                   0       \n",
       "  ⎝    h⎠                                                                     \n",
       "                                                                              \n",
       "  ⎛     x⎞            ⎛    x⎞                                                 \n",
       "  ⎜-4 + ─⎟⋅(x - 1/2)  ⎜6 - ─⎟⋅(x - 1/2)           0                   0       \n",
       "  ⎝     h⎠            ⎝    h⎠                                                 \n",
       "                                                                              \n",
       "                      ⎛     x⎞            ⎛    x⎞                             \n",
       "          0           ⎜-5 + ─⎟⋅(x - 1/2)  ⎜7 - ─⎟⋅(x - 1/2)           0       \n",
       "                      ⎝     h⎠            ⎝    h⎠                             \n",
       "                                                                              \n",
       "                                          ⎛     x⎞            ⎛    x⎞         \n",
       "          0                   0           ⎜-6 + ─⎟⋅(x - 1/2)  ⎜8 - ─⎟⋅(x - 1/2\n",
       "                                          ⎝     h⎠            ⎝    h⎠         \n",
       "                                                                              \n",
       "                                                              ⎛     x⎞        \n",
       "          0                   0                   0           ⎜-7 + ─⎟⋅(x - 1/\n",
       "                                                              ⎝     h⎠        \n",
       "                                                                              \n",
       "                                                                              \n",
       "          0                   0                   0                   0       \n",
       "                                                                              \n",
       "                                                                              \n",
       "                                                                              \n",
       "          0                   0                   0                   0       \n",
       "                                                                              \n",
       "\n",
       "                                          ⎤\n",
       "            0                   0         ⎥\n",
       "                                          ⎥\n",
       "                                          ⎥\n",
       "                                          ⎥\n",
       "            0                   0         ⎥\n",
       "                                          ⎥\n",
       "                                          ⎥\n",
       "                                          ⎥\n",
       "            0                   0         ⎥\n",
       "                                          ⎥\n",
       "                                          ⎥\n",
       "                                          ⎥\n",
       "            0                   0         ⎥\n",
       "                                          ⎥\n",
       "                                          ⎥\n",
       "                                          ⎥\n",
       "            0                   0         ⎥\n",
       "                                          ⎥\n",
       "                                          ⎥\n",
       "                                          ⎥\n",
       "            0                   0         ⎥\n",
       "                                          ⎥\n",
       "                                          ⎥\n",
       "                                          ⎥\n",
       "            0                   0         ⎥\n",
       "                                          ⎥\n",
       "                                          ⎥\n",
       "                                          ⎥\n",
       ")           0                   0         ⎥\n",
       "                                          ⎥\n",
       "                                          ⎥\n",
       "    ⎛    x⎞                               ⎥\n",
       "2)  ⎜9 - ─⎟⋅(x - 1/2)           0         ⎥\n",
       "    ⎝    h⎠                               ⎥\n",
       "                                          ⎥\n",
       "    ⎛     x⎞            ⎛     x⎞          ⎥\n",
       "    ⎜-8 + ─⎟⋅(x - 1/2)  ⎜10 - ─⎟⋅(x - 1/2)⎥\n",
       "    ⎝     h⎠            ⎝     h⎠          ⎥\n",
       "                                          ⎥\n",
       "                        ⎛     x⎞          ⎥\n",
       "            0           ⎜-9 + ─⎟⋅(x - 1/2)⎥\n",
       "                        ⎝     h⎠          ⎦"
      ]
     },
     "execution_count": 447,
     "metadata": {},
     "output_type": "execute_result"
    }
   ],
   "source": [
    "# The matrix (vector) of the integrands have to be built in the\n",
    "# same way as we have to be built in the same way in which\n",
    "# we have built the other matrixes, via a list of lists.\n",
    "\n",
    "# We go step by step to make the procedure clear:\n",
    "# 1. build the matrix of the integrand functions\n",
    "\n",
    "Iflist = []\n",
    "for a in range(n+1):\n",
    "    lista = [0 for b in range(n)]\n",
    "    for b in range(n):\n",
    "        if (a!=0)&(b==a-1): lista[b]=enn.subs(i, a)*rhs\n",
    "        elif a==b: lista[b]=e00.subs(i, a)*rhs\n",
    "        else: lista[b]=0\n",
    "    Iflist.append(lista)\n",
    "If = Matrix(Iflist); If"
   ]
  },
  {
   "cell_type": "code",
   "execution_count": 457,
   "id": "4d4b6692-0e11-4424-9adc-88bea42df01d",
   "metadata": {},
   "outputs": [
    {
     "data": {
      "text/latex": [
       "$\\displaystyle \\left[\\begin{matrix}\\frac{h^{2}}{6} - \\frac{h}{4} & 0 & 0 & 0 & 0 & 0 & 0 & 0 & 0 & 0\\\\\\frac{h^{2}}{3} - \\frac{h}{4} & \\frac{2 h^{2}}{3} - \\frac{h}{4} & 0 & 0 & 0 & 0 & 0 & 0 & 0 & 0\\\\0 & \\frac{5 h^{2}}{6} - \\frac{h}{4} & \\frac{7 h^{2}}{6} - \\frac{h}{4} & 0 & 0 & 0 & 0 & 0 & 0 & 0\\\\0 & 0 & \\frac{4 h^{2}}{3} - \\frac{h}{4} & \\frac{5 h^{2}}{3} - \\frac{h}{4} & 0 & 0 & 0 & 0 & 0 & 0\\\\0 & 0 & 0 & \\frac{11 h^{2}}{6} - \\frac{h}{4} & \\frac{13 h^{2}}{6} - \\frac{h}{4} & 0 & 0 & 0 & 0 & 0\\\\0 & 0 & 0 & 0 & \\frac{7 h^{2}}{3} - \\frac{h}{4} & \\frac{8 h^{2}}{3} - \\frac{h}{4} & 0 & 0 & 0 & 0\\\\0 & 0 & 0 & 0 & 0 & \\frac{17 h^{2}}{6} - \\frac{h}{4} & \\frac{19 h^{2}}{6} - \\frac{h}{4} & 0 & 0 & 0\\\\0 & 0 & 0 & 0 & 0 & 0 & \\frac{10 h^{2}}{3} - \\frac{h}{4} & \\frac{11 h^{2}}{3} - \\frac{h}{4} & 0 & 0\\\\0 & 0 & 0 & 0 & 0 & 0 & 0 & \\frac{23 h^{2}}{6} - \\frac{h}{4} & \\frac{25 h^{2}}{6} - \\frac{h}{4} & 0\\\\0 & 0 & 0 & 0 & 0 & 0 & 0 & 0 & \\frac{13 h^{2}}{3} - \\frac{h}{4} & \\frac{14 h^{2}}{3} - \\frac{h}{4}\\\\0 & 0 & 0 & 0 & 0 & 0 & 0 & 0 & 0 & - \\frac{25 h^{2}}{6} + \\frac{17 h}{4}\\end{matrix}\\right]$"
      ],
      "text/plain": [
       "⎡ 2                                                                           \n",
       "⎢h    h                                                                       \n",
       "⎢── - ─     0         0          0          0          0          0          0\n",
       "⎢6    4                                                                       \n",
       "⎢                                                                             \n",
       "⎢ 2         2                                                                 \n",
       "⎢h    h  2⋅h    h                                                             \n",
       "⎢── - ─  ──── - ─     0          0          0          0          0          0\n",
       "⎢3    4   3     4                                                             \n",
       "⎢                                                                             \n",
       "⎢           2         2                                                       \n",
       "⎢        5⋅h    h  7⋅h    h                                                   \n",
       "⎢  0     ──── - ─  ──── - ─      0          0          0          0          0\n",
       "⎢         6     4   6     4                                                   \n",
       "⎢                                                                             \n",
       "⎢                     2         2                                             \n",
       "⎢                  4⋅h    h  5⋅h    h                                         \n",
       "⎢  0        0      ──── - ─  ──── - ─       0          0          0          0\n",
       "⎢                   3     4   3     4                                         \n",
       "⎢                                                                             \n",
       "⎢                                2          2                                 \n",
       "⎢                            11⋅h    h  13⋅h    h                             \n",
       "⎢  0        0         0      ───── - ─  ───── - ─      0          0          0\n",
       "⎢                              6     4    6     4                             \n",
       "⎢                                                                             \n",
       "⎢                                          2          2                       \n",
       "⎢                                       7⋅h    h   8⋅h    h                   \n",
       "⎢  0        0         0          0      ──── - ─   ──── - ─       0          0\n",
       "⎢                                        3     4    3     4                   \n",
       "⎢                                                                             \n",
       "⎢                                                      2          2           \n",
       "⎢                                                  17⋅h    h  19⋅h    h       \n",
       "⎢  0        0         0          0          0      ───── - ─  ───── - ─      0\n",
       "⎢                                                    6     4    6     4       \n",
       "⎢                                                                             \n",
       "⎢                                                                 2          2\n",
       "⎢                                                             10⋅h    h  11⋅h \n",
       "⎢  0        0         0          0          0          0      ───── - ─  ─────\n",
       "⎢                                                               3     4    3  \n",
       "⎢                                                                             \n",
       "⎢                                                                            2\n",
       "⎢                                                                        23⋅h \n",
       "⎢  0        0         0          0          0          0          0      ─────\n",
       "⎢                                                                          6  \n",
       "⎢                                                                             \n",
       "⎢                                                                             \n",
       "⎢                                                                             \n",
       "⎢  0        0         0          0          0          0          0          0\n",
       "⎢                                                                             \n",
       "⎢                                                                             \n",
       "⎢                                                                             \n",
       "⎢                                                                             \n",
       "⎢  0        0         0          0          0          0          0          0\n",
       "⎣                                                                             \n",
       "\n",
       "                               ⎤\n",
       "                               ⎥\n",
       "          0            0       ⎥\n",
       "                               ⎥\n",
       "                               ⎥\n",
       "                               ⎥\n",
       "                               ⎥\n",
       "          0            0       ⎥\n",
       "                               ⎥\n",
       "                               ⎥\n",
       "                               ⎥\n",
       "                               ⎥\n",
       "          0            0       ⎥\n",
       "                               ⎥\n",
       "                               ⎥\n",
       "                               ⎥\n",
       "                               ⎥\n",
       "          0            0       ⎥\n",
       "                               ⎥\n",
       "                               ⎥\n",
       "                               ⎥\n",
       "                               ⎥\n",
       "          0            0       ⎥\n",
       "                               ⎥\n",
       "                               ⎥\n",
       "                               ⎥\n",
       "                               ⎥\n",
       "          0            0       ⎥\n",
       "                               ⎥\n",
       "                               ⎥\n",
       "                               ⎥\n",
       "                               ⎥\n",
       "          0            0       ⎥\n",
       "                               ⎥\n",
       "                               ⎥\n",
       "                               ⎥\n",
       "   h                           ⎥\n",
       " - ─      0            0       ⎥\n",
       "   4                           ⎥\n",
       "                               ⎥\n",
       "          2                    ⎥\n",
       "   h  25⋅h    h                ⎥\n",
       " - ─  ───── - ─        0       ⎥\n",
       "   4    6     4                ⎥\n",
       "                               ⎥\n",
       "          2            2       ⎥\n",
       "      13⋅h    h    14⋅h    h   ⎥\n",
       "      ───── - ─    ───── - ─   ⎥\n",
       "        3     4      3     4   ⎥\n",
       "                               ⎥\n",
       "                       2       ⎥\n",
       "                   25⋅h    17⋅h⎥\n",
       "          0      - ───── + ────⎥\n",
       "                     6      4  ⎦"
      ]
     },
     "execution_count": 457,
     "metadata": {},
     "output_type": "execute_result"
    }
   ],
   "source": [
    "# 2. build the matrix with the result of the integration of each\n",
    "# integrand function (per interval, per piecewise element)\n",
    "\n",
    "fflist = []\n",
    "for a in range(n+1):\n",
    "    lista = [0 for b in range(n)]\n",
    "    for b in range(n):\n",
    "        if (a==0) or (a==n): lista[b]=expand(If.row(a)[b].integrate((x, S.Zero, h)))\n",
    "        else: lista[b]=expand(If.row(a)[b].integrate((x, b*h, (b+1)*h)))\n",
    "    fflist.append(lista)\n",
    "fij = Matrix(fflist); fij"
   ]
  },
  {
   "cell_type": "code",
   "execution_count": 459,
   "id": "3f92cdaf-8c2f-4a70-9837-60aec81a8acc",
   "metadata": {},
   "outputs": [
    {
     "data": {
      "text/latex": [
       "$\\displaystyle \\left[\\begin{matrix}\\frac{h^{2}}{6} - \\frac{h}{4}\\\\h^{2} - \\frac{h}{2}\\\\2 h^{2} - \\frac{h}{2}\\\\3 h^{2} - \\frac{h}{2}\\\\4 h^{2} - \\frac{h}{2}\\\\5 h^{2} - \\frac{h}{2}\\\\6 h^{2} - \\frac{h}{2}\\\\7 h^{2} - \\frac{h}{2}\\\\8 h^{2} - \\frac{h}{2}\\\\9 h^{2} - \\frac{h}{2}\\\\- \\frac{25 h^{2}}{6} + \\frac{17 h}{4}\\end{matrix}\\right]$"
      ],
      "text/plain": [
       "⎡     2        ⎤\n",
       "⎢    h    h    ⎥\n",
       "⎢    ── - ─    ⎥\n",
       "⎢    6    4    ⎥\n",
       "⎢              ⎥\n",
       "⎢     2   h    ⎥\n",
       "⎢    h  - ─    ⎥\n",
       "⎢         2    ⎥\n",
       "⎢              ⎥\n",
       "⎢      2   h   ⎥\n",
       "⎢   2⋅h  - ─   ⎥\n",
       "⎢          2   ⎥\n",
       "⎢              ⎥\n",
       "⎢      2   h   ⎥\n",
       "⎢   3⋅h  - ─   ⎥\n",
       "⎢          2   ⎥\n",
       "⎢              ⎥\n",
       "⎢      2   h   ⎥\n",
       "⎢   4⋅h  - ─   ⎥\n",
       "⎢          2   ⎥\n",
       "⎢              ⎥\n",
       "⎢      2   h   ⎥\n",
       "⎢   5⋅h  - ─   ⎥\n",
       "⎢          2   ⎥\n",
       "⎢              ⎥\n",
       "⎢      2   h   ⎥\n",
       "⎢   6⋅h  - ─   ⎥\n",
       "⎢          2   ⎥\n",
       "⎢              ⎥\n",
       "⎢      2   h   ⎥\n",
       "⎢   7⋅h  - ─   ⎥\n",
       "⎢          2   ⎥\n",
       "⎢              ⎥\n",
       "⎢      2   h   ⎥\n",
       "⎢   8⋅h  - ─   ⎥\n",
       "⎢          2   ⎥\n",
       "⎢              ⎥\n",
       "⎢      2   h   ⎥\n",
       "⎢   9⋅h  - ─   ⎥\n",
       "⎢          2   ⎥\n",
       "⎢              ⎥\n",
       "⎢      2       ⎥\n",
       "⎢  25⋅h    17⋅h⎥\n",
       "⎢- ───── + ────⎥\n",
       "⎣    6      4  ⎦"
      ]
     },
     "execution_count": 459,
     "metadata": {},
     "output_type": "execute_result"
    }
   ],
   "source": [
    "# 3. build the vector fi, whose entries are the sums of the integrals\n",
    "# on each piecewise element. To do that, we project each row on a\n",
    "# column vector of ones.\n",
    "\n",
    "ones = Matrix([S.One for i in range(n)])\n",
    "\n",
    "flist = []\n",
    "for a in range(n+1):\n",
    "    flist.append(fij.row(a)*ones)\n",
    "fi = Matrix(flist); fi"
   ]
  },
  {
   "cell_type": "markdown",
   "id": "0faf6421-7010-44ed-b9ff-bf1d67e5f570",
   "metadata": {},
   "source": [
    "## Building a solution\n",
    "\n",
    "Being Kij singular, one way to make it full-rank, thus invertible, is to remove its last row and column. The same must be applied to the fi vector, whose last element is popped. In this way, the linear algebra problem **Ku=f** has a unique solution."
   ]
  },
  {
   "cell_type": "code",
   "execution_count": 460,
   "id": "e22ef5e5-6c5c-4df1-9e75-e84ca882f282",
   "metadata": {},
   "outputs": [
    {
     "data": {
      "text/latex": [
       "$\\displaystyle \\left[\\begin{array}{ccccccccccc}\\frac{1}{h} & - \\frac{1}{h} & 0 & 0 & 0 & 0 & 0 & 0 & 0 & 0 & 0\\\\- \\frac{1}{h} & \\frac{2}{h} & - \\frac{1}{h} & 0 & 0 & 0 & 0 & 0 & 0 & 0 & 0\\\\0 & - \\frac{1}{h} & \\frac{2}{h} & - \\frac{1}{h} & 0 & 0 & 0 & 0 & 0 & 0 & 0\\\\0 & 0 & - \\frac{1}{h} & \\frac{2}{h} & - \\frac{1}{h} & 0 & 0 & 0 & 0 & 0 & 0\\\\0 & 0 & 0 & - \\frac{1}{h} & \\frac{2}{h} & - \\frac{1}{h} & 0 & 0 & 0 & 0 & 0\\\\0 & 0 & 0 & 0 & - \\frac{1}{h} & \\frac{2}{h} & - \\frac{1}{h} & 0 & 0 & 0 & 0\\\\0 & 0 & 0 & 0 & 0 & - \\frac{1}{h} & \\frac{2}{h} & - \\frac{1}{h} & 0 & 0 & 0\\\\0 & 0 & 0 & 0 & 0 & 0 & - \\frac{1}{h} & \\frac{2}{h} & - \\frac{1}{h} & 0 & 0\\\\0 & 0 & 0 & 0 & 0 & 0 & 0 & - \\frac{1}{h} & \\frac{2}{h} & - \\frac{1}{h} & 0\\\\0 & 0 & 0 & 0 & 0 & 0 & 0 & 0 & - \\frac{1}{h} & \\frac{2}{h} & - \\frac{1}{h}\\\\0 & 0 & 0 & 0 & 0 & 0 & 0 & 0 & 0 & - \\frac{1}{h} & \\frac{1}{h}\\end{array}\\right]$"
      ],
      "text/plain": [
       "⎡ 1   -1                                              ⎤\n",
       "⎢ ─   ───   0    0    0    0    0    0    0    0    0 ⎥\n",
       "⎢ h    h                                              ⎥\n",
       "⎢                                                     ⎥\n",
       "⎢-1    2   -1                                         ⎥\n",
       "⎢───   ─   ───   0    0    0    0    0    0    0    0 ⎥\n",
       "⎢ h    h    h                                         ⎥\n",
       "⎢                                                     ⎥\n",
       "⎢     -1    2   -1                                    ⎥\n",
       "⎢ 0   ───   ─   ───   0    0    0    0    0    0    0 ⎥\n",
       "⎢      h    h    h                                    ⎥\n",
       "⎢                                                     ⎥\n",
       "⎢          -1    2   -1                               ⎥\n",
       "⎢ 0    0   ───   ─   ───   0    0    0    0    0    0 ⎥\n",
       "⎢           h    h    h                               ⎥\n",
       "⎢                                                     ⎥\n",
       "⎢               -1    2   -1                          ⎥\n",
       "⎢ 0    0    0   ───   ─   ───   0    0    0    0    0 ⎥\n",
       "⎢                h    h    h                          ⎥\n",
       "⎢                                                     ⎥\n",
       "⎢                    -1    2   -1                     ⎥\n",
       "⎢ 0    0    0    0   ───   ─   ───   0    0    0    0 ⎥\n",
       "⎢                     h    h    h                     ⎥\n",
       "⎢                                                     ⎥\n",
       "⎢                         -1    2   -1                ⎥\n",
       "⎢ 0    0    0    0    0   ───   ─   ───   0    0    0 ⎥\n",
       "⎢                          h    h    h                ⎥\n",
       "⎢                                                     ⎥\n",
       "⎢                              -1    2   -1           ⎥\n",
       "⎢ 0    0    0    0    0    0   ───   ─   ───   0    0 ⎥\n",
       "⎢                               h    h    h           ⎥\n",
       "⎢                                                     ⎥\n",
       "⎢                                   -1    2   -1      ⎥\n",
       "⎢ 0    0    0    0    0    0    0   ───   ─   ───   0 ⎥\n",
       "⎢                                    h    h    h      ⎥\n",
       "⎢                                                     ⎥\n",
       "⎢                                        -1    2   -1 ⎥\n",
       "⎢ 0    0    0    0    0    0    0    0   ───   ─   ───⎥\n",
       "⎢                                         h    h    h ⎥\n",
       "⎢                                                     ⎥\n",
       "⎢                                             -1    1 ⎥\n",
       "⎢ 0    0    0    0    0    0    0    0    0   ───   ─ ⎥\n",
       "⎣                                              h    h ⎦"
      ]
     },
     "execution_count": 460,
     "metadata": {},
     "output_type": "execute_result"
    }
   ],
   "source": [
    "Kij"
   ]
  },
  {
   "cell_type": "code",
   "execution_count": 461,
   "id": "757e77f3-bf38-4de3-891e-343189ea3b75",
   "metadata": {},
   "outputs": [
    {
     "data": {
      "text/latex": [
       "$\\displaystyle \\left[\\begin{matrix}\\frac{1}{h} & - \\frac{1}{h} & 0 & 0 & 0 & 0 & 0 & 0 & 0 & 0\\\\- \\frac{1}{h} & \\frac{2}{h} & - \\frac{1}{h} & 0 & 0 & 0 & 0 & 0 & 0 & 0\\\\0 & - \\frac{1}{h} & \\frac{2}{h} & - \\frac{1}{h} & 0 & 0 & 0 & 0 & 0 & 0\\\\0 & 0 & - \\frac{1}{h} & \\frac{2}{h} & - \\frac{1}{h} & 0 & 0 & 0 & 0 & 0\\\\0 & 0 & 0 & - \\frac{1}{h} & \\frac{2}{h} & - \\frac{1}{h} & 0 & 0 & 0 & 0\\\\0 & 0 & 0 & 0 & - \\frac{1}{h} & \\frac{2}{h} & - \\frac{1}{h} & 0 & 0 & 0\\\\0 & 0 & 0 & 0 & 0 & - \\frac{1}{h} & \\frac{2}{h} & - \\frac{1}{h} & 0 & 0\\\\0 & 0 & 0 & 0 & 0 & 0 & - \\frac{1}{h} & \\frac{2}{h} & - \\frac{1}{h} & 0\\\\0 & 0 & 0 & 0 & 0 & 0 & 0 & - \\frac{1}{h} & \\frac{2}{h} & - \\frac{1}{h}\\\\0 & 0 & 0 & 0 & 0 & 0 & 0 & 0 & - \\frac{1}{h} & \\frac{2}{h}\\end{matrix}\\right]$"
      ],
      "text/plain": [
       "⎡ 1   -1                                         ⎤\n",
       "⎢ ─   ───   0    0    0    0    0    0    0    0 ⎥\n",
       "⎢ h    h                                         ⎥\n",
       "⎢                                                ⎥\n",
       "⎢-1    2   -1                                    ⎥\n",
       "⎢───   ─   ───   0    0    0    0    0    0    0 ⎥\n",
       "⎢ h    h    h                                    ⎥\n",
       "⎢                                                ⎥\n",
       "⎢     -1    2   -1                               ⎥\n",
       "⎢ 0   ───   ─   ───   0    0    0    0    0    0 ⎥\n",
       "⎢      h    h    h                               ⎥\n",
       "⎢                                                ⎥\n",
       "⎢          -1    2   -1                          ⎥\n",
       "⎢ 0    0   ───   ─   ───   0    0    0    0    0 ⎥\n",
       "⎢           h    h    h                          ⎥\n",
       "⎢                                                ⎥\n",
       "⎢               -1    2   -1                     ⎥\n",
       "⎢ 0    0    0   ───   ─   ───   0    0    0    0 ⎥\n",
       "⎢                h    h    h                     ⎥\n",
       "⎢                                                ⎥\n",
       "⎢                    -1    2   -1                ⎥\n",
       "⎢ 0    0    0    0   ───   ─   ───   0    0    0 ⎥\n",
       "⎢                     h    h    h                ⎥\n",
       "⎢                                                ⎥\n",
       "⎢                         -1    2   -1           ⎥\n",
       "⎢ 0    0    0    0    0   ───   ─   ───   0    0 ⎥\n",
       "⎢                          h    h    h           ⎥\n",
       "⎢                                                ⎥\n",
       "⎢                              -1    2   -1      ⎥\n",
       "⎢ 0    0    0    0    0    0   ───   ─   ───   0 ⎥\n",
       "⎢                               h    h    h      ⎥\n",
       "⎢                                                ⎥\n",
       "⎢                                   -1    2   -1 ⎥\n",
       "⎢ 0    0    0    0    0    0    0   ───   ─   ───⎥\n",
       "⎢                                    h    h    h ⎥\n",
       "⎢                                                ⎥\n",
       "⎢                                        -1    2 ⎥\n",
       "⎢ 0    0    0    0    0    0    0    0   ───   ─ ⎥\n",
       "⎣                                         h    h ⎦"
      ]
     },
     "execution_count": 461,
     "metadata": {},
     "output_type": "execute_result"
    }
   ],
   "source": [
    "K = Kij[0:-1, 0:-1]; K"
   ]
  },
  {
   "cell_type": "code",
   "execution_count": 386,
   "id": "6a2e02c8-6066-4dee-b88d-b3fc14a8d652",
   "metadata": {},
   "outputs": [
    {
     "data": {
      "image/png": "[encoded data removed]",
      "text/latex": [
       "$\\displaystyle \\left( 10, \\  10\\right)$"
      ],
      "text/plain": [
       "(10, 10)"
      ]
     },
     "execution_count": 386,
     "metadata": {},
     "output_type": "execute_result"
    }
   ],
   "source": [
    "shape(K)"
   ]
  },
  {
   "cell_type": "code",
   "execution_count": 462,
   "id": "a464407f-ad88-4088-9089-5802b30213a7",
   "metadata": {},
   "outputs": [
    {
     "data": {
      "text/latex": [
       "$\\displaystyle \\left[\\begin{matrix}\\frac{h^{2}}{6} - \\frac{h}{4}\\\\h^{2} - \\frac{h}{2}\\\\2 h^{2} - \\frac{h}{2}\\\\3 h^{2} - \\frac{h}{2}\\\\4 h^{2} - \\frac{h}{2}\\\\5 h^{2} - \\frac{h}{2}\\\\6 h^{2} - \\frac{h}{2}\\\\7 h^{2} - \\frac{h}{2}\\\\8 h^{2} - \\frac{h}{2}\\\\9 h^{2} - \\frac{h}{2}\\end{matrix}\\right]$"
      ],
      "text/plain": [
       "⎡  2     ⎤\n",
       "⎢ h    h ⎥\n",
       "⎢ ── - ─ ⎥\n",
       "⎢ 6    4 ⎥\n",
       "⎢        ⎥\n",
       "⎢  2   h ⎥\n",
       "⎢ h  - ─ ⎥\n",
       "⎢      2 ⎥\n",
       "⎢        ⎥\n",
       "⎢   2   h⎥\n",
       "⎢2⋅h  - ─⎥\n",
       "⎢       2⎥\n",
       "⎢        ⎥\n",
       "⎢   2   h⎥\n",
       "⎢3⋅h  - ─⎥\n",
       "⎢       2⎥\n",
       "⎢        ⎥\n",
       "⎢   2   h⎥\n",
       "⎢4⋅h  - ─⎥\n",
       "⎢       2⎥\n",
       "⎢        ⎥\n",
       "⎢   2   h⎥\n",
       "⎢5⋅h  - ─⎥\n",
       "⎢       2⎥\n",
       "⎢        ⎥\n",
       "⎢   2   h⎥\n",
       "⎢6⋅h  - ─⎥\n",
       "⎢       2⎥\n",
       "⎢        ⎥\n",
       "⎢   2   h⎥\n",
       "⎢7⋅h  - ─⎥\n",
       "⎢       2⎥\n",
       "⎢        ⎥\n",
       "⎢   2   h⎥\n",
       "⎢8⋅h  - ─⎥\n",
       "⎢       2⎥\n",
       "⎢        ⎥\n",
       "⎢   2   h⎥\n",
       "⎢9⋅h  - ─⎥\n",
       "⎣       2⎦"
      ]
     },
     "execution_count": 462,
     "metadata": {},
     "output_type": "execute_result"
    }
   ],
   "source": [
    "f = Matrix(fi[:-1]); f"
   ]
  },
  {
   "cell_type": "code",
   "execution_count": 463,
   "id": "999c672e-5d38-4890-99f6-0de374fdb079",
   "metadata": {},
   "outputs": [
    {
     "data": {
      "image/png": "[encoded data removed]",
      "text/latex": [
       "$\\displaystyle \\left( 10, \\  1\\right)$"
      ],
      "text/plain": [
       "(10, 1)"
      ]
     },
     "execution_count": 463,
     "metadata": {},
     "output_type": "execute_result"
    }
   ],
   "source": [
    "shape(f)"
   ]
  },
  {
   "cell_type": "code",
   "execution_count": 464,
   "id": "7ee28ad6-daa2-4662-8581-12446c8e1114",
   "metadata": {},
   "outputs": [
    {
     "data": {
      "text/latex": [
       "$\\displaystyle \\left[\\begin{matrix}h \\left(\\frac{500 h^{2}}{3} - 25 h\\right)\\\\h \\left(\\frac{333 h^{2}}{2} - \\frac{99 h}{4}\\right)\\\\h \\left(\\frac{496 h^{2}}{3} - 24 h\\right)\\\\h \\left(\\frac{973 h^{2}}{6} - \\frac{91 h}{4}\\right)\\\\h \\left(156 h^{2} - 21 h\\right)\\\\h \\left(\\frac{875 h^{2}}{6} - \\frac{75 h}{4}\\right)\\\\h \\left(\\frac{392 h^{2}}{3} - 16 h\\right)\\\\h \\left(\\frac{219 h^{2}}{2} - \\frac{51 h}{4}\\right)\\\\h \\left(\\frac{244 h^{2}}{3} - 9 h\\right)\\\\h \\left(\\frac{271 h^{2}}{6} - \\frac{19 h}{4}\\right)\\end{matrix}\\right]$"
      ],
      "text/plain": [
       "⎡  ⎛     2       ⎞⎤\n",
       "⎢  ⎜500⋅h        ⎟⎥\n",
       "⎢h⋅⎜────── - 25⋅h⎟⎥\n",
       "⎢  ⎝  3          ⎠⎥\n",
       "⎢                 ⎥\n",
       "⎢  ⎛     2       ⎞⎥\n",
       "⎢  ⎜333⋅h    99⋅h⎟⎥\n",
       "⎢h⋅⎜────── - ────⎟⎥\n",
       "⎢  ⎝  2       4  ⎠⎥\n",
       "⎢                 ⎥\n",
       "⎢  ⎛     2       ⎞⎥\n",
       "⎢  ⎜496⋅h        ⎟⎥\n",
       "⎢h⋅⎜────── - 24⋅h⎟⎥\n",
       "⎢  ⎝  3          ⎠⎥\n",
       "⎢                 ⎥\n",
       "⎢  ⎛     2       ⎞⎥\n",
       "⎢  ⎜973⋅h    91⋅h⎟⎥\n",
       "⎢h⋅⎜────── - ────⎟⎥\n",
       "⎢  ⎝  6       4  ⎠⎥\n",
       "⎢                 ⎥\n",
       "⎢  ⎛     2       ⎞⎥\n",
       "⎢h⋅⎝156⋅h  - 21⋅h⎠⎥\n",
       "⎢                 ⎥\n",
       "⎢  ⎛     2       ⎞⎥\n",
       "⎢  ⎜875⋅h    75⋅h⎟⎥\n",
       "⎢h⋅⎜────── - ────⎟⎥\n",
       "⎢  ⎝  6       4  ⎠⎥\n",
       "⎢                 ⎥\n",
       "⎢  ⎛     2       ⎞⎥\n",
       "⎢  ⎜392⋅h        ⎟⎥\n",
       "⎢h⋅⎜────── - 16⋅h⎟⎥\n",
       "⎢  ⎝  3          ⎠⎥\n",
       "⎢                 ⎥\n",
       "⎢  ⎛     2       ⎞⎥\n",
       "⎢  ⎜219⋅h    51⋅h⎟⎥\n",
       "⎢h⋅⎜────── - ────⎟⎥\n",
       "⎢  ⎝  2       4  ⎠⎥\n",
       "⎢                 ⎥\n",
       "⎢  ⎛     2      ⎞ ⎥\n",
       "⎢  ⎜244⋅h       ⎟ ⎥\n",
       "⎢h⋅⎜────── - 9⋅h⎟ ⎥\n",
       "⎢  ⎝  3         ⎠ ⎥\n",
       "⎢                 ⎥\n",
       "⎢  ⎛     2       ⎞⎥\n",
       "⎢  ⎜271⋅h    19⋅h⎟⎥\n",
       "⎢h⋅⎜────── - ────⎟⎥\n",
       "⎣  ⎝  6       4  ⎠⎦"
      ]
     },
     "execution_count": 464,
     "metadata": {},
     "output_type": "execute_result"
    }
   ],
   "source": [
    "u = K.LUsolve(f); u"
   ]
  },
  {
   "cell_type": "code",
   "execution_count": 390,
   "id": "ed6280f3-4c15-4800-a4ae-9d13b2be91b2",
   "metadata": {},
   "outputs": [
    {
     "data": {
      "image/png": "[encoded data removed]",
      "text/latex": [
       "$\\displaystyle \\left( 10, \\  1\\right)$"
      ],
      "text/plain": [
       "(10, 1)"
      ]
     },
     "execution_count": 390,
     "metadata": {},
     "output_type": "execute_result"
    }
   ],
   "source": [
    "shape(u)"
   ]
  },
  {
   "cell_type": "code",
   "execution_count": 465,
   "id": "7a568920-c9a1-4c7d-954e-30eeb0e34f67",
   "metadata": {},
   "outputs": [
    {
     "data": {
      "image/png": "[encoded data removed]",
      "text/latex": [
       "$\\displaystyle 0.1$"
      ],
      "text/plain": [
       "0.1"
      ]
     },
     "execution_count": 465,
     "metadata": {},
     "output_type": "execute_result"
    }
   ],
   "source": [
    "# Now fix the length of the bar, e.g. l = 1 m, and substitute the value of h\n",
    "\n",
    "l = 1 # m\n",
    "hvalue = l/n; hvalue"
   ]
  },
  {
   "cell_type": "code",
   "execution_count": 466,
   "id": "a2f7c680-cc8e-48c3-88db-0e5b97c1951e",
   "metadata": {},
   "outputs": [
    {
     "data": {
      "image/png": "[encoded data removed]",
      "text/latex": [
       "$\\displaystyle \\left[ -0.083333, \\  -0.081, \\  -0.074667, \\  -0.065333, \\  -0.054, \\  -0.041667, \\  -0.029333, \\  -0.018, \\  -0.0086667, \\  -0.0023333\\right]$"
      ],
      "text/plain": [
       "[-0.083333, -0.081, -0.074667, -0.065333, -0.054, -0.041667, -0.029333, -0.018\n",
       ", -0.0086667, -0.0023333]"
      ]
     },
     "execution_count": 466,
     "metadata": {},
     "output_type": "execute_result"
    }
   ],
   "source": [
    "y = list(u.subs(h, hvalue).evalf(5)); y"
   ]
  },
  {
   "cell_type": "code",
   "execution_count": 467,
   "id": "b59f9803-e7a7-4b4a-8df5-231309340791",
   "metadata": {},
   "outputs": [
    {
     "data": {
      "image/png": "[encoded data removed]",
      "text/latex": [
       "$\\displaystyle \\left[ 0.0, \\  0.1, \\  0.2, \\  0.3, \\  0.4, \\  0.5, \\  0.6, \\  0.7, \\  0.8, \\  0.9\\right]$"
      ],
      "text/plain": [
       "[0.0, 0.1, 0.2, 0.30000000000000004, 0.4, 0.5, 0.6000000000000001, 0.700000000\n",
       "0000001, 0.8, 0.9]"
      ]
     },
     "execution_count": 467,
     "metadata": {},
     "output_type": "execute_result"
    }
   ],
   "source": [
    "x = [0+hvalue*i for i in range(n)]; x"
   ]
  },
  {
   "cell_type": "code",
   "execution_count": 469,
   "id": "31251312-b7a7-4a8f-8f5e-c0cc5d0a0e34",
   "metadata": {},
   "outputs": [],
   "source": [
    "plt.plot(x, y)\n",
    "plt.ylim(-.1, .1)\n",
    "plt.show()"
   ]
  }
 ],
 "metadata": {
  "kernelspec": {
   "display_name": "mmp",
   "language": "python",
   "name": "mmp"
  },
  "language_info": {
   "codemirror_mode": {
    "name": "ipython",
    "version": 3
   },
   "file_extension": ".py",
   "mimetype": "text/x-python",
   "name": "python",
   "nbconvert_exporter": "python",
   "pygments_lexer": "ipython3",
   "version": "3.9.12"
  }
 },
 "nbformat": 4,
 "nbformat_minor": 5
}
