{
 "cells": [
  {
   "cell_type": "markdown",
   "id": "be31d391-4559-4860-afd0-3471dda885a6",
   "metadata": {},
   "source": [
    "# Finite elements for BVP with Neumann conditions"
   ]
  },
  {
   "cell_type": "markdown",
   "id": "d178d806-007a-4db6-8ff4-07fbc2f7f90c",
   "metadata": {},
   "source": [
    "Example 6.10 - Inhomogeneous Neumann BVP\n",
    "\n",
    "This example is taken from Gockenbach, Sect. 6.5."
   ]
  },
  {
   "cell_type": "code",
   "execution_count": 50,
   "id": "4d3c5ed6-3d72-47f5-80b5-a4dff77caf0d",
   "metadata": {},
   "outputs": [],
   "source": [
    "%matplotlib inline\n",
    "\n",
    "from sympy import *\n",
    "init_printing()\n",
    "\n",
    "import numpy as np\n",
    "import matplotlib.pyplot as plt\n",
    "from scipy.integrate import quad\n",
    "from scipy.linalg import solve_banded\n",
    "\n",
    "# init_session()"
   ]
  },
  {
   "cell_type": "code",
   "execution_count": 51,
   "id": "dda0aced-b779-4d7d-a13f-a7beb188d6de",
   "metadata": {},
   "outputs": [],
   "source": [
    "u = symbols('u', cls=Function)\n",
    "x = Symbol('x', real=True, domain=Interval(0,1))\n",
    "l = Symbol('l', real=True, positive=True)\n",
    "i = Symbol('i', integer=True)\n",
    "h = Symbol('h', real=True, positive=True)"
   ]
  },
  {
   "cell_type": "code",
   "execution_count": 52,
   "id": "6dace981-47dc-4409-a6ca-f8150635c95c",
   "metadata": {},
   "outputs": [
    {
     "data": {
      "image/png": "[encoded data removed]",
      "text/latex": [
       "$\\displaystyle - \\frac{d^{2}}{d x^{2}} u{\\left(x \\right)} = 2 x - 8$"
      ],
      "text/plain": [
       "   2                \n",
       "  d                 \n",
       "-───(u(x)) = 2⋅x - 8\n",
       "   2                \n",
       " dx                 "
      ]
     },
     "execution_count": 52,
     "metadata": {},
     "output_type": "execute_result"
    }
   ],
   "source": [
    "ode = Eq((-u(x).diff(x, x)),(2*x-8), domain=Interval(0,1)); ode"
   ]
  },
  {
   "cell_type": "code",
   "execution_count": 53,
   "id": "7a19a352-4268-4b45-986b-95ef3e92a898",
   "metadata": {},
   "outputs": [
    {
     "data": {
      "image/png": "[encoded data removed]",
      "text/latex": [
       "$\\displaystyle 2 x - 8$"
      ],
      "text/plain": [
       "2⋅x - 8"
      ]
     },
     "execution_count": 53,
     "metadata": {},
     "output_type": "execute_result"
    }
   ],
   "source": [
    "rhs = ode.args[1]; rhs"
   ]
  },
  {
   "cell_type": "code",
   "execution_count": 54,
   "id": "0186019e-fa5d-4f41-bd80-c660a6ebf164",
   "metadata": {},
   "outputs": [],
   "source": [
    "ics = {\n",
    "    u(0) : 0,\n",
    "    u(1) : 0,\n",
    "#     u(x).diff(x).subs(x, 0) : 0,\n",
    "#     u(x).diff(x).subs(x, l) : 0,\n",
    "}"
   ]
  },
  {
   "cell_type": "code",
   "execution_count": 55,
   "id": "ba9ff606-dd80-4f3d-9c77-013205c23094",
   "metadata": {},
   "outputs": [
    {
     "data": {
      "image/png": "[encoded data removed]",
      "text/latex": [
       "$\\displaystyle - \\frac{x^{3}}{3} + 4 x^{2} - \\frac{11 x}{3}$"
      ],
      "text/plain": [
       "   3              \n",
       "  x       2   11⋅x\n",
       "- ── + 4⋅x  - ────\n",
       "  3            3  "
      ]
     },
     "execution_count": 55,
     "metadata": {},
     "output_type": "execute_result"
    }
   ],
   "source": [
    "u_true = dsolve(ode, func=u(x), ics=ics).args[1]; u_true"
   ]
  },
  {
   "cell_type": "raw",
   "id": "71b42de0-b6e2-463f-916c-5f63b6e54ad0",
   "metadata": {},
   "source": [
    "u_true = -x**3/Integer(6)+x**2/Integer(4)-S.One/Integer(12); u_true"
   ]
  },
  {
   "cell_type": "code",
   "execution_count": 56,
   "id": "592ae153-2c0f-4727-b5de-3412e4fa4ef8",
   "metadata": {},
   "outputs": [],
   "source": [
    "# Fix number of intervals\n",
    "n = 10"
   ]
  },
  {
   "cell_type": "markdown",
   "id": "4889d948-8c8f-4743-946e-c0ed899cc39c",
   "metadata": {
    "tags": []
   },
   "source": [
    "## Numerical computation"
   ]
  },
  {
   "cell_type": "markdown",
   "id": "51c996f2-6ac7-421f-84f6-2625bc1d77cd",
   "metadata": {},
   "source": [
    "### K matrix"
   ]
  },
  {
   "cell_type": "code",
   "execution_count": 57,
   "id": "e4d48d97-a8ce-43e7-a8f2-fc151585eb65",
   "metadata": {},
   "outputs": [
    {
     "name": "stdout",
     "output_type": "stream",
     "text": [
      "e00 = i + 1 - x/h\n"
     ]
    }
   ],
   "source": [
    "# The first (and only) element of the e0 component\n",
    "# From now on, the elements of the basis are called eX, with X their index,\n",
    "# eXY are the entries of the matrix built with the vectors eX,\n",
    "# deXY are the elements of the matrix of the derivatives,\n",
    "# eXeY are the elements of the matrix that has the scalar products as components\n",
    "\n",
    "# e00 = sy_basis.args[1][0]; e00 # this assignment leads to incompatibility\n",
    "                                    # with other expressions and simplification\n",
    "e00 = -x/h + i + S.One; print(\"e00 =\", e00)"
   ]
  },
  {
   "cell_type": "code",
   "execution_count": 58,
   "id": "ef8a79e0-edef-46c3-b2d1-d9bd37fb9146",
   "metadata": {},
   "outputs": [
    {
     "name": "stdout",
     "output_type": "stream",
     "text": [
      "enn = -i + 1 + x/h\n"
     ]
    }
   ],
   "source": [
    "# enn = sy_basis.args[0][0]; enn\n",
    "enn = x/h - i + S.One; print(\"enn =\", enn)"
   ]
  },
  {
   "cell_type": "code",
   "execution_count": 59,
   "id": "939daea9-62cd-49cb-b35c-d1f441e4ebf5",
   "metadata": {},
   "outputs": [
    {
     "data": {
      "text/latex": [
       "$\\displaystyle \\begin{cases} - i + 1 + \\frac{x}{h} & \\text{for}\\: x > h \\left(i - 1\\right) \\wedge x < h i \\\\i + 1 - \\frac{x}{h} & \\text{for}\\: x > h i \\wedge x < h \\left(i + 1\\right) \\\\0 & \\text{otherwise} \\end{cases}$"
      ],
      "text/plain": [
       "⎧         x                             \n",
       "⎪-i + 1 + ─  for x > h⋅(i - 1) ∧ x < h⋅i\n",
       "⎪         h                             \n",
       "⎪                                       \n",
       "⎨        x                              \n",
       "⎪i + 1 - ─   for x > h⋅i ∧ x < h⋅(i + 1)\n",
       "⎪        h                              \n",
       "⎪                                       \n",
       "⎩    0                otherwise         "
      ]
     },
     "execution_count": 59,
     "metadata": {},
     "output_type": "execute_result"
    }
   ],
   "source": [
    "sy_basis = Piecewise(\n",
    "    (enn, (x>(i-1)*h)&(x<i*h)),\n",
    "    (e00, (x>i*h)&(x<(i+1)*h)),\n",
    "    (0, True),\n",
    "); sy_basis"
   ]
  },
  {
   "cell_type": "code",
   "execution_count": 60,
   "id": "57d67639-e010-40e6-9532-b3dd34942629",
   "metadata": {},
   "outputs": [
    {
     "data": {
      "text/latex": [
       "$\\displaystyle \\left[\\begin{matrix}1 - \\frac{x}{h} & 0 & 0 & 0 & 0 & 0 & 0 & 0 & 0 & 0\\\\\\frac{x}{h} & 2 - \\frac{x}{h} & 0 & 0 & 0 & 0 & 0 & 0 & 0 & 0\\\\0 & -1 + \\frac{x}{h} & 3 - \\frac{x}{h} & 0 & 0 & 0 & 0 & 0 & 0 & 0\\\\0 & 0 & -2 + \\frac{x}{h} & 4 - \\frac{x}{h} & 0 & 0 & 0 & 0 & 0 & 0\\\\0 & 0 & 0 & -3 + \\frac{x}{h} & 5 - \\frac{x}{h} & 0 & 0 & 0 & 0 & 0\\\\0 & 0 & 0 & 0 & -4 + \\frac{x}{h} & 6 - \\frac{x}{h} & 0 & 0 & 0 & 0\\\\0 & 0 & 0 & 0 & 0 & -5 + \\frac{x}{h} & 7 - \\frac{x}{h} & 0 & 0 & 0\\\\0 & 0 & 0 & 0 & 0 & 0 & -6 + \\frac{x}{h} & 8 - \\frac{x}{h} & 0 & 0\\\\0 & 0 & 0 & 0 & 0 & 0 & 0 & -7 + \\frac{x}{h} & 9 - \\frac{x}{h} & 0\\\\0 & 0 & 0 & 0 & 0 & 0 & 0 & 0 & -8 + \\frac{x}{h} & 10 - \\frac{x}{h}\\\\0 & 0 & 0 & 0 & 0 & 0 & 0 & 0 & 0 & -9 + \\frac{x}{h}\\end{matrix}\\right]$"
      ],
      "text/plain": [
       "⎡    x                                                                        \n",
       "⎢1 - ─    0       0       0       0       0       0       0       0       0   \n",
       "⎢    h                                                                        \n",
       "⎢                                                                             \n",
       "⎢  x        x                                                                 \n",
       "⎢  ─    2 - ─     0       0       0       0       0       0       0       0   \n",
       "⎢  h        h                                                                 \n",
       "⎢                                                                             \n",
       "⎢            x      x                                                         \n",
       "⎢  0    -1 + ─  3 - ─     0       0       0       0       0       0       0   \n",
       "⎢            h      h                                                         \n",
       "⎢                                                                             \n",
       "⎢                    x      x                                                 \n",
       "⎢  0      0     -2 + ─  4 - ─     0       0       0       0       0       0   \n",
       "⎢                    h      h                                                 \n",
       "⎢                                                                             \n",
       "⎢                            x      x                                         \n",
       "⎢  0      0       0     -3 + ─  5 - ─     0       0       0       0       0   \n",
       "⎢                            h      h                                         \n",
       "⎢                                                                             \n",
       "⎢                                    x      x                                 \n",
       "⎢  0      0       0       0     -4 + ─  6 - ─     0       0       0       0   \n",
       "⎢                                    h      h                                 \n",
       "⎢                                                                             \n",
       "⎢                                            x      x                         \n",
       "⎢  0      0       0       0       0     -5 + ─  7 - ─     0       0       0   \n",
       "⎢                                            h      h                         \n",
       "⎢                                                                             \n",
       "⎢                                                    x      x                 \n",
       "⎢  0      0       0       0       0       0     -6 + ─  8 - ─     0       0   \n",
       "⎢                                                    h      h                 \n",
       "⎢                                                                             \n",
       "⎢                                                            x      x         \n",
       "⎢  0      0       0       0       0       0       0     -7 + ─  9 - ─     0   \n",
       "⎢                                                            h      h         \n",
       "⎢                                                                             \n",
       "⎢                                                                    x       x\n",
       "⎢  0      0       0       0       0       0       0       0     -8 + ─  10 - ─\n",
       "⎢                                                                    h       h\n",
       "⎢                                                                             \n",
       "⎢                                                                            x\n",
       "⎢  0      0       0       0       0       0       0       0       0     -9 + ─\n",
       "⎣                                                                            h\n",
       "\n",
       "⎤\n",
       "⎥\n",
       "⎥\n",
       "⎥\n",
       "⎥\n",
       "⎥\n",
       "⎥\n",
       "⎥\n",
       "⎥\n",
       "⎥\n",
       "⎥\n",
       "⎥\n",
       "⎥\n",
       "⎥\n",
       "⎥\n",
       "⎥\n",
       "⎥\n",
       "⎥\n",
       "⎥\n",
       "⎥\n",
       "⎥\n",
       "⎥\n",
       "⎥\n",
       "⎥\n",
       "⎥\n",
       "⎥\n",
       "⎥\n",
       "⎥\n",
       "⎥\n",
       "⎥\n",
       "⎥\n",
       "⎥\n",
       "⎥\n",
       "⎥\n",
       "⎥\n",
       "⎥\n",
       "⎥\n",
       "⎥\n",
       "⎥\n",
       "⎥\n",
       "⎥\n",
       "⎥\n",
       "⎦"
      ]
     },
     "execution_count": 60,
     "metadata": {},
     "output_type": "execute_result"
    }
   ],
   "source": [
    "# We build the matrix of the elements starting from a list of lists:\n",
    "# each sublist is filled with conditional statements with the\n",
    "# sympy objects e00 and enn that represent the values of the pp basis'\n",
    "# elements in a given interval (represented by index j). The index i\n",
    "# loops on the pp basis (from 0 to n) and is substituted in the expr\n",
    "# e00 and enn. What we obtain is a pure sympy.Matrix object.\n",
    "\n",
    "elist = []\n",
    "for a in range(n+1):\n",
    "    lista = [0 for b in range(n)]\n",
    "    for b in range(n):\n",
    "        if (a!=0)&(b==a-1): lista[b]=enn.subs(i, a)\n",
    "        elif a==b: lista[b]=e00.subs(i, a)\n",
    "        else: lista[b]=0\n",
    "    elist.append(lista)\n",
    "e = Matrix(elist); e"
   ]
  },
  {
   "cell_type": "code",
   "execution_count": 61,
   "id": "26c93d7b-b6f2-4d38-afdc-615294a01ea8",
   "metadata": {},
   "outputs": [
    {
     "data": {
      "text/latex": [
       "$\\displaystyle \\left[\\begin{matrix}- \\frac{1}{h} & 0 & 0 & 0 & 0 & 0 & 0 & 0 & 0 & 0\\\\\\frac{1}{h} & - \\frac{1}{h} & 0 & 0 & 0 & 0 & 0 & 0 & 0 & 0\\\\0 & \\frac{1}{h} & - \\frac{1}{h} & 0 & 0 & 0 & 0 & 0 & 0 & 0\\\\0 & 0 & \\frac{1}{h} & - \\frac{1}{h} & 0 & 0 & 0 & 0 & 0 & 0\\\\0 & 0 & 0 & \\frac{1}{h} & - \\frac{1}{h} & 0 & 0 & 0 & 0 & 0\\\\0 & 0 & 0 & 0 & \\frac{1}{h} & - \\frac{1}{h} & 0 & 0 & 0 & 0\\\\0 & 0 & 0 & 0 & 0 & \\frac{1}{h} & - \\frac{1}{h} & 0 & 0 & 0\\\\0 & 0 & 0 & 0 & 0 & 0 & \\frac{1}{h} & - \\frac{1}{h} & 0 & 0\\\\0 & 0 & 0 & 0 & 0 & 0 & 0 & \\frac{1}{h} & - \\frac{1}{h} & 0\\\\0 & 0 & 0 & 0 & 0 & 0 & 0 & 0 & \\frac{1}{h} & - \\frac{1}{h}\\\\0 & 0 & 0 & 0 & 0 & 0 & 0 & 0 & 0 & \\frac{1}{h}\\end{matrix}\\right]$"
      ],
      "text/plain": [
       "⎡-1                                              ⎤\n",
       "⎢───   0    0    0    0    0    0    0    0    0 ⎥\n",
       "⎢ h                                              ⎥\n",
       "⎢                                                ⎥\n",
       "⎢ 1   -1                                         ⎥\n",
       "⎢ ─   ───   0    0    0    0    0    0    0    0 ⎥\n",
       "⎢ h    h                                         ⎥\n",
       "⎢                                                ⎥\n",
       "⎢      1   -1                                    ⎥\n",
       "⎢ 0    ─   ───   0    0    0    0    0    0    0 ⎥\n",
       "⎢      h    h                                    ⎥\n",
       "⎢                                                ⎥\n",
       "⎢           1   -1                               ⎥\n",
       "⎢ 0    0    ─   ───   0    0    0    0    0    0 ⎥\n",
       "⎢           h    h                               ⎥\n",
       "⎢                                                ⎥\n",
       "⎢                1   -1                          ⎥\n",
       "⎢ 0    0    0    ─   ───   0    0    0    0    0 ⎥\n",
       "⎢                h    h                          ⎥\n",
       "⎢                                                ⎥\n",
       "⎢                     1   -1                     ⎥\n",
       "⎢ 0    0    0    0    ─   ───   0    0    0    0 ⎥\n",
       "⎢                     h    h                     ⎥\n",
       "⎢                                                ⎥\n",
       "⎢                          1   -1                ⎥\n",
       "⎢ 0    0    0    0    0    ─   ───   0    0    0 ⎥\n",
       "⎢                          h    h                ⎥\n",
       "⎢                                                ⎥\n",
       "⎢                               1   -1           ⎥\n",
       "⎢ 0    0    0    0    0    0    ─   ───   0    0 ⎥\n",
       "⎢                               h    h           ⎥\n",
       "⎢                                                ⎥\n",
       "⎢                                    1   -1      ⎥\n",
       "⎢ 0    0    0    0    0    0    0    ─   ───   0 ⎥\n",
       "⎢                                    h    h      ⎥\n",
       "⎢                                                ⎥\n",
       "⎢                                         1   -1 ⎥\n",
       "⎢ 0    0    0    0    0    0    0    0    ─   ───⎥\n",
       "⎢                                         h    h ⎥\n",
       "⎢                                                ⎥\n",
       "⎢                                              1 ⎥\n",
       "⎢ 0    0    0    0    0    0    0    0    0    ─ ⎥\n",
       "⎣                                              h ⎦"
      ]
     },
     "execution_count": 61,
     "metadata": {},
     "output_type": "execute_result"
    }
   ],
   "source": [
    "# Build the matrix of the derivatives via a lambda function passed as argument\n",
    "# to the native sympy method sympy.applyfunc()\n",
    "# The function differentiates each entry with respect to x.\n",
    "\n",
    "de = e.applyfunc(lambda entry : entry.diff(x)); de"
   ]
  },
  {
   "cell_type": "code",
   "execution_count": 62,
   "id": "b48ff9e6-f259-4fc5-b29e-79c1aaad78da",
   "metadata": {},
   "outputs": [
    {
     "data": {
      "text/latex": [
       "$\\displaystyle \\left[\\begin{array}{ccccccccccc}\\frac{1}{h^{2}} & - \\frac{1}{h^{2}} & 0 & 0 & 0 & 0 & 0 & 0 & 0 & 0 & 0\\\\- \\frac{1}{h^{2}} & \\frac{2}{h^{2}} & - \\frac{1}{h^{2}} & 0 & 0 & 0 & 0 & 0 & 0 & 0 & 0\\\\0 & - \\frac{1}{h^{2}} & \\frac{2}{h^{2}} & - \\frac{1}{h^{2}} & 0 & 0 & 0 & 0 & 0 & 0 & 0\\\\0 & 0 & - \\frac{1}{h^{2}} & \\frac{2}{h^{2}} & - \\frac{1}{h^{2}} & 0 & 0 & 0 & 0 & 0 & 0\\\\0 & 0 & 0 & - \\frac{1}{h^{2}} & \\frac{2}{h^{2}} & - \\frac{1}{h^{2}} & 0 & 0 & 0 & 0 & 0\\\\0 & 0 & 0 & 0 & - \\frac{1}{h^{2}} & \\frac{2}{h^{2}} & - \\frac{1}{h^{2}} & 0 & 0 & 0 & 0\\\\0 & 0 & 0 & 0 & 0 & - \\frac{1}{h^{2}} & \\frac{2}{h^{2}} & - \\frac{1}{h^{2}} & 0 & 0 & 0\\\\0 & 0 & 0 & 0 & 0 & 0 & - \\frac{1}{h^{2}} & \\frac{2}{h^{2}} & - \\frac{1}{h^{2}} & 0 & 0\\\\0 & 0 & 0 & 0 & 0 & 0 & 0 & - \\frac{1}{h^{2}} & \\frac{2}{h^{2}} & - \\frac{1}{h^{2}} & 0\\\\0 & 0 & 0 & 0 & 0 & 0 & 0 & 0 & - \\frac{1}{h^{2}} & \\frac{2}{h^{2}} & - \\frac{1}{h^{2}}\\\\0 & 0 & 0 & 0 & 0 & 0 & 0 & 0 & 0 & - \\frac{1}{h^{2}} & \\frac{1}{h^{2}}\\end{array}\\right]$"
      ],
      "text/plain": [
       "⎡1    -1                                              ⎤\n",
       "⎢──   ───   0    0    0    0    0    0    0    0    0 ⎥\n",
       "⎢ 2     2                                             ⎥\n",
       "⎢h     h                                              ⎥\n",
       "⎢                                                     ⎥\n",
       "⎢-1   2    -1                                         ⎥\n",
       "⎢───  ──   ───   0    0    0    0    0    0    0    0 ⎥\n",
       "⎢  2   2     2                                        ⎥\n",
       "⎢ h   h     h                                         ⎥\n",
       "⎢                                                     ⎥\n",
       "⎢     -1   2    -1                                    ⎥\n",
       "⎢ 0   ───  ──   ───   0    0    0    0    0    0    0 ⎥\n",
       "⎢       2   2     2                                   ⎥\n",
       "⎢      h   h     h                                    ⎥\n",
       "⎢                                                     ⎥\n",
       "⎢          -1   2    -1                               ⎥\n",
       "⎢ 0    0   ───  ──   ───   0    0    0    0    0    0 ⎥\n",
       "⎢            2   2     2                              ⎥\n",
       "⎢           h   h     h                               ⎥\n",
       "⎢                                                     ⎥\n",
       "⎢               -1   2    -1                          ⎥\n",
       "⎢ 0    0    0   ───  ──   ───   0    0    0    0    0 ⎥\n",
       "⎢                 2   2     2                         ⎥\n",
       "⎢                h   h     h                          ⎥\n",
       "⎢                                                     ⎥\n",
       "⎢                    -1   2    -1                     ⎥\n",
       "⎢ 0    0    0    0   ───  ──   ───   0    0    0    0 ⎥\n",
       "⎢                      2   2     2                    ⎥\n",
       "⎢                     h   h     h                     ⎥\n",
       "⎢                                                     ⎥\n",
       "⎢                         -1   2    -1                ⎥\n",
       "⎢ 0    0    0    0    0   ───  ──   ───   0    0    0 ⎥\n",
       "⎢                           2   2     2               ⎥\n",
       "⎢                          h   h     h                ⎥\n",
       "⎢                                                     ⎥\n",
       "⎢                              -1   2    -1           ⎥\n",
       "⎢ 0    0    0    0    0    0   ───  ──   ───   0    0 ⎥\n",
       "⎢                                2   2     2          ⎥\n",
       "⎢                               h   h     h           ⎥\n",
       "⎢                                                     ⎥\n",
       "⎢                                   -1   2    -1      ⎥\n",
       "⎢ 0    0    0    0    0    0    0   ───  ──   ───   0 ⎥\n",
       "⎢                                     2   2     2     ⎥\n",
       "⎢                                    h   h     h      ⎥\n",
       "⎢                                                     ⎥\n",
       "⎢                                        -1   2    -1 ⎥\n",
       "⎢ 0    0    0    0    0    0    0    0   ───  ──   ───⎥\n",
       "⎢                                          2   2     2⎥\n",
       "⎢                                         h   h     h ⎥\n",
       "⎢                                                     ⎥\n",
       "⎢                                             -1   1  ⎥\n",
       "⎢ 0    0    0    0    0    0    0    0    0   ───  ── ⎥\n",
       "⎢                                               2   2 ⎥\n",
       "⎣                                              h   h  ⎦"
      ]
     },
     "execution_count": 62,
     "metadata": {},
     "output_type": "execute_result"
    }
   ],
   "source": [
    "# Implement an interval-wise scalar product by computing the matrix\n",
    "# product of the matrix of the derivatives and its transpose.\n",
    "# The resulting matrix is the matrix of the integrands of the matrix Kij,\n",
    "# and we should call it Iij.\n",
    "\n",
    "Iij = de*de.T; Iij"
   ]
  },
  {
   "cell_type": "code",
   "execution_count": 63,
   "id": "0ebb5cb5-754a-47a6-a864-7b048871ece1",
   "metadata": {},
   "outputs": [
    {
     "data": {
      "text/latex": [
       "$\\displaystyle \\left[\\begin{array}{ccccccccccc}\\frac{1}{h} & - \\frac{1}{h} & 0 & 0 & 0 & 0 & 0 & 0 & 0 & 0 & 0\\\\- \\frac{1}{h} & \\frac{2}{h} & - \\frac{1}{h} & 0 & 0 & 0 & 0 & 0 & 0 & 0 & 0\\\\0 & - \\frac{1}{h} & \\frac{2}{h} & - \\frac{1}{h} & 0 & 0 & 0 & 0 & 0 & 0 & 0\\\\0 & 0 & - \\frac{1}{h} & \\frac{2}{h} & - \\frac{1}{h} & 0 & 0 & 0 & 0 & 0 & 0\\\\0 & 0 & 0 & - \\frac{1}{h} & \\frac{2}{h} & - \\frac{1}{h} & 0 & 0 & 0 & 0 & 0\\\\0 & 0 & 0 & 0 & - \\frac{1}{h} & \\frac{2}{h} & - \\frac{1}{h} & 0 & 0 & 0 & 0\\\\0 & 0 & 0 & 0 & 0 & - \\frac{1}{h} & \\frac{2}{h} & - \\frac{1}{h} & 0 & 0 & 0\\\\0 & 0 & 0 & 0 & 0 & 0 & - \\frac{1}{h} & \\frac{2}{h} & - \\frac{1}{h} & 0 & 0\\\\0 & 0 & 0 & 0 & 0 & 0 & 0 & - \\frac{1}{h} & \\frac{2}{h} & - \\frac{1}{h} & 0\\\\0 & 0 & 0 & 0 & 0 & 0 & 0 & 0 & - \\frac{1}{h} & \\frac{2}{h} & - \\frac{1}{h}\\\\0 & 0 & 0 & 0 & 0 & 0 & 0 & 0 & 0 & - \\frac{1}{h} & \\frac{1}{h}\\end{array}\\right]$"
      ],
      "text/plain": [
       "⎡ 1   -1                                              ⎤\n",
       "⎢ ─   ───   0    0    0    0    0    0    0    0    0 ⎥\n",
       "⎢ h    h                                              ⎥\n",
       "⎢                                                     ⎥\n",
       "⎢-1    2   -1                                         ⎥\n",
       "⎢───   ─   ───   0    0    0    0    0    0    0    0 ⎥\n",
       "⎢ h    h    h                                         ⎥\n",
       "⎢                                                     ⎥\n",
       "⎢     -1    2   -1                                    ⎥\n",
       "⎢ 0   ───   ─   ───   0    0    0    0    0    0    0 ⎥\n",
       "⎢      h    h    h                                    ⎥\n",
       "⎢                                                     ⎥\n",
       "⎢          -1    2   -1                               ⎥\n",
       "⎢ 0    0   ───   ─   ───   0    0    0    0    0    0 ⎥\n",
       "⎢           h    h    h                               ⎥\n",
       "⎢                                                     ⎥\n",
       "⎢               -1    2   -1                          ⎥\n",
       "⎢ 0    0    0   ───   ─   ───   0    0    0    0    0 ⎥\n",
       "⎢                h    h    h                          ⎥\n",
       "⎢                                                     ⎥\n",
       "⎢                    -1    2   -1                     ⎥\n",
       "⎢ 0    0    0    0   ───   ─   ───   0    0    0    0 ⎥\n",
       "⎢                     h    h    h                     ⎥\n",
       "⎢                                                     ⎥\n",
       "⎢                         -1    2   -1                ⎥\n",
       "⎢ 0    0    0    0    0   ───   ─   ───   0    0    0 ⎥\n",
       "⎢                          h    h    h                ⎥\n",
       "⎢                                                     ⎥\n",
       "⎢                              -1    2   -1           ⎥\n",
       "⎢ 0    0    0    0    0    0   ───   ─   ───   0    0 ⎥\n",
       "⎢                               h    h    h           ⎥\n",
       "⎢                                                     ⎥\n",
       "⎢                                   -1    2   -1      ⎥\n",
       "⎢ 0    0    0    0    0    0    0   ───   ─   ───   0 ⎥\n",
       "⎢                                    h    h    h      ⎥\n",
       "⎢                                                     ⎥\n",
       "⎢                                        -1    2   -1 ⎥\n",
       "⎢ 0    0    0    0    0    0    0    0   ───   ─   ───⎥\n",
       "⎢                                         h    h    h ⎥\n",
       "⎢                                                     ⎥\n",
       "⎢                                             -1    1 ⎥\n",
       "⎢ 0    0    0    0    0    0    0    0    0   ───   ─ ⎥\n",
       "⎣                                              h    h ⎦"
      ]
     },
     "execution_count": 63,
     "metadata": {},
     "output_type": "execute_result"
    }
   ],
   "source": [
    "# Since the entries of the matrix of the integrands are interval-wise,\n",
    "# the integrals on each interval, which will be the entries of the matrix\n",
    "# Kij, can be computed by integrating from 0 to h each entry of Iij.\n",
    "# This is true only because the entries of Iij don't depend on the index\n",
    "# of the piecewise element they refer to.\n",
    "\n",
    "Kij = Iij.applyfunc(lambda entry : entry.integrate((x, S.Zero, h))); Kij"
   ]
  },
  {
   "cell_type": "markdown",
   "id": "b1441cf6-a4c4-418d-a2c9-7a688607c50d",
   "metadata": {},
   "source": [
    "### RHS vector"
   ]
  },
  {
   "cell_type": "code",
   "execution_count": 64,
   "id": "9b483b88-c2a8-46be-a500-fbe6aaced922",
   "metadata": {},
   "outputs": [
    {
     "data": {
      "image/png": "[encoded data removed]",
      "text/latex": [
       "$\\displaystyle 2 x - 8$"
      ],
      "text/plain": [
       "2⋅x - 8"
      ]
     },
     "execution_count": 64,
     "metadata": {},
     "output_type": "execute_result"
    }
   ],
   "source": [
    "# The rhs function has be defined as a sympy expression\n",
    "\n",
    "rhs"
   ]
  },
  {
   "cell_type": "code",
   "execution_count": 65,
   "id": "eff1e814-70fc-4f92-8c27-da19c6d14dfb",
   "metadata": {},
   "outputs": [
    {
     "data": {
      "text/latex": [
       "$\\displaystyle \\left[\\begin{matrix}\\left(1 - \\frac{x}{h}\\right) \\left(2 x - 8\\right) & 0 & 0 & 0 & 0 & 0 & 0 & 0 & 0 & 0\\\\\\frac{x \\left(2 x - 8\\right)}{h} & \\left(2 - \\frac{x}{h}\\right) \\left(2 x - 8\\right) & 0 & 0 & 0 & 0 & 0 & 0 & 0 & 0\\\\0 & \\left(-1 + \\frac{x}{h}\\right) \\left(2 x - 8\\right) & \\left(3 - \\frac{x}{h}\\right) \\left(2 x - 8\\right) & 0 & 0 & 0 & 0 & 0 & 0 & 0\\\\0 & 0 & \\left(-2 + \\frac{x}{h}\\right) \\left(2 x - 8\\right) & \\left(4 - \\frac{x}{h}\\right) \\left(2 x - 8\\right) & 0 & 0 & 0 & 0 & 0 & 0\\\\0 & 0 & 0 & \\left(-3 + \\frac{x}{h}\\right) \\left(2 x - 8\\right) & \\left(5 - \\frac{x}{h}\\right) \\left(2 x - 8\\right) & 0 & 0 & 0 & 0 & 0\\\\0 & 0 & 0 & 0 & \\left(-4 + \\frac{x}{h}\\right) \\left(2 x - 8\\right) & \\left(6 - \\frac{x}{h}\\right) \\left(2 x - 8\\right) & 0 & 0 & 0 & 0\\\\0 & 0 & 0 & 0 & 0 & \\left(-5 + \\frac{x}{h}\\right) \\left(2 x - 8\\right) & \\left(7 - \\frac{x}{h}\\right) \\left(2 x - 8\\right) & 0 & 0 & 0\\\\0 & 0 & 0 & 0 & 0 & 0 & \\left(-6 + \\frac{x}{h}\\right) \\left(2 x - 8\\right) & \\left(8 - \\frac{x}{h}\\right) \\left(2 x - 8\\right) & 0 & 0\\\\0 & 0 & 0 & 0 & 0 & 0 & 0 & \\left(-7 + \\frac{x}{h}\\right) \\left(2 x - 8\\right) & \\left(9 - \\frac{x}{h}\\right) \\left(2 x - 8\\right) & 0\\\\0 & 0 & 0 & 0 & 0 & 0 & 0 & 0 & \\left(-8 + \\frac{x}{h}\\right) \\left(2 x - 8\\right) & \\left(10 - \\frac{x}{h}\\right) \\left(2 x - 8\\right)\\\\0 & 0 & 0 & 0 & 0 & 0 & 0 & 0 & 0 & \\left(-9 + \\frac{x}{h}\\right) \\left(2 x - 8\\right)\\end{matrix}\\right]$"
      ],
      "text/plain": [
       "⎡⎛    x⎞                                                                      \n",
       "⎢⎜1 - ─⎟⋅(2⋅x - 8)          0                   0                   0         \n",
       "⎢⎝    h⎠                                                                      \n",
       "⎢                                                                             \n",
       "⎢   x⋅(2⋅x - 8)     ⎛    x⎞                                                   \n",
       "⎢   ───────────     ⎜2 - ─⎟⋅(2⋅x - 8)           0                   0         \n",
       "⎢        h          ⎝    h⎠                                                   \n",
       "⎢                                                                             \n",
       "⎢                   ⎛     x⎞            ⎛    x⎞                               \n",
       "⎢        0          ⎜-1 + ─⎟⋅(2⋅x - 8)  ⎜3 - ─⎟⋅(2⋅x - 8)           0         \n",
       "⎢                   ⎝     h⎠            ⎝    h⎠                               \n",
       "⎢                                                                             \n",
       "⎢                                       ⎛     x⎞            ⎛    x⎞           \n",
       "⎢        0                  0           ⎜-2 + ─⎟⋅(2⋅x - 8)  ⎜4 - ─⎟⋅(2⋅x - 8) \n",
       "⎢                                       ⎝     h⎠            ⎝    h⎠           \n",
       "⎢                                                                             \n",
       "⎢                                                           ⎛     x⎞          \n",
       "⎢        0                  0                   0           ⎜-3 + ─⎟⋅(2⋅x - 8)\n",
       "⎢                                                           ⎝     h⎠          \n",
       "⎢                                                                             \n",
       "⎢                                                                             \n",
       "⎢        0                  0                   0                   0         \n",
       "⎢                                                                             \n",
       "⎢                                                                             \n",
       "⎢                                                                             \n",
       "⎢        0                  0                   0                   0         \n",
       "⎢                                                                             \n",
       "⎢                                                                             \n",
       "⎢                                                                             \n",
       "⎢        0                  0                   0                   0         \n",
       "⎢                                                                             \n",
       "⎢                                                                             \n",
       "⎢                                                                             \n",
       "⎢        0                  0                   0                   0         \n",
       "⎢                                                                             \n",
       "⎢                                                                             \n",
       "⎢                                                                             \n",
       "⎢        0                  0                   0                   0         \n",
       "⎢                                                                             \n",
       "⎢                                                                             \n",
       "⎢                                                                             \n",
       "⎢        0                  0                   0                   0         \n",
       "⎣                                                                             \n",
       "\n",
       "                                                                              \n",
       "          0                   0                   0                   0       \n",
       "                                                                              \n",
       "                                                                              \n",
       "                                                                              \n",
       "          0                   0                   0                   0       \n",
       "                                                                              \n",
       "                                                                              \n",
       "                                                                              \n",
       "          0                   0                   0                   0       \n",
       "                                                                              \n",
       "                                                                              \n",
       "                                                                              \n",
       "          0                   0                   0                   0       \n",
       "                                                                              \n",
       "                                                                              \n",
       "  ⎛    x⎞                                                                     \n",
       "  ⎜5 - ─⎟⋅(2⋅x - 8)           0                   0                   0       \n",
       "  ⎝    h⎠                                                                     \n",
       "                                                                              \n",
       "  ⎛     x⎞            ⎛    x⎞                                                 \n",
       "  ⎜-4 + ─⎟⋅(2⋅x - 8)  ⎜6 - ─⎟⋅(2⋅x - 8)           0                   0       \n",
       "  ⎝     h⎠            ⎝    h⎠                                                 \n",
       "                                                                              \n",
       "                      ⎛     x⎞            ⎛    x⎞                             \n",
       "          0           ⎜-5 + ─⎟⋅(2⋅x - 8)  ⎜7 - ─⎟⋅(2⋅x - 8)           0       \n",
       "                      ⎝     h⎠            ⎝    h⎠                             \n",
       "                                                                              \n",
       "                                          ⎛     x⎞            ⎛    x⎞         \n",
       "          0                   0           ⎜-6 + ─⎟⋅(2⋅x - 8)  ⎜8 - ─⎟⋅(2⋅x - 8\n",
       "                                          ⎝     h⎠            ⎝    h⎠         \n",
       "                                                                              \n",
       "                                                              ⎛     x⎞        \n",
       "          0                   0                   0           ⎜-7 + ─⎟⋅(2⋅x - \n",
       "                                                              ⎝     h⎠        \n",
       "                                                                              \n",
       "                                                                              \n",
       "          0                   0                   0                   0       \n",
       "                                                                              \n",
       "                                                                              \n",
       "                                                                              \n",
       "          0                   0                   0                   0       \n",
       "                                                                              \n",
       "\n",
       "                                          ⎤\n",
       "            0                   0         ⎥\n",
       "                                          ⎥\n",
       "                                          ⎥\n",
       "                                          ⎥\n",
       "            0                   0         ⎥\n",
       "                                          ⎥\n",
       "                                          ⎥\n",
       "                                          ⎥\n",
       "            0                   0         ⎥\n",
       "                                          ⎥\n",
       "                                          ⎥\n",
       "                                          ⎥\n",
       "            0                   0         ⎥\n",
       "                                          ⎥\n",
       "                                          ⎥\n",
       "                                          ⎥\n",
       "            0                   0         ⎥\n",
       "                                          ⎥\n",
       "                                          ⎥\n",
       "                                          ⎥\n",
       "            0                   0         ⎥\n",
       "                                          ⎥\n",
       "                                          ⎥\n",
       "                                          ⎥\n",
       "            0                   0         ⎥\n",
       "                                          ⎥\n",
       "                                          ⎥\n",
       "                                          ⎥\n",
       ")           0                   0         ⎥\n",
       "                                          ⎥\n",
       "                                          ⎥\n",
       "    ⎛    x⎞                               ⎥\n",
       "8)  ⎜9 - ─⎟⋅(2⋅x - 8)           0         ⎥\n",
       "    ⎝    h⎠                               ⎥\n",
       "                                          ⎥\n",
       "    ⎛     x⎞            ⎛     x⎞          ⎥\n",
       "    ⎜-8 + ─⎟⋅(2⋅x - 8)  ⎜10 - ─⎟⋅(2⋅x - 8)⎥\n",
       "    ⎝     h⎠            ⎝     h⎠          ⎥\n",
       "                                          ⎥\n",
       "                        ⎛     x⎞          ⎥\n",
       "            0           ⎜-9 + ─⎟⋅(2⋅x - 8)⎥\n",
       "                        ⎝     h⎠          ⎦"
      ]
     },
     "execution_count": 65,
     "metadata": {},
     "output_type": "execute_result"
    }
   ],
   "source": [
    "If = e.applyfunc(lambda entry : entry*rhs); If"
   ]
  },
  {
   "cell_type": "code",
   "execution_count": 66,
   "id": "4d4b6692-0e11-4424-9adc-88bea42df01d",
   "metadata": {},
   "outputs": [
    {
     "data": {
      "text/latex": [
       "$\\displaystyle \\left[\\begin{matrix}\\frac{h^{2}}{3} - 4 h & 0 & 0 & 0 & 0 & 0 & 0 & 0 & 0 & 0\\\\\\frac{2 h^{2}}{3} - 4 h & \\frac{4 h^{2}}{3} - 4 h & 0 & 0 & 0 & 0 & 0 & 0 & 0 & 0\\\\0 & \\frac{5 h^{2}}{3} - 4 h & \\frac{7 h^{2}}{3} - 4 h & 0 & 0 & 0 & 0 & 0 & 0 & 0\\\\0 & 0 & \\frac{8 h^{2}}{3} - 4 h & \\frac{10 h^{2}}{3} - 4 h & 0 & 0 & 0 & 0 & 0 & 0\\\\0 & 0 & 0 & \\frac{11 h^{2}}{3} - 4 h & \\frac{13 h^{2}}{3} - 4 h & 0 & 0 & 0 & 0 & 0\\\\0 & 0 & 0 & 0 & \\frac{14 h^{2}}{3} - 4 h & \\frac{16 h^{2}}{3} - 4 h & 0 & 0 & 0 & 0\\\\0 & 0 & 0 & 0 & 0 & \\frac{17 h^{2}}{3} - 4 h & \\frac{19 h^{2}}{3} - 4 h & 0 & 0 & 0\\\\0 & 0 & 0 & 0 & 0 & 0 & \\frac{20 h^{2}}{3} - 4 h & \\frac{22 h^{2}}{3} - 4 h & 0 & 0\\\\0 & 0 & 0 & 0 & 0 & 0 & 0 & \\frac{23 h^{2}}{3} - 4 h & \\frac{25 h^{2}}{3} - 4 h & 0\\\\0 & 0 & 0 & 0 & 0 & 0 & 0 & 0 & \\frac{26 h^{2}}{3} - 4 h & \\frac{28 h^{2}}{3} - 4 h\\\\0 & 0 & 0 & 0 & 0 & 0 & 0 & 0 & 0 & \\frac{29 h^{2}}{3} + 56 h - 6\\end{matrix}\\right]$"
      ],
      "text/plain": [
       "⎡  2                                                                          \n",
       "⎢ h                                                                           \n",
       "⎢ ── - 4⋅h       0           0            0            0            0         \n",
       "⎢ 3                                                                           \n",
       "⎢                                                                             \n",
       "⎢   2           2                                                             \n",
       "⎢2⋅h         4⋅h                                                              \n",
       "⎢──── - 4⋅h  ──── - 4⋅h      0            0            0            0         \n",
       "⎢ 3           3                                                               \n",
       "⎢                                                                             \n",
       "⎢               2           2                                                 \n",
       "⎢            5⋅h         7⋅h                                                  \n",
       "⎢    0       ──── - 4⋅h  ──── - 4⋅h       0            0            0         \n",
       "⎢             3           3                                                   \n",
       "⎢                                                                             \n",
       "⎢                           2            2                                    \n",
       "⎢                        8⋅h         10⋅h                                     \n",
       "⎢    0           0       ──── - 4⋅h  ───── - 4⋅h       0            0         \n",
       "⎢                         3            3                                      \n",
       "⎢                                                                             \n",
       "⎢                                        2            2                       \n",
       "⎢                                    11⋅h         13⋅h                        \n",
       "⎢    0           0           0       ───── - 4⋅h  ───── - 4⋅h       0         \n",
       "⎢                                      3            3                         \n",
       "⎢                                                                             \n",
       "⎢                                                     2            2          \n",
       "⎢                                                 14⋅h         16⋅h           \n",
       "⎢    0           0           0            0       ───── - 4⋅h  ───── - 4⋅h    \n",
       "⎢                                                   3            3            \n",
       "⎢                                                                             \n",
       "⎢                                                                  2          \n",
       "⎢                                                              17⋅h         19\n",
       "⎢    0           0           0            0            0       ───── - 4⋅h  ──\n",
       "⎢                                                                3            \n",
       "⎢                                                                             \n",
       "⎢                                                                             \n",
       "⎢                                                                           20\n",
       "⎢    0           0           0            0            0            0       ──\n",
       "⎢                                                                             \n",
       "⎢                                                                             \n",
       "⎢                                                                             \n",
       "⎢                                                                             \n",
       "⎢    0           0           0            0            0            0         \n",
       "⎢                                                                             \n",
       "⎢                                                                             \n",
       "⎢                                                                             \n",
       "⎢                                                                             \n",
       "⎢    0           0           0            0            0            0         \n",
       "⎢                                                                             \n",
       "⎢                                                                             \n",
       "⎢                                                                             \n",
       "⎢                                                                             \n",
       "⎢    0           0           0            0            0            0         \n",
       "⎣                                                                             \n",
       "\n",
       "                                                     ⎤\n",
       "                                                     ⎥\n",
       "   0            0            0              0        ⎥\n",
       "                                                     ⎥\n",
       "                                                     ⎥\n",
       "                                                     ⎥\n",
       "                                                     ⎥\n",
       "   0            0            0              0        ⎥\n",
       "                                                     ⎥\n",
       "                                                     ⎥\n",
       "                                                     ⎥\n",
       "                                                     ⎥\n",
       "   0            0            0              0        ⎥\n",
       "                                                     ⎥\n",
       "                                                     ⎥\n",
       "                                                     ⎥\n",
       "                                                     ⎥\n",
       "   0            0            0              0        ⎥\n",
       "                                                     ⎥\n",
       "                                                     ⎥\n",
       "                                                     ⎥\n",
       "                                                     ⎥\n",
       "   0            0            0              0        ⎥\n",
       "                                                     ⎥\n",
       "                                                     ⎥\n",
       "                                                     ⎥\n",
       "                                                     ⎥\n",
       "   0            0            0              0        ⎥\n",
       "                                                     ⎥\n",
       "                                                     ⎥\n",
       "  2                                                  ⎥\n",
       "⋅h                                                   ⎥\n",
       "─── - 4⋅h       0            0              0        ⎥\n",
       "3                                                    ⎥\n",
       "                                                     ⎥\n",
       "  2            2                                     ⎥\n",
       "⋅h         22⋅h                                      ⎥\n",
       "─── - 4⋅h  ───── - 4⋅h       0              0        ⎥\n",
       "3            3                                       ⎥\n",
       "                                                     ⎥\n",
       "               2            2                        ⎥\n",
       "           23⋅h         25⋅h                         ⎥\n",
       "   0       ───── - 4⋅h  ───── - 4⋅h         0        ⎥\n",
       "             3            3                          ⎥\n",
       "                                                     ⎥\n",
       "                            2              2         ⎥\n",
       "                        26⋅h           28⋅h          ⎥\n",
       "   0            0       ───── - 4⋅h    ───── - 4⋅h   ⎥\n",
       "                          3              3           ⎥\n",
       "                                                     ⎥\n",
       "                                         2           ⎥\n",
       "                                     29⋅h            ⎥\n",
       "   0            0            0       ───── + 56⋅h - 6⎥\n",
       "                                       3             ⎦"
      ]
     },
     "execution_count": 66,
     "metadata": {},
     "output_type": "execute_result"
    }
   ],
   "source": [
    "# 2. build the matrix with the result of the integration of each\n",
    "# integrand function (per interval, per piecewise element)\n",
    "\n",
    "fflist = []\n",
    "for a in range(n+1):\n",
    "    lista = [0 for b in range(n)]\n",
    "    for b in range(n):\n",
    "        if (a==0): lista[b]=expand(If.row(a)[b].integrate((x, S.Zero, h)))\n",
    "        elif (a==n): lista[b]=expand(If.row(a)[b].integrate((x, S.One-h, S.One)))\n",
    "        else: lista[b]=expand(If.row(a)[b].integrate((x, b*h, (b+1)*h)))\n",
    "    fflist.append(lista)\n",
    "fij = Matrix(fflist); fij"
   ]
  },
  {
   "cell_type": "code",
   "execution_count": 67,
   "id": "3f92cdaf-8c2f-4a70-9837-60aec81a8acc",
   "metadata": {},
   "outputs": [
    {
     "data": {
      "text/latex": [
       "$\\displaystyle \\left[\\begin{matrix}\\frac{h^{2}}{3} - 4 h\\\\2 h^{2} - 8 h\\\\4 h^{2} - 8 h\\\\6 h^{2} - 8 h\\\\8 h^{2} - 8 h\\\\10 h^{2} - 8 h\\\\12 h^{2} - 8 h\\\\14 h^{2} - 8 h\\\\16 h^{2} - 8 h\\\\18 h^{2} - 8 h\\\\\\frac{29 h^{2}}{3} + 56 h - 6\\end{matrix}\\right]$"
      ],
      "text/plain": [
       "⎡     2          ⎤\n",
       "⎢    h           ⎥\n",
       "⎢    ── - 4⋅h    ⎥\n",
       "⎢    3           ⎥\n",
       "⎢                ⎥\n",
       "⎢      2         ⎥\n",
       "⎢   2⋅h  - 8⋅h   ⎥\n",
       "⎢                ⎥\n",
       "⎢      2         ⎥\n",
       "⎢   4⋅h  - 8⋅h   ⎥\n",
       "⎢                ⎥\n",
       "⎢      2         ⎥\n",
       "⎢   6⋅h  - 8⋅h   ⎥\n",
       "⎢                ⎥\n",
       "⎢      2         ⎥\n",
       "⎢   8⋅h  - 8⋅h   ⎥\n",
       "⎢                ⎥\n",
       "⎢      2         ⎥\n",
       "⎢  10⋅h  - 8⋅h   ⎥\n",
       "⎢                ⎥\n",
       "⎢      2         ⎥\n",
       "⎢  12⋅h  - 8⋅h   ⎥\n",
       "⎢                ⎥\n",
       "⎢      2         ⎥\n",
       "⎢  14⋅h  - 8⋅h   ⎥\n",
       "⎢                ⎥\n",
       "⎢      2         ⎥\n",
       "⎢  16⋅h  - 8⋅h   ⎥\n",
       "⎢                ⎥\n",
       "⎢      2         ⎥\n",
       "⎢  18⋅h  - 8⋅h   ⎥\n",
       "⎢                ⎥\n",
       "⎢    2           ⎥\n",
       "⎢29⋅h            ⎥\n",
       "⎢───── + 56⋅h - 6⎥\n",
       "⎣  3             ⎦"
      ]
     },
     "execution_count": 67,
     "metadata": {},
     "output_type": "execute_result"
    }
   ],
   "source": [
    "# 3. build the vector fi, whose entries are the sums of the integrals\n",
    "# on each piecewise element. To do that, we project each row on a\n",
    "# column vector of ones.\n",
    "\n",
    "ones = Matrix([S.One for i in range(n)])\n",
    "\n",
    "flist = []\n",
    "for a in range(n+1):\n",
    "    flist.append(fij.row(a)*ones)\n",
    "fi = Matrix(flist); fi"
   ]
  },
  {
   "cell_type": "markdown",
   "id": "0faf6421-7010-44ed-b9ff-bf1d67e5f570",
   "metadata": {},
   "source": [
    "## Building a solution\n",
    "\n",
    "Being Kij singular, one way to make it full-rank, thus invertible, is to remove its last row and column. The same must be applied to the fi vector, whose last element is popped. In this way, the linear algebra problem **Ku=f** has a unique solution."
   ]
  },
  {
   "cell_type": "code",
   "execution_count": 68,
   "id": "e22ef5e5-6c5c-4df1-9e75-e84ca882f282",
   "metadata": {},
   "outputs": [
    {
     "data": {
      "text/latex": [
       "$\\displaystyle \\left[\\begin{array}{ccccccccccc}\\frac{1}{h} & - \\frac{1}{h} & 0 & 0 & 0 & 0 & 0 & 0 & 0 & 0 & 0\\\\- \\frac{1}{h} & \\frac{2}{h} & - \\frac{1}{h} & 0 & 0 & 0 & 0 & 0 & 0 & 0 & 0\\\\0 & - \\frac{1}{h} & \\frac{2}{h} & - \\frac{1}{h} & 0 & 0 & 0 & 0 & 0 & 0 & 0\\\\0 & 0 & - \\frac{1}{h} & \\frac{2}{h} & - \\frac{1}{h} & 0 & 0 & 0 & 0 & 0 & 0\\\\0 & 0 & 0 & - \\frac{1}{h} & \\frac{2}{h} & - \\frac{1}{h} & 0 & 0 & 0 & 0 & 0\\\\0 & 0 & 0 & 0 & - \\frac{1}{h} & \\frac{2}{h} & - \\frac{1}{h} & 0 & 0 & 0 & 0\\\\0 & 0 & 0 & 0 & 0 & - \\frac{1}{h} & \\frac{2}{h} & - \\frac{1}{h} & 0 & 0 & 0\\\\0 & 0 & 0 & 0 & 0 & 0 & - \\frac{1}{h} & \\frac{2}{h} & - \\frac{1}{h} & 0 & 0\\\\0 & 0 & 0 & 0 & 0 & 0 & 0 & - \\frac{1}{h} & \\frac{2}{h} & - \\frac{1}{h} & 0\\\\0 & 0 & 0 & 0 & 0 & 0 & 0 & 0 & - \\frac{1}{h} & \\frac{2}{h} & - \\frac{1}{h}\\\\0 & 0 & 0 & 0 & 0 & 0 & 0 & 0 & 0 & - \\frac{1}{h} & \\frac{1}{h}\\end{array}\\right]$"
      ],
      "text/plain": [
       "⎡ 1   -1                                              ⎤\n",
       "⎢ ─   ───   0    0    0    0    0    0    0    0    0 ⎥\n",
       "⎢ h    h                                              ⎥\n",
       "⎢                                                     ⎥\n",
       "⎢-1    2   -1                                         ⎥\n",
       "⎢───   ─   ───   0    0    0    0    0    0    0    0 ⎥\n",
       "⎢ h    h    h                                         ⎥\n",
       "⎢                                                     ⎥\n",
       "⎢     -1    2   -1                                    ⎥\n",
       "⎢ 0   ───   ─   ───   0    0    0    0    0    0    0 ⎥\n",
       "⎢      h    h    h                                    ⎥\n",
       "⎢                                                     ⎥\n",
       "⎢          -1    2   -1                               ⎥\n",
       "⎢ 0    0   ───   ─   ───   0    0    0    0    0    0 ⎥\n",
       "⎢           h    h    h                               ⎥\n",
       "⎢                                                     ⎥\n",
       "⎢               -1    2   -1                          ⎥\n",
       "⎢ 0    0    0   ───   ─   ───   0    0    0    0    0 ⎥\n",
       "⎢                h    h    h                          ⎥\n",
       "⎢                                                     ⎥\n",
       "⎢                    -1    2   -1                     ⎥\n",
       "⎢ 0    0    0    0   ───   ─   ───   0    0    0    0 ⎥\n",
       "⎢                     h    h    h                     ⎥\n",
       "⎢                                                     ⎥\n",
       "⎢                         -1    2   -1                ⎥\n",
       "⎢ 0    0    0    0    0   ───   ─   ───   0    0    0 ⎥\n",
       "⎢                          h    h    h                ⎥\n",
       "⎢                                                     ⎥\n",
       "⎢                              -1    2   -1           ⎥\n",
       "⎢ 0    0    0    0    0    0   ───   ─   ───   0    0 ⎥\n",
       "⎢                               h    h    h           ⎥\n",
       "⎢                                                     ⎥\n",
       "⎢                                   -1    2   -1      ⎥\n",
       "⎢ 0    0    0    0    0    0    0   ───   ─   ───   0 ⎥\n",
       "⎢                                    h    h    h      ⎥\n",
       "⎢                                                     ⎥\n",
       "⎢                                        -1    2   -1 ⎥\n",
       "⎢ 0    0    0    0    0    0    0    0   ───   ─   ───⎥\n",
       "⎢                                         h    h    h ⎥\n",
       "⎢                                                     ⎥\n",
       "⎢                                             -1    1 ⎥\n",
       "⎢ 0    0    0    0    0    0    0    0    0   ───   ─ ⎥\n",
       "⎣                                              h    h ⎦"
      ]
     },
     "execution_count": 68,
     "metadata": {},
     "output_type": "execute_result"
    }
   ],
   "source": [
    "Kij"
   ]
  },
  {
   "cell_type": "code",
   "execution_count": 69,
   "id": "757e77f3-bf38-4de3-891e-343189ea3b75",
   "metadata": {},
   "outputs": [
    {
     "data": {
      "text/latex": [
       "$\\displaystyle \\left[\\begin{matrix}\\frac{2}{h} & - \\frac{1}{h} & 0 & 0 & 0 & 0 & 0 & 0 & 0\\\\- \\frac{1}{h} & \\frac{2}{h} & - \\frac{1}{h} & 0 & 0 & 0 & 0 & 0 & 0\\\\0 & - \\frac{1}{h} & \\frac{2}{h} & - \\frac{1}{h} & 0 & 0 & 0 & 0 & 0\\\\0 & 0 & - \\frac{1}{h} & \\frac{2}{h} & - \\frac{1}{h} & 0 & 0 & 0 & 0\\\\0 & 0 & 0 & - \\frac{1}{h} & \\frac{2}{h} & - \\frac{1}{h} & 0 & 0 & 0\\\\0 & 0 & 0 & 0 & - \\frac{1}{h} & \\frac{2}{h} & - \\frac{1}{h} & 0 & 0\\\\0 & 0 & 0 & 0 & 0 & - \\frac{1}{h} & \\frac{2}{h} & - \\frac{1}{h} & 0\\\\0 & 0 & 0 & 0 & 0 & 0 & - \\frac{1}{h} & \\frac{2}{h} & - \\frac{1}{h}\\\\0 & 0 & 0 & 0 & 0 & 0 & 0 & - \\frac{1}{h} & \\frac{2}{h}\\end{matrix}\\right]$"
      ],
      "text/plain": [
       "⎡ 2   -1                                    ⎤\n",
       "⎢ ─   ───   0    0    0    0    0    0    0 ⎥\n",
       "⎢ h    h                                    ⎥\n",
       "⎢                                           ⎥\n",
       "⎢-1    2   -1                               ⎥\n",
       "⎢───   ─   ───   0    0    0    0    0    0 ⎥\n",
       "⎢ h    h    h                               ⎥\n",
       "⎢                                           ⎥\n",
       "⎢     -1    2   -1                          ⎥\n",
       "⎢ 0   ───   ─   ───   0    0    0    0    0 ⎥\n",
       "⎢      h    h    h                          ⎥\n",
       "⎢                                           ⎥\n",
       "⎢          -1    2   -1                     ⎥\n",
       "⎢ 0    0   ───   ─   ───   0    0    0    0 ⎥\n",
       "⎢           h    h    h                     ⎥\n",
       "⎢                                           ⎥\n",
       "⎢               -1    2   -1                ⎥\n",
       "⎢ 0    0    0   ───   ─   ───   0    0    0 ⎥\n",
       "⎢                h    h    h                ⎥\n",
       "⎢                                           ⎥\n",
       "⎢                    -1    2   -1           ⎥\n",
       "⎢ 0    0    0    0   ───   ─   ───   0    0 ⎥\n",
       "⎢                     h    h    h           ⎥\n",
       "⎢                                           ⎥\n",
       "⎢                         -1    2   -1      ⎥\n",
       "⎢ 0    0    0    0    0   ───   ─   ───   0 ⎥\n",
       "⎢                          h    h    h      ⎥\n",
       "⎢                                           ⎥\n",
       "⎢                              -1    2   -1 ⎥\n",
       "⎢ 0    0    0    0    0    0   ───   ─   ───⎥\n",
       "⎢                               h    h    h ⎥\n",
       "⎢                                           ⎥\n",
       "⎢                                   -1    2 ⎥\n",
       "⎢ 0    0    0    0    0    0    0   ───   ─ ⎥\n",
       "⎣                                    h    h ⎦"
      ]
     },
     "execution_count": 69,
     "metadata": {},
     "output_type": "execute_result"
    }
   ],
   "source": [
    "K = Kij[1:-1, 1:-1]; K"
   ]
  },
  {
   "cell_type": "code",
   "execution_count": 70,
   "id": "6a2e02c8-6066-4dee-b88d-b3fc14a8d652",
   "metadata": {},
   "outputs": [
    {
     "data": {
      "image/png": "[encoded data removed]",
      "text/latex": [
       "$\\displaystyle \\left( 9, \\  9\\right)$"
      ],
      "text/plain": [
       "(9, 9)"
      ]
     },
     "execution_count": 70,
     "metadata": {},
     "output_type": "execute_result"
    }
   ],
   "source": [
    "shape(K)"
   ]
  },
  {
   "cell_type": "code",
   "execution_count": 71,
   "id": "a464407f-ad88-4088-9089-5802b30213a7",
   "metadata": {},
   "outputs": [
    {
     "data": {
      "text/latex": [
       "$\\displaystyle \\left[\\begin{matrix}2 h^{2} - 8 h\\\\4 h^{2} - 8 h\\\\6 h^{2} - 8 h\\\\8 h^{2} - 8 h\\\\10 h^{2} - 8 h\\\\12 h^{2} - 8 h\\\\14 h^{2} - 8 h\\\\16 h^{2} - 8 h\\\\18 h^{2} - 8 h\\end{matrix}\\right]$"
      ],
      "text/plain": [
       "⎡   2       ⎤\n",
       "⎢2⋅h  - 8⋅h ⎥\n",
       "⎢           ⎥\n",
       "⎢   2       ⎥\n",
       "⎢4⋅h  - 8⋅h ⎥\n",
       "⎢           ⎥\n",
       "⎢   2       ⎥\n",
       "⎢6⋅h  - 8⋅h ⎥\n",
       "⎢           ⎥\n",
       "⎢   2       ⎥\n",
       "⎢8⋅h  - 8⋅h ⎥\n",
       "⎢           ⎥\n",
       "⎢    2      ⎥\n",
       "⎢10⋅h  - 8⋅h⎥\n",
       "⎢           ⎥\n",
       "⎢    2      ⎥\n",
       "⎢12⋅h  - 8⋅h⎥\n",
       "⎢           ⎥\n",
       "⎢    2      ⎥\n",
       "⎢14⋅h  - 8⋅h⎥\n",
       "⎢           ⎥\n",
       "⎢    2      ⎥\n",
       "⎢16⋅h  - 8⋅h⎥\n",
       "⎢           ⎥\n",
       "⎢    2      ⎥\n",
       "⎣18⋅h  - 8⋅h⎦"
      ]
     },
     "execution_count": 71,
     "metadata": {},
     "output_type": "execute_result"
    }
   ],
   "source": [
    "f = Matrix(fi[1:-1]); f"
   ]
  },
  {
   "cell_type": "code",
   "execution_count": 72,
   "id": "999c672e-5d38-4890-99f6-0de374fdb079",
   "metadata": {},
   "outputs": [
    {
     "data": {
      "image/png": "[encoded data removed]",
      "text/latex": [
       "$\\displaystyle \\left( 9, \\  1\\right)$"
      ],
      "text/plain": [
       "(9, 1)"
      ]
     },
     "execution_count": 72,
     "metadata": {},
     "output_type": "execute_result"
    }
   ],
   "source": [
    "shape(f)"
   ]
  },
  {
   "cell_type": "code",
   "execution_count": 73,
   "id": "7ee28ad6-daa2-4662-8581-12446c8e1114",
   "metadata": {},
   "outputs": [
    {
     "data": {
      "text/latex": [
       "$\\displaystyle \\left[\\begin{matrix}33 h^{3} - 36 h^{2}\\\\64 h^{3} - 64 h^{2}\\\\91 h^{3} - 84 h^{2}\\\\112 h^{3} - 96 h^{2}\\\\125 h^{3} - 100 h^{2}\\\\128 h^{3} - 96 h^{2}\\\\119 h^{3} - 84 h^{2}\\\\96 h^{3} - 64 h^{2}\\\\57 h^{3} - 36 h^{2}\\end{matrix}\\right]$"
      ],
      "text/plain": [
       "⎡     3       2 ⎤\n",
       "⎢ 33⋅h  - 36⋅h  ⎥\n",
       "⎢               ⎥\n",
       "⎢     3       2 ⎥\n",
       "⎢ 64⋅h  - 64⋅h  ⎥\n",
       "⎢               ⎥\n",
       "⎢     3       2 ⎥\n",
       "⎢ 91⋅h  - 84⋅h  ⎥\n",
       "⎢               ⎥\n",
       "⎢     3       2 ⎥\n",
       "⎢112⋅h  - 96⋅h  ⎥\n",
       "⎢               ⎥\n",
       "⎢     3        2⎥\n",
       "⎢125⋅h  - 100⋅h ⎥\n",
       "⎢               ⎥\n",
       "⎢     3       2 ⎥\n",
       "⎢128⋅h  - 96⋅h  ⎥\n",
       "⎢               ⎥\n",
       "⎢     3       2 ⎥\n",
       "⎢119⋅h  - 84⋅h  ⎥\n",
       "⎢               ⎥\n",
       "⎢     3       2 ⎥\n",
       "⎢ 96⋅h  - 64⋅h  ⎥\n",
       "⎢               ⎥\n",
       "⎢     3       2 ⎥\n",
       "⎣ 57⋅h  - 36⋅h  ⎦"
      ]
     },
     "execution_count": 73,
     "metadata": {},
     "output_type": "execute_result"
    }
   ],
   "source": [
    "ui = K.LUsolve(f); ui = ui.applyfunc(lambda x : expand(x)); ui"
   ]
  },
  {
   "cell_type": "code",
   "execution_count": 74,
   "id": "ed6280f3-4c15-4800-a4ae-9d13b2be91b2",
   "metadata": {},
   "outputs": [
    {
     "data": {
      "image/png": "[encoded data removed]",
      "text/latex": [
       "$\\displaystyle \\left( 9, \\  1\\right)$"
      ],
      "text/plain": [
       "(9, 1)"
      ]
     },
     "execution_count": 74,
     "metadata": {},
     "output_type": "execute_result"
    }
   ],
   "source": [
    "shape(ui)"
   ]
  },
  {
   "cell_type": "code",
   "execution_count": 75,
   "id": "7a568920-c9a1-4c7d-954e-30eeb0e34f67",
   "metadata": {},
   "outputs": [
    {
     "data": {
      "image/png": "[encoded data removed]",
      "text/latex": [
       "$\\displaystyle 0.1$"
      ],
      "text/plain": [
       "0.1"
      ]
     },
     "execution_count": 75,
     "metadata": {},
     "output_type": "execute_result"
    }
   ],
   "source": [
    "# Now fix the length of the bar, e.g. l = 1 m, and substitute the value of h\n",
    "\n",
    "l = 1 # m\n",
    "hvalue = l/n; hvalue"
   ]
  },
  {
   "cell_type": "raw",
   "id": "f8f8856a-5e04-48de-894e-809c53b40078",
   "metadata": {},
   "source": [
    "y = list(ui.subs(h, hvalue).evalf(5)); y"
   ]
  },
  {
   "cell_type": "raw",
   "id": "a4de0d86-d229-4362-9848-30b2995e1c49",
   "metadata": {},
   "source": [
    "xgrid = [0+hvalue*i for i in range(n)]; xgrid"
   ]
  },
  {
   "cell_type": "raw",
   "id": "d134f733-7bb0-44fd-85ff-d4cf5f607917",
   "metadata": {},
   "source": [
    "y_true = [u_true.subs(x, xgrid[i]).evalf(2) for i in range(n)]; y_true"
   ]
  },
  {
   "cell_type": "raw",
   "id": "814506de-144c-4085-87db-1b468b1959ec",
   "metadata": {},
   "source": [
    "# Plot the approximated solution\n",
    "\n",
    "plt.figure(1)\n",
    "plt.plot(xgrid, y, color='blue')\n",
    "\n",
    "# Plot the true solution\n",
    "plt.plot(xgrid, y_true, linestyle='--', color='red', alpha=.1)\n",
    "\n",
    "# Plot the differences\n",
    "plt.figure(2)\n",
    "error = [y_true[i]-y[i] for i in range(len(y))]\n",
    "plt.plot(xgrid, error, color='green')\n",
    "plt.ylim(-1e-3, 1e-3)\n",
    "\n",
    "plt.show()"
   ]
  },
  {
   "cell_type": "markdown",
   "id": "e810f131-f0ec-44e2-87dd-cc8aafb5dd2c",
   "metadata": {},
   "source": [
    "## Build back the solution"
   ]
  },
  {
   "cell_type": "raw",
   "id": "a7a364c7-fb06-4919-9a7d-bff4a9501759",
   "metadata": {},
   "source": [
    "ui"
   ]
  },
  {
   "cell_type": "raw",
   "id": "671fd543-cb82-4de8-a8ef-3c6ff47f37dd",
   "metadata": {},
   "source": [
    "e"
   ]
  },
  {
   "cell_type": "markdown",
   "id": "d9c7bb22-e787-4aef-951a-a8e9d22ae3ca",
   "metadata": {},
   "source": [
    "### Interval-wise rebuilding of the solution"
   ]
  },
  {
   "cell_type": "code",
   "execution_count": 78,
   "id": "af468a17-e949-4a09-ad60-c364e602d09c",
   "metadata": {},
   "outputs": [
    {
     "data": {
      "text/latex": [
       "$\\displaystyle \\left[\\begin{matrix}\\frac{x}{h} & 2 - \\frac{x}{h} & 0 & 0 & 0 & 0 & 0 & 0 & 0 & 0\\\\0 & -1 + \\frac{x}{h} & 3 - \\frac{x}{h} & 0 & 0 & 0 & 0 & 0 & 0 & 0\\\\0 & 0 & -2 + \\frac{x}{h} & 4 - \\frac{x}{h} & 0 & 0 & 0 & 0 & 0 & 0\\\\0 & 0 & 0 & -3 + \\frac{x}{h} & 5 - \\frac{x}{h} & 0 & 0 & 0 & 0 & 0\\\\0 & 0 & 0 & 0 & -4 + \\frac{x}{h} & 6 - \\frac{x}{h} & 0 & 0 & 0 & 0\\\\0 & 0 & 0 & 0 & 0 & -5 + \\frac{x}{h} & 7 - \\frac{x}{h} & 0 & 0 & 0\\\\0 & 0 & 0 & 0 & 0 & 0 & -6 + \\frac{x}{h} & 8 - \\frac{x}{h} & 0 & 0\\\\0 & 0 & 0 & 0 & 0 & 0 & 0 & -7 + \\frac{x}{h} & 9 - \\frac{x}{h} & 0\\\\0 & 0 & 0 & 0 & 0 & 0 & 0 & 0 & -8 + \\frac{x}{h} & 10 - \\frac{x}{h}\\end{matrix}\\right]$"
      ],
      "text/plain": [
       "⎡x      x                                                                 ⎤\n",
       "⎢─  2 - ─     0       0       0       0       0       0       0       0   ⎥\n",
       "⎢h      h                                                                 ⎥\n",
       "⎢                                                                         ⎥\n",
       "⎢        x      x                                                         ⎥\n",
       "⎢0  -1 + ─  3 - ─     0       0       0       0       0       0       0   ⎥\n",
       "⎢        h      h                                                         ⎥\n",
       "⎢                                                                         ⎥\n",
       "⎢                x      x                                                 ⎥\n",
       "⎢0    0     -2 + ─  4 - ─     0       0       0       0       0       0   ⎥\n",
       "⎢                h      h                                                 ⎥\n",
       "⎢                                                                         ⎥\n",
       "⎢                        x      x                                         ⎥\n",
       "⎢0    0       0     -3 + ─  5 - ─     0       0       0       0       0   ⎥\n",
       "⎢                        h      h                                         ⎥\n",
       "⎢                                                                         ⎥\n",
       "⎢                                x      x                                 ⎥\n",
       "⎢0    0       0       0     -4 + ─  6 - ─     0       0       0       0   ⎥\n",
       "⎢                                h      h                                 ⎥\n",
       "⎢                                                                         ⎥\n",
       "⎢                                        x      x                         ⎥\n",
       "⎢0    0       0       0       0     -5 + ─  7 - ─     0       0       0   ⎥\n",
       "⎢                                        h      h                         ⎥\n",
       "⎢                                                                         ⎥\n",
       "⎢                                                x      x                 ⎥\n",
       "⎢0    0       0       0       0       0     -6 + ─  8 - ─     0       0   ⎥\n",
       "⎢                                                h      h                 ⎥\n",
       "⎢                                                                         ⎥\n",
       "⎢                                                        x      x         ⎥\n",
       "⎢0    0       0       0       0       0       0     -7 + ─  9 - ─     0   ⎥\n",
       "⎢                                                        h      h         ⎥\n",
       "⎢                                                                         ⎥\n",
       "⎢                                                                x       x⎥\n",
       "⎢0    0       0       0       0       0       0       0     -8 + ─  10 - ─⎥\n",
       "⎣                                                                h       h⎦"
      ]
     },
     "execution_count": 78,
     "metadata": {},
     "output_type": "execute_result"
    }
   ],
   "source": [
    "# First thing to do is to provide a basis of piecewise polynomials that\n",
    "# has proper dimensions wrt to the solution that we have obtained.\n",
    "# Deleting the last row and column from K and f has provided us with\n",
    "# a n-dimensional solution, not (n+1).\n",
    "# So we have to drop the last row of e, relative to piecewise element n.\n",
    "# Notice that in this way we only lose a piece of information on the last\n",
    "# interval, and this is clearly seen in the error plot, which doesn't\n",
    "# vanishes on the last node\n",
    "\n",
    "redu_e = e[1:-1, :]; redu_e"
   ]
  },
  {
   "cell_type": "code",
   "execution_count": 79,
   "id": "dad386b4-c144-46eb-9d96-515ea1d23c78",
   "metadata": {},
   "outputs": [
    {
     "data": {
      "text/latex": [
       "$\\displaystyle \\left[\\begin{matrix}- 3.27 x & - 2.49 x - 0.078 & - 1.73 x - 0.23 & - 0.99 x - 0.452 & - 0.27 x - 0.74 & 0.43 x - 1.09 & 1.11 x - 1.498 & 1.77 x - 1.96 & 2.41 x - 2.472 & 3.03 x - 3.03\\end{matrix}\\right]$"
      ],
      "text/plain": [
       "[-3.27⋅x  -2.49⋅x - 0.078  -1.73⋅x - 0.23  -0.99⋅x - 0.452  -0.27⋅x - 0.74  0.\n",
       "43⋅x - 1.09  1.11⋅x - 1.498  1.77⋅x - 1.96  2.41⋅x - 2.472  3.03⋅x - 3.03]"
      ]
     },
     "execution_count": 79,
     "metadata": {},
     "output_type": "execute_result"
    }
   ],
   "source": [
    "u = (ui.T*redu_e).subs(h, hvalue).evalf(5);\n",
    "u = u.subs(h, hvalue).evalf(5); u"
   ]
  },
  {
   "cell_type": "code",
   "execution_count": 80,
   "id": "1b8037f1-e6b3-42f0-922e-1b06a5d1795e",
   "metadata": {},
   "outputs": [
    {
     "data": {
      "image/png": "[encoded data removed]",
      "text/plain": [
       "<Figure size 432x288 with 1 Axes>"
      ]
     },
     "metadata": {
      "needs_background": "light"
     },
     "output_type": "display_data"
    },
    {
     "data": {
      "image/png": "[encoded data removed]",
      "text/plain": [
       "<Figure size 432x288 with 1 Axes>"
      ]
     },
     "metadata": {
      "needs_background": "light"
     },
     "output_type": "display_data"
    }
   ],
   "source": [
    "# We evaluate the values of the solution on a grid of 10 subintervals\n",
    "# per interval (as done before in refined), with a step of 1/hvalue\n",
    "\n",
    "npoints = 100\n",
    "npoints_per_interval = int(npoints/n)-1\n",
    "x_subvalue = hvalue/npoints_per_interval\n",
    "\n",
    "yrefined = []\n",
    "xrefined = []\n",
    "for index, entry in enumerate(list(u)):\n",
    "    for subinterval in range(npoints_per_interval):\n",
    "        xval = hvalue*index+x_subvalue*subinterval\n",
    "        yrefined.append(entry.subs(x, xval).evalf(5))\n",
    "        xrefined.append(round(xval, 5))\n",
    "yrefined = np.array(yrefined)\n",
    "xrefined = np.array(xrefined)\n",
    "\n",
    "y_truerefined = np.array([u_true.subs(x, xrefined[i]).evalf(5) for i in range(len(xrefined))]); # y_truerefined\n",
    "\n",
    "error_refined = y_truerefined-yrefined; # error_refined\n",
    "\n",
    "plt.close()\n",
    "\n",
    "plt.figure(3)\n",
    "plt.plot(xrefined, yrefined, color='black')\n",
    "plt.plot(xrefined, y_truerefined, color='red')\n",
    "\n",
    "plt.figure(4)\n",
    "plt.plot(xrefined, error_refined, color='green')\n",
    "\n",
    "plt.show()"
   ]
  }
 ],
 "metadata": {
  "kernelspec": {
   "display_name": "mmp",
   "language": "python",
   "name": "mmp"
  },
  "language_info": {
   "codemirror_mode": {
    "name": "ipython",
    "version": 3
   },
   "file_extension": ".py",
   "mimetype": "text/x-python",
   "name": "python",
   "nbconvert_exporter": "python",
   "pygments_lexer": "ipython3",
   "version": "3.9.12"
  }
 },
 "nbformat": 4,
 "nbformat_minor": 5
}
