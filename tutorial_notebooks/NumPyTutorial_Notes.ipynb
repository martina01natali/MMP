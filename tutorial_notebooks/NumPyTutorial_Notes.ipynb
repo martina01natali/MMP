{
 "cells": [
  {
   "cell_type": "markdown",
   "metadata": {
    "id": "d5l1l-jp4xmS"
   },
   "source": [
    "# 1D arrays in NumPy"
   ]
  },
  {
   "cell_type": "code",
   "execution_count": null,
   "metadata": {
    "id": "xV03D4YfmXHh"
   },
   "outputs": [],
   "source": [
    "import numpy as np"
   ]
  },
  {
   "cell_type": "markdown",
   "metadata": {
    "id": "vLYIVqBR5gMq"
   },
   "source": [
    "The basic function for creating an array is the array() function, that is a function of numpy so it can be accessed via np.array(). It takes a sequence and makes an array out of it.\r\n",
    "* convert the type: array.astype('type')\r\n",
    "* round the decimals: array = np.around(array, decimals = n) or np.around(array, decimals = n, out = outputArray)\r\n",
    "\r\n",
    "---\r\n",
    "\r\n",
    "### What is an array?\r\n",
    "Arrays are row vectors with FIXED LENGTH. Also, they are homogeneous, meaning that ALL THE ELEMENTS HAVE THE SAME TYPE.\r\n",
    "\r\n",
    "---\r\n",
    "\r\n",
    "Printed lists have numbers separated by commas, while arrays have no separator between elements.\r\n",
    "\r\n",
    "To measure the length of a list, use len(), but for an array you should use the size attribute of arrays, so NameArray.size.\r\n",
    "\r\n",
    "Another attribute is array.dtype: this returns the type of the elements of the array, inferred by the elements themselves, and the bits size (ex 64, 32, 16...). You can also use the core function type() to check. You can convert between types (for instance, fro integer to float of given precision) by exploting the attribute dtype directly inside the definition of the array you're making. Pass it as an argument after the list of numbers to put inside the array, and don't forget that the attribute is part of numpy too.\r\n",
    "\r\n"
   ]
  },
  {
   "cell_type": "code",
   "execution_count": null,
   "metadata": {
    "colab": {
     "base_uri": "https://localhost:8080/"
    },
    "executionInfo": {
     "elapsed": 534,
     "status": "ok",
     "timestamp": 1613733029159,
     "user": {
      "displayName": "MARTINA NATALI",
      "photoUrl": "",
      "userId": "01883442945229086140"
     },
     "user_tz": -60
    },
    "id": "IxXprg54-v0d",
    "outputId": "715171f1-6503-4a4d-803b-00990e70d1c9"
   },
   "outputs": [
    {
     "data": {
      "text/plain": [
       "array([1., 1., 1., 1.])"
      ]
     },
     "execution_count": 3,
     "metadata": {
      "tags": []
     },
     "output_type": "execute_result"
    }
   ],
   "source": [
    "arr = np.array([1,1,1,1], dtype = np.float64)\r\n",
    "arr"
   ]
  },
  {
   "cell_type": "markdown",
   "metadata": {
    "id": "yo2rA5aa_BDB"
   },
   "source": [
    "To make sequences of zeros or ones, you should use the pre-defined functions np.zeros(number) or np.ones(number). For other numbers, think of concatenation of lists and exploit that feature: for ex., [5]*2 will give you [5, 5] as the sequence to pass inside the array.\r\n",
    "\r\n",
    "Another thing you can do is to create sequences from a range of values: the function np.arange() is the specular function of range, but it produces an array."
   ]
  },
  {
   "cell_type": "code",
   "execution_count": null,
   "metadata": {
    "colab": {
     "base_uri": "https://localhost:8080/"
    },
    "executionInfo": {
     "elapsed": 470,
     "status": "ok",
     "timestamp": 1613733249951,
     "user": {
      "displayName": "MARTINA NATALI",
      "photoUrl": "",
      "userId": "01883442945229086140"
     },
     "user_tz": -60
    },
    "id": "RihRRB7D-687",
    "outputId": "c57888ab-58e2-4254-f8d8-0cfe8338a897"
   },
   "outputs": [
    {
     "data": {
      "text/plain": [
       "array([0., 0., 0., 0., 0., 0., 0., 0., 0., 0.], dtype=float32)"
      ]
     },
     "execution_count": 4,
     "metadata": {
      "tags": []
     },
     "output_type": "execute_result"
    }
   ],
   "source": [
    "arr1 = np.array([0]*10, dtype=np.float32)\r\n",
    "arr1"
   ]
  },
  {
   "cell_type": "code",
   "execution_count": null,
   "metadata": {
    "colab": {
     "base_uri": "https://localhost:8080/"
    },
    "executionInfo": {
     "elapsed": 505,
     "status": "ok",
     "timestamp": 1613733262122,
     "user": {
      "displayName": "MARTINA NATALI",
      "photoUrl": "",
      "userId": "01883442945229086140"
     },
     "user_tz": -60
    },
    "id": "yVNvS3ew_0Fi",
    "outputId": "d498860b-e93c-436e-c5d2-93a057ed177c"
   },
   "outputs": [
    {
     "name": "stdout",
     "output_type": "stream",
     "text": [
      "[0. 0. 0. 0. 0. 0. 0. 0. 0. 0.]\n"
     ]
    }
   ],
   "source": [
    "print(arr1)"
   ]
  },
  {
   "cell_type": "markdown",
   "metadata": {
    "id": "_Iqf1WDuBVNe"
   },
   "source": [
    "### Sequences of customary spacing\r\n",
    "\r\n",
    "Remember: arange() can take in floats as well (range could only handle integers). This may lead to disasters with endpoints considered one time and not the other. To produce an array that is storing a sequence of linearly spaced points, you should use np.linspace(start, end, number of points). There is a version of logarithmic sequences too, that takes as starting and ending points the powers of 10 (default behaviour), np.logspace(initial power, final power, number of points)."
   ]
  },
  {
   "cell_type": "code",
   "execution_count": null,
   "metadata": {
    "colab": {
     "base_uri": "https://localhost:8080/"
    },
    "executionInfo": {
     "elapsed": 440,
     "status": "ok",
     "timestamp": 1613734168764,
     "user": {
      "displayName": "MARTINA NATALI",
      "photoUrl": "",
      "userId": "01883442945229086140"
     },
     "user_tz": -60
    },
    "id": "9_xFYxZ8_3Dx",
    "outputId": "675e152d-adf3-4cad-bb4d-89a5410752ef"
   },
   "outputs": [
    {
     "data": {
      "text/plain": [
       "array([0, 1, 2, 3, 4, 5, 6, 7, 8, 9])"
      ]
     },
     "execution_count": 6,
     "metadata": {
      "tags": []
     },
     "output_type": "execute_result"
    }
   ],
   "source": [
    "arr2 = np.arange(10)\r\n",
    "arr"
   ]
  },
  {
   "cell_type": "code",
   "execution_count": null,
   "metadata": {
    "colab": {
     "base_uri": "https://localhost:8080/"
    },
    "executionInfo": {
     "elapsed": 510,
     "status": "ok",
     "timestamp": 1613734187855,
     "user": {
      "displayName": "MARTINA NATALI",
      "photoUrl": "",
      "userId": "01883442945229086140"
     },
     "user_tz": -60
    },
    "id": "CRkIx01PDUaZ",
    "outputId": "87741788-959a-4440-c4e1-fcda139a6915"
   },
   "outputs": [
    {
     "data": {
      "text/plain": [
       "array([5, 6, 7, 8, 9])"
      ]
     },
     "execution_count": 7,
     "metadata": {
      "tags": []
     },
     "output_type": "execute_result"
    }
   ],
   "source": [
    "arr3 = np.arange(5,10)\r\n",
    "arr"
   ]
  },
  {
   "cell_type": "code",
   "execution_count": null,
   "metadata": {
    "colab": {
     "base_uri": "https://localhost:8080/"
    },
    "executionInfo": {
     "elapsed": 474,
     "status": "ok",
     "timestamp": 1613734212229,
     "user": {
      "displayName": "MARTINA NATALI",
      "photoUrl": "",
      "userId": "01883442945229086140"
     },
     "user_tz": -60
    },
    "id": "rD-gu1NhDZEM",
    "outputId": "d1d9209b-7c23-4902-eed4-5989d0ca6092"
   },
   "outputs": [
    {
     "data": {
      "text/plain": [
       "array([ 5,  7,  9, 11, 13])"
      ]
     },
     "execution_count": 8,
     "metadata": {
      "tags": []
     },
     "output_type": "execute_result"
    }
   ],
   "source": [
    "arr4 = np.arange(5,15,2)\r\n",
    "arr"
   ]
  },
  {
   "cell_type": "code",
   "execution_count": null,
   "metadata": {
    "colab": {
     "base_uri": "https://localhost:8080/"
    },
    "executionInfo": {
     "elapsed": 455,
     "status": "ok",
     "timestamp": 1613734444868,
     "user": {
      "displayName": "MARTINA NATALI",
      "photoUrl": "",
      "userId": "01883442945229086140"
     },
     "user_tz": -60
    },
    "id": "XIc2H9tpDfBs",
    "outputId": "c080c392-c55a-47e7-c580-e7c121280bf4"
   },
   "outputs": [
    {
     "data": {
      "text/plain": [
       "array([0. , 0.1, 0.2, 0.3, 0.4, 0.5, 0.6, 0.7, 0.8, 0.9, 1. ])"
      ]
     },
     "execution_count": 14,
     "metadata": {
      "tags": []
     },
     "output_type": "execute_result"
    }
   ],
   "source": [
    "arr5 = np.linspace(0,1,11)\r\n",
    "arr5"
   ]
  },
  {
   "cell_type": "code",
   "execution_count": null,
   "metadata": {
    "colab": {
     "base_uri": "https://localhost:8080/"
    },
    "executionInfo": {
     "elapsed": 473,
     "status": "ok",
     "timestamp": 1613734435853,
     "user": {
      "displayName": "MARTINA NATALI",
      "photoUrl": "",
      "userId": "01883442945229086140"
     },
     "user_tz": -60
    },
    "id": "SEPNNKo0DxLP",
    "outputId": "ce7f4f24-d8d6-4bcd-bf25-db414ab95cd7"
   },
   "outputs": [
    {
     "data": {
      "text/plain": [
       "array([1.e-10, 1.e-09, 1.e-08, 1.e-07, 1.e-06, 1.e-05])"
      ]
     },
     "execution_count": 13,
     "metadata": {
      "tags": []
     },
     "output_type": "execute_result"
    }
   ],
   "source": [
    "np.logspace(-10,-5,num=6,endpoint=True,base=10.0)"
   ]
  },
  {
   "cell_type": "markdown",
   "metadata": {
    "id": "tFN6uee-GU9U"
   },
   "source": [
    "## 1.2 Indexing and slicing\r\n",
    "This is fun, trust me.\r\n",
    "\r\n",
    "Indexing is the same as lists, so with square brackets. You can access more than one element with a colon [start:end].\r\n",
    "\r\n",
    "Slicing with lists makes another list that is a copy.\r\n",
    "**SLICING ARRAYS ONLY TAKES A PORTION OF THE ORIGINAL ARRAY WITHOUT MAKING A COPY -> operations made on the copy affect the original array.**\r\n",
    "\r\n",
    "To make a copy of an array, use np.copy.\r\n",
    "\r\n",
    "**Broadcasting**: substituting a given number of elements in a list by a single operation was not possible (meaning that you couldn't take a list of 2 elements, put it equal to 1 elements and obtain a list made of 2 equal entries that are the second element. Here you can, by using indexing and selecting the elements that you want to substitute. To select all the elements, use array[:]."
   ]
  },
  {
   "cell_type": "code",
   "execution_count": null,
   "metadata": {
    "colab": {
     "base_uri": "https://localhost:8080/"
    },
    "executionInfo": {
     "elapsed": 454,
     "status": "ok",
     "timestamp": 1613735245481,
     "user": {
      "displayName": "MARTINA NATALI",
      "photoUrl": "",
      "userId": "01883442945229086140"
     },
     "user_tz": -60
    },
    "id": "DRpnwmiaEOjS",
    "outputId": "6d7153c1-f512-4cca-be91-be9925e84735"
   },
   "outputs": [
    {
     "data": {
      "text/plain": [
       "array([ 5,  7,  9, 11, 13])"
      ]
     },
     "execution_count": 15,
     "metadata": {
      "tags": []
     },
     "output_type": "execute_result"
    }
   ],
   "source": [
    "arr"
   ]
  },
  {
   "cell_type": "code",
   "execution_count": null,
   "metadata": {
    "colab": {
     "base_uri": "https://localhost:8080/"
    },
    "executionInfo": {
     "elapsed": 1032,
     "status": "ok",
     "timestamp": 1613735276262,
     "user": {
      "displayName": "MARTINA NATALI",
      "photoUrl": "",
      "userId": "01883442945229086140"
     },
     "user_tz": -60
    },
    "id": "KpHAf2P-HbR6",
    "outputId": "a0515b42-5006-42c5-9ffe-5ee47262f30c"
   },
   "outputs": [
    {
     "data": {
      "text/plain": [
       "array([ 9, 11])"
      ]
     },
     "execution_count": 16,
     "metadata": {
      "tags": []
     },
     "output_type": "execute_result"
    }
   ],
   "source": [
    "slicy = arr[2:4]\r\n",
    "slicy"
   ]
  },
  {
   "cell_type": "code",
   "execution_count": null,
   "metadata": {
    "colab": {
     "base_uri": "https://localhost:8080/"
    },
    "executionInfo": {
     "elapsed": 545,
     "status": "ok",
     "timestamp": 1613735304196,
     "user": {
      "displayName": "MARTINA NATALI",
      "photoUrl": "",
      "userId": "01883442945229086140"
     },
     "user_tz": -60
    },
    "id": "5BcqOBKwHiqg",
    "outputId": "408877e1-3506-43df-8e2a-5d3045eae6b8"
   },
   "outputs": [
    {
     "data": {
      "text/plain": [
       "array([0, 0])"
      ]
     },
     "execution_count": 17,
     "metadata": {
      "tags": []
     },
     "output_type": "execute_result"
    }
   ],
   "source": [
    "slicy[:]=0\r\n",
    "slicy"
   ]
  },
  {
   "cell_type": "code",
   "execution_count": null,
   "metadata": {
    "colab": {
     "base_uri": "https://localhost:8080/"
    },
    "executionInfo": {
     "elapsed": 477,
     "status": "ok",
     "timestamp": 1613735307843,
     "user": {
      "displayName": "MARTINA NATALI",
      "photoUrl": "",
      "userId": "01883442945229086140"
     },
     "user_tz": -60
    },
    "id": "K-TTxP1iHpmV",
    "outputId": "4a3806a0-a0a7-408c-db1c-8c924d1ea862"
   },
   "outputs": [
    {
     "data": {
      "text/plain": [
       "array([ 5,  7,  0,  0, 13])"
      ]
     },
     "execution_count": 18,
     "metadata": {
      "tags": []
     },
     "output_type": "execute_result"
    }
   ],
   "source": [
    "arr"
   ]
  },
  {
   "cell_type": "markdown",
   "metadata": {
    "id": "TGlKPYPnN0AF"
   },
   "source": [
    "## 1.3 Vectorization (or arithmetical operations)\r\n",
    "\r\n",
    "Vectorization si a property of arrays, meaning that they act as they were methematical vectors. So operations are made *elementwise*: summing two arrays (OF SAME LENGTH ONLY) gives an array of same length withthe sum of the corresponding entries as elements. Same goes for multiplication by a scalar number.\r\n",
    "\r\n",
    "To compute the sum of all the elements in an array, use np.sum(). To compute a scalar product of x and y, for example, use np.sum(x*y). To compute the product of all the elements use np.prod().\r\n",
    "\r\n",
    "NumPy contains a lot of the functions present in the Math library also, but designed to make operations on an entire array and return an array also. They are much faster than their math counterpart. Examples are np.sqrt(), np.log(), np.sin() and so on.\r\n",
    "\r\n",
    "Other useful functions:\r\n",
    "* np.amin() returns the element with the minimum value\r\n",
    "* np.argmax() returns the index of the element with max value\r\n",
    "* np.sort\r\n",
    "* np.isfinite()"
   ]
  },
  {
   "cell_type": "markdown",
   "metadata": {
    "id": "dgdMV9N5GL6k"
   },
   "source": [
    "# 2 Two-dimensional arrays"
   ]
  },
  {
   "cell_type": "markdown",
   "metadata": {
    "id": "yck1z13hIjF9"
   },
   "source": [
    "## 2.1 Creating\r\n",
    "\r\n",
    "To create a matrix, one should use a \"list of lists\", so an object whose elements are lists. An array of a list of lists is a matrix.\r\n",
    "\r\n",
    "The dimension of a matrix is 2, you can retrieve that by exploiting the attribute ndim of the matrix, matrix.ndim. dtype methods apply to matrices too. The attribute shape, matrix.shape, instead, gives you the n x m dimension of the matrix as a tuple. You can reverse this property and make matrixes of zeros and ones by passing a tuble with wanted shape as the argument.\r\n",
    "* matrix of zeros: np.zeros((n,m))\r\n",
    "* matrix of ones: np.ones((n,m))\r\n",
    "* identity of dim n: np.identity(n)\r\n",
    "* vector -> matrix: array.reshape((n,m))\r\n",
    "* columns -> matrix: np.column_stack((array1,array2))\r\n",
    "* convert the type: array.astype('type')\r\n",
    "* round the decimals: array = np.around(array, decimals = n) or np.around(array, decimals = n, out = outputArray)"
   ]
  },
  {
   "cell_type": "code",
   "execution_count": null,
   "metadata": {
    "colab": {
     "base_uri": "https://localhost:8080/"
    },
    "executionInfo": {
     "elapsed": 443,
     "status": "ok",
     "timestamp": 1613753871295,
     "user": {
      "displayName": "MARTINA NATALI",
      "photoUrl": "",
      "userId": "01883442945229086140"
     },
     "user_tz": -60
    },
    "id": "F9qkLxRGMuwX",
    "outputId": "acbf888a-37fe-472c-abf1-09c387bb5194"
   },
   "outputs": [
    {
     "data": {
      "text/plain": [
       "[[1, 0, 0], [0, 1, 0], [0, 0, 1]]"
      ]
     },
     "execution_count": 9,
     "metadata": {
      "tags": []
     },
     "output_type": "execute_result"
    }
   ],
   "source": [
    "A = [[1, 0, 0], [0, 1, 0], [0, 0, 1]]\r\n",
    "A"
   ]
  },
  {
   "cell_type": "code",
   "execution_count": null,
   "metadata": {
    "colab": {
     "base_uri": "https://localhost:8080/"
    },
    "executionInfo": {
     "elapsed": 439,
     "status": "ok",
     "timestamp": 1613753873430,
     "user": {
      "displayName": "MARTINA NATALI",
      "photoUrl": "",
      "userId": "01883442945229086140"
     },
     "user_tz": -60
    },
    "id": "gk5GnjfqNRJb",
    "outputId": "99ac43c2-d4b9-460c-a36d-c700c7c7b018"
   },
   "outputs": [
    {
     "data": {
      "text/plain": [
       "array([[1, 0, 0],\n",
       "       [0, 1, 0],\n",
       "       [0, 0, 1]])"
      ]
     },
     "execution_count": 10,
     "metadata": {
      "tags": []
     },
     "output_type": "execute_result"
    }
   ],
   "source": [
    "Matri = np.array(A)\r\n",
    "Matri"
   ]
  },
  {
   "cell_type": "code",
   "execution_count": null,
   "metadata": {
    "colab": {
     "base_uri": "https://localhost:8080/"
    },
    "executionInfo": {
     "elapsed": 477,
     "status": "ok",
     "timestamp": 1613753934402,
     "user": {
      "displayName": "MARTINA NATALI",
      "photoUrl": "",
      "userId": "01883442945229086140"
     },
     "user_tz": -60
    },
    "id": "F0TwJtCvN4Rq",
    "outputId": "a2739c9e-6b14-4ec7-cf84-bdede8310fdf"
   },
   "outputs": [
    {
     "data": {
      "text/plain": [
       "array([[0, 1, 2, 3, 4],\n",
       "       [5, 6, 7, 8, 9]])"
      ]
     },
     "execution_count": 12,
     "metadata": {
      "tags": []
     },
     "output_type": "execute_result"
    }
   ],
   "source": [
    "A = np.arange(0,10).reshape(2,5)\r\n",
    "A"
   ]
  },
  {
   "cell_type": "markdown",
   "metadata": {
    "id": "fd84Y4qoPIV5"
   },
   "source": [
    "## 2.2 Indexing, slicing\r\n",
    "\r\n",
    "Indexing is very simple, just call the name of the matrix and the positions (REMEMBER ALWAYS PYTHON STARTS FROM 0) in square brackets, separated by a comma. "
   ]
  },
  {
   "cell_type": "code",
   "execution_count": null,
   "metadata": {
    "colab": {
     "base_uri": "https://localhost:8080/"
    },
    "executionInfo": {
     "elapsed": 420,
     "status": "ok",
     "timestamp": 1613754267470,
     "user": {
      "displayName": "MARTINA NATALI",
      "photoUrl": "",
      "userId": "01883442945229086140"
     },
     "user_tz": -60
    },
    "id": "JFsP6li2PuRN",
    "outputId": "c9413c41-ec18-43e8-a4a3-2ab88b4b1f90"
   },
   "outputs": [
    {
     "name": "stdout",
     "output_type": "stream",
     "text": [
      "[[0 1 2]\n",
      " [3 4 5]\n",
      " [6 7 8]] 4\n"
     ]
    }
   ],
   "source": [
    "A = np.arange(0,9).reshape(3,3)\r\n",
    "print(A, A[1,1])"
   ]
  },
  {
   "cell_type": "markdown",
   "metadata": {
    "id": "kpn9RJ2IQEWD"
   },
   "source": [
    "Slicing is very easy. Just slice the row first with a couple start:end and the column then."
   ]
  },
  {
   "cell_type": "code",
   "execution_count": null,
   "metadata": {
    "colab": {
     "base_uri": "https://localhost:8080/"
    },
    "executionInfo": {
     "elapsed": 418,
     "status": "ok",
     "timestamp": 1613755017684,
     "user": {
      "displayName": "MARTINA NATALI",
      "photoUrl": "",
      "userId": "01883442945229086140"
     },
     "user_tz": -60
    },
    "id": "R2F1FstGSySO",
    "outputId": "48098f93-17f8-4a36-ec08-18eb5555ecba"
   },
   "outputs": [
    {
     "data": {
      "text/plain": [
       "array([3, 4, 5])"
      ]
     },
     "execution_count": 16,
     "metadata": {
      "tags": []
     },
     "output_type": "execute_result"
    }
   ],
   "source": [
    "A[1,:]"
   ]
  },
  {
   "cell_type": "markdown",
   "metadata": {
    "id": "PUoq2t22T8QR"
   },
   "source": [
    "Bradcasting is the same as for arrays/vectors. Remember that what you do on a slice of the original matrix affects the original matrix as well."
   ]
  },
  {
   "cell_type": "markdown",
   "metadata": {
    "id": "4RwXgqHzUP_A"
   },
   "source": [
    "## 2.3 Vectorization\r\n",
    "\r\n",
    "Arithmetical operations are done elementwise (element by element between the corresponding ones). Sum of two matrixes is fine.\r\n",
    "\r\n",
    "* matrix multiplication: np.dot(matrix1, matrix2), @ (Python 3.5 and above) (applies to 1D arrays too)\r\n",
    "* transposed matrix: np.transpose(matrix)\r\n",
    "* trace of a matrix: np.trace(matrix)"
   ]
  },
  {
   "cell_type": "code",
   "execution_count": null,
   "metadata": {
    "colab": {
     "base_uri": "https://localhost:8080/"
    },
    "executionInfo": {
     "elapsed": 443,
     "status": "ok",
     "timestamp": 1613755929928,
     "user": {
      "displayName": "MARTINA NATALI",
      "photoUrl": "",
      "userId": "01883442945229086140"
     },
     "user_tz": -60
    },
    "id": "nI9VQV4gS2fE",
    "outputId": "57e3e1eb-e1e4-4ede-ac2f-c9e0405a0907"
   },
   "outputs": [
    {
     "name": "stdout",
     "output_type": "stream",
     "text": [
      "[0 1 2]\n",
      "[3 4 5]\n",
      "[6 7 8]\n"
     ]
    }
   ],
   "source": [
    "# Printing a matrix row by row\r\n",
    "for row in A:\r\n",
    "  print(row)"
   ]
  },
  {
   "cell_type": "markdown",
   "metadata": {
    "id": "TF96feofXCIh"
   },
   "source": [
    "# 3 File input and output\r\n",
    "\r\n",
    "NumPy contains functions that allow you to traslate the content of a file directly as an array.\r\n",
    "* making array from data file: np.loadtxt(\"nameFile\", skiprows = n, skipcolumns = m)\r\n",
    "* store each column in a separate array: use loadtxt option unpack = True and put it all equal to 2 arrays\r\n",
    "\r\n",
    "A more powerful function is np.genfromtxt.\r\n",
    "\r\n",
    "* saving: np.savetxt(\"NameFile\", (array1, array2,...))"
   ]
  },
  {
   "cell_type": "code",
   "execution_count": null,
   "metadata": {
    "colab": {
     "base_uri": "https://localhost:8080/"
    },
    "executionInfo": {
     "elapsed": 441,
     "status": "ok",
     "timestamp": 1613756518815,
     "user": {
      "displayName": "MARTINA NATALI",
      "photoUrl": "",
      "userId": "01883442945229086140"
     },
     "user_tz": -60
    },
    "id": "50MnCWq9YBl6",
    "outputId": "c699f136-9c21-4f02-8930-ca37f3a2e9c7"
   },
   "outputs": [
    {
     "name": "stdout",
     "output_type": "stream",
     "text": [
      "Overwriting dataset.txt\n"
     ]
    }
   ],
   "source": [
    "%%writefile dataset.txt\r\n",
    "x y\r\n",
    "0 1\r\n",
    "1 1.2\r\n",
    "2 1.1\r\n",
    "3 0.9"
   ]
  },
  {
   "cell_type": "code",
   "execution_count": null,
   "metadata": {
    "colab": {
     "base_uri": "https://localhost:8080/"
    },
    "executionInfo": {
     "elapsed": 420,
     "status": "ok",
     "timestamp": 1613756520107,
     "user": {
      "displayName": "MARTINA NATALI",
      "photoUrl": "",
      "userId": "01883442945229086140"
     },
     "user_tz": -60
    },
    "id": "Lxk4SKYRWRDW",
    "outputId": "4f29f6a5-2405-4269-8cfa-21f956b156c5"
   },
   "outputs": [
    {
     "name": "stdout",
     "output_type": "stream",
     "text": [
      "[0. 1. 2. 3.] [1.  1.2 1.1 0.9]\n"
     ]
    }
   ],
   "source": [
    "x, y = np.loadtxt(\"dataset.txt\", skiprows = 1, unpack = True)\r\n",
    "print (x, y)"
   ]
  }
 ],
 "metadata": {
  "colab": {
   "authorship_tag": "ABX9TyOxWHnc1bxrg0BPUhOlCJUp",
   "name": "NumPyTutorial_Notes.ipynb",
   "provenance": [],
   "toc_visible": true
  },
  "kernelspec": {
   "display_name": "Python 3",
   "language": "python",
   "name": "python3"
  },
  "language_info": {
   "codemirror_mode": {
    "name": "ipython",
    "version": 3
   },
   "file_extension": ".py",
   "mimetype": "text/x-python",
   "name": "python",
   "nbconvert_exporter": "python",
   "pygments_lexer": "ipython3",
   "version": "3.8.0"
  }
 },
 "nbformat": 4,
 "nbformat_minor": 4
}
