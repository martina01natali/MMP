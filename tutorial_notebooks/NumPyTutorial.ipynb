{
 "cells": [
  {
   "cell_type": "markdown",
   "metadata": {
    "id": "7yGumLZ94f-p"
   },
   "source": [
    "# NumPy tutorial\n",
    "\n",
    "Alex Gezerlis\n",
    "\n",
    "Online Supplement for \"Numerical Methods in Physics with Python\" (Cambridge University Press, 2020)\n",
    "\n",
    "<a href=\"http://www.numphyspy.org\" target=\"_blank\">http://www.numphyspy.org</a>\n",
    "\n",
    "2020-04-16"
   ]
  },
  {
   "cell_type": "markdown",
   "metadata": {
    "id": "-u_VbC_n4f-z"
   },
   "source": [
    "Our programs in the first few chapters of the book make heavy use of Python lists. As a matter of fact, we typically go one step farther and opt for list comprehensions, whenever that is possible. After some introductory discussion, all of these Python lists are \"homogeneous\", in the sense that they contain elements of only one type. Furthermore, since we use list comprehensions so often, it's easy to see that the list size is always known ahead of time, i.e., there is no need to keep appending, until some condition is met (or, to be fair, we structure our codes so that this is so). In this context, here’s an example of a common operation one could carry out:\n",
    "\n",
    "tots = [w*f(x) for w,x in zip(ws,xs)]\n",
    "\n",
    "namely, stepping through one list (or more) and applying a function or multiplying by a coefficient, which may be different for each item. Here, we are essentially carrying out the same operation over and over again, a fixed number of times. At the end of that process, we typically sum up all the elements in the list.\n",
    "\n",
    "This raises the natural question: wouldn’t it make more sense to carry out such tasks using a homogeneous, fixed-length container? This is precisely what the Numerical Python array object does: as a result, it is fast and space-efficient. In addition to this, it allows us to avoid, for the most part, having to write loops: even in our listcomps, which are more concise than standard loops, there is a need to explicitly step through each element one by one. Numerical Python arrays often obviate such syntax, allowing us to carry out mathematical operations on entire blocks of data in one step.\n",
    "\n",
    "Linear algebra applications, in particular, which entail heavy use of fixed-length, homogeneous entities (namely, mathematical matrices) can benefit from numpy arrays, which is why we make a slight detour here, to introduce them. In standard Python, matrices can be represented by lists of lists which are, however, quite clunky, in that their syntax is different from the mathematical notation you are already used to. Before we tackle the two-dimensional case, which will be of interest in chapter 4, we first go over one-dimensional numpy arrays, which are direct replacements for Python lists, like the tots mentioned above. From here onward, we will not keep referring to these new containers as numpy arrays: they’ll simply be called arrays, the same way the core-Python lists are simply called lists."
   ]
  },
  {
   "cell_type": "markdown",
   "metadata": {
    "id": "kYVp_Yzu4f-0"
   },
   "source": [
    "## 1 One-dimensional arrays"
   ]
  },
  {
   "cell_type": "markdown",
   "metadata": {
    "id": "doffXN_n4f-0"
   },
   "source": [
    "## 1.1 Creating"
   ]
  },
  {
   "cell_type": "markdown",
   "metadata": {
    "id": "FisyZ0uL4f-1"
   },
   "source": [
    "We start in the usual way, with a Python list:"
   ]
  },
  {
   "cell_type": "code",
   "execution_count": null,
   "metadata": {
    "collapsed": true,
    "id": "dJ0-wPQN4f-1",
    "jupyter": {
     "outputs_hidden": true
    }
   },
   "outputs": [],
   "source": [
    "L = [11, 7, 19, 22, 55]"
   ]
  },
  {
   "cell_type": "markdown",
   "metadata": {
    "id": "aUpk2uTh4f-2"
   },
   "source": [
    "The next step is to import numpy functionality which, as you know, we can do in any one of a number of ways. We here employ the standard convention of importing numpy with a shortened name:"
   ]
  },
  {
   "cell_type": "code",
   "execution_count": null,
   "metadata": {
    "collapsed": true,
    "id": "B1OvMqLM4f-2",
    "jupyter": {
     "outputs_hidden": true
    }
   },
   "outputs": [],
   "source": [
    "import numpy as np"
   ]
  },
  {
   "cell_type": "markdown",
   "metadata": {
    "id": "KIn_wSRn4f-2"
   },
   "source": [
    "The easiest way to make an array is to employ the array() function, which takes in a sequence-like entity and returns an array containing the data that was passed in. In our example, with the list L, we have:"
   ]
  },
  {
   "cell_type": "code",
   "execution_count": null,
   "metadata": {
    "colab": {
     "base_uri": "https://localhost:8080/"
    },
    "executionInfo": {
     "elapsed": 682,
     "status": "ok",
     "timestamp": 1613736522837,
     "user": {
      "displayName": "MARTINA NATALI",
      "photoUrl": "",
      "userId": "01883442945229086140"
     },
     "user_tz": -60
    },
    "id": "44yLpWvu4f-3",
    "outputId": "71023e25-77fe-44b3-c525-9608b4dee479"
   },
   "outputs": [
    {
     "data": {
      "text/plain": [
       "array([11,  7, 19, 22, 55])"
      ]
     },
     "execution_count": 5,
     "metadata": {
      "tags": []
     },
     "output_type": "execute_result"
    }
   ],
   "source": [
    "xs = np.array(L)\n",
    "xs"
   ]
  },
  {
   "cell_type": "markdown",
   "metadata": {
    "id": "jlXQloba4f-4"
   },
   "source": [
    "Notice that the array() function is part of numpy, so we had to say np.array() to access it. This example clearly shows the Python interpreter understanding that xs is not a list, but an array object (Note that there is both an array() function and an array object involved here: the former created the latter). It’s worth highlighting that when you print out lists and arrays, the output is slightly different:"
   ]
  },
  {
   "cell_type": "code",
   "execution_count": null,
   "metadata": {
    "colab": {
     "base_uri": "https://localhost:8080/"
    },
    "executionInfo": {
     "elapsed": 720,
     "status": "ok",
     "timestamp": 1613736526252,
     "user": {
      "displayName": "MARTINA NATALI",
      "photoUrl": "",
      "userId": "01883442945229086140"
     },
     "user_tz": -60
    },
    "id": "e4Rp_mZd4f-4",
    "outputId": "ede3fd6c-e54e-4e4e-b08f-c1e27df91704"
   },
   "outputs": [
    {
     "name": "stdout",
     "output_type": "stream",
     "text": [
      "[11  7 19 22 55]\n",
      "[11, 7, 19, 22, 55]\n"
     ]
    }
   ],
   "source": [
    "print(xs)\n",
    "print(L)"
   ]
  },
  {
   "cell_type": "markdown",
   "metadata": {
    "id": "vz5EKunu4f-5"
   },
   "source": [
    "Obviously, a print-out of an array doesn’t show the commas: this is quite helpful when you need to focus on the numbers themselves, which is the task arrays were designed for.\n",
    "If you want to see how many elements are to be found in the array xs, you might be tempted to reach for the core-Python built-in function len(): this may cause headaches later on, so it’s best to use instead the size attribute of the array xs:"
   ]
  },
  {
   "cell_type": "code",
   "execution_count": null,
   "metadata": {
    "id": "-RggPtdK4f-5",
    "outputId": "4f5012f7-9267-4ce4-db2a-11212280606f"
   },
   "outputs": [
    {
     "data": {
      "text/plain": [
       "5"
      ]
     },
     "execution_count": 5,
     "metadata": {
      "tags": []
     },
     "output_type": "execute_result"
    }
   ],
   "source": [
    "xs.size"
   ]
  },
  {
   "cell_type": "markdown",
   "metadata": {
    "id": "GHuasoUE4f-6"
   },
   "source": [
    "Remember: numpy arrays are fixed-length, so the total number of elements cannot change. In other words, there is no append() method for arrays (thus, their size is fixed, whereas for a list len(L) would return different values before and after we append/pop an element).\n",
    "\n",
    "Another very useful attribute arrays have is dtype, namely the data type of the elements:"
   ]
  },
  {
   "cell_type": "code",
   "execution_count": null,
   "metadata": {
    "id": "fybnSwNS4f-6",
    "outputId": "c11e1d0d-8bbe-4972-d94f-bb50bfa2c28c"
   },
   "outputs": [
    {
     "data": {
      "text/plain": [
       "dtype('int64')"
      ]
     },
     "execution_count": 6,
     "metadata": {
      "tags": []
     },
     "output_type": "execute_result"
    }
   ],
   "source": [
    "xs.dtype"
   ]
  },
  {
   "cell_type": "markdown",
   "metadata": {
    "id": "7R1_OMUF4f-6"
   },
   "source": [
    "You can immediately see that while we did not explicitly provide a data type for the elements of xs, this was inferred from the elements themselves (remember: numpy arrays are homogeneous, meaning all elements have the same type). You can also see that the type returned is not the standard Python integer, but int64: the number tells us how many bits are used to store this integer in this specific representation (64 bits make up what most languages call a “long integer”). You can also use Python’s type() to check the different types:"
   ]
  },
  {
   "cell_type": "code",
   "execution_count": null,
   "metadata": {
    "id": "qaQ7NFcZ4f-7",
    "outputId": "1f9545e1-d6cb-43e2-f35e-f0e9115301ba"
   },
   "outputs": [
    {
     "data": {
      "text/plain": [
       "list"
      ]
     },
     "execution_count": 7,
     "metadata": {
      "tags": []
     },
     "output_type": "execute_result"
    }
   ],
   "source": [
    "type(L)"
   ]
  },
  {
   "cell_type": "code",
   "execution_count": null,
   "metadata": {
    "id": "Tl-KX9lL4f-7",
    "outputId": "9432274d-ea84-49e9-f28c-027bd14ae96f"
   },
   "outputs": [
    {
     "data": {
      "text/plain": [
       "int"
      ]
     },
     "execution_count": 8,
     "metadata": {
      "tags": []
     },
     "output_type": "execute_result"
    }
   ],
   "source": [
    "type(L[0])"
   ]
  },
  {
   "cell_type": "code",
   "execution_count": null,
   "metadata": {
    "id": "0lK8g_Fg4f-7",
    "outputId": "c936b14f-71c1-4b59-9aa1-af6f77dcd732"
   },
   "outputs": [
    {
     "data": {
      "text/plain": [
       "numpy.ndarray"
      ]
     },
     "execution_count": 9,
     "metadata": {
      "tags": []
     },
     "output_type": "execute_result"
    }
   ],
   "source": [
    "type(xs)"
   ]
  },
  {
   "cell_type": "code",
   "execution_count": null,
   "metadata": {
    "id": "7Oq4qBFw4f-8",
    "outputId": "f87a7245-98df-4213-f9e2-1ae2b4ddfddf"
   },
   "outputs": [
    {
     "data": {
      "text/plain": [
       "numpy.int64"
      ]
     },
     "execution_count": 10,
     "metadata": {
      "tags": []
     },
     "output_type": "execute_result"
    }
   ],
   "source": [
    "type(xs[0])"
   ]
  },
  {
   "cell_type": "markdown",
   "metadata": {
    "id": "HRadqKws4f-8"
   },
   "source": [
    "which clearly shows that we are dealing here with distinct types: the numpy types directly map onto machine representations.\n",
    "\n",
    "As you can imagine, we can also have arrays containing floats:"
   ]
  },
  {
   "cell_type": "code",
   "execution_count": null,
   "metadata": {
    "id": "DxVw3N-F4f-8",
    "outputId": "e8d4a5a1-c9b7-461e-c2e3-9281cc1e2220"
   },
   "outputs": [
    {
     "data": {
      "text/plain": [
       "dtype('float64')"
      ]
     },
     "execution_count": 11,
     "metadata": {
      "tags": []
     },
     "output_type": "execute_result"
    }
   ],
   "source": [
    "ys = np.array([1.1, 2.2, 3.3, 4.4])\n",
    "ys.dtype"
   ]
  },
  {
   "cell_type": "markdown",
   "metadata": {
    "id": "O84XJhnB4f-9"
   },
   "source": [
    "where we took the opportunity to place the list that is used to create the array directly as an argument to the array() function. Here, the 64 informs us that we are dealing with a double-precision float (see chapter 2 for more details). In our examples above, namely xs and ys, we allowed numpy to infer the type of argument on its own. However, we can also provide the data type as an (optional) argument to array():"
   ]
  },
  {
   "cell_type": "code",
   "execution_count": null,
   "metadata": {
    "id": "cHMK8WdW4f-9",
    "outputId": "7839a995-9ad2-4976-cb00-48f3b13a390f"
   },
   "outputs": [
    {
     "data": {
      "text/plain": [
       "dtype('float32')"
      ]
     },
     "execution_count": 12,
     "metadata": {
      "tags": []
     },
     "output_type": "execute_result"
    }
   ],
   "source": [
    "zs = np.array([5, 6, 7, 8], dtype=np.float32)\n",
    "zs\n",
    "zs.dtype"
   ]
  },
  {
   "cell_type": "markdown",
   "metadata": {
    "id": "QbQa0T4i4f-9"
   },
   "source": [
    "Here we took the opportunity to use a list of integers and have numpy carry out the promotion to (single-precision) floats. Thus, numpy provides us with fine-grained control over which machine presentation we want to use: especially for floats, this can have major practical consequences and constitutes one of the major selling points of numpy arrays.\n",
    "\n",
    "So far, we’ve only seen how to create numpy arrays through the use of a (throwaway) list. For example, if we wanted an array containing a fixed number of zeros, we would do something like:    "
   ]
  },
  {
   "cell_type": "code",
   "execution_count": null,
   "metadata": {
    "id": "d4WpvoBd4f-9",
    "outputId": "0be75f1b-f1af-4912-e81d-09077da9888c"
   },
   "outputs": [
    {
     "data": {
      "text/plain": [
       "array([0., 0., 0., 0., 0.])"
      ]
     },
     "execution_count": 13,
     "metadata": {
      "tags": []
     },
     "output_type": "execute_result"
    }
   ],
   "source": [
    "np.array([0.]*5)"
   ]
  },
  {
   "cell_type": "markdown",
   "metadata": {
    "id": "LsXkZoEu4f--"
   },
   "source": [
    "whereas in order to produce an array containing a fixed number of ones we would say:"
   ]
  },
  {
   "cell_type": "code",
   "execution_count": null,
   "metadata": {
    "id": "oqPTGztR4f--",
    "outputId": "e09f38da-daa0-4927-9d0d-89e5300c00af"
   },
   "outputs": [
    {
     "data": {
      "text/plain": [
       "array([1., 1., 1., 1.])"
      ]
     },
     "execution_count": 14,
     "metadata": {
      "tags": []
     },
     "output_type": "execute_result"
    }
   ],
   "source": [
    "np.array([1.]*4)"
   ]
  },
  {
   "cell_type": "markdown",
   "metadata": {
    "id": "WW3uH_e94f--"
   },
   "source": [
    "These use cases are sufficiently common that numpy contains functions to generate such arrays directly:"
   ]
  },
  {
   "cell_type": "code",
   "execution_count": null,
   "metadata": {
    "id": "kp66KKMN4f-_",
    "outputId": "6d6b73fa-7e42-4dda-b743-417f24044946"
   },
   "outputs": [
    {
     "data": {
      "text/plain": [
       "array([0., 0., 0., 0., 0.])"
      ]
     },
     "execution_count": 15,
     "metadata": {
      "tags": []
     },
     "output_type": "execute_result"
    }
   ],
   "source": [
    "np.zeros(5)"
   ]
  },
  {
   "cell_type": "code",
   "execution_count": null,
   "metadata": {
    "id": "dZKobCFF4f-_",
    "outputId": "94612d34-061f-49be-bc22-f76962e7569f"
   },
   "outputs": [
    {
     "data": {
      "text/plain": [
       "array([1., 1., 1., 1.])"
      ]
     },
     "execution_count": 16,
     "metadata": {
      "tags": []
     },
     "output_type": "execute_result"
    }
   ],
   "source": [
    "np.ones(4)"
   ]
  },
  {
   "cell_type": "markdown",
   "metadata": {
    "id": "iliPXmZ34f-_"
   },
   "source": [
    "where, as you can see, we passed in as an argument the total number of elements each time.\n",
    "\n",
    "Another very useful numpy function that generates arrays is arange() which is a generalization of the core-Python range():"
   ]
  },
  {
   "cell_type": "code",
   "execution_count": null,
   "metadata": {
    "id": "UMOdpy_u4f-_",
    "outputId": "6a884701-11de-4a89-ccad-9a6f3b4ecb68"
   },
   "outputs": [
    {
     "data": {
      "text/plain": [
       "array([10, 11, 12, 13, 14, 15])"
      ]
     },
     "execution_count": 17,
     "metadata": {
      "tags": []
     },
     "output_type": "execute_result"
    }
   ],
   "source": [
    "np.arange(10,16)"
   ]
  },
  {
   "cell_type": "markdown",
   "metadata": {
    "id": "NVkYWWqk4f_A"
   },
   "source": [
    "Obviously, you could also provide a stride, as a third argument to arange(), just like you did for range(). At this point, those who are new to numpy often find out that arange() can also take in floats as arguments:"
   ]
  },
  {
   "cell_type": "code",
   "execution_count": null,
   "metadata": {
    "id": "oidVIpjn4f_A",
    "outputId": "dc14ca90-4bfc-4c95-e036-bc883d38b2be"
   },
   "outputs": [
    {
     "data": {
      "text/plain": [
       "array([10., 11., 12., 13., 14., 15.])"
      ]
     },
     "execution_count": 18,
     "metadata": {
      "tags": []
     },
     "output_type": "execute_result"
    }
   ],
   "source": [
    "np.arange(10.,16.)"
   ]
  },
  {
   "cell_type": "markdown",
   "metadata": {
    "id": "foqC8kUA4f_A"
   },
   "source": [
    "However, in chapter 2 we will learn that this invites trouble. Here are two examples showing how things can go wrong:"
   ]
  },
  {
   "cell_type": "code",
   "execution_count": null,
   "metadata": {
    "id": "VRZhJ1Kj4f_B",
    "outputId": "5409b9c6-6c2f-457a-ed21-c63b67ad3ad2"
   },
   "outputs": [
    {
     "data": {
      "text/plain": [
       "array([1.5 , 1.55, 1.6 , 1.65, 1.7 ])"
      ]
     },
     "execution_count": 19,
     "metadata": {
      "tags": []
     },
     "output_type": "execute_result"
    }
   ],
   "source": [
    "np.arange(1.5,1.75,0.05)"
   ]
  },
  {
   "cell_type": "code",
   "execution_count": null,
   "metadata": {
    "id": "Xs_CigXJ4f_B",
    "outputId": "10d1365a-8551-4c6c-b072-494f543b4bb2"
   },
   "outputs": [
    {
     "data": {
      "text/plain": [
       "array([1.5 , 1.55, 1.6 , 1.65, 1.7 , 1.75, 1.8 ])"
      ]
     },
     "execution_count": 20,
     "metadata": {
      "tags": []
     },
     "output_type": "execute_result"
    }
   ],
   "source": [
    "np.arange(1.5,1.8,0.05)"
   ]
  },
  {
   "cell_type": "markdown",
   "metadata": {
    "id": "GSqegnbR4f_B"
   },
   "source": [
    "Floats (and floating-point operations) are not stored (carried out) using infinite precision. As a result, in the first case the endpoint is excluded but in the second case it is included. This can have dramatic consequences: take numerical integration as an example. When applying such formulas it is very important to apply, say, a closed method properly (i.e., include both endpoints). The numpy documentation happens to be very explicit on this: “When using a non-integer step, such as 0.1, the results will often not be consistent”.\n",
    "You might be tempted to solve this problem by a one-off solution like:"
   ]
  },
  {
   "cell_type": "code",
   "execution_count": null,
   "metadata": {
    "id": "7aEPWc9c4f_B",
    "outputId": "2cef5c94-42e3-4982-c3c5-3fd53e427815"
   },
   "outputs": [
    {
     "data": {
      "text/plain": [
       "array([1.5 , 1.55, 1.6 , 1.65, 1.7 , 1.75])"
      ]
     },
     "execution_count": 21,
     "metadata": {
      "tags": []
     },
     "output_type": "execute_result"
    }
   ],
   "source": [
    "np.arange(1.5,1.75001,0.05)"
   ]
  },
  {
   "cell_type": "markdown",
   "metadata": {
    "id": "Amqx4D4y4f_C"
   },
   "source": [
    "This is a bad idea. Instead, it is much better to use the linspace() function, which returns a specified number of evenly spaced elements over a specified interval, for example:"
   ]
  },
  {
   "cell_type": "code",
   "execution_count": null,
   "metadata": {
    "id": "2Yp23P6Y4f_C",
    "outputId": "f2f34758-c584-43ed-98e1-f71ea4234931"
   },
   "outputs": [
    {
     "data": {
      "text/plain": [
       "array([1.5 , 1.55, 1.6 , 1.65, 1.7 , 1.75])"
      ]
     },
     "execution_count": 22,
     "metadata": {
      "tags": []
     },
     "output_type": "execute_result"
    }
   ],
   "source": [
    "np.linspace(1.5,1.75,6)"
   ]
  },
  {
   "cell_type": "code",
   "execution_count": null,
   "metadata": {
    "id": "ZfeaV-uo4f_C",
    "outputId": "03705fb9-83d2-4432-aec7-1790db5c0650"
   },
   "outputs": [
    {
     "data": {
      "text/plain": [
       "array([1.5 , 1.55, 1.6 , 1.65, 1.7 , 1.75, 1.8 ])"
      ]
     },
     "execution_count": 23,
     "metadata": {
      "tags": []
     },
     "output_type": "execute_result"
    }
   ],
   "source": [
    "np.linspace(1.5,1.8,7)"
   ]
  },
  {
   "cell_type": "markdown",
   "metadata": {
    "id": "Ubfggc5u4f_D"
   },
   "source": [
    "Note that this provides consistent behavior, at the cost of having to provide the desired number of elements ourselves. You may be wondering why the linspace() function has this name. The answer will become obvious once we point out that numpy also has a function called logspace(). This produces a logarithmically spaced grid of points (the default behavior is to use a base of 10). For example, if we wanted 5 points logarithmically distributed from $10^{−1}$ to $10^{−5}$, we would say:"
   ]
  },
  {
   "cell_type": "code",
   "execution_count": null,
   "metadata": {
    "id": "GqV03RdA4f_D",
    "outputId": "371db5c6-5b87-4887-f4a8-be22c0019bfe"
   },
   "outputs": [
    {
     "data": {
      "text/plain": [
       "array([1.e-01, 1.e-02, 1.e-03, 1.e-04, 1.e-05])"
      ]
     },
     "execution_count": 24,
     "metadata": {
      "tags": []
     },
     "output_type": "execute_result"
    }
   ],
   "source": [
    "np.logspace(-1, -5, 5)"
   ]
  },
  {
   "cell_type": "markdown",
   "metadata": {
    "id": "Jp_iuDtt4f_E"
   },
   "source": [
    "The first argument is the exponent of the starting value, the second argument is the exponent of the final value, and the third argument is the number of samples to generate. Obviously, the grid of points that linspace() produces is linear. Remember: both linspace() and logspace() include the two provided endpoints.\n",
    "\n",
    "The two differences between lists and arrays we’ve encountered so far (i.e., arrays’ being fixed-length and homogeneous) may appear to you not to be too important. After all, one can create a list that never grows/shrinks and is made up of elements of the same type. We will now see two more major differences, the first having to do with how slicing works and the second one relating to how calculations are propagated to the different elements. We take up each one of these in its own subsection."
   ]
  },
  {
   "cell_type": "markdown",
   "metadata": {
    "id": "XTJeMP1s4f_E"
   },
   "source": [
    "# 1.2 Indexing and slicing"
   ]
  },
  {
   "cell_type": "markdown",
   "metadata": {
    "id": "AQJj4c_I4f_E"
   },
   "source": [
    "Indexing for arrays works in exactly the same way as for lists, namely with square brackets:"
   ]
  },
  {
   "cell_type": "code",
   "execution_count": null,
   "metadata": {
    "id": "bCMlP_b14f_F"
   },
   "outputs": [],
   "source": [
    "xs = np.arange(10,16)\n",
    "print(xs)"
   ]
  },
  {
   "cell_type": "code",
   "execution_count": null,
   "metadata": {
    "id": "NLgBmdIo4f_F",
    "outputId": "49fa5092-d9be-45db-a356-7067dc785fe0"
   },
   "outputs": [
    {
     "data": {
      "text/plain": [
       "12"
      ]
     },
     "execution_count": 26,
     "metadata": {
      "tags": []
     },
     "output_type": "execute_result"
    }
   ],
   "source": [
    "xs[2]"
   ]
  },
  {
   "cell_type": "markdown",
   "metadata": {
    "id": "UIeq34q84f_F"
   },
   "source": [
    "Likewise, slicing appears, at first sight, to be identical to how slicing of lists works:"
   ]
  },
  {
   "cell_type": "code",
   "execution_count": null,
   "metadata": {
    "id": "be0OEffW4f_F",
    "outputId": "3150f846-7527-4d44-f7db-7e07f22fe567"
   },
   "outputs": [
    {
     "name": "stdout",
     "output_type": "stream",
     "text": [
      "[12 13]\n"
     ]
    }
   ],
   "source": [
    "xs = np.arange(10,16)\n",
    "print(xs[2:4])"
   ]
  },
  {
   "cell_type": "markdown",
   "metadata": {
    "id": "h_IdxqXi4f_G"
   },
   "source": [
    "We could keep adding examples, e.g. xs[-1] accesses the last element in the array, xs[1:5:2] employs a stride, and so on. However, there is a crucial difference, namely that array slices are views on the original array:"
   ]
  },
  {
   "cell_type": "code",
   "execution_count": null,
   "metadata": {
    "id": "DT6wvEBL4f_G",
    "outputId": "d1fd0a3a-ba1c-4739-c178-07d9be1b1523"
   },
   "outputs": [
    {
     "name": "stdout",
     "output_type": "stream",
     "text": [
      "[11  7 19 22]\n"
     ]
    }
   ],
   "source": [
    "r = np.array([11,7,19,22])\n",
    "print(r)"
   ]
  },
  {
   "cell_type": "code",
   "execution_count": null,
   "metadata": {
    "id": "6rQPFOyB4f_G",
    "outputId": "f9fd351c-39c8-4e84-da80-163b5ba7680d"
   },
   "outputs": [
    {
     "name": "stdout",
     "output_type": "stream",
     "text": [
      "[ 7 19]\n"
     ]
    }
   ],
   "source": [
    "sli = r[1:3]\n",
    "print(sli)"
   ]
  },
  {
   "cell_type": "code",
   "execution_count": null,
   "metadata": {
    "id": "_tB1Ch714f_H",
    "outputId": "de384208-8a60-485e-b741-113b13213be8"
   },
   "outputs": [
    {
     "name": "stdout",
     "output_type": "stream",
     "text": [
      "[55 19]\n"
     ]
    }
   ],
   "source": [
    "sli[0] = 55\n",
    "print(sli)"
   ]
  },
  {
   "cell_type": "code",
   "execution_count": null,
   "metadata": {
    "id": "QGMkTa-q4f_H",
    "outputId": "efaf3996-7fc6-41e7-c331-e638ce48f1ff"
   },
   "outputs": [
    {
     "name": "stdout",
     "output_type": "stream",
     "text": [
      "[11 55 19 22]\n"
     ]
    }
   ],
   "source": [
    "print(r)"
   ]
  },
  {
   "cell_type": "markdown",
   "metadata": {
    "id": "GCVzPyC04f_H"
   },
   "source": [
    "This example happens to be exactly the same as what we did in the Python tutorial for the case of lists (which is why we are temporarily reverting back to an older variable naming convention). As you may recall from there, slices of lists gave de facto copies, so the original list was unaffected by subsequent changes to the slice. This behavior of slices led us to use L[:] to get a copy of the list L. Numpy arrays are efficient, eliminating the need to copy data: of course, one should always be mindful that different slices all refer to the same underlying array. For the few cases where you do need a true copy, you can use numpy.copy():"
   ]
  },
  {
   "cell_type": "code",
   "execution_count": null,
   "metadata": {
    "collapsed": true,
    "id": "E9plotDu4f_H",
    "jupyter": {
     "outputs_hidden": true
    }
   },
   "outputs": [],
   "source": [
    "r = np.array([11,7,19,22])\n",
    "sli = np.copy(r[1:3])"
   ]
  },
  {
   "cell_type": "code",
   "execution_count": null,
   "metadata": {
    "id": "lHpHob_T4f_I",
    "outputId": "a42f4c57-ce0a-4cdd-af28-691a3e89eba1"
   },
   "outputs": [
    {
     "name": "stdout",
     "output_type": "stream",
     "text": [
      "[55 19]\n"
     ]
    }
   ],
   "source": [
    "sli[0] = 55\n",
    "print(sli)"
   ]
  },
  {
   "cell_type": "code",
   "execution_count": null,
   "metadata": {
    "id": "5EB-bOpg4f_I",
    "outputId": "403e3390-2f6d-422a-8ac2-6896f52d4aec"
   },
   "outputs": [
    {
     "name": "stdout",
     "output_type": "stream",
     "text": [
      "[11  7 19 22]\n"
     ]
    }
   ],
   "source": [
    "print(r)"
   ]
  },
  {
   "cell_type": "markdown",
   "metadata": {
    "id": "imHmTNs54f_I"
   },
   "source": [
    "It is easy to see that you could, just as well, copy the entire array over, without impacting the original:"
   ]
  },
  {
   "cell_type": "code",
   "execution_count": null,
   "metadata": {
    "id": "hR14ZjRM4f_I",
    "outputId": "6d93b8f5-0493-4e63-e77e-89d5cde7c4db"
   },
   "outputs": [
    {
     "name": "stdout",
     "output_type": "stream",
     "text": [
      "[11  0 19 22]\n"
     ]
    }
   ],
   "source": [
    "r2 = np.copy(r)\n",
    "r2[1] = 0\n",
    "print(r2)"
   ]
  },
  {
   "cell_type": "code",
   "execution_count": null,
   "metadata": {
    "id": "YRzCQOOF4f_J",
    "outputId": "12001ef9-4f7f-4b51-e5ee-9340ee77b830"
   },
   "outputs": [
    {
     "name": "stdout",
     "output_type": "stream",
     "text": [
      "[11  7 19 22]\n"
     ]
    }
   ],
   "source": [
    "print(r)"
   ]
  },
  {
   "cell_type": "markdown",
   "metadata": {
    "id": "KAZJr0dx4f_J"
   },
   "source": [
    "In the main text of the book, we frequently make copies of arrays inside functions, in the spirit of impacting the external world only through the return value of a function. That being said, this is only a pedagogical choice: in practice, the performance is much better if one modifies an array “in place”, thereby destroying the original array.\n",
    "\n",
    "Another difference between lists and arrays, expanded on in the coming subsection has to with broadcasting. Qualitatively, this means that numpy often knows how to handle entities whose dimensionalities don’t quite match. Here’s an example:"
   ]
  },
  {
   "cell_type": "code",
   "execution_count": null,
   "metadata": {
    "id": "RH6QOlR-4f_J",
    "outputId": "5fc3de63-98db-42cc-8315-56b46e28ecc9"
   },
   "outputs": [
    {
     "name": "stdout",
     "output_type": "stream",
     "text": [
      "[11 55 55 22]\n"
     ]
    }
   ],
   "source": [
    "r = np.array([11, 7, 19, 22])\n",
    "r[1:3] = 55\n",
    "print(r)"
   ]
  },
  {
   "cell_type": "markdown",
   "metadata": {
    "id": "WODB5R4g4f_K"
   },
   "source": [
    "As it so happens, this is an example that we tried in the Python tutorial using lists: there, we received a TypeError, since Python didn’t know how to handle a single number on the right-hand-side, when the left-hand-side needed at least two numbers (i.e., Python expected an iterable on the right-hand-side). For the case of arrays, instead, the one value on the right-hand-side is broadcast to as many slots as necessary.\n",
    "\n",
    "Since we’ve now gone over slicing and how one value can be broadcast to several slots, this is a good place to see a very common numpy array idiom, which uses an “everything slice”, namely xs[:]. Remember, since array slices are views on the original array, xs[:] cannot be used to create a copy of the array. However, this syntax does have a nice use as shown below:"
   ]
  },
  {
   "cell_type": "code",
   "execution_count": null,
   "metadata": {
    "id": "5bakP_0o4f_L",
    "outputId": "7254f94c-0547-40bf-eda5-a5bbe72f67a4"
   },
   "outputs": [
    {
     "name": "stdout",
     "output_type": "stream",
     "text": [
      "[10 11 12 13 14 15]\n",
      "[7 7 7 7 7 7]\n"
     ]
    }
   ],
   "source": [
    "xs = np.arange(10,16)\n",
    "print(xs)\n",
    "xs[:]  = 7\n",
    "print(xs)"
   ]
  },
  {
   "cell_type": "markdown",
   "metadata": {
    "id": "E5dX2OsB4f_L"
   },
   "source": [
    "We used the everything-slice to broadcast the number 7 onto all slots of a pre-existing array. You might be wondering why we need this everything-slice to accomplish this. The answer should be clear if you see that:"
   ]
  },
  {
   "cell_type": "code",
   "execution_count": null,
   "metadata": {
    "id": "TEAvnfBe4f_M",
    "outputId": "bfa4817e-e2ae-44db-bbd9-7669556cc897"
   },
   "outputs": [
    {
     "name": "stdout",
     "output_type": "stream",
     "text": [
      "7\n"
     ]
    }
   ],
   "source": [
    "xs = 7\n",
    "print(xs)"
   ]
  },
  {
   "cell_type": "markdown",
   "metadata": {
    "id": "VuZJN6j74f_M"
   },
   "source": [
    "If you don’t use an everything-slice, Python thinks you are creating a new integer variable which just happens to be called xs, whereas that was (almost certainly) not your intention.\n",
    "We’ve already seen some of the new syntax allowed by arrays. The following section discusses such array operations in greater detail, highlighting their strengths."
   ]
  },
  {
   "cell_type": "markdown",
   "metadata": {
    "id": "JbiQ-I7u4f_M"
   },
   "source": [
    "## 1.3 Vectorization"
   ]
  },
  {
   "cell_type": "markdown",
   "metadata": {
    "id": "qlnJQXHG4f_N"
   },
   "source": [
    "When introducing arrays above, we mentioned that they allow us to avoid, for the most part, having to write loops. It is now time to see what this means:"
   ]
  },
  {
   "cell_type": "code",
   "execution_count": null,
   "metadata": {
    "colab": {
     "base_uri": "https://localhost:8080/"
    },
    "executionInfo": {
     "elapsed": 699,
     "status": "ok",
     "timestamp": 1613736566289,
     "user": {
      "displayName": "MARTINA NATALI",
      "photoUrl": "",
      "userId": "01883442945229086140"
     },
     "user_tz": -60
    },
    "id": "xExoEZA54f_N",
    "outputId": "b6111a06-bf38-4120-f7b1-3dc89fe4cbb9"
   },
   "outputs": [
    {
     "name": "stdout",
     "output_type": "stream",
     "text": [
      "[10 11 12 13 14 15]\n"
     ]
    }
   ],
   "source": [
    "xs = np.arange(10,16)\n",
    "ys = np.arange(20,26)\n",
    "print(xs)"
   ]
  },
  {
   "cell_type": "code",
   "execution_count": null,
   "metadata": {
    "colab": {
     "base_uri": "https://localhost:8080/"
    },
    "executionInfo": {
     "elapsed": 663,
     "status": "ok",
     "timestamp": 1613736567953,
     "user": {
      "displayName": "MARTINA NATALI",
      "photoUrl": "",
      "userId": "01883442945229086140"
     },
     "user_tz": -60
    },
    "id": "gou-3AQN4f_N",
    "outputId": "0ea90600-8982-4028-8ee3-c9547a17fe96"
   },
   "outputs": [
    {
     "name": "stdout",
     "output_type": "stream",
     "text": [
      "[20 21 22 23 24 25]\n"
     ]
    }
   ],
   "source": [
    "print(ys)"
   ]
  },
  {
   "cell_type": "code",
   "execution_count": null,
   "metadata": {
    "colab": {
     "base_uri": "https://localhost:8080/"
    },
    "executionInfo": {
     "elapsed": 670,
     "status": "ok",
     "timestamp": 1613736587091,
     "user": {
      "displayName": "MARTINA NATALI",
      "photoUrl": "",
      "userId": "01883442945229086140"
     },
     "user_tz": -60
    },
    "id": "wci3xpDx4f_N",
    "outputId": "e6af6779-e6d1-4d1d-c59c-d49347ab9a65"
   },
   "outputs": [
    {
     "name": "stdout",
     "output_type": "stream",
     "text": [
      "[30 32 34 36 38 40]\n"
     ]
    }
   ],
   "source": [
    "print(xs + ys)"
   ]
  },
  {
   "cell_type": "markdown",
   "metadata": {
    "id": "Q40NiUaT4f_O"
   },
   "source": [
    "We see that for numpy arrays addition is interpreted as an elementwise operation (i.e., each pair of elements is added together). This ability to carry out such batch operations on all the elements of an array (or two) at once is often called vectorization. Note how different this is from the corresponding behavior of Python lists:"
   ]
  },
  {
   "cell_type": "code",
   "execution_count": null,
   "metadata": {
    "colab": {
     "base_uri": "https://localhost:8080/"
    },
    "executionInfo": {
     "elapsed": 678,
     "status": "ok",
     "timestamp": 1613736600517,
     "user": {
      "displayName": "MARTINA NATALI",
      "photoUrl": "",
      "userId": "01883442945229086140"
     },
     "user_tz": -60
    },
    "id": "6ll_YE7g4f_O",
    "outputId": "e94ca775-56c5-4d2a-8b31-29d4d9685be7"
   },
   "outputs": [
    {
     "data": {
      "text/plain": [
       "[10, 11, 12, 13, 14, 15]"
      ]
     },
     "execution_count": 10,
     "metadata": {
      "tags": []
     },
     "output_type": "execute_result"
    }
   ],
   "source": [
    "xs = list(range(10,16))\n",
    "ys = list(range(20,26))\n",
    "xs"
   ]
  },
  {
   "cell_type": "code",
   "execution_count": null,
   "metadata": {
    "colab": {
     "base_uri": "https://localhost:8080/"
    },
    "executionInfo": {
     "elapsed": 897,
     "status": "ok",
     "timestamp": 1613736602452,
     "user": {
      "displayName": "MARTINA NATALI",
      "photoUrl": "",
      "userId": "01883442945229086140"
     },
     "user_tz": -60
    },
    "id": "rEVOvv-t4f_O",
    "outputId": "0bc0f667-7df3-4d90-e6fa-19c3dec008ab"
   },
   "outputs": [
    {
     "data": {
      "text/plain": [
       "[20, 21, 22, 23, 24, 25]"
      ]
     },
     "execution_count": 11,
     "metadata": {
      "tags": []
     },
     "output_type": "execute_result"
    }
   ],
   "source": [
    "ys"
   ]
  },
  {
   "cell_type": "code",
   "execution_count": null,
   "metadata": {
    "colab": {
     "base_uri": "https://localhost:8080/"
    },
    "executionInfo": {
     "elapsed": 725,
     "status": "ok",
     "timestamp": 1613736604362,
     "user": {
      "displayName": "MARTINA NATALI",
      "photoUrl": "",
      "userId": "01883442945229086140"
     },
     "user_tz": -60
    },
    "id": "rAKk9c634f_O",
    "outputId": "6fe1b383-18a6-4331-fef5-650412f3fba8"
   },
   "outputs": [
    {
     "data": {
      "text/plain": [
       "[10, 11, 12, 13, 14, 15, 20, 21, 22, 23, 24, 25]"
      ]
     },
     "execution_count": 12,
     "metadata": {
      "tags": []
     },
     "output_type": "execute_result"
    }
   ],
   "source": [
    "xs+ys"
   ]
  },
  {
   "cell_type": "code",
   "execution_count": null,
   "metadata": {
    "colab": {
     "base_uri": "https://localhost:8080/"
    },
    "executionInfo": {
     "elapsed": 664,
     "status": "ok",
     "timestamp": 1613736606147,
     "user": {
      "displayName": "MARTINA NATALI",
      "photoUrl": "",
      "userId": "01883442945229086140"
     },
     "user_tz": -60
    },
    "id": "mi091RQd4f_P",
    "outputId": "b67e4f3b-acbd-4f49-979d-fe25b6f917fa"
   },
   "outputs": [
    {
     "data": {
      "text/plain": [
       "[30, 32, 34, 36, 38, 40]"
      ]
     },
     "execution_count": 13,
     "metadata": {
      "tags": []
     },
     "output_type": "execute_result"
    }
   ],
   "source": [
    "news = [x+y for x,y in zip(xs,ys)]\n",
    "news"
   ]
  },
  {
   "cell_type": "markdown",
   "metadata": {
    "id": "46kgkhdr4f_P"
   },
   "source": [
    "For lists + concatenates instead of leading to elementwise addition. Thus, in order to produce the same result that arrays give using a simple +, with lists we have to use a list comprehension as well as zip().\n",
    "\n",
    "Coming back to numpy arrays, multiplication is also interpreted to be an elementwise operation (and the same holds for subtraction, division, and exponentiation):"
   ]
  },
  {
   "cell_type": "code",
   "execution_count": null,
   "metadata": {
    "colab": {
     "base_uri": "https://localhost:8080/"
    },
    "executionInfo": {
     "elapsed": 667,
     "status": "ok",
     "timestamp": 1613736688743,
     "user": {
      "displayName": "MARTINA NATALI",
      "photoUrl": "",
      "userId": "01883442945229086140"
     },
     "user_tz": -60
    },
    "id": "Ve82mmky4f_P",
    "outputId": "7a7a60dd-cfc3-433e-97f6-4a51d36b6928"
   },
   "outputs": [
    {
     "name": "stdout",
     "output_type": "stream",
     "text": [
      "[200 231 264 299 336 375]\n"
     ]
    }
   ],
   "source": [
    "xs = np.arange(10,16)\n",
    "ys = np.arange(20,26)\n",
    "print(xs*ys)"
   ]
  },
  {
   "cell_type": "code",
   "execution_count": null,
   "metadata": {
    "colab": {
     "base_uri": "https://localhost:8080/"
    },
    "executionInfo": {
     "elapsed": 662,
     "status": "ok",
     "timestamp": 1613736691372,
     "user": {
      "displayName": "MARTINA NATALI",
      "photoUrl": "",
      "userId": "01883442945229086140"
     },
     "user_tz": -60
    },
    "id": "qozNRuoc4f_P",
    "outputId": "7546e7ec-28e3-4f77-bcc1-4668eb218e52"
   },
   "outputs": [
    {
     "data": {
      "text/plain": [
       "1705"
      ]
     },
     "execution_count": 15,
     "metadata": {
      "tags": []
     },
     "output_type": "execute_result"
    }
   ],
   "source": [
    "np.sum(xs*ys)"
   ]
  },
  {
   "cell_type": "markdown",
   "metadata": {
    "id": "WwGLJZgo4f_Q"
   },
   "source": [
    "Here we also took the opportunity to introduce numpy.sum(), which sums up all the elements of a numpy array. Thus, the last line is simply evaluating the scalar product of two vectors, in one short line. You may be wondering if you could have used, instead, the sum() built-in that Python provides. The answer is that, while both options are legal, in practice numpy functions are dramatically faster, as you will explore in a problem. The takeaway here is that you should employ numpy functionality whenever possible.\n",
    "\n",
    "Equally interesting to the elementwise operations between two arrays, is the ability numpy provides us to also combine an array with a scalar: this follows from the aforementioned broadcasting, whereby numpy knows how to interpret entities with different (but compatible) shapes. Here’s an example:"
   ]
  },
  {
   "cell_type": "code",
   "execution_count": null,
   "metadata": {
    "colab": {
     "base_uri": "https://localhost:8080/"
    },
    "executionInfo": {
     "elapsed": 683,
     "status": "ok",
     "timestamp": 1613736819822,
     "user": {
      "displayName": "MARTINA NATALI",
      "photoUrl": "",
      "userId": "01883442945229086140"
     },
     "user_tz": -60
    },
    "id": "5jQtRXw84f_Q",
    "outputId": "5e4d9fe1-c3d0-4273-c884-9d1f55956d0d"
   },
   "outputs": [
    {
     "name": "stdout",
     "output_type": "stream",
     "text": [
      "[10 11 12 13 14 15]\n"
     ]
    }
   ],
   "source": [
    "xs = np.arange(10,16)\n",
    "print(xs)"
   ]
  },
  {
   "cell_type": "code",
   "execution_count": null,
   "metadata": {
    "colab": {
     "base_uri": "https://localhost:8080/"
    },
    "executionInfo": {
     "elapsed": 759,
     "status": "ok",
     "timestamp": 1613736821694,
     "user": {
      "displayName": "MARTINA NATALI",
      "photoUrl": "",
      "userId": "01883442945229086140"
     },
     "user_tz": -60
    },
    "id": "r03nbP0A4f_Q",
    "outputId": "c497fb80-93f2-40ee-ee3d-45189eb17cfc"
   },
   "outputs": [
    {
     "name": "stdout",
     "output_type": "stream",
     "text": [
      "[20 22 24 26 28 30]\n"
     ]
    }
   ],
   "source": [
    "print(2*xs)"
   ]
  },
  {
   "cell_type": "markdown",
   "metadata": {
    "id": "rE271KmT4f_Q"
   },
   "source": [
    "You may recall that multiplication of a list with a scalar led to very different results (as a matter of fact, we used that property earlier in this section when we said [0.]\\*5). Instead, numpy knows how to combine a scalar with an array, to perform the multiplication for all array elements (so this is one more case where you don’t need a list comprehension). You can think of what’s happening here as the value 2 being “stretched” into an array with the same size as xs and then an elementwise multiplication taking place. Needless to say, you could carry out several other operations with scalars, for example:"
   ]
  },
  {
   "cell_type": "code",
   "execution_count": null,
   "metadata": {
    "colab": {
     "base_uri": "https://localhost:8080/"
    },
    "executionInfo": {
     "elapsed": 693,
     "status": "ok",
     "timestamp": 1613736845966,
     "user": {
      "displayName": "MARTINA NATALI",
      "photoUrl": "",
      "userId": "01883442945229086140"
     },
     "user_tz": -60
    },
    "id": "-bBgcVzh4f_R",
    "outputId": "4abbc5af-ef14-4843-9bdb-4282893464b2"
   },
   "outputs": [
    {
     "name": "stdout",
     "output_type": "stream",
     "text": [
      "[0.1        0.09090909 0.08333333 0.07692308 0.07142857 0.06666667]\n"
     ]
    }
   ],
   "source": [
    "xs = np.arange(10,16)\n",
    "print(1/xs)"
   ]
  },
  {
   "cell_type": "markdown",
   "metadata": {
    "id": "WVwWcS0R4f_R"
   },
   "source": [
    "Such combinations of broadcasting (whereby you can carry out operations between scalars and arrays) and vectorization (whereby you write one expression but the calculation is carried out for all elements) can be hard to grasp at first, but are very powerful (both expressive and efficient) once you get used to them.\n",
    "\n",
    "In addition to knowing how to perform elementwise operations between arrays (or between arrays and scalars), numpy also contains several functions that look similar to corresponding math functions: for example, numpy.sqrt(), numpy.exp(), numpy.log(), numpy.sin() do what you expect them to do. The crucial difference from the corresponding math functions is that such numpy functions are designed to take in entire arrays so they are almost always faster. Other numpy functions may be new to you, but can turn out to be very useful, e.g. numpy.isfinite() or numpy.sort(). Note that all the functions we’ve mentioned so far in this paragraph take in an array and return an array. Numpy also has functions that take in an array and return a scalar, like the numpy.sum() we encountered above. These are reasonably named, e.g. numpy.prod() calculates the product of all element values and numpy.amin() returns the element with the smallest value. Another very helpful function is numpy.argmax(), which returns the index of the maximum value. Finally, numpy contains an entire module, numpy.random, with several very useful and optimized functions related to random numbers. It’s worth spending some time with the numpy documentation to familiarize yourself with such functions, since they are intuitive and efficient.\n",
    "\n",
    "We can also use the functionality included in numpy to create our own functions that can handle arrays. For example, the following:"
   ]
  },
  {
   "cell_type": "code",
   "execution_count": null,
   "metadata": {
    "id": "CsFOdf-S4f_R"
   },
   "outputs": [],
   "source": [
    "def fa(xs):\n",
    "    return 1/np.sqrt(xs**2+1)\n",
    "xs = np.arange(10,16)\n",
    "print(fa(xs))"
   ]
  },
  {
   "cell_type": "markdown",
   "metadata": {
    "id": "UQEyjU6j4f_R"
   },
   "source": [
    "We employed numpy.sqrt(), which knows how to handle arrays as arguments; the squaring and the addition of 1 were handled by numpy on its own (i.e., interpreted as referring to entire arrays as well). We are now ready to re-implement the tots shown at the start of this section. Instead of the following solution which employs lists,"
   ]
  },
  {
   "cell_type": "code",
   "execution_count": null,
   "metadata": {
    "id": "f1oU-kfo4f_S"
   },
   "outputs": [],
   "source": [
    "import math\n",
    "def f(x):\n",
    "    return 1/math.sqrt(x**2+1)\n",
    "ws = list(range(30,36))\n",
    "xs = list(range(10,16))\n",
    "tots = [w*f(x) for w,x in zip(ws,xs)]\n",
    "print(tots)"
   ]
  },
  {
   "cell_type": "markdown",
   "metadata": {
    "id": "pNZ6JW3I4f_S"
   },
   "source": [
    "our new solution, employing arrays, is simply:"
   ]
  },
  {
   "cell_type": "code",
   "execution_count": null,
   "metadata": {
    "id": "BI4k82A94f_S"
   },
   "outputs": [],
   "source": [
    "def fa(xs):\n",
    "    return 1/np.sqrt(xs**2+1)\n",
    "ws = np.arange(30,36)\n",
    "xs = np.arange(10,16)\n",
    "tots = ws*fa(xs)\n",
    "print(tots)"
   ]
  },
  {
   "cell_type": "markdown",
   "metadata": {
    "id": "Bs9_7oha4f_S"
   },
   "source": [
    "Note how:\n",
    "\n",
    "tots = [w*f(x) for w,x in zip(ws,xs)]\n",
    "\n",
    "was replaced by:\n",
    "\n",
    "tots = ws*fa(xs)\n",
    "\n",
    "Once again, once you get used to this way of doing things, you will see how powerful and convenient it is to carry out such array operations."
   ]
  },
  {
   "cell_type": "markdown",
   "metadata": {
    "id": "Us_w8Kyt4f_S"
   },
   "source": [
    "## 2 Two-dimensional arrays"
   ]
  },
  {
   "cell_type": "markdown",
   "metadata": {
    "id": "Lb-tZlox4f_T"
   },
   "source": [
    "### 2.1 Creating"
   ]
  },
  {
   "cell_type": "markdown",
   "metadata": {
    "id": "tOQ3omZt4f_T"
   },
   "source": [
    "The numpy arrays we encountered in the previous section were all replacements for regular Python lists. In Python we could also introduce lists-of-lists, for example:"
   ]
  },
  {
   "cell_type": "code",
   "execution_count": null,
   "metadata": {
    "collapsed": true,
    "id": "tIHmKG1l4f_T",
    "jupyter": {
     "outputs_hidden": true
    }
   },
   "outputs": [],
   "source": [
    "LL = [[11,12,13,14], [15,16,17,18], [19,20,21,22]]"
   ]
  },
  {
   "cell_type": "markdown",
   "metadata": {
    "id": "edFfSuiF4f_T"
   },
   "source": [
    "As you might imagine, we can employ the array() function to produce an array that\n",
    "contains the elements in LL. We have:"
   ]
  },
  {
   "cell_type": "code",
   "execution_count": null,
   "metadata": {
    "colab": {
     "base_uri": "https://localhost:8080/"
    },
    "executionInfo": {
     "elapsed": 1020,
     "status": "ok",
     "timestamp": 1613751973085,
     "user": {
      "displayName": "MARTINA NATALI",
      "photoUrl": "",
      "userId": "01883442945229086140"
     },
     "user_tz": -60
    },
    "id": "WXQKQteK4f_U",
    "outputId": "3dac6a1a-63a6-414f-f699-13342182030c"
   },
   "outputs": [
    {
     "data": {
      "text/plain": [
       "array([[11, 12, 13, 14],\n",
       "       [15, 16, 17, 18],\n",
       "       [19, 20, 21, 22]])"
      ]
     },
     "execution_count": 6,
     "metadata": {
      "tags": []
     },
     "output_type": "execute_result"
    }
   ],
   "source": [
    "A = np.array(LL)\n",
    "A"
   ]
  },
  {
   "cell_type": "markdown",
   "metadata": {
    "id": "Nq9eSI1D4f_U"
   },
   "source": [
    "This example clearly shows the Python interpreter understanding that A is not a list, but an array object. Intriguingly, the A entity is already being output over three rows, making it easy to see that it’s a two-dimensional entity, similar to a mathematical matrix. As a matter of fact, using print() to output it makes this fact even more obvious:"
   ]
  },
  {
   "cell_type": "code",
   "execution_count": null,
   "metadata": {
    "colab": {
     "base_uri": "https://localhost:8080/"
    },
    "executionInfo": {
     "elapsed": 1570,
     "status": "ok",
     "timestamp": 1613752626400,
     "user": {
      "displayName": "MARTINA NATALI",
      "photoUrl": "",
      "userId": "01883442945229086140"
     },
     "user_tz": -60
    },
    "id": "48PHulsY4f_U",
    "outputId": "1a923437-36c6-44ed-98ee-6bcef027b817"
   },
   "outputs": [
    {
     "name": "stdout",
     "output_type": "stream",
     "text": [
      "[[11 12 13 14]\n",
      " [15 16 17 18]\n",
      " [19 20 21 22]]\n"
     ]
    }
   ],
   "source": [
    "print(A)"
   ]
  },
  {
   "cell_type": "markdown",
   "metadata": {
    "id": "XmiTfHG04f_U"
   },
   "source": [
    "which is to be compared with how Python outputs a list of lists:"
   ]
  },
  {
   "cell_type": "code",
   "execution_count": null,
   "metadata": {
    "colab": {
     "base_uri": "https://localhost:8080/"
    },
    "executionInfo": {
     "elapsed": 994,
     "status": "ok",
     "timestamp": 1613752626611,
     "user": {
      "displayName": "MARTINA NATALI",
      "photoUrl": "",
      "userId": "01883442945229086140"
     },
     "user_tz": -60
    },
    "id": "HHALbo8l4f_U",
    "outputId": "1b687db3-e8ce-4860-9c57-8334e8d05cf4"
   },
   "outputs": [
    {
     "name": "stdout",
     "output_type": "stream",
     "text": [
      "[[11, 12, 13, 14], [15, 16, 17, 18], [19, 20, 21, 22]]\n"
     ]
    }
   ],
   "source": [
    "print(LL)"
   ]
  },
  {
   "cell_type": "markdown",
   "metadata": {
    "id": "JzgRjO184f_V"
   },
   "source": [
    "In addition to splitting the three rows across three rows, a print-out of an array doesn’t show the commas, allowing us to focus on the numbers themselves.\n",
    "\n",
    "A lot of what we saw on how to create one-dimensional arrays carries over to the two-dimensional case. This applies to using type() for investigating array or array element types. It also applies to specifically creating arrays with the desired type, for example:"
   ]
  },
  {
   "cell_type": "code",
   "execution_count": null,
   "metadata": {
    "colab": {
     "base_uri": "https://localhost:8080/"
    },
    "executionInfo": {
     "elapsed": 909,
     "status": "ok",
     "timestamp": 1613752663425,
     "user": {
      "displayName": "MARTINA NATALI",
      "photoUrl": "",
      "userId": "01883442945229086140"
     },
     "user_tz": -60
    },
    "id": "RPLOk-GS4f_V",
    "outputId": "76a71f10-c7eb-4bc1-8301-bd308ca46dc1"
   },
   "outputs": [
    {
     "name": "stdout",
     "output_type": "stream",
     "text": [
      "[[11. 12. 13. 14.]\n",
      " [15. 16. 17. 18.]\n",
      " [19. 20. 21. 22.]]\n"
     ]
    }
   ],
   "source": [
    "B = np.array(LL,dtype=np.float64)\n",
    "print(B)"
   ]
  },
  {
   "cell_type": "code",
   "execution_count": null,
   "metadata": {
    "colab": {
     "base_uri": "https://localhost:8080/"
    },
    "executionInfo": {
     "elapsed": 1455,
     "status": "ok",
     "timestamp": 1613752667232,
     "user": {
      "displayName": "MARTINA NATALI",
      "photoUrl": "",
      "userId": "01883442945229086140"
     },
     "user_tz": -60
    },
    "id": "eRofU4QJ4f_V",
    "outputId": "158af285-2e47-4bb7-c674-4bdec7b7781c"
   },
   "outputs": [
    {
     "data": {
      "text/plain": [
       "dtype('float64')"
      ]
     },
     "execution_count": 10,
     "metadata": {
      "tags": []
     },
     "output_type": "execute_result"
    }
   ],
   "source": [
    "B.dtype"
   ]
  },
  {
   "cell_type": "markdown",
   "metadata": {
    "id": "6JDYDWJb4f_V"
   },
   "source": [
    "where we explicitly made sure we are creating an array of floats. We also took the opportunity to recall that all arrays have an attribute called dtype which refers to the type of the array elements (remember: all elements of an array have the same type).\n",
    "\n",
    "You may also remember that we used the size array attribute for the one-dimensional case, in order to see how many elements are present. It works equally well for the two-dimensional case:"
   ]
  },
  {
   "cell_type": "code",
   "execution_count": null,
   "metadata": {
    "colab": {
     "base_uri": "https://localhost:8080/"
    },
    "executionInfo": {
     "elapsed": 948,
     "status": "ok",
     "timestamp": 1613752689329,
     "user": {
      "displayName": "MARTINA NATALI",
      "photoUrl": "",
      "userId": "01883442945229086140"
     },
     "user_tz": -60
    },
    "id": "0393nm634f_W",
    "outputId": "df427afd-ac43-40c0-e385-ee4c955ea145"
   },
   "outputs": [
    {
     "data": {
      "text/plain": [
       "12"
      ]
     },
     "execution_count": 11,
     "metadata": {
      "tags": []
     },
     "output_type": "execute_result"
    }
   ],
   "source": [
    "A.size"
   ]
  },
  {
   "cell_type": "markdown",
   "metadata": {
    "id": "_NOLNhlf4f_W"
   },
   "source": [
    "Obviously, this counts up the total number of elements, including both rows and columns.\n",
    "\n",
    "Another attribute, one we didn’t touch upon before, is ndim, which tells us the dimensionality of the numpy array:"
   ]
  },
  {
   "cell_type": "code",
   "execution_count": null,
   "metadata": {
    "colab": {
     "base_uri": "https://localhost:8080/"
    },
    "executionInfo": {
     "elapsed": 1023,
     "status": "ok",
     "timestamp": 1613752691886,
     "user": {
      "displayName": "MARTINA NATALI",
      "photoUrl": "",
      "userId": "01883442945229086140"
     },
     "user_tz": -60
    },
    "id": "LCNiX09d4f_W",
    "outputId": "b4f66046-6139-44c0-9bcc-a46b79b1d9d6"
   },
   "outputs": [
    {
     "data": {
      "text/plain": [
       "2"
      ]
     },
     "execution_count": 12,
     "metadata": {
      "tags": []
     },
     "output_type": "execute_result"
    }
   ],
   "source": [
    "A.ndim"
   ]
  },
  {
   "cell_type": "markdown",
   "metadata": {
    "id": "PL-EwsGv4f_W"
   },
   "source": [
    "The next obvious question is whether we can access the number of rows and the number of columns somehow (remember: size contains the product of the two). The answer, unsurprisingly, is yes. There exists yet another attribute, shape, which returns a tuple containing the number of elements in each dimension, for example:"
   ]
  },
  {
   "cell_type": "code",
   "execution_count": null,
   "metadata": {
    "colab": {
     "base_uri": "https://localhost:8080/"
    },
    "executionInfo": {
     "elapsed": 532,
     "status": "ok",
     "timestamp": 1613752750897,
     "user": {
      "displayName": "MARTINA NATALI",
      "photoUrl": "",
      "userId": "01883442945229086140"
     },
     "user_tz": -60
    },
    "id": "72k4Q4qK4f_X",
    "outputId": "d57af3b1-74fd-47d2-b66b-cc7d3feee0df"
   },
   "outputs": [
    {
     "data": {
      "text/plain": [
       "(3, 4)"
      ]
     },
     "execution_count": 13,
     "metadata": {
      "tags": []
     },
     "output_type": "execute_result"
    }
   ],
   "source": [
    "A.shape"
   ]
  },
  {
   "cell_type": "markdown",
   "metadata": {
    "id": "wrGJiGVe4f_X"
   },
   "source": [
    "It's reassuring that $3 \\times 4 = 12$. As you should immediately check, a one-dimensional array would return 1 for ndim. Similarly, its shape attribute would be a tuple with one element, e.g., (7,), where the number is equal (for the one-dimensional case) to the total size of the array. The attribute we will spend the most time on in what follows is shape.\n",
    "\n",
    "So far we’ve only seen one way of creating a two-dimensional numpy array: pass in a list of lists to array(). You might not be surprised to hear that all the functions that we saw earlier being applied to one-dimensional arrays also work for two-dimensional ones. For example, we can use zeros() to create a two-dimensional array full of zeros. Instead of passing in one number, this time we will pass in a tuple, corresponding to the desired shape of the new array:"
   ]
  },
  {
   "cell_type": "code",
   "execution_count": null,
   "metadata": {
    "colab": {
     "base_uri": "https://localhost:8080/"
    },
    "executionInfo": {
     "elapsed": 513,
     "status": "ok",
     "timestamp": 1613752810769,
     "user": {
      "displayName": "MARTINA NATALI",
      "photoUrl": "",
      "userId": "01883442945229086140"
     },
     "user_tz": -60
    },
    "id": "pAbUb-5P4f_X",
    "outputId": "64e5754a-0307-4ed4-ec98-98b46ad6d159"
   },
   "outputs": [
    {
     "data": {
      "text/plain": [
       "array([[0., 0., 0.],\n",
       "       [0., 0., 0.]])"
      ]
     },
     "execution_count": 14,
     "metadata": {
      "tags": []
     },
     "output_type": "execute_result"
    }
   ],
   "source": [
    "np.zeros((2,3))"
   ]
  },
  {
   "cell_type": "markdown",
   "metadata": {
    "id": "qbuYc4Ld4f_X"
   },
   "source": [
    "Note that we have one pair of parentheses to denote the function zeros() and another pair of parentheses for the tuple containing the shape. Similarly, we can use ones() to create a two-dimensional array full of ones. This time, let’s do that for a square matrix:"
   ]
  },
  {
   "cell_type": "code",
   "execution_count": null,
   "metadata": {
    "colab": {
     "base_uri": "https://localhost:8080/"
    },
    "executionInfo": {
     "elapsed": 521,
     "status": "ok",
     "timestamp": 1613752822142,
     "user": {
      "displayName": "MARTINA NATALI",
      "photoUrl": "",
      "userId": "01883442945229086140"
     },
     "user_tz": -60
    },
    "id": "u0iozRi94f_X",
    "outputId": "f5ac686a-498a-4c6a-dd4d-0d536a07d609"
   },
   "outputs": [
    {
     "data": {
      "text/plain": [
       "array([[1., 1., 1.],\n",
       "       [1., 1., 1.],\n",
       "       [1., 1., 1.]])"
      ]
     },
     "execution_count": 15,
     "metadata": {
      "tags": []
     },
     "output_type": "execute_result"
    }
   ],
   "source": [
    "np.ones((3,3))"
   ]
  },
  {
   "cell_type": "markdown",
   "metadata": {
    "id": "ewfejTGt4f_Y"
   },
   "source": [
    "Once again, we passed in a tuple for the shape. There also exists a very important matrix consisting of zeros and ones in a specific combination: we are referring to the identity, which is by definition a square matrix. Nicely enough, there exists a numpy function called identity(), which produces precisely what we want:"
   ]
  },
  {
   "cell_type": "code",
   "execution_count": null,
   "metadata": {
    "colab": {
     "base_uri": "https://localhost:8080/"
    },
    "executionInfo": {
     "elapsed": 500,
     "status": "ok",
     "timestamp": 1613752826639,
     "user": {
      "displayName": "MARTINA NATALI",
      "photoUrl": "",
      "userId": "01883442945229086140"
     },
     "user_tz": -60
    },
    "id": "B6VFR5qF4f_Y",
    "outputId": "01202cef-221a-413d-da15-80a93e0ecbe9"
   },
   "outputs": [
    {
     "data": {
      "text/plain": [
       "array([[1., 0., 0.],\n",
       "       [0., 1., 0.],\n",
       "       [0., 0., 1.]])"
      ]
     },
     "execution_count": 16,
     "metadata": {
      "tags": []
     },
     "output_type": "execute_result"
    }
   ],
   "source": [
    "np.identity(3)"
   ]
  },
  {
   "cell_type": "markdown",
   "metadata": {
    "id": "QJ0S6h_S4f_Y"
   },
   "source": [
    "It’s easy to notice that identity() takes in a single argument, since it’s designed to produce square matrices. That’s another way of saying that functions like zeros() or ones() can also produce three-dimensional, four-dimensional, etc arrays, though we won’t have any use for those. Note that all of these functions produce floats, by default.\n",
    "\n",
    "Let’s turn back, for a second, to the case of passing in a shape parameter, when trying to create a new array function. You may have noticed that defining a list-of-lists in Python, such as our LL above, is a bit “clunky”: one needs double square brackets, as well as several commas, appropriately interspersed. As a matter of fact, as we’ll see in the following subsection, avoiding such unwieldy notation is one of the many benefits of using two-dimensional numpy arrays. By this point, it should come as no surprise that numpy provides us with the option of avoiding a list of lists in the first place. The way to do this is by starting from a one-dimensional array, that is then re-shaped into a two-dimensional array via the use of the reshape() function:"
   ]
  },
  {
   "cell_type": "code",
   "execution_count": null,
   "metadata": {
    "colab": {
     "base_uri": "https://localhost:8080/"
    },
    "executionInfo": {
     "elapsed": 492,
     "status": "ok",
     "timestamp": 1613753298803,
     "user": {
      "displayName": "MARTINA NATALI",
      "photoUrl": "",
      "userId": "01883442945229086140"
     },
     "user_tz": -60
    },
    "id": "teAK2DMY4f_Y",
    "outputId": "b80cbe2a-3689-4018-93a3-4ca9f3536e1e"
   },
   "outputs": [
    {
     "data": {
      "text/plain": [
       "(8,)"
      ]
     },
     "execution_count": 17,
     "metadata": {
      "tags": []
     },
     "output_type": "execute_result"
    }
   ],
   "source": [
    "B = np.array([1,4,9,7,2,8,5,6])\n",
    "B.shape"
   ]
  },
  {
   "cell_type": "code",
   "execution_count": null,
   "metadata": {
    "colab": {
     "base_uri": "https://localhost:8080/"
    },
    "executionInfo": {
     "elapsed": 643,
     "status": "ok",
     "timestamp": 1613753300834,
     "user": {
      "displayName": "MARTINA NATALI",
      "photoUrl": "",
      "userId": "01883442945229086140"
     },
     "user_tz": -60
    },
    "id": "K9CEz0kH4f_Z",
    "outputId": "b2e2e49b-4220-494b-8417-8a35190f8c7f"
   },
   "outputs": [
    {
     "data": {
      "text/plain": [
       "(2, 4)"
      ]
     },
     "execution_count": 18,
     "metadata": {
      "tags": []
     },
     "output_type": "execute_result"
    }
   ],
   "source": [
    "B = B.reshape((2,4))\n",
    "B.shape"
   ]
  },
  {
   "cell_type": "code",
   "execution_count": null,
   "metadata": {
    "colab": {
     "base_uri": "https://localhost:8080/"
    },
    "executionInfo": {
     "elapsed": 528,
     "status": "ok",
     "timestamp": 1613753305728,
     "user": {
      "displayName": "MARTINA NATALI",
      "photoUrl": "",
      "userId": "01883442945229086140"
     },
     "user_tz": -60
    },
    "id": "lzhjlejH4f_Z",
    "outputId": "d9aa1616-28db-4ee8-fd28-b47b3583f954"
   },
   "outputs": [
    {
     "data": {
      "text/plain": [
       "array([[1, 4, 9, 7],\n",
       "       [2, 8, 5, 6]])"
      ]
     },
     "execution_count": 19,
     "metadata": {
      "tags": []
     },
     "output_type": "execute_result"
    }
   ],
   "source": [
    "B"
   ]
  },
  {
   "cell_type": "markdown",
   "metadata": {
    "id": "-ZK1tqtZ4f_Z"
   },
   "source": [
    "First, B was a one-dimensional array (which we produced using a regular Python list). This is clearly shown in the value of the shape attribute. We then acted with the reshape() method on our one-dimensional array, thereby creating a two-dimensional array (stored back into the same variable, B). Again, the value of the shape attribute shows that now things are different.\n",
    "\n",
    "Note that we didn’t even have to start from a Python list. Instead, the original A example we were discussing above can be re-written using arange() which, as you may recall, produces a one-dimensional array:"
   ]
  },
  {
   "cell_type": "code",
   "execution_count": null,
   "metadata": {
    "colab": {
     "base_uri": "https://localhost:8080/"
    },
    "executionInfo": {
     "elapsed": 465,
     "status": "ok",
     "timestamp": 1613753354778,
     "user": {
      "displayName": "MARTINA NATALI",
      "photoUrl": "",
      "userId": "01883442945229086140"
     },
     "user_tz": -60
    },
    "id": "sgwdVIjX4f_Z",
    "outputId": "ec2b0db2-9c87-4231-a5be-ee7c98e3298a"
   },
   "outputs": [
    {
     "data": {
      "text/plain": [
       "array([[11, 12, 13, 14],\n",
       "       [15, 16, 17, 18],\n",
       "       [19, 20, 21, 22]])"
      ]
     },
     "execution_count": 20,
     "metadata": {
      "tags": []
     },
     "output_type": "execute_result"
    }
   ],
   "source": [
    "A = np.arange(11,23)\n",
    "A = A.reshape((3,4))\n",
    "A"
   ]
  },
  {
   "cell_type": "markdown",
   "metadata": {
    "id": "VuWv625d4f_a"
   },
   "source": [
    "This A started out as a one-dimensional array and was then re-shaped into a two-dimensional array by passing in the appropriate shape argument. Once you get more used to arrays you will feel comfortable carrying out both steps in one line:"
   ]
  },
  {
   "cell_type": "code",
   "execution_count": null,
   "metadata": {
    "id": "qilmLOEq4f_a"
   },
   "outputs": [],
   "source": [
    "A = np.arange(11,23).reshape(3,4)\n",
    "A"
   ]
  },
  {
   "cell_type": "markdown",
   "metadata": {
    "id": "SBqKAIuK4f_a"
   },
   "source": [
    "Observe how conveniently we’ve obviated the multitude of square brackets and commas that where necessary in the definition of LL. (Note that we could have reshaped our array simply by changing the value of the shape tuple, instead of acting with reshape())."
   ]
  },
  {
   "cell_type": "markdown",
   "metadata": {
    "id": "POxntpgf4f_a"
   },
   "source": [
    "### 2.2 Indexing and slicing"
   ]
  },
  {
   "cell_type": "markdown",
   "metadata": {
    "id": "pqKmj4Wo4f_a"
   },
   "source": [
    "It is now time to see one of the nicer features of using two-dimensional arrays in numpy: this happens to be one of the main selling points of numpy arrays, namely the intuitive way to access elements. Let’s start from our example of a list-of-lists:"
   ]
  },
  {
   "cell_type": "code",
   "execution_count": null,
   "metadata": {
    "collapsed": true,
    "id": "6RXODJT54f_b",
    "jupyter": {
     "outputs_hidden": true
    }
   },
   "outputs": [],
   "source": [
    "LL = [[11,12,13,14], [15,16,17,18], [19,20,21,22]]"
   ]
  },
  {
   "cell_type": "markdown",
   "metadata": {
    "id": "C6hAsFIA4f_b"
   },
   "source": [
    "As you may recall, if you are interested in the element located in the 2nd row and 1st column, you do:"
   ]
  },
  {
   "cell_type": "code",
   "execution_count": null,
   "metadata": {
    "colab": {
     "base_uri": "https://localhost:8080/"
    },
    "executionInfo": {
     "elapsed": 1007,
     "status": "ok",
     "timestamp": 1613753951637,
     "user": {
      "displayName": "MARTINA NATALI",
      "photoUrl": "",
      "userId": "01883442945229086140"
     },
     "user_tz": -60
    },
    "id": "Nt2QjhRX4f_b",
    "outputId": "109a79db-a0c5-4529-977a-a25cc017cbd9"
   },
   "outputs": [
    {
     "data": {
      "text/plain": [
       "20"
      ]
     },
     "execution_count": 22,
     "metadata": {
      "tags": []
     },
     "output_type": "execute_result"
    }
   ],
   "source": [
    "LL[2][1]"
   ]
  },
  {
   "cell_type": "markdown",
   "metadata": {
    "id": "ZCpQ5H6n4f_b"
   },
   "source": [
    "Recall that we are using Python's 0-indexing, so the rows are numbered 0th, 1st, 2nd, and analogously for the columns. (In regular English, the example above is referring to the third row and second column – we’ll use numbers, e.g. 2nd, when employing the 0-indexing convention). This double pair of brackets, separating the numbers from each other is quite cumbersome and also different from how matrix notation is usually done, e.g., $A_{ij}$ or $A_{i, j}$. Thus, it comes as a relief to see that numpy array elements can be indexed simply by using only one pair of square brackets and a comma-separated pair of numbers, for example:"
   ]
  },
  {
   "cell_type": "code",
   "execution_count": null,
   "metadata": {
    "colab": {
     "base_uri": "https://localhost:8080/"
    },
    "executionInfo": {
     "elapsed": 969,
     "status": "ok",
     "timestamp": 1613753951639,
     "user": {
      "displayName": "MARTINA NATALI",
      "photoUrl": "",
      "userId": "01883442945229086140"
     },
     "user_tz": -60
    },
    "id": "Gb3-LnXG4f_b",
    "outputId": "79cab1b3-0606-45a9-c99f-517242acbad7"
   },
   "outputs": [
    {
     "data": {
      "text/plain": [
       "array([[11, 12, 13, 14],\n",
       "       [15, 16, 17, 18],\n",
       "       [19, 20, 21, 22]])"
      ]
     },
     "execution_count": 23,
     "metadata": {
      "tags": []
     },
     "output_type": "execute_result"
    }
   ],
   "source": [
    "A = np.arange(11,23).reshape(3,4)\n",
    "A"
   ]
  },
  {
   "cell_type": "code",
   "execution_count": null,
   "metadata": {
    "colab": {
     "base_uri": "https://localhost:8080/"
    },
    "executionInfo": {
     "elapsed": 962,
     "status": "ok",
     "timestamp": 1613753951640,
     "user": {
      "displayName": "MARTINA NATALI",
      "photoUrl": "",
      "userId": "01883442945229086140"
     },
     "user_tz": -60
    },
    "id": "P0yzJxLS4f_c",
    "outputId": "8a3a92f6-0f2e-436a-f29b-f802535129e2"
   },
   "outputs": [
    {
     "data": {
      "text/plain": [
       "20"
      ]
     },
     "execution_count": 24,
     "metadata": {
      "tags": []
     },
     "output_type": "execute_result"
    }
   ],
   "source": [
    "A[2,1]"
   ]
  },
  {
   "cell_type": "markdown",
   "metadata": {
    "id": "L_JwzU5b4f_c"
   },
   "source": [
    "As a matter of fact, the cumbersome Python-list notation also works with arrays, but we won’t be employing it in what follows, opting instead for the “cleaner” alternative of two comma-separated values. Similarly, even though we can create a 2d array using a list-of-lists, we will typically opt for a 1d array followed by a call to reshape().\n",
    "\n",
    "We now turn to slicing. We start from the simplest case possible, namely picking a specific row (by indexing) and then a slice from different columns. For example:"
   ]
  },
  {
   "cell_type": "code",
   "execution_count": null,
   "metadata": {
    "colab": {
     "base_uri": "https://localhost:8080/"
    },
    "executionInfo": {
     "elapsed": 955,
     "status": "ok",
     "timestamp": 1613753951641,
     "user": {
      "displayName": "MARTINA NATALI",
      "photoUrl": "",
      "userId": "01883442945229086140"
     },
     "user_tz": -60
    },
    "id": "F9umvDm54f_c",
    "outputId": "0dfba380-cf94-49b5-e470-4b3727550988"
   },
   "outputs": [
    {
     "data": {
      "text/plain": [
       "array([16, 17])"
      ]
     },
     "execution_count": 25,
     "metadata": {
      "tags": []
     },
     "output_type": "execute_result"
    }
   ],
   "source": [
    "A[1,1:3]"
   ]
  },
  {
   "cell_type": "markdown",
   "metadata": {
    "id": "MI7vtH3N4f_c"
   },
   "source": [
    "Similarly, if we pick a specific row and use an everything-slice for the columns, we get that entire row:"
   ]
  },
  {
   "cell_type": "code",
   "execution_count": null,
   "metadata": {
    "colab": {
     "base_uri": "https://localhost:8080/"
    },
    "executionInfo": {
     "elapsed": 948,
     "status": "ok",
     "timestamp": 1613753951641,
     "user": {
      "displayName": "MARTINA NATALI",
      "photoUrl": "",
      "userId": "01883442945229086140"
     },
     "user_tz": -60
    },
    "id": "viBsRURb4f_d",
    "outputId": "490e67c4-53ab-473b-a550-86807cc7a6cb"
   },
   "outputs": [
    {
     "data": {
      "text/plain": [
       "array([15, 16, 17, 18])"
      ]
     },
     "execution_count": 26,
     "metadata": {
      "tags": []
     },
     "output_type": "execute_result"
    }
   ],
   "source": [
    "A[1,:]"
   ]
  },
  {
   "cell_type": "markdown",
   "metadata": {
    "id": "HzzpVAdJ4f_d"
   },
   "source": [
    "Using just the same logic, if we pick a specific column and use an everything-slice for the rows, we get that entire column:"
   ]
  },
  {
   "cell_type": "code",
   "execution_count": null,
   "metadata": {
    "colab": {
     "base_uri": "https://localhost:8080/"
    },
    "executionInfo": {
     "elapsed": 941,
     "status": "ok",
     "timestamp": 1613753951642,
     "user": {
      "displayName": "MARTINA NATALI",
      "photoUrl": "",
      "userId": "01883442945229086140"
     },
     "user_tz": -60
    },
    "id": "cR9xcqEQ4f_d",
    "outputId": "d6f0ec5d-0ba2-4486-ebd4-ef9dfd17f944"
   },
   "outputs": [
    {
     "data": {
      "text/plain": [
       "array([13, 17, 21])"
      ]
     },
     "execution_count": 27,
     "metadata": {
      "tags": []
     },
     "output_type": "execute_result"
    }
   ],
   "source": [
    "A[:,2]"
   ]
  },
  {
   "cell_type": "markdown",
   "metadata": {
    "id": "x8j4CYLU4f_d"
   },
   "source": [
    "We could keep piling on examples like this, where we select a pair of rows, a pair of columns, etc. \n",
    "\n",
    "To summarize, when we use two numbers to index (such as A[2,1]), we go from a two-dimensional array to a number. When we use one number to index/slice (such as A[:,2]), we go from a two-dimensional array to a one-dimensional array. When we use slices (such as A[::2,:]), we get collections of rows, columns, individual elements, etc.\n",
    "\n",
    "We can combine what we just learned about slicing two-dimensional arrays with what we already know about numpy broadcasting. First, pick a specific subset of our array and assign it to a new variable:"
   ]
  },
  {
   "cell_type": "code",
   "execution_count": null,
   "metadata": {
    "colab": {
     "base_uri": "https://localhost:8080/"
    },
    "executionInfo": {
     "elapsed": 915,
     "status": "ok",
     "timestamp": 1613753951643,
     "user": {
      "displayName": "MARTINA NATALI",
      "photoUrl": "",
      "userId": "01883442945229086140"
     },
     "user_tz": -60
    },
    "id": "RcJBpCdP4f_e",
    "outputId": "133d01a4-0b1f-4fba-ea53-cf594940d8c4"
   },
   "outputs": [
    {
     "data": {
      "text/plain": [
       "array([[12, 13, 14],\n",
       "       [16, 17, 18]])"
      ]
     },
     "execution_count": 28,
     "metadata": {
      "tags": []
     },
     "output_type": "execute_result"
    }
   ],
   "source": [
    "B = A[:2,1:]\n",
    "B"
   ]
  },
  {
   "cell_type": "markdown",
   "metadata": {
    "id": "CZ0ecEXL4f_j"
   },
   "source": [
    "We can now employ broadcasting of a single value as well as the everything-slice (twice) to set the elements of this new entity to zero:"
   ]
  },
  {
   "cell_type": "code",
   "execution_count": null,
   "metadata": {
    "colab": {
     "base_uri": "https://localhost:8080/"
    },
    "executionInfo": {
     "elapsed": 903,
     "status": "ok",
     "timestamp": 1613753951644,
     "user": {
      "displayName": "MARTINA NATALI",
      "photoUrl": "",
      "userId": "01883442945229086140"
     },
     "user_tz": -60
    },
    "id": "0J2-vc7s4f_j",
    "outputId": "c3f857b2-f329-4009-8b7c-454f585761ba"
   },
   "outputs": [
    {
     "data": {
      "text/plain": [
       "array([[0, 0, 0],\n",
       "       [0, 0, 0]])"
      ]
     },
     "execution_count": 29,
     "metadata": {
      "tags": []
     },
     "output_type": "execute_result"
    }
   ],
   "source": [
    "B[:,:]  = 0\n",
    "B"
   ]
  },
  {
   "cell_type": "markdown",
   "metadata": {
    "id": "yih-2ppM4f_j"
   },
   "source": [
    "At this point, we remember that everyhing-slices in numpy (while allowing us to nicely assign to each element, as above) do not create copies. As we saw for one-dimensional arrays, array slices are views on the original array. As a result, by modifying B we have actually also modified A:"
   ]
  },
  {
   "cell_type": "code",
   "execution_count": null,
   "metadata": {
    "colab": {
     "base_uri": "https://localhost:8080/"
    },
    "executionInfo": {
     "elapsed": 898,
     "status": "ok",
     "timestamp": 1613753951644,
     "user": {
      "displayName": "MARTINA NATALI",
      "photoUrl": "",
      "userId": "01883442945229086140"
     },
     "user_tz": -60
    },
    "id": "M35j7DAv4f_k",
    "outputId": "15d8dcc6-7d54-4d7d-cf50-3da626e9c281"
   },
   "outputs": [
    {
     "data": {
      "text/plain": [
       "array([[11,  0,  0,  0],\n",
       "       [15,  0,  0,  0],\n",
       "       [19, 20, 21, 22]])"
      ]
     },
     "execution_count": 30,
     "metadata": {
      "tags": []
     },
     "output_type": "execute_result"
    }
   ],
   "source": [
    "A"
   ]
  },
  {
   "cell_type": "markdown",
   "metadata": {
    "id": "_YzFdn3x4f_k"
   },
   "source": [
    "As before, if this is undesired behavior then you should use numpy.copy():"
   ]
  },
  {
   "cell_type": "code",
   "execution_count": null,
   "metadata": {
    "colab": {
     "base_uri": "https://localhost:8080/"
    },
    "executionInfo": {
     "elapsed": 878,
     "status": "ok",
     "timestamp": 1613753951646,
     "user": {
      "displayName": "MARTINA NATALI",
      "photoUrl": "",
      "userId": "01883442945229086140"
     },
     "user_tz": -60
    },
    "id": "PiH_IqwJ4f_k",
    "outputId": "2cc6e32e-4376-4c29-d8c1-eb16357292b8"
   },
   "outputs": [
    {
     "data": {
      "text/plain": [
       "array([[11, 12, 13, 14],\n",
       "       [15, 16, 17, 18],\n",
       "       [19, 20, 21, 22]])"
      ]
     },
     "execution_count": 31,
     "metadata": {
      "tags": []
     },
     "output_type": "execute_result"
    }
   ],
   "source": [
    "A = np.arange(11,23).reshape(3,4)\n",
    "A"
   ]
  },
  {
   "cell_type": "code",
   "execution_count": null,
   "metadata": {
    "colab": {
     "base_uri": "https://localhost:8080/"
    },
    "executionInfo": {
     "elapsed": 871,
     "status": "ok",
     "timestamp": 1613753951649,
     "user": {
      "displayName": "MARTINA NATALI",
      "photoUrl": "",
      "userId": "01883442945229086140"
     },
     "user_tz": -60
    },
    "id": "p3nlx5Z94f_k",
    "outputId": "e91fed30-1d39-4c55-e8bb-ec42167275d9"
   },
   "outputs": [
    {
     "data": {
      "text/plain": [
       "array([[0, 0, 0],\n",
       "       [0, 0, 0]])"
      ]
     },
     "execution_count": 32,
     "metadata": {
      "tags": []
     },
     "output_type": "execute_result"
    }
   ],
   "source": [
    "B = np.copy(A[:2,1:])\n",
    "B[:,:]  = 0\n",
    "B"
   ]
  },
  {
   "cell_type": "code",
   "execution_count": null,
   "metadata": {
    "colab": {
     "base_uri": "https://localhost:8080/"
    },
    "executionInfo": {
     "elapsed": 865,
     "status": "ok",
     "timestamp": 1613753951650,
     "user": {
      "displayName": "MARTINA NATALI",
      "photoUrl": "",
      "userId": "01883442945229086140"
     },
     "user_tz": -60
    },
    "id": "vxPe-0tY4f_l",
    "outputId": "9e4cd66a-3419-48e0-aeee-93bb7887eb98"
   },
   "outputs": [
    {
     "data": {
      "text/plain": [
       "array([[11, 12, 13, 14],\n",
       "       [15, 16, 17, 18],\n",
       "       [19, 20, 21, 22]])"
      ]
     },
     "execution_count": 33,
     "metadata": {
      "tags": []
     },
     "output_type": "execute_result"
    }
   ],
   "source": [
    "A"
   ]
  },
  {
   "cell_type": "markdown",
   "metadata": {
    "id": "jLkDnMsW4f_l"
   },
   "source": [
    "As already noted, in chapter 4 we will typically make a a copy of the input array inside a function, instead of modifying it “in place”. After you’re done reading the book this tutorial is accompanying, it will usually be a better idea to avoid copies altogether, as long as you’re careful about what you’re doing."
   ]
  },
  {
   "cell_type": "markdown",
   "metadata": {
    "id": "CsomRRZA4f_l"
   },
   "source": [
    "### 2.3 Vectorization"
   ]
  },
  {
   "cell_type": "markdown",
   "metadata": {
    "id": "4IGU-95U4f_l"
   },
   "source": [
    "Just like for one-dimensional arrays, operations for two-dimensional arrays are interpreted elementwise. Such vectorized operations allow us to write very concise code that, e.g., adds together two square matrices:"
   ]
  },
  {
   "cell_type": "code",
   "execution_count": null,
   "metadata": {
    "colab": {
     "base_uri": "https://localhost:8080/"
    },
    "executionInfo": {
     "elapsed": 828,
     "status": "ok",
     "timestamp": 1613755297758,
     "user": {
      "displayName": "MARTINA NATALI",
      "photoUrl": "",
      "userId": "01883442945229086140"
     },
     "user_tz": -60
    },
    "id": "cOhpL7JP4f_l",
    "outputId": "9800b6fe-d6f3-468b-fac6-ad771ec9701d"
   },
   "outputs": [
    {
     "data": {
      "text/plain": [
       "array([[1, 2, 3],\n",
       "       [4, 5, 6],\n",
       "       [7, 8, 9]])"
      ]
     },
     "execution_count": 34,
     "metadata": {
      "tags": []
     },
     "output_type": "execute_result"
    }
   ],
   "source": [
    "A = np.arange(1,10).reshape(3,3)\n",
    "B = np.arange(11,20).reshape(3,3)\n",
    "A"
   ]
  },
  {
   "cell_type": "code",
   "execution_count": null,
   "metadata": {
    "colab": {
     "base_uri": "https://localhost:8080/"
    },
    "executionInfo": {
     "elapsed": 819,
     "status": "ok",
     "timestamp": 1613755297760,
     "user": {
      "displayName": "MARTINA NATALI",
      "photoUrl": "",
      "userId": "01883442945229086140"
     },
     "user_tz": -60
    },
    "id": "31Cib4Y34f_m",
    "outputId": "20f3aee6-5ea9-45bb-e7ce-35a78a3b97d0"
   },
   "outputs": [
    {
     "data": {
      "text/plain": [
       "array([[11, 12, 13],\n",
       "       [14, 15, 16],\n",
       "       [17, 18, 19]])"
      ]
     },
     "execution_count": 35,
     "metadata": {
      "tags": []
     },
     "output_type": "execute_result"
    }
   ],
   "source": [
    "B"
   ]
  },
  {
   "cell_type": "code",
   "execution_count": null,
   "metadata": {
    "colab": {
     "base_uri": "https://localhost:8080/"
    },
    "executionInfo": {
     "elapsed": 806,
     "status": "ok",
     "timestamp": 1613755297761,
     "user": {
      "displayName": "MARTINA NATALI",
      "photoUrl": "",
      "userId": "01883442945229086140"
     },
     "user_tz": -60
    },
    "id": "-Rk2R0KV4f_m",
    "outputId": "0d6c9584-2653-4d82-8ede-171c74596438"
   },
   "outputs": [
    {
     "data": {
      "text/plain": [
       "array([[12, 14, 16],\n",
       "       [18, 20, 22],\n",
       "       [24, 26, 28]])"
      ]
     },
     "execution_count": 36,
     "metadata": {
      "tags": []
     },
     "output_type": "execute_result"
    }
   ],
   "source": [
    "A+B"
   ]
  },
  {
   "cell_type": "markdown",
   "metadata": {
    "id": "wpVyt87Y4f_m"
   },
   "source": [
    "This is convenient and expected behavior.\n",
    "\n",
    "On the other hand, a simple multiplication is also carried out elementwise, i.e., each\n",
    "element in A is multiplied by the corresponding element in B:"
   ]
  },
  {
   "cell_type": "code",
   "execution_count": null,
   "metadata": {
    "colab": {
     "base_uri": "https://localhost:8080/"
    },
    "executionInfo": {
     "elapsed": 804,
     "status": "ok",
     "timestamp": 1613755297762,
     "user": {
      "displayName": "MARTINA NATALI",
      "photoUrl": "",
      "userId": "01883442945229086140"
     },
     "user_tz": -60
    },
    "id": "zS1_THA74f_m",
    "outputId": "8596a8d6-5f15-4d9f-ca44-a2820b73308c"
   },
   "outputs": [
    {
     "data": {
      "text/plain": [
       "array([[ 11,  24,  39],\n",
       "       [ 56,  75,  96],\n",
       "       [119, 144, 171]])"
      ]
     },
     "execution_count": 37,
     "metadata": {
      "tags": []
     },
     "output_type": "execute_result"
    }
   ],
   "source": [
    "A*B"
   ]
  },
  {
   "cell_type": "markdown",
   "metadata": {
    "id": "iA0BNqK24f_n"
   },
   "source": [
    "This may be unexpected behavior, if you were really looking for a matrix multiplication. To repeat, array operations are always carried out elementwise, so a product of two two-dimensional arrays is simply $(\\mathbf{A \\odot B})_{ij} = A_{ij} B_{ij}$. (As an aside, in math this is known as the Hadamard product). The operation of matrix multiplication that you know from linear algebra follows from a different formula, namely $(\\mathbf{AB})_{ij} = \\sum_{k} A_{ik} B_{kj}$. This operation is conveniently encapsulated in numpy’s dot() function:"
   ]
  },
  {
   "cell_type": "code",
   "execution_count": null,
   "metadata": {
    "colab": {
     "base_uri": "https://localhost:8080/"
    },
    "executionInfo": {
     "elapsed": 800,
     "status": "ok",
     "timestamp": 1613755297763,
     "user": {
      "displayName": "MARTINA NATALI",
      "photoUrl": "",
      "userId": "01883442945229086140"
     },
     "user_tz": -60
    },
    "id": "xJWErt5A4f_n",
    "outputId": "9fa96f3c-a838-4b70-fd4b-6ead0d8ede75"
   },
   "outputs": [
    {
     "data": {
      "text/plain": [
       "array([[ 90,  96, 102],\n",
       "       [216, 231, 246],\n",
       "       [342, 366, 390]])"
      ]
     },
     "execution_count": 38,
     "metadata": {
      "tags": []
     },
     "output_type": "execute_result"
    }
   ],
   "source": [
    "np.dot(A,B) "
   ]
  },
  {
   "cell_type": "markdown",
   "metadata": {
    "id": "62gLB4xi4f_n"
   },
   "source": [
    "This does what we want, but the syntax is not as intuitive as one would have liked. From Python 3.5 and onward you can multiply two matrices using the $@$ infix operator, i.e."
   ]
  },
  {
   "cell_type": "code",
   "execution_count": null,
   "metadata": {
    "colab": {
     "base_uri": "https://localhost:8080/"
    },
    "executionInfo": {
     "elapsed": 798,
     "status": "ok",
     "timestamp": 1613755297764,
     "user": {
      "displayName": "MARTINA NATALI",
      "photoUrl": "",
      "userId": "01883442945229086140"
     },
     "user_tz": -60
    },
    "id": "50joRDnt4f_n",
    "outputId": "a270deaa-9c92-44da-bf72-b92f9824aad2"
   },
   "outputs": [
    {
     "data": {
      "text/plain": [
       "array([[ 90,  96, 102],\n",
       "       [216, 231, 246],\n",
       "       [342, 366, 390]])"
      ]
     },
     "execution_count": 39,
     "metadata": {
      "tags": []
     },
     "output_type": "execute_result"
    }
   ],
   "source": [
    "A@B"
   ]
  },
  {
   "cell_type": "markdown",
   "metadata": {
    "id": "bcXNgpg04f_o"
   },
   "source": [
    "which is obviously more convenient. As a matter of fact, $@$ or numpy.dot() can also handle one-dimensional arrays. A problem in chapter 1 investigates both solutions further.\n",
    "\n",
    "Numpy contains several other important functions, with self-explanatory names. The most commonly used are transpose():"
   ]
  },
  {
   "cell_type": "code",
   "execution_count": null,
   "metadata": {
    "colab": {
     "base_uri": "https://localhost:8080/"
    },
    "executionInfo": {
     "elapsed": 1177,
     "status": "ok",
     "timestamp": 1613755298146,
     "user": {
      "displayName": "MARTINA NATALI",
      "photoUrl": "",
      "userId": "01883442945229086140"
     },
     "user_tz": -60
    },
    "id": "m_IBG-T_4f_o",
    "outputId": "31d3e41b-7eb4-419e-88c2-f77a6e37cf25"
   },
   "outputs": [
    {
     "data": {
      "text/plain": [
       "array([[1, 4, 7],\n",
       "       [2, 5, 8],\n",
       "       [3, 6, 9]])"
      ]
     },
     "execution_count": 40,
     "metadata": {
      "tags": []
     },
     "output_type": "execute_result"
    }
   ],
   "source": [
    "np.transpose(A)"
   ]
  },
  {
   "cell_type": "markdown",
   "metadata": {
    "id": "L15x2zBP4f_o"
   },
   "source": [
    "which can also be accessed as an array attribute:"
   ]
  },
  {
   "cell_type": "code",
   "execution_count": null,
   "metadata": {
    "colab": {
     "base_uri": "https://localhost:8080/"
    },
    "executionInfo": {
     "elapsed": 1184,
     "status": "ok",
     "timestamp": 1613755298156,
     "user": {
      "displayName": "MARTINA NATALI",
      "photoUrl": "",
      "userId": "01883442945229086140"
     },
     "user_tz": -60
    },
    "id": "xmvgX83c4f_o",
    "outputId": "e004865b-0dc0-4cf3-d5a2-a6a7b97316cf"
   },
   "outputs": [
    {
     "data": {
      "text/plain": [
       "array([[1, 4, 7],\n",
       "       [2, 5, 8],\n",
       "       [3, 6, 9]])"
      ]
     },
     "execution_count": 41,
     "metadata": {
      "tags": []
     },
     "output_type": "execute_result"
    }
   ],
   "source": [
    "A.T"
   ]
  },
  {
   "cell_type": "markdown",
   "metadata": {
    "id": "zT4ZEcas4f_p"
   },
   "source": [
    "Also useful is trace():"
   ]
  },
  {
   "cell_type": "code",
   "execution_count": null,
   "metadata": {
    "colab": {
     "base_uri": "https://localhost:8080/"
    },
    "executionInfo": {
     "elapsed": 1182,
     "status": "ok",
     "timestamp": 1613755298158,
     "user": {
      "displayName": "MARTINA NATALI",
      "photoUrl": "",
      "userId": "01883442945229086140"
     },
     "user_tz": -60
    },
    "id": "Pifg8pGl4f_p",
    "outputId": "317dd944-033d-4adf-bf72-c85860ac487b"
   },
   "outputs": [
    {
     "data": {
      "text/plain": [
       "15"
      ]
     },
     "execution_count": 42,
     "metadata": {
      "tags": []
     },
     "output_type": "execute_result"
    }
   ],
   "source": [
    "np.trace(A)"
   ]
  },
  {
   "cell_type": "markdown",
   "metadata": {
    "id": "AHLLwLQp4f_p"
   },
   "source": [
    "As you may have guessed, the latter function sums up the elements on the diagonal. \n",
    "\n",
    "Based on what we’ve already introduced, we can see how easy it is to iterate over\n",
    "rows:"
   ]
  },
  {
   "cell_type": "code",
   "execution_count": null,
   "metadata": {
    "colab": {
     "base_uri": "https://localhost:8080/"
    },
    "executionInfo": {
     "elapsed": 1184,
     "status": "ok",
     "timestamp": 1613755298162,
     "user": {
      "displayName": "MARTINA NATALI",
      "photoUrl": "",
      "userId": "01883442945229086140"
     },
     "user_tz": -60
    },
    "id": "MSkyBRbo4f_p",
    "outputId": "13e39a1d-e38d-405f-9495-7ab3bbd5c166"
   },
   "outputs": [
    {
     "data": {
      "text/plain": [
       "array([[1, 2, 3],\n",
       "       [4, 5, 6],\n",
       "       [7, 8, 9]])"
      ]
     },
     "execution_count": 43,
     "metadata": {
      "tags": []
     },
     "output_type": "execute_result"
    }
   ],
   "source": [
    "A = np.arange(1,10).reshape(3,3)\n",
    "A"
   ]
  },
  {
   "cell_type": "code",
   "execution_count": null,
   "metadata": {
    "colab": {
     "base_uri": "https://localhost:8080/"
    },
    "executionInfo": {
     "elapsed": 1182,
     "status": "ok",
     "timestamp": 1613755298164,
     "user": {
      "displayName": "MARTINA NATALI",
      "photoUrl": "",
      "userId": "01883442945229086140"
     },
     "user_tz": -60
    },
    "id": "SetJwo2d4f_q",
    "outputId": "9dd273d5-2cb6-4e8c-d851-309c38c2ca02"
   },
   "outputs": [
    {
     "name": "stdout",
     "output_type": "stream",
     "text": [
      "[1 2 3]\n",
      "[4 5 6]\n",
      "[7 8 9]\n"
     ]
    }
   ],
   "source": [
    "for row in A:\n",
    "    print(row)\n",
    "    "
   ]
  },
  {
   "cell_type": "markdown",
   "metadata": {
    "id": "Qt79_Sc64f_q"
   },
   "source": [
    "or columns:"
   ]
  },
  {
   "cell_type": "code",
   "execution_count": null,
   "metadata": {
    "colab": {
     "base_uri": "https://localhost:8080/"
    },
    "executionInfo": {
     "elapsed": 1182,
     "status": "ok",
     "timestamp": 1613755298168,
     "user": {
      "displayName": "MARTINA NATALI",
      "photoUrl": "",
      "userId": "01883442945229086140"
     },
     "user_tz": -60
    },
    "id": "0TpSdwZV4f_q",
    "outputId": "72e10aa4-e717-41ab-fe96-10ccbb7ca30c"
   },
   "outputs": [
    {
     "name": "stdout",
     "output_type": "stream",
     "text": [
      "[1 4 7]\n",
      "[2 5 8]\n",
      "[3 6 9]\n"
     ]
    }
   ],
   "source": [
    "for column in A.T:\n",
    "    print(column)"
   ]
  },
  {
   "cell_type": "markdown",
   "metadata": {
    "id": "0TLWzOhM4f_q"
   },
   "source": [
    "Note that in both of these cases we don’t have double square brackets, since we are printing out a one-dimensional array each time. Iterating over columns will come in very handy in chapter 4 when we will be handling eigenvectors of a matrix.\n",
    "\n",
    "In general, two-dimensional arrays behave very similarly to one-dimensional ones. That means that when combining a two dimensional array with a scalar, we have broadcasting, for example:"
   ]
  },
  {
   "cell_type": "code",
   "execution_count": null,
   "metadata": {
    "colab": {
     "base_uri": "https://localhost:8080/"
    },
    "executionInfo": {
     "elapsed": 1181,
     "status": "ok",
     "timestamp": 1613755298171,
     "user": {
      "displayName": "MARTINA NATALI",
      "photoUrl": "",
      "userId": "01883442945229086140"
     },
     "user_tz": -60
    },
    "id": "xxzwTSsh4f_r",
    "outputId": "0dab38df-08a3-4c9b-dd50-8bda545d9a7b"
   },
   "outputs": [
    {
     "data": {
      "text/plain": [
       "array([[0.5, 1. , 1.5],\n",
       "       [2. , 2.5, 3. ],\n",
       "       [3.5, 4. , 4.5]])"
      ]
     },
     "execution_count": 46,
     "metadata": {
      "tags": []
     },
     "output_type": "execute_result"
    }
   ],
   "source": [
    "A/2"
   ]
  },
  {
   "cell_type": "markdown",
   "metadata": {
    "id": "LIpTMWuj4f_r"
   },
   "source": [
    "Broadcasting is often used in more complex scenarios (e.g., to combine a two-dimensional array with a one-dimensional one), but we won’t employ such features below. Needless to say, all the numpy functions we mentioned earlier, such numpy.sqrt(), numpy.exp(), also work on two-dimensional arrays, and the same holds for subtraction, multiplication, powers, etc. Intriguingly, functions like numpy.sum(), numpy.amin(), and numpy.amax() also take in an (optional) argument axis: if you set axis = 0 you operate along rows and axis = 1 operates along columns. For example:"
   ]
  },
  {
   "cell_type": "code",
   "execution_count": null,
   "metadata": {
    "colab": {
     "base_uri": "https://localhost:8080/"
    },
    "executionInfo": {
     "elapsed": 1179,
     "status": "ok",
     "timestamp": 1613755298174,
     "user": {
      "displayName": "MARTINA NATALI",
      "photoUrl": "",
      "userId": "01883442945229086140"
     },
     "user_tz": -60
    },
    "id": "Ycwj5o6t4f_r",
    "outputId": "38e3346a-15af-4600-d7d0-b784daefa7a3"
   },
   "outputs": [
    {
     "data": {
      "text/plain": [
       "array([12, 15, 18])"
      ]
     },
     "execution_count": 47,
     "metadata": {
      "tags": []
     },
     "output_type": "execute_result"
    }
   ],
   "source": [
    "A = np.arange(1,10).reshape(3,3)\n",
    "np.sum(A,axis=0)"
   ]
  },
  {
   "cell_type": "markdown",
   "metadata": {
    "id": "hZTaqv2A4f_r"
   },
   "source": [
    "Similarly, we can create our own user-defined functions that know how to handle an entire two-dimensional array/matrix at once. Given that these features are identical to what we encountered in the previous section, we assume they’re clear to the reader. That being said, there do exist several handy functions that are intuitively easier to grasp for the case of two-dimensional arrays, e.g., numpy.diag() to get the diagonal elements, or numpy.tril() to get the lower triangle of an array and numpy.triu() to get the upper triangle. Finally, another very helpful function is numpy.eye() which looks equivalent to numpy.identity() but, conveniently, also allows us to populate elements on the diagonals above or below the main diagonal; for example, try out numpy.eye(5, k=-2). You should study the documentation to discover further functionality.\n",
    "\n",
    "A further point: the default storage-format for a numpy array in memory is row-major: as a beginner, you shouldn’t worry about this too much, but it means that rows are stored in order, one after the other. This is the same format used by the C programming language. (If you wish to use, instead, Fortran’s column-major format, presumably in order to interoperate with code in that language, you simply pass in an appropriate keyword argument when creating the numpy array). As long as you structure your code in the “natural” way, i.e., first looping through rows and then\n",
    "through columns, all should be well, so you can ignore this paragraph."
   ]
  },
  {
   "cell_type": "markdown",
   "metadata": {
    "id": "pUyA86aX4f_r"
   },
   "source": [
    "## 3 File input and output"
   ]
  },
  {
   "cell_type": "markdown",
   "metadata": {
    "id": "oVMjuahv4f_s"
   },
   "source": [
    "Given the infrastructure that numpy contains with a view to making matrix manipulations easy, it is not surprising that it also contains functions that allow us to conveniently read/write arrays from/to a file.\n",
    "Starting from file input, we turn back to our original example from the Python tutorial:"
   ]
  },
  {
   "cell_type": "code",
   "execution_count": null,
   "metadata": {
    "id": "HP3Iq_9p4f_s",
    "outputId": "5768553a-f09f-4659-bc8e-44d0aed71e77"
   },
   "outputs": [
    {
     "name": "stdout",
     "output_type": "stream",
     "text": [
      "Writing compl.in\n"
     ]
    }
   ],
   "source": [
    "%%writefile compl.in\n",
    "x y\n",
    "0.6 -6.2 \n",
    "1.6 9.3 \n",
    "1.8 16."
   ]
  },
  {
   "cell_type": "markdown",
   "metadata": {
    "id": "rWdgCYkw4f_s"
   },
   "source": [
    "If we want to read all the numbers (ignoring the first, header, line of text) into a numpy array, we can simply use the numpy.loadtxt() function, passing in the filename:"
   ]
  },
  {
   "cell_type": "code",
   "execution_count": null,
   "metadata": {
    "id": "l6_JXetF4f_s",
    "outputId": "3b0df6ff-8b5c-44fc-807e-a229651b3156"
   },
   "outputs": [
    {
     "data": {
      "text/plain": [
       "array([[ 0.6, -6.2],\n",
       "       [ 1.6,  9.3],\n",
       "       [ 1.8, 16. ]])"
      ]
     },
     "execution_count": 100,
     "metadata": {
      "tags": []
     },
     "output_type": "execute_result"
    }
   ],
   "source": [
    "A = np.loadtxt(\"compl.in\", skiprows=1)\n",
    "A"
   ]
  },
  {
   "cell_type": "markdown",
   "metadata": {
    "id": "C5WWD-0j4f_t"
   },
   "source": [
    "As you can see, with one line of code all the numbers in the file have been stored into a numpy array. Observe how truly simple this is: if there were no header line to be discarded, even the second argument skiprows wouldn’t have been necessary (its default value is 0), so all that we would have needed to pass in would have been the filename!\n",
    "\n",
    "If you’re thinking that you don’t actually want all your data in one two-dimensional array, you can simply use what you learned about slicing in the previous section and split your array up. If you’d like to do that from the get-go, numpy.loadtxt() has the option unpack which allows you to do just that:"
   ]
  },
  {
   "cell_type": "code",
   "execution_count": null,
   "metadata": {
    "id": "xR80ImDO4f_t",
    "outputId": "03df7477-e093-4d2c-adab-872468076d2b"
   },
   "outputs": [
    {
     "data": {
      "text/plain": [
       "array([0.6, 1.6, 1.8])"
      ]
     },
     "execution_count": 101,
     "metadata": {
      "tags": []
     },
     "output_type": "execute_result"
    }
   ],
   "source": [
    "xs, ys = np.loadtxt(\"compl.in\", skiprows=1, unpack=True)\n",
    "xs"
   ]
  },
  {
   "cell_type": "code",
   "execution_count": null,
   "metadata": {
    "id": "Pem9C9xo4f_t",
    "outputId": "cc227ed3-fa60-42a2-8f49-f641c4bbdf2a"
   },
   "outputs": [
    {
     "data": {
      "text/plain": [
       "array([-6.2,  9.3, 16. ])"
      ]
     },
     "execution_count": 102,
     "metadata": {
      "tags": []
     },
     "output_type": "execute_result"
    }
   ],
   "source": [
    "ys"
   ]
  },
  {
   "cell_type": "markdown",
   "metadata": {
    "id": "2t_2fSrM4f_u"
   },
   "source": [
    "You should compare this to the manual operation we carried out in fileread.py. \n",
    "\n",
    "The function numpy.loadtxt() has several other options, which allow you to ignore comments, use specific columns, etc. If you need even more options when reading a file\n",
    "(e.g., there may be missing values), you should look up numpy.genfromtxt(). \n",
    "\n",
    "\n",
    "Turning to file output: this is just as straightforward, given the existence of the numpy.savetxt() function, which expects as its first argument (as you may have guessed) the filename where you want the output to be written. Equally straightforwardly, the second expected argument is the numpy array(s) you want written out. To make this tangible, let us rewrite our example filewrite.py from the Python tutorial using numpy:"
   ]
  },
  {
   "cell_type": "code",
   "execution_count": null,
   "metadata": {
    "collapsed": true,
    "id": "UXWev7g_4f_u",
    "jupyter": {
     "outputs_hidden": true
    }
   },
   "outputs": [],
   "source": [
    "xs = np.linspace(0,1.8,10)\n",
    "ys = 4*xs**3 - 7\n",
    "np.savetxt(\"compl2.out\", (xs,ys))"
   ]
  },
  {
   "cell_type": "markdown",
   "metadata": {
    "id": "MgyqNp274f_u"
   },
   "source": [
    "Note how easily we generated the xs and how straightforward it was to act on each of their elements to generate the ys: this is the power of numpy arrays in action. Then, we simply called numpy.savetxt() passing in the desired filename and a tuple containing the two arrays to be written out.\n",
    "\n",
    "You may have noticed that the above example writes out the two arrays in turn. If, instead, you wanted the output to be like that of filewrite.py, namely a table of $x$ and $y$ values, you would use numpy.column_stack(), which does what its name says, namely it stacks together two one-dimensional arrays to produce a two-dimensional array:"
   ]
  },
  {
   "cell_type": "code",
   "execution_count": null,
   "metadata": {
    "id": "qbqDFyA34f_u"
   },
   "outputs": [],
   "source": [
    "xs = np.linspace(0,1.8,10) \n",
    "ys = 4*xs**3 - 7\n",
    "A = np.column_stack((xs,ys)) \n",
    "np.savetxt(\"compl3.out\", A)"
   ]
  },
  {
   "cell_type": "markdown",
   "metadata": {
    "id": "hgZmaszs4f_u"
   },
   "source": [
    "One of the problems asks you to avoid the use of numpy.column_stack() and employ simple array slicing to produce A. As usual, numpy.savetxt() takes in several other optional parameters, which allow you to customize your output."
   ]
  },
  {
   "cell_type": "markdown",
   "metadata": {
    "id": "Hi9nLcDS4f_v"
   },
   "source": [
    "## 4 Problems"
   ]
  },
  {
   "cell_type": "markdown",
   "metadata": {
    "id": "B1fSzQsF4f_v"
   },
   "source": [
    "### 4.1\n",
    "\n",
    "Rewrite the code sumofints.py, to use numpy arrays instead of core Python functionality."
   ]
  },
  {
   "cell_type": "markdown",
   "metadata": {
    "id": "47qFHJWq4f_v"
   },
   "source": [
    "### 4.2\n",
    "\n",
    "Rewrite the code in the two file input/output examples from the last section so that they can produce the desired input/output with a minimum of external functions. In other words, first, produce the one-dimensional arrays xs and ys while reading the file as follows:"
   ]
  },
  {
   "cell_type": "code",
   "execution_count": null,
   "metadata": {
    "collapsed": true,
    "id": "cj62PCeR4f_v",
    "jupyter": {
     "outputs_hidden": true
    }
   },
   "outputs": [],
   "source": [
    "A = np.loadtxt(\"compl.in\", skiprows=1)"
   ]
  },
  {
   "cell_type": "markdown",
   "metadata": {
    "id": "9s0Q4bPZ4f_v"
   },
   "source": [
    "Second, write out to a file the two-dimensional array A as follows:"
   ]
  },
  {
   "cell_type": "code",
   "execution_count": null,
   "metadata": {
    "collapsed": true,
    "id": "dp2eVVBF4f_w",
    "jupyter": {
     "outputs_hidden": true
    }
   },
   "outputs": [],
   "source": [
    "np.savetxt(\"compl4.out\", A)"
   ]
  },
  {
   "cell_type": "markdown",
   "metadata": {
    "id": "lik7gAZx4f_w"
   },
   "source": [
    "without employing numpy.column_stack()."
   ]
  }
 ],
 "metadata": {
  "anaconda-cloud": {},
  "colab": {
   "name": "NumPyTutorial.ipynb",
   "provenance": [],
   "toc_visible": true
  },
  "kernelspec": {
   "display_name": "Python 3",
   "language": "python",
   "name": "python3"
  },
  "language_info": {
   "codemirror_mode": {
    "name": "ipython",
    "version": 3
   },
   "file_extension": ".py",
   "mimetype": "text/x-python",
   "name": "python",
   "nbconvert_exporter": "python",
   "pygments_lexer": "ipython3",
   "version": "3.8.0"
  }
 },
 "nbformat": 4,
 "nbformat_minor": 4
}
