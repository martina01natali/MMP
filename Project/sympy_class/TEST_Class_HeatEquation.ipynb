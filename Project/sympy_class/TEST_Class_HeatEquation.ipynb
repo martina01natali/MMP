{
 "cells": [
  {
   "cell_type": "markdown",
   "id": "db749457-0595-4519-b2d5-ddc14ba2ce73",
   "metadata": {},
   "source": [
    "# Class definition"
   ]
  },
  {
   "cell_type": "code",
   "execution_count": 90,
   "id": "0d6a0683-d67d-4df0-89e4-a05d5c2e61d1",
   "metadata": {},
   "outputs": [],
   "source": [
    "# Import modules\n",
    "import numpy as np\n",
    "import sympy as sy\n",
    "import pandas as pd\n",
    "\n",
    "# Import classes and functions from modules\n",
    "from sympy import oo\n",
    "from scipy.integrate import quad\n",
    "\n",
    "# Init and setup functions\n",
    "sy.init_printing()\n",
    "\n",
    "\n",
    "class Heat:\n",
    "    \"\"\"\n",
    "    \n",
    "    \"\"\"\n",
    "    # Default values\n",
    "    \n",
    "    PARAMS = {\n",
    "        'l' : .0,\n",
    "        'rho' : .0,\n",
    "        'c' : .0,\n",
    "        'k' : .0,\n",
    "        }\n",
    "    BC = {\n",
    "        '0' : 0,\n",
    "        'l' : 0,\n",
    "        }\n",
    "    RHS = '0'\n",
    "\n",
    "    # ----------------------------------------------------------------------\n",
    "        # Constructors\n",
    "        \n",
    "    def __init__(self,\n",
    "                 params:dict=PARAMS,\n",
    "                 type_bc:str='Dir', # or 'Neu'\n",
    "                 bounds:dict = BC,\n",
    "                 rhs:str = RHS,\n",
    "                 ):\n",
    "        \n",
    "        self.params = params\n",
    "        self.type_bc = type_bc\n",
    "        self.boundaries = {\n",
    "            'type_bc' : type_bc,\n",
    "            'values' : bounds,\n",
    "            }\n",
    "        self.rhs = sy.sympify(rhs)\n",
    "        \n",
    "        self.l = sy.Symbol('l', nonnegative=True, finite=True)\n",
    "        self.n = sy.Symbol('n', integer=True, positive=True)\n",
    "        self.x = sy.Symbol('x')\n",
    "        \n",
    "    # def __str__(self):\n",
    "        \n",
    "    \n",
    "    # ----------------------------------------------------------------------\n",
    "        # Startup (classmethods)\n",
    "        \n",
    "    @classmethod    \n",
    "    def startup(cls):\n",
    "        sy.init_session(quiet=True)\n",
    "        return cls()\n",
    "    \n",
    "    # ----------------------------------------------------------------------\n",
    "        # Methods\n",
    "        \n",
    "    # def params_subs(self):\n",
    "    #     \"\"\" \"\"\"\n",
    "\n",
    "    def f_coeff(self, func, basis:str):\n",
    "        \"\"\"F. coeff.s for sine or cosine basis of any sympy function func.\n",
    "        \n",
    "        Parameters\n",
    "        ----------\n",
    "        basis: str\n",
    "            Can be 'sine' or 'cosine'.\n",
    "        func: sympy expr\n",
    "            Must be a sympy expr for compatibility. Use sympify(str) to\n",
    "            convert an expression written in string form into a sympy\n",
    "            object.\n",
    "            \n",
    "        \"\"\"\n",
    "        if basis=='sine':\n",
    "            return sy.integrate((2/l)*func*f_sine(self.x, self.n, self.l),\n",
    "                                (self.x, 0, self.l),\n",
    "                                conds='piecewise',\n",
    "                               )\n",
    "    ################################ FIX #################################\n",
    "        # if basis=='cosine':\n",
    "        #     return 2/l*sy.Integral(func*Heat.f_cosine(x,n,l), (x, 0, l))\n",
    "        else:\n",
    "            raise ValueError(\"Please provide 'sine' or 'cosine' as basis.\")\n",
    "        \n",
    "        \n",
    "    \n",
    "    # ----------------------------------------------------------------------\n",
    "        # Static methods\n",
    "    \n",
    "    @staticmethod\n",
    "    def f_sine(x, n, l):\n",
    "        return sy.sin(n*sy.pi*x/l)\n",
    "    \n",
    "# ----------------------------------------------------------------------\n",
    "    # Support functions\n",
    "\n",
    "\n",
    "\n",
    "    ################################ CHECK #################################\n",
    "# def f_cosine(x, n, l):\n",
    "#     return [sy.cos(n*sy.pi*x/l), x, n, l]\n",
    "    "
   ]
  },
  {
   "cell_type": "code",
   "execution_count": 51,
   "id": "2b286501-4f25-4d2c-a3e5-cf97e1e1e2eb",
   "metadata": {},
   "outputs": [],
   "source": [
    "PARAMS = {\n",
    "    'l' : 50,\n",
    "    'rho' : 7.88,\n",
    "    'c' : .437,\n",
    "    'k' : .836,\n",
    "    }\n",
    "BC = {\n",
    "    '0' : 0,\n",
    "    'l' : 0,\n",
    "    }\n",
    "RHS = '5 - Abs(x-25)/5'"
   ]
  },
  {
   "cell_type": "code",
   "execution_count": 91,
   "id": "85e6d83a-7545-469d-9c73-b7532cfa2af0",
   "metadata": {},
   "outputs": [],
   "source": [
    "he = Heat(\n",
    "    params = PARAMS,\n",
    "    bounds = BC,\n",
    "    rhs = RHS\n",
    ")"
   ]
  },
  {
   "cell_type": "code",
   "execution_count": 92,
   "id": "4432de63-36b5-4891-9e71-d0055890e1c4",
   "metadata": {},
   "outputs": [
    {
     "ename": "TypeError",
     "evalue": "__new__() got an unexpected keyword argument 'evaluate'",
     "output_type": "error",
     "traceback": [
      "\u001b[1;31m---------------------------------------------------------------------------\u001b[0m",
      "\u001b[1;31mTypeError\u001b[0m                                 Traceback (most recent call last)",
      "Input \u001b[1;32mIn [92]\u001b[0m, in \u001b[0;36m<cell line: 1>\u001b[1;34m()\u001b[0m\n\u001b[1;32m----> 1\u001b[0m \u001b[43mhe\u001b[49m\u001b[38;5;241;43m.\u001b[39;49m\u001b[43mf_coeff\u001b[49m\u001b[43m(\u001b[49m\u001b[43mfunc\u001b[49m\u001b[38;5;241;43m=\u001b[39;49m\u001b[43mhe\u001b[49m\u001b[38;5;241;43m.\u001b[39;49m\u001b[43mrhs\u001b[49m\u001b[43m,\u001b[49m\u001b[43m \u001b[49m\u001b[43mbasis\u001b[49m\u001b[38;5;241;43m=\u001b[39;49m\u001b[38;5;124;43m'\u001b[39;49m\u001b[38;5;124;43msine\u001b[39;49m\u001b[38;5;124;43m'\u001b[39;49m\u001b[43m)\u001b[49m\n",
      "Input \u001b[1;32mIn [90]\u001b[0m, in \u001b[0;36mHeat.f_coeff\u001b[1;34m(self, func, basis)\u001b[0m\n\u001b[0;32m     72\u001b[0m     \u001b[38;5;124;03m\"\"\"F. coeff.s for sine or cosine basis of any sympy function func.\u001b[39;00m\n\u001b[0;32m     73\u001b[0m \u001b[38;5;124;03m    \u001b[39;00m\n\u001b[0;32m     74\u001b[0m \u001b[38;5;124;03m    Parameters\u001b[39;00m\n\u001b[1;32m   (...)\u001b[0m\n\u001b[0;32m     82\u001b[0m \u001b[38;5;124;03m        \u001b[39;00m\n\u001b[0;32m     83\u001b[0m \u001b[38;5;124;03m    \"\"\"\u001b[39;00m\n\u001b[0;32m     84\u001b[0m     \u001b[38;5;28;01mif\u001b[39;00m basis\u001b[38;5;241m==\u001b[39m\u001b[38;5;124m'\u001b[39m\u001b[38;5;124msine\u001b[39m\u001b[38;5;124m'\u001b[39m:\n\u001b[1;32m---> 85\u001b[0m         \u001b[38;5;28;01mreturn\u001b[39;00m \u001b[43msy\u001b[49m\u001b[38;5;241;43m.\u001b[39;49m\u001b[43mintegrate\u001b[49m\u001b[43m(\u001b[49m\u001b[43m(\u001b[49m\u001b[38;5;241;43m2\u001b[39;49m\u001b[38;5;241;43m/\u001b[39;49m\u001b[43ml\u001b[49m\u001b[43m)\u001b[49m\u001b[38;5;241;43m*\u001b[39;49m\u001b[43mfunc\u001b[49m\u001b[38;5;241;43m*\u001b[39;49m\u001b[43mf_sine\u001b[49m\u001b[43m(\u001b[49m\u001b[38;5;28;43mself\u001b[39;49m\u001b[38;5;241;43m.\u001b[39;49m\u001b[43mx\u001b[49m\u001b[43m,\u001b[49m\u001b[43m \u001b[49m\u001b[38;5;28;43mself\u001b[39;49m\u001b[38;5;241;43m.\u001b[39;49m\u001b[43mn\u001b[49m\u001b[43m,\u001b[49m\u001b[43m \u001b[49m\u001b[38;5;28;43mself\u001b[39;49m\u001b[38;5;241;43m.\u001b[39;49m\u001b[43ml\u001b[49m\u001b[43m)\u001b[49m\u001b[43m,\u001b[49m\n\u001b[0;32m     86\u001b[0m \u001b[43m                            \u001b[49m\u001b[43m(\u001b[49m\u001b[38;5;28;43mself\u001b[39;49m\u001b[38;5;241;43m.\u001b[39;49m\u001b[43mx\u001b[49m\u001b[43m,\u001b[49m\u001b[43m \u001b[49m\u001b[38;5;241;43m0\u001b[39;49m\u001b[43m,\u001b[49m\u001b[43m \u001b[49m\u001b[38;5;28;43mself\u001b[39;49m\u001b[38;5;241;43m.\u001b[39;49m\u001b[43ml\u001b[49m\u001b[43m)\u001b[49m\u001b[43m,\u001b[49m\n\u001b[0;32m     87\u001b[0m \u001b[43m                            \u001b[49m\u001b[43mevaluate\u001b[49m\u001b[38;5;241;43m=\u001b[39;49m\u001b[38;5;28;43;01mFalse\u001b[39;49;00m\u001b[43m,\u001b[49m\n\u001b[0;32m     88\u001b[0m \u001b[43m                           \u001b[49m\u001b[43m)\u001b[49m\n\u001b[0;32m     89\u001b[0m \u001b[38;5;66;03m################################ FIX #################################\u001b[39;00m\n\u001b[0;32m     90\u001b[0m     \u001b[38;5;66;03m# if basis=='cosine':\u001b[39;00m\n\u001b[0;32m     91\u001b[0m     \u001b[38;5;66;03m#     return 2/l*sy.Integral(func*Heat.f_cosine(x,n,l), (x, 0, l))\u001b[39;00m\n\u001b[0;32m     92\u001b[0m     \u001b[38;5;28;01melse\u001b[39;00m:\n\u001b[0;32m     93\u001b[0m         \u001b[38;5;28;01mraise\u001b[39;00m \u001b[38;5;167;01mValueError\u001b[39;00m(\u001b[38;5;124m\"\u001b[39m\u001b[38;5;124mPlease provide \u001b[39m\u001b[38;5;124m'\u001b[39m\u001b[38;5;124msine\u001b[39m\u001b[38;5;124m'\u001b[39m\u001b[38;5;124m or \u001b[39m\u001b[38;5;124m'\u001b[39m\u001b[38;5;124mcosine\u001b[39m\u001b[38;5;124m'\u001b[39m\u001b[38;5;124m as basis.\u001b[39m\u001b[38;5;124m\"\u001b[39m)\n",
      "File \u001b[1;32mC:\\Anaconda3\\envs\\mmp\\lib\\site-packages\\sympy\\integrals\\integrals.py:1563\u001b[0m, in \u001b[0;36mintegrate\u001b[1;34m(meijerg, conds, risch, heurisch, manual, *args, **kwargs)\u001b[0m\n\u001b[0;32m   1399\u001b[0m \u001b[38;5;124;03m\"\"\"integrate(f, var, ...)\u001b[39;00m\n\u001b[0;32m   1400\u001b[0m \n\u001b[0;32m   1401\u001b[0m \u001b[38;5;124;03m.. deprecated:: 1.6\u001b[39;00m\n\u001b[1;32m   (...)\u001b[0m\n\u001b[0;32m   1553\u001b[0m \n\u001b[0;32m   1554\u001b[0m \u001b[38;5;124;03m\"\"\"\u001b[39;00m\n\u001b[0;32m   1555\u001b[0m doit_flags \u001b[38;5;241m=\u001b[39m {\n\u001b[0;32m   1556\u001b[0m     \u001b[38;5;124m'\u001b[39m\u001b[38;5;124mdeep\u001b[39m\u001b[38;5;124m'\u001b[39m: \u001b[38;5;28;01mFalse\u001b[39;00m,\n\u001b[0;32m   1557\u001b[0m     \u001b[38;5;124m'\u001b[39m\u001b[38;5;124mmeijerg\u001b[39m\u001b[38;5;124m'\u001b[39m: meijerg,\n\u001b[1;32m   (...)\u001b[0m\n\u001b[0;32m   1561\u001b[0m     \u001b[38;5;124m'\u001b[39m\u001b[38;5;124mmanual\u001b[39m\u001b[38;5;124m'\u001b[39m: manual\n\u001b[0;32m   1562\u001b[0m     }\n\u001b[1;32m-> 1563\u001b[0m integral \u001b[38;5;241m=\u001b[39m Integral(\u001b[38;5;241m*\u001b[39margs, \u001b[38;5;241m*\u001b[39m\u001b[38;5;241m*\u001b[39mkwargs)\n\u001b[0;32m   1565\u001b[0m \u001b[38;5;28;01mif\u001b[39;00m \u001b[38;5;28misinstance\u001b[39m(integral, Integral):\n\u001b[0;32m   1566\u001b[0m     \u001b[38;5;28;01mreturn\u001b[39;00m integral\u001b[38;5;241m.\u001b[39mdoit(\u001b[38;5;241m*\u001b[39m\u001b[38;5;241m*\u001b[39mdoit_flags)\n",
      "File \u001b[1;32mC:\\Anaconda3\\envs\\mmp\\lib\\site-packages\\sympy\\integrals\\integrals.py:99\u001b[0m, in \u001b[0;36mIntegral.__new__\u001b[1;34m(cls, function, *symbols, **assumptions)\u001b[0m\n\u001b[0;32m     89\u001b[0m \u001b[38;5;28;01mif\u001b[39;00m \u001b[38;5;28misinstance\u001b[39m(function, Poly):\n\u001b[0;32m     90\u001b[0m     sympy_deprecation_warning(\n\u001b[0;32m     91\u001b[0m         \u001b[38;5;124;03m\"\"\"\u001b[39;00m\n\u001b[0;32m     92\u001b[0m \u001b[38;5;124;03m        integrate(Poly) and Integral(Poly) are deprecated. Instead,\u001b[39;00m\n\u001b[1;32m   (...)\u001b[0m\n\u001b[0;32m     96\u001b[0m         deprecated_since_version\u001b[38;5;241m=\u001b[39m\u001b[38;5;124m\"\u001b[39m\u001b[38;5;124m1.6\u001b[39m\u001b[38;5;124m\"\u001b[39m,\n\u001b[0;32m     97\u001b[0m         active_deprecations_target\u001b[38;5;241m=\u001b[39m\u001b[38;5;124m\"\u001b[39m\u001b[38;5;124mdeprecated-integrate-poly\u001b[39m\u001b[38;5;124m\"\u001b[39m)\n\u001b[1;32m---> 99\u001b[0m obj \u001b[38;5;241m=\u001b[39m AddWithLimits\u001b[38;5;241m.\u001b[39m\u001b[38;5;21m__new__\u001b[39m(\u001b[38;5;28mcls\u001b[39m, function, \u001b[38;5;241m*\u001b[39msymbols, \u001b[38;5;241m*\u001b[39m\u001b[38;5;241m*\u001b[39massumptions)\n\u001b[0;32m    100\u001b[0m \u001b[38;5;28;01mreturn\u001b[39;00m obj\n",
      "File \u001b[1;32mC:\\Anaconda3\\envs\\mmp\\lib\\site-packages\\sympy\\concrete\\expr_with_limits.py:552\u001b[0m, in \u001b[0;36mAddWithLimits.__new__\u001b[1;34m(cls, function, *symbols, **assumptions)\u001b[0m\n\u001b[0;32m    549\u001b[0m \u001b[38;5;28;01melse\u001b[39;00m:\n\u001b[0;32m    550\u001b[0m     \u001b[38;5;28;01mreturn\u001b[39;00m pre\n\u001b[1;32m--> 552\u001b[0m obj \u001b[38;5;241m=\u001b[39m Expr\u001b[38;5;241m.\u001b[39m\u001b[38;5;21m__new__\u001b[39m(\u001b[38;5;28mcls\u001b[39m, \u001b[38;5;241m*\u001b[39m\u001b[38;5;241m*\u001b[39massumptions)\n\u001b[0;32m    553\u001b[0m arglist \u001b[38;5;241m=\u001b[39m [orientation\u001b[38;5;241m*\u001b[39mfunction]  \u001b[38;5;66;03m# orientation not used in ExprWithLimits\u001b[39;00m\n\u001b[0;32m    554\u001b[0m arglist\u001b[38;5;241m.\u001b[39mextend(limits)\n",
      "\u001b[1;31mTypeError\u001b[0m: __new__() got an unexpected keyword argument 'evaluate'"
     ]
    }
   ],
   "source": [
    "he.f_coeff(func=he.rhs, basis='sine')"
   ]
  },
  {
   "cell_type": "markdown",
   "id": "4c8c4799-5b9a-4d13-9019-06a9d58630bc",
   "metadata": {},
   "source": [
    "## Support functions/methods building"
   ]
  },
  {
   "cell_type": "code",
   "execution_count": null,
   "id": "4f8552b9-b26c-46df-bf22-788949d67b25",
   "metadata": {},
   "outputs": [],
   "source": [
    "def f_sine():\n",
    "    import sympy as sy\n",
    "    n, x, l = sy.symbols('n x l')\n",
    "    return [sy.sin(n*sy.pi*x/l), x, n, l]"
   ]
  },
  {
   "cell_type": "code",
   "execution_count": null,
   "id": "0887cdb0-2751-426b-bccf-cf86af5827dd",
   "metadata": {},
   "outputs": [],
   "source": [
    "[*args] = f_sine()\n",
    "args"
   ]
  },
  {
   "cell_type": "code",
   "execution_count": null,
   "id": "f5ff6564-1e22-4464-8c2b-2fdf9e471616",
   "metadata": {},
   "outputs": [],
   "source": [
    "type(args[1])"
   ]
  },
  {
   "cell_type": "code",
   "execution_count": null,
   "id": "bd6ee6f1-e94c-447e-a174-543ba519ae8d",
   "metadata": {},
   "outputs": [],
   "source": [
    "type(l)"
   ]
  },
  {
   "cell_type": "code",
   "execution_count": null,
   "id": "82c5f1e6-aa68-4c78-97cf-a3c605741b99",
   "metadata": {},
   "outputs": [],
   "source": [
    "import sympy as sy\n",
    "x = sy.Symbol('x')\n",
    "result = sy.integrate(a, (x, 0, 50)).args[0][0]\n",
    "result"
   ]
  },
  {
   "cell_type": "code",
   "execution_count": null,
   "id": "f044c6c7-adda-4b6a-973d-2b872cfb0b54",
   "metadata": {},
   "outputs": [],
   "source": [
    "result.subs(l, 50)"
   ]
  },
  {
   "cell_type": "markdown",
   "id": "448f49da-586f-41df-b42a-f3ceac9a4bc3",
   "metadata": {},
   "source": [
    "# Support cells"
   ]
  },
  {
   "cell_type": "code",
   "execution_count": null,
   "id": "586e305a-be71-4606-ab84-cee916b79b99",
   "metadata": {},
   "outputs": [],
   "source": [
    "from sympy import init_session\n",
    "init_session()"
   ]
  },
  {
   "cell_type": "code",
   "execution_count": null,
   "id": "07678dcd-b225-44b6-96ae-2a9be7495326",
   "metadata": {},
   "outputs": [],
   "source": [
    "rhs_str = 'x-2'\n",
    "rhs = sympify(rhs_str)\n",
    "rhs"
   ]
  },
  {
   "cell_type": "code",
   "execution_count": null,
   "id": "9a017523-7014-45cf-ad5a-e10a1926e226",
   "metadata": {},
   "outputs": [],
   "source": [
    "from sympy import Piecewise, Interval\n",
    "from sympy.abc import x\n",
    "from sympy import oo\n",
    "\n",
    "cond = -x < -1\n",
    "args = [(1, cond), (4, cond), (3, False), (2, True), (5, x < 1)]\n",
    "Piecewise(*args)\n",
    "#Piecewise((1, -x < -1), (4, -x < -1), (2, True))\n",
    "Piecewise(*args).as_expr_set_pairs(domain=Interval(0,oo))"
   ]
  },
  {
   "cell_type": "code",
   "execution_count": null,
   "id": "5c3c8251-91f4-47d7-916a-ee296e2442f9",
   "metadata": {},
   "outputs": [],
   "source": []
  },
  {
   "cell_type": "code",
   "execution_count": null,
   "id": "0e8466cd-553a-483c-96dd-aadf5d12c94a",
   "metadata": {},
   "outputs": [],
   "source": []
  },
  {
   "cell_type": "markdown",
   "id": "ec59ceb5-94af-4331-bbc3-8ff19da2128e",
   "metadata": {},
   "source": [
    "# Snippets"
   ]
  },
  {
   "cell_type": "code",
   "execution_count": null,
   "id": "ce5ee1e8-ba9d-48cf-8d23-138fc8c3b648",
   "metadata": {},
   "outputs": [],
   "source": []
  },
  {
   "cell_type": "code",
   "execution_count": null,
   "id": "649d178a-57c2-4885-b597-eba4e75ac1c2",
   "metadata": {},
   "outputs": [],
   "source": []
  },
  {
   "cell_type": "code",
   "execution_count": null,
   "id": "844bcf30-e855-4220-a5cd-6947dfb83b0e",
   "metadata": {},
   "outputs": [],
   "source": []
  },
  {
   "cell_type": "code",
   "execution_count": null,
   "id": "e9bff1d5-92f0-409d-b75a-618dae0fd601",
   "metadata": {},
   "outputs": [],
   "source": []
  }
 ],
 "metadata": {
  "kernelspec": {
   "display_name": "mmp",
   "language": "python",
   "name": "mmp"
  },
  "language_info": {
   "codemirror_mode": {
    "name": "ipython",
    "version": 3
   },
   "file_extension": ".py",
   "mimetype": "text/x-python",
   "name": "python",
   "nbconvert_exporter": "python",
   "pygments_lexer": "ipython3",
   "version": "3.9.12"
  }
 },
 "nbformat": 4,
 "nbformat_minor": 5
}
