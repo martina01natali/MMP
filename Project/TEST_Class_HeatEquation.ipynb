{
 "cells": [
  {
   "cell_type": "code",
   "execution_count": 1,
   "id": "eecdb08f-a940-4a92-afe0-6a3756cc3f09",
   "metadata": {},
   "outputs": [],
   "source": [
    "import numpy as np\n",
    "import sympy as sy\n",
    "import pandas as pd"
   ]
  },
  {
   "cell_type": "markdown",
   "id": "db749457-0595-4519-b2d5-ddc14ba2ce73",
   "metadata": {},
   "source": [
    "# Class definition"
   ]
  },
  {
   "cell_type": "code",
   "execution_count": 36,
   "id": "0d6a0683-d67d-4df0-89e4-a05d5c2e61d1",
   "metadata": {},
   "outputs": [],
   "source": [
    "class HeatEquation:\n",
    "    \"\"\"\n",
    "    \n",
    "    \"\"\"\n",
    "    # Default values\n",
    "    import sympy as sy\n",
    "    sy.init_printing()\n",
    "    \n",
    "    PARAMS = {\n",
    "        'l' : .0,\n",
    "        'rho' : .0,\n",
    "        'c' : .0,\n",
    "        'k' : .0,\n",
    "        }\n",
    "    BC = {\n",
    "        '0' : 0,\n",
    "        'l' : 0,\n",
    "        }\n",
    "    RHS = '0'\n",
    "\n",
    "    # ----------------------------------------------------------------------\n",
    "        # Constructors\n",
    "        \n",
    "    def __init__(self,\n",
    "                 params:dict=PARAMS,\n",
    "                 type_bc:str='dir',\n",
    "                 bounds:dict = BC,\n",
    "                 rhs:str = RHS,\n",
    "                 ):\n",
    "        \n",
    "        self.params = params\n",
    "        self.type_bc = type_bc\n",
    "        self.boundaries = {\n",
    "            'type_bc' : type_bc,\n",
    "            'values' : bounds,\n",
    "            }\n",
    "        self.rhs = sy.sympify(rhs)\n",
    "        x, n, l = sy.symbols('x n l')\n",
    "        \n",
    "    \n",
    "    # ----------------------------------------------------------------------\n",
    "        # Startup\n",
    "        \n",
    "    def startup():\n",
    "        import sympy as sy\n",
    "        sy.init_session(quiet=True)\n",
    "    \n",
    "    # ----------------------------------------------------------------------\n",
    "        # Methods\n",
    "        \n",
    "    \n",
    "    # ----------------------------------------------------------------------\n",
    "        # Static methods\n",
    "    \n",
    "    @staticmethod\n",
    "    def f_sine(x, n, l):\n",
    "        return [sy.sin(n*sy.pi*x/l), x, n, l]\n",
    "        \n",
    "    "
   ]
  },
  {
   "cell_type": "code",
   "execution_count": 32,
   "id": "2b286501-4f25-4d2c-a3e5-cf97e1e1e2eb",
   "metadata": {},
   "outputs": [],
   "source": [
    "PARAMS = {\n",
    "    'l' : 50,\n",
    "    'rho' : 7.88,\n",
    "    'c' : .437,\n",
    "    'k' : .836,\n",
    "    }\n",
    "BC = {\n",
    "    '0' : 0,\n",
    "    'l' : 0,\n",
    "    }\n",
    "RHS = '5 - Abs(x-25)/5'"
   ]
  },
  {
   "cell_type": "code",
   "execution_count": 33,
   "id": "85e6d83a-7545-469d-9c73-b7532cfa2af0",
   "metadata": {},
   "outputs": [],
   "source": [
    "he = HeatEquation(\n",
    "    params = PARAMS,\n",
    "    bounds = BC,\n",
    "    rhs = RHS\n",
    ")"
   ]
  },
  {
   "cell_type": "code",
   "execution_count": 34,
   "id": "5d70df28-a4d2-4c95-ac81-a665eec4846c",
   "metadata": {},
   "outputs": [
    {
     "data": {
      "text/plain": [
       "sympy.core.add.Add"
      ]
     },
     "execution_count": 34,
     "metadata": {},
     "output_type": "execute_result"
    }
   ],
   "source": [
    "type(he.rhs)"
   ]
  },
  {
   "cell_type": "code",
   "execution_count": 37,
   "id": "5623f25c-011a-4411-9734-1c8fa456b6ec",
   "metadata": {},
   "outputs": [],
   "source": [
    "x, n, l = sy.symbols('x n l')\n",
    "args = [x, n, l]"
   ]
  },
  {
   "cell_type": "code",
   "execution_count": 38,
   "id": "f616a528-c52e-4bdb-8bf5-33f6b14fed66",
   "metadata": {},
   "outputs": [
    {
     "data": {
      "image/png": "[encoded data removed]",
      "text/latex": [
       "$\\displaystyle \\left[ \\sin{\\left(\\frac{\\pi n x}{l} \\right)}, \\  x, \\  n, \\  l\\right]$"
      ],
      "text/plain": [
       "⎡   ⎛π⋅n⋅x⎞         ⎤\n",
       "⎢sin⎜─────⎟, x, n, l⎥\n",
       "⎣   ⎝  l  ⎠         ⎦"
      ]
     },
     "execution_count": 38,
     "metadata": {},
     "output_type": "execute_result"
    }
   ],
   "source": [
    "HeatEquation.f_sine(*args)"
   ]
  },
  {
   "cell_type": "markdown",
   "id": "4c8c4799-5b9a-4d13-9019-06a9d58630bc",
   "metadata": {},
   "source": [
    "## Support functions/methods building"
   ]
  },
  {
   "cell_type": "code",
   "execution_count": 12,
   "id": "4f8552b9-b26c-46df-bf22-788949d67b25",
   "metadata": {},
   "outputs": [],
   "source": [
    "def f_sine():\n",
    "    import sympy as sy\n",
    "    n, x, l = sy.symbols('n x l')\n",
    "    return [sy.sin(n*sy.pi*x/l), x, n, l]"
   ]
  },
  {
   "cell_type": "code",
   "execution_count": 19,
   "id": "0887cdb0-2751-426b-bccf-cf86af5827dd",
   "metadata": {},
   "outputs": [
    {
     "data": {
      "image/png": "[encoded data removed]",
      "text/latex": [
       "$\\displaystyle \\left[ \\sin{\\left(\\frac{\\pi n x}{l} \\right)}, \\  n, \\  x, \\  l\\right]$"
      ],
      "text/plain": [
       "⎡   ⎛π⋅n⋅x⎞         ⎤\n",
       "⎢sin⎜─────⎟, n, x, l⎥\n",
       "⎣   ⎝  l  ⎠         ⎦"
      ]
     },
     "execution_count": 19,
     "metadata": {},
     "output_type": "execute_result"
    }
   ],
   "source": [
    "[*args] = f_sine()\n",
    "args"
   ]
  },
  {
   "cell_type": "code",
   "execution_count": 18,
   "id": "f5ff6564-1e22-4464-8c2b-2fdf9e471616",
   "metadata": {},
   "outputs": [
    {
     "data": {
      "text/plain": [
       "sympy.core.symbol.Symbol"
      ]
     },
     "execution_count": 18,
     "metadata": {},
     "output_type": "execute_result"
    }
   ],
   "source": [
    "type(args[1])"
   ]
  },
  {
   "cell_type": "code",
   "execution_count": null,
   "id": "bd6ee6f1-e94c-447e-a174-543ba519ae8d",
   "metadata": {},
   "outputs": [],
   "source": [
    "type(l)"
   ]
  },
  {
   "cell_type": "code",
   "execution_count": null,
   "id": "82c5f1e6-aa68-4c78-97cf-a3c605741b99",
   "metadata": {},
   "outputs": [],
   "source": [
    "import sympy as sy\n",
    "x = sy.Symbol('x')\n",
    "result = sy.integrate(a, (x, 0, 50)).args[0][0]\n",
    "result"
   ]
  },
  {
   "cell_type": "code",
   "execution_count": null,
   "id": "f044c6c7-adda-4b6a-973d-2b872cfb0b54",
   "metadata": {},
   "outputs": [],
   "source": [
    "result.subs(l, 50)"
   ]
  },
  {
   "cell_type": "markdown",
   "id": "448f49da-586f-41df-b42a-f3ceac9a4bc3",
   "metadata": {},
   "source": [
    "# Support cells"
   ]
  },
  {
   "cell_type": "code",
   "execution_count": null,
   "id": "586e305a-be71-4606-ab84-cee916b79b99",
   "metadata": {},
   "outputs": [],
   "source": [
    "from sympy import init_session\n",
    "init_session()"
   ]
  },
  {
   "cell_type": "code",
   "execution_count": null,
   "id": "07678dcd-b225-44b6-96ae-2a9be7495326",
   "metadata": {},
   "outputs": [],
   "source": [
    "rhs_str = 'x-2'\n",
    "rhs = sympify(rhs_str)\n",
    "rhs"
   ]
  },
  {
   "cell_type": "code",
   "execution_count": null,
   "id": "9a017523-7014-45cf-ad5a-e10a1926e226",
   "metadata": {},
   "outputs": [],
   "source": []
  },
  {
   "cell_type": "code",
   "execution_count": null,
   "id": "5c3c8251-91f4-47d7-916a-ee296e2442f9",
   "metadata": {},
   "outputs": [],
   "source": []
  },
  {
   "cell_type": "code",
   "execution_count": null,
   "id": "0e8466cd-553a-483c-96dd-aadf5d12c94a",
   "metadata": {},
   "outputs": [],
   "source": []
  },
  {
   "cell_type": "markdown",
   "id": "ec59ceb5-94af-4331-bbc3-8ff19da2128e",
   "metadata": {},
   "source": [
    "# Snippets"
   ]
  },
  {
   "cell_type": "code",
   "execution_count": null,
   "id": "ce5ee1e8-ba9d-48cf-8d23-138fc8c3b648",
   "metadata": {},
   "outputs": [],
   "source": []
  },
  {
   "cell_type": "code",
   "execution_count": null,
   "id": "649d178a-57c2-4885-b597-eba4e75ac1c2",
   "metadata": {},
   "outputs": [],
   "source": []
  },
  {
   "cell_type": "code",
   "execution_count": null,
   "id": "844bcf30-e855-4220-a5cd-6947dfb83b0e",
   "metadata": {},
   "outputs": [],
   "source": []
  },
  {
   "cell_type": "code",
   "execution_count": null,
   "id": "e9bff1d5-92f0-409d-b75a-618dae0fd601",
   "metadata": {},
   "outputs": [],
   "source": []
  }
 ],
 "metadata": {
  "kernelspec": {
   "display_name": "mmp",
   "language": "python",
   "name": "mmp"
  },
  "language_info": {
   "codemirror_mode": {
    "name": "ipython",
    "version": 3
   },
   "file_extension": ".py",
   "mimetype": "text/x-python",
   "name": "python",
   "nbconvert_exporter": "python",
   "pygments_lexer": "ipython3",
   "version": "3.9.12"
  }
 },
 "nbformat": 4,
 "nbformat_minor": 5
}
