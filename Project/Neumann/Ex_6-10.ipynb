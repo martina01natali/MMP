{
 "cells": [
  {
   "cell_type": "markdown",
   "id": "be31d391-4559-4860-afd0-3471dda885a6",
   "metadata": {},
   "source": [
    "# Finite elements for IVBP with Neumann conditions"
   ]
  },
  {
   "cell_type": "markdown",
   "id": "04d9a03e-06eb-481d-b780-bb4bbb28053f",
   "metadata": {},
   "source": [
    "## Start simple: BVP with Neumann BC"
   ]
  },
  {
   "cell_type": "markdown",
   "id": "d178d806-007a-4db6-8ff4-07fbc2f7f90c",
   "metadata": {},
   "source": [
    "Example 6.10 - Inhomogeneous Neumann BVP\n",
    "\n",
    "This example is taken from Gockenbach, Sect. 6.5."
   ]
  },
  {
   "cell_type": "code",
   "execution_count": 1,
   "id": "1d4c0d52-6c24-4b85-b5d4-73348b6103e2",
   "metadata": {},
   "outputs": [],
   "source": [
    "from sympy import *\n",
    "init_printing(use_unicode=True)"
   ]
  },
  {
   "cell_type": "code",
   "execution_count": 2,
   "id": "2a5ce3bf-6c7d-4415-ae22-bdbe993e2e86",
   "metadata": {},
   "outputs": [],
   "source": [
    "import numpy as np\n",
    "import matplotlib.pyplot as plt\n",
    "from scipy.integrate import quad\n",
    "from scipy.linalg import solve_banded"
   ]
  },
  {
   "cell_type": "code",
   "execution_count": 3,
   "id": "26c78b50-3b96-46d1-8b93-2cb37439743d",
   "metadata": {},
   "outputs": [
    {
     "name": "stdout",
     "output_type": "stream",
     "text": [
      "IPython console for SymPy 1.10.1 (Python 3.9.12-64-bit) (ground types: python)\n",
      "\n",
      "These commands were executed:\n",
      ">>> from sympy import *\n",
      ">>> x, y, z, t = symbols('x y z t')\n",
      ">>> k, m, n = symbols('k m n', integer=True)\n",
      ">>> f, g, h = symbols('f g h', cls=Function)\n",
      ">>> init_printing()\n",
      "\n",
      "Documentation can be found at https://docs.sympy.org/1.10.1/\n",
      "\n"
     ]
    }
   ],
   "source": [
    "init_session()"
   ]
  },
  {
   "cell_type": "code",
   "execution_count": 4,
   "id": "dda0aced-b779-4d7d-a13f-a7beb188d6de",
   "metadata": {},
   "outputs": [],
   "source": [
    "u = symbols('u', cls=Function)\n",
    "l = Symbol('l', real=True, positive=True)\n",
    "i = Symbol('i', integer=True)\n",
    "h = Symbol('h', real=True, positive=True)"
   ]
  },
  {
   "cell_type": "code",
   "execution_count": 5,
   "id": "6dace981-47dc-4409-a6ca-f8150635c95c",
   "metadata": {},
   "outputs": [],
   "source": [
    "ode = Eq((-u(x).diff(x, x)),(x-1/2), domain=Interval(0,1))"
   ]
  },
  {
   "cell_type": "code",
   "execution_count": 6,
   "id": "77345bcf-11e3-4e3b-94c6-91efec2c1560",
   "metadata": {},
   "outputs": [
    {
     "data": {
      "image/png": "[encoded data removed]",
      "text/latex": [
       "$\\displaystyle - \\frac{d^{2}}{d x^{2}} u{\\left(x \\right)} = x - 0.5$"
      ],
      "text/plain": [
       "   2                \n",
       "  d                 \n",
       "-───(u(x)) = x - 0.5\n",
       "   2                \n",
       " dx                 "
      ]
     },
     "execution_count": 6,
     "metadata": {},
     "output_type": "execute_result"
    }
   ],
   "source": [
    "ode"
   ]
  },
  {
   "cell_type": "code",
   "execution_count": 7,
   "id": "0186019e-fa5d-4f41-bd80-c660a6ebf164",
   "metadata": {},
   "outputs": [],
   "source": [
    "ics = {\n",
    "    u(x).diff(x).subs(x, 0) : 0,\n",
    "    u(x).diff(x).subs(x, l) : 0,\n",
    "    u(0) : 0,\n",
    "}"
   ]
  },
  {
   "cell_type": "code",
   "execution_count": 8,
   "id": "c1a535bb-8ddb-4d3a-aa73-44d01bceaf19",
   "metadata": {},
   "outputs": [
    {
     "data": {
      "text/plain": [
       "\"Equality(Mul(Integer(-1), Derivative(Function('u')(Symbol('x')), Tuple(Symbol('x'), Integer(2)))), Add(Symbol('x'), Float('-0.5', precision=53)))\""
      ]
     },
     "execution_count": 8,
     "metadata": {},
     "output_type": "execute_result"
    }
   ],
   "source": [
    "srepr(ode)"
   ]
  },
  {
   "cell_type": "raw",
   "id": "cf2fe3cc-90af-488e-85c3-cdc6b9f8e6d3",
   "metadata": {},
   "source": [
    "dsolve(ode, func=u(x), ics=ics,)"
   ]
  },
  {
   "cell_type": "code",
   "execution_count": 9,
   "id": "4532bf9d-f479-4daf-a997-a082a110acdf",
   "metadata": {},
   "outputs": [],
   "source": [
    "def basis(x, i):\n",
    "    return np.piecewise(x, [x < (i-1)*h,\n",
    "                            ((i-1)*h <= x) & (x <= i*h),\n",
    "                            (i*h < x) & (x <= (i+1)*h),\n",
    "                            x > (i+1)*h],\n",
    "                        [0, (x - (i - 1) * h)/h, -(x - (i + 1) * h)/h, 0])\n",
    "\n",
    "vbasis = np.vectorize(basis)"
   ]
  },
  {
   "cell_type": "markdown",
   "id": "898ac142-69ad-4e26-afd6-05669929ffac",
   "metadata": {},
   "source": [
    "## Build the piecewise polynomials basis\n",
    "\n",
    "The following is a single element $\\phi_j (x)$ of the basis of piecewise polynomials. This means that, when building the matrixes $\\textbf{K}_{ij}$ and $\\textbf{M}_{ij}$, one has to take into account to loop on the j index as a function of the i index."
   ]
  },
  {
   "cell_type": "code",
   "execution_count": 10,
   "id": "939daea9-62cd-49cb-b35c-d1f441e4ebf5",
   "metadata": {},
   "outputs": [
    {
     "data": {
      "text/latex": [
       "$\\displaystyle \\begin{cases} - i + 1 + \\frac{x}{h} & \\text{for}\\: x > h \\left(i - 1\\right) \\wedge x < h i \\\\i + 1 - \\frac{x}{h} & \\text{for}\\: x > h i \\wedge x < h \\left(i + 1\\right) \\\\0 & \\text{otherwise} \\end{cases}$"
      ],
      "text/plain": [
       "⎧         x                             \n",
       "⎪-i + 1 + ─  for x > h⋅(i - 1) ∧ x < h⋅i\n",
       "⎪         h                             \n",
       "⎪                                       \n",
       "⎨        x                              \n",
       "⎪i + 1 - ─   for x > h⋅i ∧ x < h⋅(i + 1)\n",
       "⎪        h                              \n",
       "⎪                                       \n",
       "⎩    0                otherwise         "
      ]
     },
     "execution_count": 10,
     "metadata": {},
     "output_type": "execute_result"
    }
   ],
   "source": [
    "sy_basis = Piecewise(\n",
    "    (x/h-i+1, (x>(i-1)*h)&(x<i*h)),\n",
    "    (-x/h+i+1, (x>i*h)&(x<(i+1)*h)),\n",
    "    (0, True),\n",
    "); sy_basis"
   ]
  },
  {
   "cell_type": "code",
   "execution_count": 11,
   "id": "0f4b09d5-bd24-4ab8-842f-c59195890e12",
   "metadata": {},
   "outputs": [
    {
     "data": {
      "text/latex": [
       "$\\displaystyle \\begin{cases} \\left(- i + 1 + \\frac{x}{h}\\right)^{2} & \\text{for}\\: x > h \\left(i - 1\\right) \\wedge x < h i \\\\\\left(i + 1 - \\frac{x}{h}\\right)^{2} & \\text{for}\\: x > h i \\wedge x < h \\left(i + 1\\right) \\\\0 & \\text{otherwise} \\end{cases}$"
      ],
      "text/plain": [
       "⎧            2                             \n",
       "⎪⎛         x⎞                              \n",
       "⎪⎜-i + 1 + ─⎟   for x > h⋅(i - 1) ∧ x < h⋅i\n",
       "⎪⎝         h⎠                              \n",
       "⎪                                          \n",
       "⎨           2                              \n",
       "⎪⎛        x⎞                               \n",
       "⎪⎜i + 1 - ─⎟    for x > h⋅i ∧ x < h⋅(i + 1)\n",
       "⎪⎝        h⎠                               \n",
       "⎪                                          \n",
       "⎩      0                 otherwise         "
      ]
     },
     "execution_count": 11,
     "metadata": {},
     "output_type": "execute_result"
    }
   ],
   "source": [
    "sy_basis2 = sy_basis**2; sy_basis2"
   ]
  },
  {
   "cell_type": "code",
   "execution_count": 12,
   "id": "79b091f1-946e-437b-b0bd-9477bf7a6b01",
   "metadata": {},
   "outputs": [
    {
     "data": {
      "text/latex": [
       "$\\displaystyle \\begin{cases} 0 & \\text{for}\\: x \\leq h \\left(i - 1\\right) \\\\- h \\left(1 - i\\right) \\left(i - 1\\right)^{2} - \\frac{h \\left(i - 1\\right)^{3}}{3} - h \\left(i - 1\\right) \\left(i^{2} - 2 i + 1\\right) + x \\left(i^{2} - 2 i + 1\\right) + \\frac{x^{2} \\cdot \\left(1 - i\\right)}{h} + \\frac{x^{3}}{3 h^{2}} & \\text{for}\\: x < h i \\\\h i^{2} \\cdot \\left(1 - i\\right) - h i^{2} \\left(- i - 1\\right) + h i \\left(i^{2} - 2 i + 1\\right) - h i \\left(i^{2} + 2 i + 1\\right) - h \\left(1 - i\\right) \\left(i - 1\\right)^{2} - \\frac{h \\left(i - 1\\right)^{3}}{3} - h \\left(i - 1\\right) \\left(i^{2} - 2 i + 1\\right) + x \\left(i^{2} + 2 i + 1\\right) + \\frac{x^{2} \\left(- i - 1\\right)}{h} + \\frac{x^{3}}{3 h^{2}} & \\text{for}\\: x < h \\left(i + 1\\right) \\\\h i^{2} \\cdot \\left(1 - i\\right) - h i^{2} \\left(- i - 1\\right) + h i \\left(i^{2} - 2 i + 1\\right) - h i \\left(i^{2} + 2 i + 1\\right) - h \\left(1 - i\\right) \\left(i - 1\\right)^{2} + h \\left(- i - 1\\right) \\left(i + 1\\right)^{2} - \\frac{h \\left(i - 1\\right)^{3}}{3} - h \\left(i - 1\\right) \\left(i^{2} - 2 i + 1\\right) + \\frac{h \\left(i + 1\\right)^{3}}{3} + h \\left(i + 1\\right) \\left(i^{2} + 2 i + 1\\right) & \\text{otherwise} \\end{cases}$"
      ],
      "text/plain": [
       "⎧                                                                             \n",
       "⎪                                                                             \n",
       "⎪                                                                             \n",
       "⎪                                                                  2   h⋅(i - \n",
       "⎪                                               - h⋅(1 - i)⋅(i - 1)  - ───────\n",
       "⎪                                                                          3  \n",
       "⎪                                                                             \n",
       "⎪                                                                             \n",
       "⎪                                                                             \n",
       "⎨              2              2                ⎛ 2          ⎞       ⎛ 2       \n",
       "⎪           h⋅i ⋅(1 - i) - h⋅i ⋅(-i - 1) + h⋅i⋅⎝i  - 2⋅i + 1⎠ - h⋅i⋅⎝i  + 2⋅i \n",
       "⎪                                                                             \n",
       "⎪                                                                             \n",
       "⎪                                                                             \n",
       "⎪                                                                             \n",
       "⎪   2              2                ⎛ 2          ⎞       ⎛ 2          ⎞       \n",
       "⎪h⋅i ⋅(1 - i) - h⋅i ⋅(-i - 1) + h⋅i⋅⎝i  - 2⋅i + 1⎠ - h⋅i⋅⎝i  + 2⋅i + 1⎠ - h⋅(1\n",
       "⎪                                                                             \n",
       "⎩                                                                             \n",
       "\n",
       "                   0                                                          \n",
       "                                                                              \n",
       "  3                                                  2             3          \n",
       "1)              ⎛ 2          ⎞     ⎛ 2          ⎞   x ⋅(1 - i)    x           \n",
       "─── - h⋅(i - 1)⋅⎝i  - 2⋅i + 1⎠ + x⋅⎝i  - 2⋅i + 1⎠ + ────────── + ────         \n",
       "                                                        h           2         \n",
       "                                                                 3⋅h          \n",
       "                                                                              \n",
       "                                     3                                        \n",
       "   ⎞                    2   h⋅(i - 1)              ⎛ 2          ⎞     ⎛ 2     \n",
       "+ 1⎠ - h⋅(1 - i)⋅(i - 1)  - ────────── - h⋅(i - 1)⋅⎝i  - 2⋅i + 1⎠ + x⋅⎝i  + 2⋅\n",
       "                                3                                             \n",
       "                                                                              \n",
       "                                                                              \n",
       "                                                3                             \n",
       "             2                     2   h⋅(i - 1)              ⎛ 2          ⎞  \n",
       " - i)⋅(i - 1)  + h⋅(-i - 1)⋅(i + 1)  - ────────── - h⋅(i - 1)⋅⎝i  - 2⋅i + 1⎠ +\n",
       "                                           3                                  \n",
       "                                                                              \n",
       "\n",
       "                                        for x ≤ h⋅(i - 1)\n",
       "                                                         \n",
       "                                                         \n",
       "                                                         \n",
       "                                           for x < h⋅i   \n",
       "                                                         \n",
       "                                                         \n",
       "                                                         \n",
       "          2              3                               \n",
       "     ⎞   x ⋅(-i - 1)    x                                \n",
       "i + 1⎠ + ─────────── + ────             for x < h⋅(i + 1)\n",
       "              h           2                              \n",
       "                       3⋅h                               \n",
       "                                                         \n",
       "          3                                              \n",
       " h⋅(i + 1)              ⎛ 2          ⎞                   \n",
       " ────────── + h⋅(i + 1)⋅⎝i  + 2⋅i + 1⎠      otherwise    \n",
       "     3                                                   \n",
       "                                                         "
      ]
     },
     "execution_count": 12,
     "metadata": {},
     "output_type": "execute_result"
    }
   ],
   "source": [
    "sy_basis2.integrate(x)"
   ]
  },
  {
   "cell_type": "code",
   "execution_count": 13,
   "id": "e6b78238-3170-4704-9157-b0efa00b8d54",
   "metadata": {},
   "outputs": [
    {
     "data": {
      "image/png": "[encoded data removed]",
      "text/latex": [
       "$\\displaystyle - h \\left(1 - i\\right) \\left(i - 1\\right)^{2} - \\frac{h \\left(i - 1\\right)^{3}}{3} - h \\left(i - 1\\right) \\left(i^{2} - 2 i + 1\\right) + x \\left(i^{2} - 2 i + 1\\right) + \\frac{x^{2} \\cdot \\left(1 - i\\right)}{h} + \\frac{x^{3}}{3 h^{2}}$"
      ],
      "text/plain": [
       "                                3                                             \n",
       "                   2   h⋅(i - 1)              ⎛ 2          ⎞     ⎛ 2          \n",
       "- h⋅(1 - i)⋅(i - 1)  - ────────── - h⋅(i - 1)⋅⎝i  - 2⋅i + 1⎠ + x⋅⎝i  - 2⋅i + 1\n",
       "                           3                                                  \n",
       "                                                                              \n",
       "\n",
       "     2             3 \n",
       "⎞   x ⋅(1 - i)    x  \n",
       "⎠ + ────────── + ────\n",
       "        h           2\n",
       "                 3⋅h "
      ]
     },
     "execution_count": 13,
     "metadata": {},
     "output_type": "execute_result"
    }
   ],
   "source": [
    "sy_basis2.integrate(x).args[1][0]"
   ]
  },
  {
   "cell_type": "code",
   "execution_count": 14,
   "id": "99c5b754-3775-448d-a96a-1ba8514e71c3",
   "metadata": {},
   "outputs": [
    {
     "data": {
      "text/latex": [
       "$\\displaystyle \\begin{cases} \\frac{1}{h} & \\text{for}\\: x > h \\left(i - 1\\right) \\wedge x < h i \\\\- \\frac{1}{h} & \\text{for}\\: x > h i \\wedge x < h \\left(i + 1\\right) \\\\0 & \\text{otherwise} \\end{cases}$"
      ],
      "text/plain": [
       "⎧ 1                              \n",
       "⎪ ─   for x > h⋅(i - 1) ∧ x < h⋅i\n",
       "⎪ h                              \n",
       "⎪                                \n",
       "⎨-1                              \n",
       "⎪───  for x > h⋅i ∧ x < h⋅(i + 1)\n",
       "⎪ h                              \n",
       "⎪                                \n",
       "⎩ 0            otherwise         "
      ]
     },
     "execution_count": 14,
     "metadata": {},
     "output_type": "execute_result"
    }
   ],
   "source": [
    "sy_dbasis = Derivative(sy_basis, x).doit(); sy_dbasis"
   ]
  },
  {
   "cell_type": "code",
   "execution_count": 15,
   "id": "3e061b46-3be2-4ba7-bf6f-48dc8c08d963",
   "metadata": {},
   "outputs": [
    {
     "data": {
      "text/latex": [
       "$\\displaystyle \\begin{cases} \\frac{1}{h^{2}} & \\text{for}\\: \\left(x > h i \\vee x > h \\left(i - 1\\right)\\right) \\wedge \\left(x > h i \\vee x < h i\\right) \\wedge \\left(x > h \\left(i - 1\\right) \\vee x < h \\left(i + 1\\right)\\right) \\wedge \\left(x < h i \\vee x < h \\left(i + 1\\right)\\right) \\\\0 & \\text{otherwise} \\end{cases}$"
      ],
      "text/plain": [
       "⎧1                                                                            \n",
       "⎪──  for (x > h⋅i ∨ x > h⋅(i - 1)) ∧ (x > h⋅i ∨ x < h⋅i) ∧ (x > h⋅(i - 1) ∨ x \n",
       "⎪ 2                                                                           \n",
       "⎨h                                                                            \n",
       "⎪                                                                             \n",
       "⎪0                                                       otherwise            \n",
       "⎩                                                                             \n",
       "\n",
       "                                        \n",
       "< h⋅(i + 1)) ∧ (x < h⋅i ∨ x < h⋅(i + 1))\n",
       "                                        \n",
       "                                        \n",
       "                                        \n",
       "                                        \n",
       "                                        "
      ]
     },
     "execution_count": 15,
     "metadata": {},
     "output_type": "execute_result"
    }
   ],
   "source": [
    "sy_dbasis2 = sy_dbasis**2; sy_dbasis2"
   ]
  },
  {
   "cell_type": "code",
   "execution_count": 16,
   "id": "436dc167-1b7c-4b4b-bfd3-f8dc3c0b6e2b",
   "metadata": {},
   "outputs": [
    {
     "data": {
      "text/latex": [
       "$\\displaystyle \\begin{cases} \\frac{x}{h^{2}} & \\text{for}\\: \\left(x > h i \\vee x > h \\left(i - 1\\right)\\right) \\wedge \\left(x > h i \\vee x < h i\\right) \\wedge \\left(x > h \\left(i - 1\\right) \\vee x < h \\left(i + 1\\right)\\right) \\wedge \\left(x < h i \\vee x < h \\left(i + 1\\right)\\right) \\\\0 & \\text{otherwise} \\end{cases}$"
      ],
      "text/plain": [
       "⎧x                                                                            \n",
       "⎪──  for (x > h⋅i ∨ x > h⋅(i - 1)) ∧ (x > h⋅i ∨ x < h⋅i) ∧ (x > h⋅(i - 1) ∨ x \n",
       "⎪ 2                                                                           \n",
       "⎨h                                                                            \n",
       "⎪                                                                             \n",
       "⎪0                                                       otherwise            \n",
       "⎩                                                                             \n",
       "\n",
       "                                        \n",
       "< h⋅(i + 1)) ∧ (x < h⋅i ∨ x < h⋅(i + 1))\n",
       "                                        \n",
       "                                        \n",
       "                                        \n",
       "                                        \n",
       "                                        "
      ]
     },
     "execution_count": 16,
     "metadata": {},
     "output_type": "execute_result"
    }
   ],
   "source": [
    "sy_dbasis2.piecewise_integrate(x)"
   ]
  },
  {
   "cell_type": "markdown",
   "id": "307fbd88-f9be-4785-a41c-2b2ffd97c68a",
   "metadata": {},
   "source": [
    "### 1st element of the basis\n",
    "\n",
    "Consider $\\phi_j(x_i)$ with j = 1. Then the integer variable i = j. \\\n",
    "Elements $\\phi_0$ and $\\phi_n$ are to be defined indipendently from the others with i = 1, ... , n-1."
   ]
  },
  {
   "cell_type": "code",
   "execution_count": 17,
   "id": "c2536f08-8218-430d-977a-0c13bab98f74",
   "metadata": {},
   "outputs": [
    {
     "data": {
      "text/latex": [
       "$\\displaystyle \\begin{cases} \\frac{x}{h} & \\text{for}\\: h > x \\wedge x > 0 \\\\2 - \\frac{x}{h} & \\text{for}\\: h < x \\wedge x < 2 h \\\\0 & \\text{otherwise} \\end{cases}$"
      ],
      "text/plain": [
       "⎧  x                       \n",
       "⎪  ─     for h > x ∧ x > 0 \n",
       "⎪  h                       \n",
       "⎪                          \n",
       "⎨    x                     \n",
       "⎪2 - ─  for h < x ∧ x < 2⋅h\n",
       "⎪    h                     \n",
       "⎪                          \n",
       "⎩  0         otherwise     "
      ]
     },
     "execution_count": 17,
     "metadata": {},
     "output_type": "execute_result"
    }
   ],
   "source": [
    "# Take the general definition of the basis and substitute i = 1\n",
    "e1 = sy_basis.subs(i, 1); e1"
   ]
  },
  {
   "cell_type": "code",
   "execution_count": 18,
   "id": "0cc9cb65-6f58-4ad9-9359-c59394bdf515",
   "metadata": {},
   "outputs": [
    {
     "data": {
      "text/latex": [
       "$\\displaystyle \\begin{cases} \\frac{1}{h^{2}} & \\text{for}\\: \\left(h > x \\vee h < x\\right) \\wedge \\left(h > x \\vee x < 2 h\\right) \\wedge \\left(x > 0 \\vee h < x\\right) \\wedge \\left(x > 0 \\vee x < 2 h\\right) \\\\0 & \\text{otherwise} \\end{cases}$"
      ],
      "text/plain": [
       "⎧1                                                                            \n",
       "⎪──  for (h > x ∨ h < x) ∧ (h > x ∨ x < 2⋅h) ∧ (x > 0 ∨ h < x) ∧ (x > 0 ∨ x < \n",
       "⎪ 2                                                                           \n",
       "⎨h                                                                            \n",
       "⎪                                                                             \n",
       "⎪0                                     otherwise                              \n",
       "⎩                                                                             \n",
       "\n",
       "    \n",
       "2⋅h)\n",
       "    \n",
       "    \n",
       "    \n",
       "    \n",
       "    "
      ]
     },
     "execution_count": 18,
     "metadata": {},
     "output_type": "execute_result"
    }
   ],
   "source": [
    "de1_2 = sy_dbasis2.subs(i,1); de1_2"
   ]
  },
  {
   "cell_type": "code",
   "execution_count": 19,
   "id": "a7de2fb4-706b-41ba-89bd-e803c94eb292",
   "metadata": {},
   "outputs": [
    {
     "data": {
      "image/png": "[encoded data removed]",
      "text/latex": [
       "$\\displaystyle \\frac{2}{h}$"
      ],
      "text/plain": [
       "2\n",
       "─\n",
       "h"
      ]
     },
     "execution_count": 19,
     "metadata": {},
     "output_type": "execute_result"
    }
   ],
   "source": [
    "de1_2.integrate((x, 0, 2*h))"
   ]
  },
  {
   "cell_type": "markdown",
   "id": "0f5188e0-ff1d-4989-b8e6-309254a0c455",
   "metadata": {},
   "source": [
    "And this, my man, is the entry 11 of the stiffness matrix. Time to make this object-oriented and cycle over the indexes."
   ]
  },
  {
   "cell_type": "markdown",
   "id": "c1db87cb-c8df-4d22-88cd-3a33906a9c57",
   "metadata": {},
   "source": [
    "### Construction of the entries of the K matrix"
   ]
  },
  {
   "cell_type": "code",
   "execution_count": 20,
   "id": "45eb9f12-17cb-4af7-873b-b2abf2a2303e",
   "metadata": {},
   "outputs": [
    {
     "name": "stdout",
     "output_type": "stream",
     "text": [
      "2/h\n",
      "2/h\n",
      "2/h\n",
      "2/h\n",
      "2/h\n",
      "2/h\n",
      "2/h\n",
      "2/h\n",
      "2/h\n",
      "2/h\n"
     ]
    }
   ],
   "source": [
    "# Build the main diagonal first\n",
    "for n in [m+1 for m in range(10)]:\n",
    "    dummy = sy_dbasis2.subs(i,n).integrate((x, (n-1)*h, (n+1)*h))\n",
    "    print(dummy)"
   ]
  },
  {
   "cell_type": "code",
   "execution_count": 21,
   "id": "5a80d675-a054-4b7e-aaec-0b0e41080726",
   "metadata": {},
   "outputs": [
    {
     "data": {
      "text/latex": [
       "$\\displaystyle \\begin{cases} i + 1 - \\frac{x}{h} & \\text{for}\\: h > x \\wedge x > 0 \\\\0 & \\text{otherwise} \\end{cases}$"
      ],
      "text/plain": [
       "⎧        x                   \n",
       "⎪i + 1 - ─  for h > x ∧ x > 0\n",
       "⎨        h                   \n",
       "⎪                            \n",
       "⎩    0          otherwise    "
      ]
     },
     "execution_count": 21,
     "metadata": {},
     "output_type": "execute_result"
    }
   ],
   "source": [
    "e0 = Piecewise(\n",
    "    (-x/h+i+1, (x>0)&(x<h)),\n",
    "    (0, True),\n",
    "); e0"
   ]
  },
  {
   "cell_type": "markdown",
   "id": "799e46c0-4d0e-40f9-be8f-f90a57cda160",
   "metadata": {},
   "source": [
    "### Last try to see if I can implement some sort of inner product\n",
    "\n",
    "**Note: the following is just for trying and is not related to the computation of matrix K: in fact, it uses the elements of the basis and not their derivatives.**"
   ]
  },
  {
   "cell_type": "code",
   "execution_count": 22,
   "id": "d9c4d298-4689-4fa4-a938-6ab1ea925f1e",
   "metadata": {},
   "outputs": [
    {
     "data": {
      "text/latex": [
       "$\\displaystyle \\begin{cases} -1 + \\frac{x}{h} & \\text{for}\\: h < x \\wedge x < 2 h \\\\3 - \\frac{x}{h} & \\text{for}\\: x > 2 h \\wedge x < 3 h \\\\0 & \\text{otherwise} \\end{cases}$"
      ],
      "text/plain": [
       "⎧     x                       \n",
       "⎪-1 + ─   for h < x ∧ x < 2⋅h \n",
       "⎪     h                       \n",
       "⎪                             \n",
       "⎨    x                        \n",
       "⎪3 - ─   for x > 2⋅h ∧ x < 3⋅h\n",
       "⎪    h                        \n",
       "⎪                             \n",
       "⎩  0           otherwise      "
      ]
     },
     "execution_count": 22,
     "metadata": {},
     "output_type": "execute_result"
    }
   ],
   "source": [
    "# Build the second element of the basis\n",
    "e2 = sy_basis.subs(i, 2); e2"
   ]
  },
  {
   "cell_type": "markdown",
   "id": "ebf7c86f-5e5a-405b-beba-c1942af1ccc9",
   "metadata": {},
   "source": [
    "**WARNING** \\ The result below is by no means correct: this may be due to the order of the "
   ]
  },
  {
   "cell_type": "code",
   "execution_count": 23,
   "id": "fd2ffb4a-a497-484e-8c84-691e5c38d1ef",
   "metadata": {},
   "outputs": [
    {
     "data": {
      "text/latex": [
       "$\\displaystyle \\left(\\begin{cases} \\frac{x}{h} & \\text{for}\\: h > x \\wedge x > 0 \\\\2.0 - \\frac{x}{h} & \\text{for}\\: h < x \\wedge x < 2 h \\\\0 & \\text{otherwise} \\end{cases}\\right) \\left(\\begin{cases} -1.0 + \\frac{x}{h} & \\text{for}\\: h < x \\wedge x < 2 h \\\\3.0 - \\frac{x}{h} & \\text{for}\\: x > 2 h \\wedge x < 3 h \\\\0 & \\text{otherwise} \\end{cases}\\right)$"
      ],
      "text/plain": [
       "⎛⎧   x                        ⎞ ⎛⎧       x                       ⎞\n",
       "⎜⎪   ─      for h > x ∧ x > 0 ⎟ ⎜⎪-1.0 + ─   for h < x ∧ x < 2⋅h ⎟\n",
       "⎜⎪   h                        ⎟ ⎜⎪       h                       ⎟\n",
       "⎜⎪                            ⎟ ⎜⎪                               ⎟\n",
       "⎜⎨      x                     ⎟⋅⎜⎨      x                        ⎟\n",
       "⎜⎪2.0 - ─  for h < x ∧ x < 2⋅h⎟ ⎜⎪3.0 - ─   for x > 2⋅h ∧ x < 3⋅h⎟\n",
       "⎜⎪      h                     ⎟ ⎜⎪      h                        ⎟\n",
       "⎜⎪                            ⎟ ⎜⎪                               ⎟\n",
       "⎝⎩   0          otherwise     ⎠ ⎝⎩   0            otherwise      ⎠"
      ]
     },
     "execution_count": 23,
     "metadata": {},
     "output_type": "execute_result"
    }
   ],
   "source": [
    "# Compute the product of e1 and e2\n",
    "e1e2 = e1*e2; e1e2\n",
    "e1e2.evalf()"
   ]
  },
  {
   "cell_type": "code",
   "execution_count": 24,
   "id": "9e6d05cc-79ec-4e60-b294-0511f293236b",
   "metadata": {},
   "outputs": [
    {
     "data": {
      "image/png": "[encoded data removed]",
      "text/latex": [
       "$\\displaystyle \\frac{h}{6}$"
      ],
      "text/plain": [
       "h\n",
       "─\n",
       "6"
      ]
     },
     "execution_count": 24,
     "metadata": {},
     "output_type": "execute_result"
    }
   ],
   "source": [
    "integrate(e1*e2, (x, 0, 2*h))"
   ]
  },
  {
   "cell_type": "code",
   "execution_count": 25,
   "id": "4d1516d8-f946-4e87-b9a4-7a5dcb27122b",
   "metadata": {},
   "outputs": [
    {
     "data": {
      "text/plain": [
       "sympy.core.mul.Mul"
      ]
     },
     "execution_count": 25,
     "metadata": {},
     "output_type": "execute_result"
    }
   ],
   "source": [
    "type(e1e2)"
   ]
  },
  {
   "cell_type": "raw",
   "id": "216508d7-379b-49c1-b909-810c0f3bc696",
   "metadata": {},
   "source": [
    "e1e2.subs(h, 1).doit().integrate((x, 0, 2))"
   ]
  },
  {
   "cell_type": "markdown",
   "id": "b0b49b72-1d4d-4235-8d7f-479355de1696",
   "metadata": {},
   "source": [
    "## B-spline tries"
   ]
  },
  {
   "cell_type": "code",
   "execution_count": 26,
   "id": "a9c08f40-89c6-4599-aec3-603812910d3d",
   "metadata": {},
   "outputs": [
    {
     "data": {
      "image/png": "[encoded data removed]",
      "text/latex": [
       "$\\displaystyle 10$"
      ],
      "text/plain": [
       "10"
      ]
     },
     "execution_count": 26,
     "metadata": {},
     "output_type": "execute_result"
    }
   ],
   "source": [
    "d = 1 # degree pf the B-splines\n",
    "knots = tuple(range(10)); len(knots)"
   ]
  },
  {
   "cell_type": "code",
   "execution_count": 27,
   "id": "9fa9ee98-0953-4854-8f78-bfec7a00d568",
   "metadata": {},
   "outputs": [
    {
     "data": {
      "text/latex": [
       "$\\displaystyle \\begin{cases} x - 7 & \\text{for}\\: x \\geq 7 \\wedge x \\leq 8 \\\\9 - x & \\text{for}\\: x \\geq 8 \\wedge x \\leq 9 \\\\0 & \\text{otherwise} \\end{cases}$"
      ],
      "text/plain": [
       "⎧x - 7  for x ≥ 7 ∧ x ≤ 8\n",
       "⎪                        \n",
       "⎨9 - x  for x ≥ 8 ∧ x ≤ 9\n",
       "⎪                        \n",
       "⎩  0        otherwise    "
      ]
     },
     "execution_count": 27,
     "metadata": {},
     "output_type": "execute_result"
    }
   ],
   "source": [
    "bspline_basis(d, knots, 7, x)"
   ]
  },
  {
   "cell_type": "markdown",
   "id": "cd1be18b-e236-46be-acfe-16004819ca36",
   "metadata": {},
   "source": [
    "## Implementing matrix representation of piecewise linear polynomials basis\n",
    "\n",
    "Consider a uniformly spaced grid on the x axis, with n+1 nodes $x_i$, such that $x_0 = 0$ and $x_n = l$. Then consider the piecewise polynomials: every element $\\phi_j$ takes some value in every interval, and this value can be viewed as the entry of a vector of n components. \\\n",
    "Ex. $\\phi_0 = [-\\frac{x}{h}+1, 0, 0, ..., 0]$ \\\n",
    "We can build a matrix whose rows are the vectors that represent the piecewise polynomials in the form that we have showed. With this convention, we have n+1 rows that represent the piecewise polynomials, and n columns, one for every interval."
   ]
  },
  {
   "cell_type": "code",
   "execution_count": 28,
   "id": "a825e026-54fd-48d4-b1c3-3e98835005a9",
   "metadata": {},
   "outputs": [
    {
     "data": {
      "text/latex": [
       "$\\displaystyle \\begin{cases} - i + 1 + \\frac{x}{h} & \\text{for}\\: x > h \\left(i - 1\\right) \\wedge x < h i \\\\i + 1 - \\frac{x}{h} & \\text{for}\\: x > h i \\wedge x < h \\left(i + 1\\right) \\\\0 & \\text{otherwise} \\end{cases}$"
      ],
      "text/plain": [
       "⎧         x                             \n",
       "⎪-i + 1 + ─  for x > h⋅(i - 1) ∧ x < h⋅i\n",
       "⎪         h                             \n",
       "⎪                                       \n",
       "⎨        x                              \n",
       "⎪i + 1 - ─   for x > h⋅i ∧ x < h⋅(i + 1)\n",
       "⎪        h                              \n",
       "⎪                                       \n",
       "⎩    0                otherwise         "
      ]
     },
     "execution_count": 28,
     "metadata": {},
     "output_type": "execute_result"
    }
   ],
   "source": [
    "sy_basis"
   ]
  },
  {
   "cell_type": "code",
   "execution_count": 29,
   "id": "e4d48d97-a8ce-43e7-a8f2-fc151585eb65",
   "metadata": {},
   "outputs": [
    {
     "data": {
      "image/png": "[encoded data removed]",
      "text/latex": [
       "$\\displaystyle i + 1 - \\frac{x}{h}$"
      ],
      "text/plain": [
       "        x\n",
       "i + 1 - ─\n",
       "        h"
      ]
     },
     "execution_count": 29,
     "metadata": {},
     "output_type": "execute_result"
    }
   ],
   "source": [
    "# The first (and only) element of the e0 component\n",
    "# From now on, the elements of the basis are called eX, with X their index,\n",
    "# eXY are the entries of the matrix built with the vectors eX,\n",
    "# deXY are the elements of the matrix of the derivatives,\n",
    "# eXeY are the elements of the matrix that has the scalar products as components\n",
    "\n",
    "e00 = sy_basis.args[1][0]; e00"
   ]
  },
  {
   "cell_type": "code",
   "execution_count": 30,
   "id": "ef8a79e0-edef-46c3-b2d1-d9bd37fb9146",
   "metadata": {},
   "outputs": [
    {
     "data": {
      "image/png": "[encoded data removed]",
      "text/latex": [
       "$\\displaystyle - i + 1 + \\frac{x}{h}$"
      ],
      "text/plain": [
       "         x\n",
       "-i + 1 + ─\n",
       "         h"
      ]
     },
     "execution_count": 30,
     "metadata": {},
     "output_type": "execute_result"
    }
   ],
   "source": [
    "enn = sy_basis.args[0][0]; enn"
   ]
  },
  {
   "cell_type": "code",
   "execution_count": 31,
   "id": "592ae153-2c0f-4727-b5de-3412e4fa4ef8",
   "metadata": {},
   "outputs": [],
   "source": [
    "# Fix number of intervals\n",
    "n = 10"
   ]
  },
  {
   "cell_type": "raw",
   "id": "6f968aa9-c2b0-4bdf-abd3-f63988f8da59",
   "metadata": {},
   "source": [
    "# Fix l,h\n",
    "h = l/n; print(\"h =\", h)"
   ]
  },
  {
   "cell_type": "raw",
   "id": "ddcd5cca-3efe-4226-b628-bce1269fe101",
   "metadata": {},
   "source": [
    "# Check if np.array->sympy.Matrix is possible\n",
    "Matrix(np.ones(5))"
   ]
  },
  {
   "cell_type": "code",
   "execution_count": 32,
   "id": "5e8b4bb7-7991-4899-bacf-fb4550666819",
   "metadata": {},
   "outputs": [
    {
     "data": {
      "text/plain": [
       "array([1.0*i + 1.0 - 1.0*x/h, 1.0*i + 1.0 - 1.0*x/h,\n",
       "       1.0*i + 1.0 - 1.0*x/h, 1.0*i + 1.0 - 1.0*x/h,\n",
       "       1.0*i + 1.0 - 1.0*x/h, 1.0*i + 1.0 - 1.0*x/h,\n",
       "       1.0*i + 1.0 - 1.0*x/h, 1.0*i + 1.0 - 1.0*x/h,\n",
       "       1.0*i + 1.0 - 1.0*x/h, 1.0*i + 1.0 - 1.0*x/h,\n",
       "       1.0*i + 1.0 - 1.0*x/h], dtype=object)"
      ]
     },
     "execution_count": 32,
     "metadata": {},
     "output_type": "execute_result"
    }
   ],
   "source": [
    "# Build the matrix from scratch: it is a rectangular matrix.\n",
    "# The matrix can be viewed as a square matrix with \"descending\" values\n",
    "# (negative derivative) on the main diagonal, and a single off-diag\n",
    "# with \"ascending\" values, below the main diagonal. Then we add the\n",
    "# n+1 row that only contains the \n",
    "\n",
    "eii = np.ones(n+1)*e00; eii"
   ]
  },
  {
   "cell_type": "code",
   "execution_count": 33,
   "id": "a21b2066-6c18-410b-9194-402e6bd09516",
   "metadata": {},
   "outputs": [
    {
     "data": {
      "text/plain": [
       "array([-1.0*i + 1.0 + 1.0*x/h, -1.0*i + 1.0 + 1.0*x/h,\n",
       "       -1.0*i + 1.0 + 1.0*x/h, -1.0*i + 1.0 + 1.0*x/h,\n",
       "       -1.0*i + 1.0 + 1.0*x/h, -1.0*i + 1.0 + 1.0*x/h,\n",
       "       -1.0*i + 1.0 + 1.0*x/h, -1.0*i + 1.0 + 1.0*x/h,\n",
       "       -1.0*i + 1.0 + 1.0*x/h, -1.0*i + 1.0 + 1.0*x/h], dtype=object)"
      ]
     },
     "execution_count": 33,
     "metadata": {},
     "output_type": "execute_result"
    }
   ],
   "source": [
    "eii_1 = np.ones(n)*enn; eii_1"
   ]
  },
  {
   "cell_type": "code",
   "execution_count": 34,
   "id": "1f48f8d5-e724-4b30-957f-0871531b0efb",
   "metadata": {},
   "outputs": [
    {
     "data": {
      "image/png": "[encoded data removed]",
      "text/latex": [
       "$\\displaystyle \\left( 10, \\  10\\right)$"
      ],
      "text/plain": [
       "(10, 10)"
      ]
     },
     "execution_count": 34,
     "metadata": {},
     "output_type": "execute_result"
    }
   ],
   "source": [
    "shape(np.diag(eii_1))"
   ]
  },
  {
   "cell_type": "code",
   "execution_count": 35,
   "id": "a4599d6c-6b1c-4370-9699-568c3f7da946",
   "metadata": {},
   "outputs": [
    {
     "data": {
      "image/png": "[encoded data removed]",
      "text/latex": [
       "$\\displaystyle \\left( 11, \\  11\\right)$"
      ],
      "text/plain": [
       "(11, 11)"
      ]
     },
     "execution_count": 35,
     "metadata": {},
     "output_type": "execute_result"
    }
   ],
   "source": [
    "shape(np.diag(eii))"
   ]
  },
  {
   "cell_type": "raw",
   "id": "3efbe245-3b0b-4dda-b6de-c6a462dfa9c8",
   "metadata": {},
   "source": [
    "np.diag(eii)+np.diag(eii_1)"
   ]
  },
  {
   "cell_type": "code",
   "execution_count": 36,
   "id": "b0ecc548-10ce-42c6-878e-2b8ddb6f4223",
   "metadata": {},
   "outputs": [
    {
     "data": {
      "text/latex": [
       "$\\displaystyle \\left[\\begin{array}{ccccccccccc}1.0 i + 1.0 - \\frac{1.0 x}{h} & 0 & 0 & 0 & 0 & 0 & 0 & 0 & 0 & 0 & 0\\\\- 1.0 i + 1.0 + \\frac{1.0 x}{h} & 1.0 i + 1.0 - \\frac{1.0 x}{h} & 0 & 0 & 0 & 0 & 0 & 0 & 0 & 0 & 0\\\\0 & - 1.0 i + 1.0 + \\frac{1.0 x}{h} & 1.0 i + 1.0 - \\frac{1.0 x}{h} & 0 & 0 & 0 & 0 & 0 & 0 & 0 & 0\\\\0 & 0 & - 1.0 i + 1.0 + \\frac{1.0 x}{h} & 1.0 i + 1.0 - \\frac{1.0 x}{h} & 0 & 0 & 0 & 0 & 0 & 0 & 0\\\\0 & 0 & 0 & - 1.0 i + 1.0 + \\frac{1.0 x}{h} & 1.0 i + 1.0 - \\frac{1.0 x}{h} & 0 & 0 & 0 & 0 & 0 & 0\\\\0 & 0 & 0 & 0 & - 1.0 i + 1.0 + \\frac{1.0 x}{h} & 1.0 i + 1.0 - \\frac{1.0 x}{h} & 0 & 0 & 0 & 0 & 0\\\\0 & 0 & 0 & 0 & 0 & - 1.0 i + 1.0 + \\frac{1.0 x}{h} & 1.0 i + 1.0 - \\frac{1.0 x}{h} & 0 & 0 & 0 & 0\\\\0 & 0 & 0 & 0 & 0 & 0 & - 1.0 i + 1.0 + \\frac{1.0 x}{h} & 1.0 i + 1.0 - \\frac{1.0 x}{h} & 0 & 0 & 0\\\\0 & 0 & 0 & 0 & 0 & 0 & 0 & - 1.0 i + 1.0 + \\frac{1.0 x}{h} & 1.0 i + 1.0 - \\frac{1.0 x}{h} & 0 & 0\\\\0 & 0 & 0 & 0 & 0 & 0 & 0 & 0 & - 1.0 i + 1.0 + \\frac{1.0 x}{h} & 1.0 i + 1.0 - \\frac{1.0 x}{h} & 0\\\\0 & 0 & 0 & 0 & 0 & 0 & 0 & 0 & 0 & - 1.0 i + 1.0 + \\frac{1.0 x}{h} & 1.0 i + 1.0 - \\frac{1.0 x}{h}\\end{array}\\right]$"
      ],
      "text/plain": [
       "⎡              x                                                              \n",
       "⎢1.0⋅i + 1.0 - ─          0                 0                 0               \n",
       "⎢              h                                                              \n",
       "⎢                                                                             \n",
       "⎢           1.0⋅x                x                                            \n",
       "⎢-i + 1.0 + ─────  1.0⋅i + 1.0 - ─          0                 0               \n",
       "⎢             h                  h                                            \n",
       "⎢                                                                             \n",
       "⎢                             1.0⋅x                x                          \n",
       "⎢       0          -i + 1.0 + ─────  1.0⋅i + 1.0 - ─          0               \n",
       "⎢                               h                  h                          \n",
       "⎢                                                                             \n",
       "⎢                                               1.0⋅x                x        \n",
       "⎢       0                 0          -i + 1.0 + ─────  1.0⋅i + 1.0 - ─        \n",
       "⎢                                                 h                  h        \n",
       "⎢                                                                             \n",
       "⎢                                                                 1.0⋅x       \n",
       "⎢       0                 0                 0          -i + 1.0 + ─────  1.0⋅i\n",
       "⎢                                                                   h         \n",
       "⎢                                                                             \n",
       "⎢                                                                             \n",
       "⎢       0                 0                 0                 0          -i + \n",
       "⎢                                                                             \n",
       "⎢                                                                             \n",
       "⎢                                                                             \n",
       "⎢       0                 0                 0                 0               \n",
       "⎢                                                                             \n",
       "⎢                                                                             \n",
       "⎢                                                                             \n",
       "⎢       0                 0                 0                 0               \n",
       "⎢                                                                             \n",
       "⎢                                                                             \n",
       "⎢                                                                             \n",
       "⎢       0                 0                 0                 0               \n",
       "⎢                                                                             \n",
       "⎢                                                                             \n",
       "⎢                                                                             \n",
       "⎢       0                 0                 0                 0               \n",
       "⎢                                                                             \n",
       "⎢                                                                             \n",
       "⎢                                                                             \n",
       "⎢       0                 0                 0                 0               \n",
       "⎣                                                                             \n",
       "\n",
       "                                                                              \n",
       "  0                 0                 0                 0                 0   \n",
       "                                                                              \n",
       "                                                                              \n",
       "                                                                              \n",
       "  0                 0                 0                 0                 0   \n",
       "                                                                              \n",
       "                                                                              \n",
       "                                                                              \n",
       "  0                 0                 0                 0                 0   \n",
       "                                                                              \n",
       "                                                                              \n",
       "                                                                              \n",
       "  0                 0                 0                 0                 0   \n",
       "                                                                              \n",
       "                                                                              \n",
       "         x                                                                    \n",
       " + 1.0 - ─          0                 0                 0                 0   \n",
       "         h                                                                    \n",
       "                                                                              \n",
       "      1.0⋅x                x                                                  \n",
       "1.0 + ─────  1.0⋅i + 1.0 - ─          0                 0                 0   \n",
       "        h                  h                                                  \n",
       "                                                                              \n",
       "                        1.0⋅x                x                                \n",
       "  0          -i + 1.0 + ─────  1.0⋅i + 1.0 - ─          0                 0   \n",
       "                          h                  h                                \n",
       "                                                                              \n",
       "                                          1.0⋅x                x              \n",
       "  0                 0          -i + 1.0 + ─────  1.0⋅i + 1.0 - ─          0   \n",
       "                                            h                  h              \n",
       "                                                                              \n",
       "                                                            1.0⋅x             \n",
       "  0                 0                 0          -i + 1.0 + ─────  1.0⋅i + 1.0\n",
       "                                                              h               \n",
       "                                                                              \n",
       "                                                                              \n",
       "  0                 0                 0                 0          -i + 1.0 + \n",
       "                                                                              \n",
       "                                                                              \n",
       "                                                                              \n",
       "  0                 0                 0                 0                 0   \n",
       "                                                                              \n",
       "\n",
       "                                        ⎤\n",
       "              0                 0       ⎥\n",
       "                                        ⎥\n",
       "                                        ⎥\n",
       "                                        ⎥\n",
       "              0                 0       ⎥\n",
       "                                        ⎥\n",
       "                                        ⎥\n",
       "                                        ⎥\n",
       "              0                 0       ⎥\n",
       "                                        ⎥\n",
       "                                        ⎥\n",
       "                                        ⎥\n",
       "              0                 0       ⎥\n",
       "                                        ⎥\n",
       "                                        ⎥\n",
       "                                        ⎥\n",
       "              0                 0       ⎥\n",
       "                                        ⎥\n",
       "                                        ⎥\n",
       "                                        ⎥\n",
       "              0                 0       ⎥\n",
       "                                        ⎥\n",
       "                                        ⎥\n",
       "                                        ⎥\n",
       "              0                 0       ⎥\n",
       "                                        ⎥\n",
       "                                        ⎥\n",
       "                                        ⎥\n",
       "              0                 0       ⎥\n",
       "                                        ⎥\n",
       "                                        ⎥\n",
       "   x                                    ⎥\n",
       " - ─          0                 0       ⎥\n",
       "   h                                    ⎥\n",
       "                                        ⎥\n",
       "1.0⋅x                x                  ⎥\n",
       "─────  1.0⋅i + 1.0 - ─          0       ⎥\n",
       "  h                  h                  ⎥\n",
       "                                        ⎥\n",
       "                  1.0⋅x                x⎥\n",
       "       -i + 1.0 + ─────  1.0⋅i + 1.0 - ─⎥\n",
       "                    h                  h⎦"
      ]
     },
     "execution_count": 36,
     "metadata": {},
     "output_type": "execute_result"
    }
   ],
   "source": [
    "# This is ok but from here I cannot access the entries\n",
    "\n",
    "e = Matrix(np.diag(eii) + np.diag(eii_1, -1)); e"
   ]
  },
  {
   "cell_type": "code",
   "execution_count": 37,
   "id": "1435c791-2816-4c75-819e-34ef2e8b8f0c",
   "metadata": {},
   "outputs": [
    {
     "data": {
      "text/plain": [
       "array([[1.0*i + 1.0 - 1.0*x/h, 0, 0, 0, 0, 0, 0, 0, 0, 0, 0],\n",
       "       [-1.0*i + 1.0 + 1.0*x/h, 1.0*i + 1.0 - 1.0*x/h, 0, 0, 0, 0, 0, 0,\n",
       "        0, 0, 0],\n",
       "       [0, -1.0*i + 1.0 + 1.0*x/h, 1.0*i + 1.0 - 1.0*x/h, 0, 0, 0, 0, 0,\n",
       "        0, 0, 0],\n",
       "       [0, 0, -1.0*i + 1.0 + 1.0*x/h, 1.0*i + 1.0 - 1.0*x/h, 0, 0, 0, 0,\n",
       "        0, 0, 0],\n",
       "       [0, 0, 0, -1.0*i + 1.0 + 1.0*x/h, 1.0*i + 1.0 - 1.0*x/h, 0, 0, 0,\n",
       "        0, 0, 0],\n",
       "       [0, 0, 0, 0, -1.0*i + 1.0 + 1.0*x/h, 1.0*i + 1.0 - 1.0*x/h, 0, 0,\n",
       "        0, 0, 0],\n",
       "       [0, 0, 0, 0, 0, -1.0*i + 1.0 + 1.0*x/h, 1.0*i + 1.0 - 1.0*x/h, 0,\n",
       "        0, 0, 0],\n",
       "       [0, 0, 0, 0, 0, 0, -1.0*i + 1.0 + 1.0*x/h, 1.0*i + 1.0 - 1.0*x/h,\n",
       "        0, 0, 0],\n",
       "       [0, 0, 0, 0, 0, 0, 0, -1.0*i + 1.0 + 1.0*x/h,\n",
       "        1.0*i + 1.0 - 1.0*x/h, 0, 0],\n",
       "       [0, 0, 0, 0, 0, 0, 0, 0, -1.0*i + 1.0 + 1.0*x/h,\n",
       "        1.0*i + 1.0 - 1.0*x/h, 0],\n",
       "       [0, 0, 0, 0, 0, 0, 0, 0, 0, -1.0*i + 1.0 + 1.0*x/h,\n",
       "        1.0*i + 1.0 - 1.0*x/h]], dtype=object)"
      ]
     },
     "execution_count": 37,
     "metadata": {},
     "output_type": "execute_result"
    }
   ],
   "source": [
    "m = np.diag(eii_1, -1) + np.diag(eii); m"
   ]
  },
  {
   "cell_type": "code",
   "execution_count": 38,
   "id": "c7b971f8-ca60-4c98-912e-7c15131c9647",
   "metadata": {},
   "outputs": [],
   "source": [
    "e = zeros(n+1, n); e;"
   ]
  },
  {
   "cell_type": "raw",
   "id": "b8b39a35-3b2d-48c0-975c-bc0c20e65148",
   "metadata": {},
   "source": [
    "# Accessing rows and columns in sympy is a little bit more\n",
    "# complicated than in numpy\n",
    "\n",
    "e.row(0).col(0)=1; e"
   ]
  },
  {
   "cell_type": "code",
   "execution_count": 39,
   "id": "fe457da6-ed5a-4a9a-a392-1455b179479f",
   "metadata": {},
   "outputs": [
    {
     "data": {
      "text/plain": [
       "<function _lambdifygenerated(x, h, i)>"
      ]
     },
     "execution_count": 39,
     "metadata": {},
     "output_type": "execute_result"
    }
   ],
   "source": [
    "lambdify(args=[x,h,i], expr=e00, modules=[\"numpy\"])"
   ]
  },
  {
   "cell_type": "code",
   "execution_count": 40,
   "id": "39a2c251-5b89-4f87-8aca-4df78911cbce",
   "metadata": {},
   "outputs": [],
   "source": [
    "i = Symbol(\"i\", integer=True)"
   ]
  },
  {
   "cell_type": "code",
   "execution_count": 41,
   "id": "9316e2d5-2cf8-47f1-80b2-0c52b30ec425",
   "metadata": {},
   "outputs": [
    {
     "data": {
      "text/latex": [
       "$\\displaystyle \\left[\\begin{matrix}1 - \\frac{x}{h} & 0 & 0 & 0 & 0 & 0 & 0 & 0 & 0 & 0\\\\1 + \\frac{x}{h} & 2 - \\frac{x}{h} & 0 & 0 & 0 & 0 & 0 & 0 & 0 & 0\\\\0 & \\frac{x}{h} & 3 - \\frac{x}{h} & 0 & 0 & 0 & 0 & 0 & 0 & 0\\\\0 & 0 & -1 + \\frac{x}{h} & 4 - \\frac{x}{h} & 0 & 0 & 0 & 0 & 0 & 0\\\\0 & 0 & 0 & -2 + \\frac{x}{h} & 5 - \\frac{x}{h} & 0 & 0 & 0 & 0 & 0\\\\0 & 0 & 0 & 0 & -3 + \\frac{x}{h} & 6 - \\frac{x}{h} & 0 & 0 & 0 & 0\\\\0 & 0 & 0 & 0 & 0 & -4 + \\frac{x}{h} & 7 - \\frac{x}{h} & 0 & 0 & 0\\\\0 & 0 & 0 & 0 & 0 & 0 & -5 + \\frac{x}{h} & 8 - \\frac{x}{h} & 0 & 0\\\\0 & 0 & 0 & 0 & 0 & 0 & 0 & -6 + \\frac{x}{h} & 9 - \\frac{x}{h} & 0\\\\0 & 0 & 0 & 0 & 0 & 0 & 0 & 0 & -7 + \\frac{x}{h} & 10 - \\frac{x}{h}\\\\0 & 0 & 0 & 0 & 0 & 0 & 0 & 0 & 0 & -8 + \\frac{x}{h}\\end{matrix}\\right]$"
      ],
      "text/plain": [
       "⎡    x                                                                       ⎤\n",
       "⎢1 - ─    0      0       0       0       0       0       0       0       0   ⎥\n",
       "⎢    h                                                                       ⎥\n",
       "⎢                                                                            ⎥\n",
       "⎢    x      x                                                                ⎥\n",
       "⎢1 + ─  2 - ─    0       0       0       0       0       0       0       0   ⎥\n",
       "⎢    h      h                                                                ⎥\n",
       "⎢                                                                            ⎥\n",
       "⎢         x        x                                                         ⎥\n",
       "⎢  0      ─    3 - ─     0       0       0       0       0       0       0   ⎥\n",
       "⎢         h        h                                                         ⎥\n",
       "⎢                                                                            ⎥\n",
       "⎢                   x      x                                                 ⎥\n",
       "⎢  0      0    -1 + ─  4 - ─     0       0       0       0       0       0   ⎥\n",
       "⎢                   h      h                                                 ⎥\n",
       "⎢                                                                            ⎥\n",
       "⎢                           x      x                                         ⎥\n",
       "⎢  0      0      0     -2 + ─  5 - ─     0       0       0       0       0   ⎥\n",
       "⎢                           h      h                                         ⎥\n",
       "⎢                                                                            ⎥\n",
       "⎢                                   x      x                                 ⎥\n",
       "⎢  0      0      0       0     -3 + ─  6 - ─     0       0       0       0   ⎥\n",
       "⎢                                   h      h                                 ⎥\n",
       "⎢                                                                            ⎥\n",
       "⎢                                           x      x                         ⎥\n",
       "⎢  0      0      0       0       0     -4 + ─  7 - ─     0       0       0   ⎥\n",
       "⎢                                           h      h                         ⎥\n",
       "⎢                                                                            ⎥\n",
       "⎢                                                   x      x                 ⎥\n",
       "⎢  0      0      0       0       0       0     -5 + ─  8 - ─     0       0   ⎥\n",
       "⎢                                                   h      h                 ⎥\n",
       "⎢                                                                            ⎥\n",
       "⎢                                                           x      x         ⎥\n",
       "⎢  0      0      0       0       0       0       0     -6 + ─  9 - ─     0   ⎥\n",
       "⎢                                                           h      h         ⎥\n",
       "⎢                                                                            ⎥\n",
       "⎢                                                                   x       x⎥\n",
       "⎢  0      0      0       0       0       0       0       0     -7 + ─  10 - ─⎥\n",
       "⎢                                                                   h       h⎥\n",
       "⎢                                                                            ⎥\n",
       "⎢                                                                           x⎥\n",
       "⎢  0      0      0       0       0       0       0       0       0     -8 + ─⎥\n",
       "⎣                                                                           h⎦"
      ]
     },
     "execution_count": 41,
     "metadata": {},
     "output_type": "execute_result"
    }
   ],
   "source": [
    "n = 10\n",
    "\n",
    "# We build the matrix of the elements starting from a list of lists:\n",
    "# each sublist is filled with conditional statements with the\n",
    "# sympy objects e00 and enn that represent the values of the pp basis'\n",
    "# elements in a given interval (represented by index j). The index i\n",
    "# loops on the pp basis (from 0 to n) and is substituted in the expr\n",
    "# e00 and enn. What we obtain is a pure sympy.Matrix object.\n",
    "\n",
    "elist = []\n",
    "for a in range(n+1):\n",
    "    lista = [0 for b in range(n)]\n",
    "    for b in range(n):\n",
    "        if (a!=0)&(b==a-1): lista[b]=enn.subs(i, b)\n",
    "        elif a==b: lista[b]=e00.subs(i, b)\n",
    "        else: lista[b]=0\n",
    "    elist.append(lista)\n",
    "e = Matrix(elist); e"
   ]
  },
  {
   "cell_type": "code",
   "execution_count": 42,
   "id": "068fa02b-79ec-4521-ab0e-79c88f143cd9",
   "metadata": {},
   "outputs": [
    {
     "data": {
      "image/png": "[encoded data removed]",
      "text/latex": [
       "$\\displaystyle - \\frac{1}{h}$"
      ],
      "text/plain": [
       "-1 \n",
       "───\n",
       " h "
      ]
     },
     "execution_count": 42,
     "metadata": {},
     "output_type": "execute_result"
    }
   ],
   "source": [
    "e00.diff(x)"
   ]
  },
  {
   "cell_type": "code",
   "execution_count": 43,
   "id": "03562abe-492f-46e3-b625-618f74accb79",
   "metadata": {},
   "outputs": [
    {
     "data": {
      "text/latex": [
       "$\\displaystyle \\left[\\begin{matrix}- \\frac{1}{h} & 0 & 0 & 0 & 0 & 0 & 0 & 0 & 0 & 0\\\\\\frac{1}{h} & - \\frac{1}{h} & 0 & 0 & 0 & 0 & 0 & 0 & 0 & 0\\\\0 & \\frac{1}{h} & - \\frac{1}{h} & 0 & 0 & 0 & 0 & 0 & 0 & 0\\\\0 & 0 & \\frac{1}{h} & - \\frac{1}{h} & 0 & 0 & 0 & 0 & 0 & 0\\\\0 & 0 & 0 & \\frac{1}{h} & - \\frac{1}{h} & 0 & 0 & 0 & 0 & 0\\\\0 & 0 & 0 & 0 & \\frac{1}{h} & - \\frac{1}{h} & 0 & 0 & 0 & 0\\\\0 & 0 & 0 & 0 & 0 & \\frac{1}{h} & - \\frac{1}{h} & 0 & 0 & 0\\\\0 & 0 & 0 & 0 & 0 & 0 & \\frac{1}{h} & - \\frac{1}{h} & 0 & 0\\\\0 & 0 & 0 & 0 & 0 & 0 & 0 & \\frac{1}{h} & - \\frac{1}{h} & 0\\\\0 & 0 & 0 & 0 & 0 & 0 & 0 & 0 & \\frac{1}{h} & - \\frac{1}{h}\\\\0 & 0 & 0 & 0 & 0 & 0 & 0 & 0 & 0 & \\frac{1}{h}\\end{matrix}\\right]$"
      ],
      "text/plain": [
       "⎡-1                                              ⎤\n",
       "⎢───   0    0    0    0    0    0    0    0    0 ⎥\n",
       "⎢ h                                              ⎥\n",
       "⎢                                                ⎥\n",
       "⎢ 1   -1                                         ⎥\n",
       "⎢ ─   ───   0    0    0    0    0    0    0    0 ⎥\n",
       "⎢ h    h                                         ⎥\n",
       "⎢                                                ⎥\n",
       "⎢      1   -1                                    ⎥\n",
       "⎢ 0    ─   ───   0    0    0    0    0    0    0 ⎥\n",
       "⎢      h    h                                    ⎥\n",
       "⎢                                                ⎥\n",
       "⎢           1   -1                               ⎥\n",
       "⎢ 0    0    ─   ───   0    0    0    0    0    0 ⎥\n",
       "⎢           h    h                               ⎥\n",
       "⎢                                                ⎥\n",
       "⎢                1   -1                          ⎥\n",
       "⎢ 0    0    0    ─   ───   0    0    0    0    0 ⎥\n",
       "⎢                h    h                          ⎥\n",
       "⎢                                                ⎥\n",
       "⎢                     1   -1                     ⎥\n",
       "⎢ 0    0    0    0    ─   ───   0    0    0    0 ⎥\n",
       "⎢                     h    h                     ⎥\n",
       "⎢                                                ⎥\n",
       "⎢                          1   -1                ⎥\n",
       "⎢ 0    0    0    0    0    ─   ───   0    0    0 ⎥\n",
       "⎢                          h    h                ⎥\n",
       "⎢                                                ⎥\n",
       "⎢                               1   -1           ⎥\n",
       "⎢ 0    0    0    0    0    0    ─   ───   0    0 ⎥\n",
       "⎢                               h    h           ⎥\n",
       "⎢                                                ⎥\n",
       "⎢                                    1   -1      ⎥\n",
       "⎢ 0    0    0    0    0    0    0    ─   ───   0 ⎥\n",
       "⎢                                    h    h      ⎥\n",
       "⎢                                                ⎥\n",
       "⎢                                         1   -1 ⎥\n",
       "⎢ 0    0    0    0    0    0    0    0    ─   ───⎥\n",
       "⎢                                         h    h ⎥\n",
       "⎢                                                ⎥\n",
       "⎢                                              1 ⎥\n",
       "⎢ 0    0    0    0    0    0    0    0    0    ─ ⎥\n",
       "⎣                                              h ⎦"
      ]
     },
     "execution_count": 43,
     "metadata": {},
     "output_type": "execute_result"
    }
   ],
   "source": [
    "# We build the matrix of the derivatives in the same way as we have built\n",
    "# the matrix of the elements.\n",
    "\n",
    "delist = []\n",
    "for a in range(n+1):\n",
    "    lista = [0 for b in range(n)]\n",
    "    for b in range(n):\n",
    "        if (a!=0)&(b==a-1): lista[b]=enn.diff(x)\n",
    "        elif a==b: lista[b]=e00.diff(x)\n",
    "        else: lista[b]=0\n",
    "    delist.append(lista)\n",
    "de = Matrix(delist); de"
   ]
  },
  {
   "cell_type": "code",
   "execution_count": 44,
   "id": "95937efa-b039-4762-b3c2-3c83108f6440",
   "metadata": {},
   "outputs": [
    {
     "data": {
      "image/png": "[encoded data removed]",
      "text/latex": [
       "$\\displaystyle \\left( 11, \\  10\\right)$"
      ],
      "text/plain": [
       "(11, 10)"
      ]
     },
     "execution_count": 44,
     "metadata": {},
     "output_type": "execute_result"
    }
   ],
   "source": [
    "# Checking that the shape is the one that we want\n",
    "\n",
    "shape(de)"
   ]
  },
  {
   "cell_type": "code",
   "execution_count": 45,
   "id": "b48ff9e6-f259-4fc5-b29e-79c1aaad78da",
   "metadata": {},
   "outputs": [
    {
     "data": {
      "text/latex": [
       "$\\displaystyle \\left[\\begin{array}{ccccccccccc}\\frac{1}{h^{2}} & - \\frac{1}{h^{2}} & 0 & 0 & 0 & 0 & 0 & 0 & 0 & 0 & 0\\\\- \\frac{1}{h^{2}} & \\frac{2}{h^{2}} & - \\frac{1}{h^{2}} & 0 & 0 & 0 & 0 & 0 & 0 & 0 & 0\\\\0 & - \\frac{1}{h^{2}} & \\frac{2}{h^{2}} & - \\frac{1}{h^{2}} & 0 & 0 & 0 & 0 & 0 & 0 & 0\\\\0 & 0 & - \\frac{1}{h^{2}} & \\frac{2}{h^{2}} & - \\frac{1}{h^{2}} & 0 & 0 & 0 & 0 & 0 & 0\\\\0 & 0 & 0 & - \\frac{1}{h^{2}} & \\frac{2}{h^{2}} & - \\frac{1}{h^{2}} & 0 & 0 & 0 & 0 & 0\\\\0 & 0 & 0 & 0 & - \\frac{1}{h^{2}} & \\frac{2}{h^{2}} & - \\frac{1}{h^{2}} & 0 & 0 & 0 & 0\\\\0 & 0 & 0 & 0 & 0 & - \\frac{1}{h^{2}} & \\frac{2}{h^{2}} & - \\frac{1}{h^{2}} & 0 & 0 & 0\\\\0 & 0 & 0 & 0 & 0 & 0 & - \\frac{1}{h^{2}} & \\frac{2}{h^{2}} & - \\frac{1}{h^{2}} & 0 & 0\\\\0 & 0 & 0 & 0 & 0 & 0 & 0 & - \\frac{1}{h^{2}} & \\frac{2}{h^{2}} & - \\frac{1}{h^{2}} & 0\\\\0 & 0 & 0 & 0 & 0 & 0 & 0 & 0 & - \\frac{1}{h^{2}} & \\frac{2}{h^{2}} & - \\frac{1}{h^{2}}\\\\0 & 0 & 0 & 0 & 0 & 0 & 0 & 0 & 0 & - \\frac{1}{h^{2}} & \\frac{1}{h^{2}}\\end{array}\\right]$"
      ],
      "text/plain": [
       "⎡1    -1                                              ⎤\n",
       "⎢──   ───   0    0    0    0    0    0    0    0    0 ⎥\n",
       "⎢ 2     2                                             ⎥\n",
       "⎢h     h                                              ⎥\n",
       "⎢                                                     ⎥\n",
       "⎢-1   2    -1                                         ⎥\n",
       "⎢───  ──   ───   0    0    0    0    0    0    0    0 ⎥\n",
       "⎢  2   2     2                                        ⎥\n",
       "⎢ h   h     h                                         ⎥\n",
       "⎢                                                     ⎥\n",
       "⎢     -1   2    -1                                    ⎥\n",
       "⎢ 0   ───  ──   ───   0    0    0    0    0    0    0 ⎥\n",
       "⎢       2   2     2                                   ⎥\n",
       "⎢      h   h     h                                    ⎥\n",
       "⎢                                                     ⎥\n",
       "⎢          -1   2    -1                               ⎥\n",
       "⎢ 0    0   ───  ──   ───   0    0    0    0    0    0 ⎥\n",
       "⎢            2   2     2                              ⎥\n",
       "⎢           h   h     h                               ⎥\n",
       "⎢                                                     ⎥\n",
       "⎢               -1   2    -1                          ⎥\n",
       "⎢ 0    0    0   ───  ──   ───   0    0    0    0    0 ⎥\n",
       "⎢                 2   2     2                         ⎥\n",
       "⎢                h   h     h                          ⎥\n",
       "⎢                                                     ⎥\n",
       "⎢                    -1   2    -1                     ⎥\n",
       "⎢ 0    0    0    0   ───  ──   ───   0    0    0    0 ⎥\n",
       "⎢                      2   2     2                    ⎥\n",
       "⎢                     h   h     h                     ⎥\n",
       "⎢                                                     ⎥\n",
       "⎢                         -1   2    -1                ⎥\n",
       "⎢ 0    0    0    0    0   ───  ──   ───   0    0    0 ⎥\n",
       "⎢                           2   2     2               ⎥\n",
       "⎢                          h   h     h                ⎥\n",
       "⎢                                                     ⎥\n",
       "⎢                              -1   2    -1           ⎥\n",
       "⎢ 0    0    0    0    0    0   ───  ──   ───   0    0 ⎥\n",
       "⎢                                2   2     2          ⎥\n",
       "⎢                               h   h     h           ⎥\n",
       "⎢                                                     ⎥\n",
       "⎢                                   -1   2    -1      ⎥\n",
       "⎢ 0    0    0    0    0    0    0   ───  ──   ───   0 ⎥\n",
       "⎢                                     2   2     2     ⎥\n",
       "⎢                                    h   h     h      ⎥\n",
       "⎢                                                     ⎥\n",
       "⎢                                        -1   2    -1 ⎥\n",
       "⎢ 0    0    0    0    0    0    0    0   ───  ──   ───⎥\n",
       "⎢                                          2   2     2⎥\n",
       "⎢                                         h   h     h ⎥\n",
       "⎢                                                     ⎥\n",
       "⎢                                             -1   1  ⎥\n",
       "⎢ 0    0    0    0    0    0    0    0    0   ───  ── ⎥\n",
       "⎢                                               2   2 ⎥\n",
       "⎣                                              h   h  ⎦"
      ]
     },
     "execution_count": 45,
     "metadata": {},
     "output_type": "execute_result"
    }
   ],
   "source": [
    "# And now try to implement the damn scalar product as a matrix product\n",
    "# of the de matrix and de.T. The resulting matrix is the matrix of the\n",
    "# integrands of the matrix Kij, and we should call it Iij\n",
    "\n",
    "Iij = de*de.T; Iij"
   ]
  },
  {
   "cell_type": "code",
   "execution_count": 46,
   "id": "1766f332-6ca3-4597-ad39-50240ec1ce39",
   "metadata": {},
   "outputs": [
    {
     "data": {
      "image/png": "[encoded data removed]",
      "text/latex": [
       "$\\displaystyle \\frac{1}{h^{2}}$"
      ],
      "text/plain": [
       "1 \n",
       "──\n",
       " 2\n",
       "h "
      ]
     },
     "execution_count": 46,
     "metadata": {},
     "output_type": "execute_result"
    }
   ],
   "source": [
    "# Access elements\n",
    "\n",
    "Iij.row(0)[0]"
   ]
  },
  {
   "cell_type": "code",
   "execution_count": 47,
   "id": "65804d47-cb5a-4a73-854a-a0fab226a7af",
   "metadata": {},
   "outputs": [
    {
     "data": {
      "image/png": "[encoded data removed]",
      "text/latex": [
       "$\\displaystyle \\frac{1}{h}$"
      ],
      "text/plain": [
       "1\n",
       "─\n",
       "h"
      ]
     },
     "execution_count": 47,
     "metadata": {},
     "output_type": "execute_result"
    }
   ],
   "source": [
    "Iij.row(0)[0].integrate((x, 0, h))"
   ]
  },
  {
   "cell_type": "code",
   "execution_count": 48,
   "id": "e7dc1b78-30dc-48a3-8d65-29026f0f06d7",
   "metadata": {},
   "outputs": [
    {
     "data": {
      "image/png": "[encoded data removed]",
      "text/latex": [
       "$\\displaystyle 1$"
      ],
      "text/plain": [
       "1"
      ]
     },
     "execution_count": 48,
     "metadata": {},
     "output_type": "execute_result"
    }
   ],
   "source": [
    "# Try function min(x,y)\n",
    "\n",
    "a, b = 1, 2\n",
    "min(a,b)"
   ]
  },
  {
   "cell_type": "code",
   "execution_count": 49,
   "id": "ee4222e4-052d-4906-88db-3064cb4c710d",
   "metadata": {},
   "outputs": [
    {
     "data": {
      "image/png": "[encoded data removed]",
      "text/latex": [
       "$\\displaystyle 11$"
      ],
      "text/plain": [
       "11"
      ]
     },
     "execution_count": 49,
     "metadata": {},
     "output_type": "execute_result"
    }
   ],
   "source": [
    "len(Iij.row(0))"
   ]
  },
  {
   "cell_type": "code",
   "execution_count": 50,
   "id": "d92e78c4-d152-4f52-bc06-8f03e35abd9a",
   "metadata": {},
   "outputs": [
    {
     "data": {
      "text/latex": [
       "$\\displaystyle \\left[\\begin{array}{ccccccccccc}\\frac{1}{h} & - \\frac{1}{h} & 0 & 0 & 0 & 0 & 0 & 0 & 0 & 0 & 0\\\\- \\frac{1}{h} & \\frac{2}{h} & - \\frac{1}{h} & 0 & 0 & 0 & 0 & 0 & 0 & 0 & 0\\\\0 & - \\frac{1}{h} & \\frac{2}{h} & - \\frac{1}{h} & 0 & 0 & 0 & 0 & 0 & 0 & 0\\\\0 & 0 & - \\frac{1}{h} & \\frac{2}{h} & - \\frac{1}{h} & 0 & 0 & 0 & 0 & 0 & 0\\\\0 & 0 & 0 & - \\frac{1}{h} & \\frac{2}{h} & - \\frac{1}{h} & 0 & 0 & 0 & 0 & 0\\\\0 & 0 & 0 & 0 & - \\frac{1}{h} & \\frac{2}{h} & - \\frac{1}{h} & 0 & 0 & 0 & 0\\\\0 & 0 & 0 & 0 & 0 & - \\frac{1}{h} & \\frac{2}{h} & - \\frac{1}{h} & 0 & 0 & 0\\\\0 & 0 & 0 & 0 & 0 & 0 & - \\frac{1}{h} & \\frac{2}{h} & - \\frac{1}{h} & 0 & 0\\\\0 & 0 & 0 & 0 & 0 & 0 & 0 & - \\frac{1}{h} & \\frac{2}{h} & - \\frac{1}{h} & 0\\\\0 & 0 & 0 & 0 & 0 & 0 & 0 & 0 & - \\frac{1}{h} & \\frac{2}{h} & - \\frac{1}{h}\\\\0 & 0 & 0 & 0 & 0 & 0 & 0 & 0 & 0 & - \\frac{1}{h} & \\frac{1}{h}\\end{array}\\right]$"
      ],
      "text/plain": [
       "⎡ 1   -1                                              ⎤\n",
       "⎢ ─   ───   0    0    0    0    0    0    0    0    0 ⎥\n",
       "⎢ h    h                                              ⎥\n",
       "⎢                                                     ⎥\n",
       "⎢-1    2   -1                                         ⎥\n",
       "⎢───   ─   ───   0    0    0    0    0    0    0    0 ⎥\n",
       "⎢ h    h    h                                         ⎥\n",
       "⎢                                                     ⎥\n",
       "⎢     -1    2   -1                                    ⎥\n",
       "⎢ 0   ───   ─   ───   0    0    0    0    0    0    0 ⎥\n",
       "⎢      h    h    h                                    ⎥\n",
       "⎢                                                     ⎥\n",
       "⎢          -1    2   -1                               ⎥\n",
       "⎢ 0    0   ───   ─   ───   0    0    0    0    0    0 ⎥\n",
       "⎢           h    h    h                               ⎥\n",
       "⎢                                                     ⎥\n",
       "⎢               -1    2   -1                          ⎥\n",
       "⎢ 0    0    0   ───   ─   ───   0    0    0    0    0 ⎥\n",
       "⎢                h    h    h                          ⎥\n",
       "⎢                                                     ⎥\n",
       "⎢                    -1    2   -1                     ⎥\n",
       "⎢ 0    0    0    0   ───   ─   ───   0    0    0    0 ⎥\n",
       "⎢                     h    h    h                     ⎥\n",
       "⎢                                                     ⎥\n",
       "⎢                         -1    2   -1                ⎥\n",
       "⎢ 0    0    0    0    0   ───   ─   ───   0    0    0 ⎥\n",
       "⎢                          h    h    h                ⎥\n",
       "⎢                                                     ⎥\n",
       "⎢                              -1    2   -1           ⎥\n",
       "⎢ 0    0    0    0    0    0   ───   ─   ───   0    0 ⎥\n",
       "⎢                               h    h    h           ⎥\n",
       "⎢                                                     ⎥\n",
       "⎢                                   -1    2   -1      ⎥\n",
       "⎢ 0    0    0    0    0    0    0   ───   ─   ───   0 ⎥\n",
       "⎢                                    h    h    h      ⎥\n",
       "⎢                                                     ⎥\n",
       "⎢                                        -1    2   -1 ⎥\n",
       "⎢ 0    0    0    0    0    0    0    0   ───   ─   ───⎥\n",
       "⎢                                         h    h    h ⎥\n",
       "⎢                                                     ⎥\n",
       "⎢                                             -1    1 ⎥\n",
       "⎢ 0    0    0    0    0    0    0    0    0   ───   ─ ⎥\n",
       "⎣                                              h    h ⎦"
      ]
     },
     "execution_count": 50,
     "metadata": {},
     "output_type": "execute_result"
    }
   ],
   "source": [
    "klist = []\n",
    "for a in range(len(Iij.col(0))):\n",
    "    lista = [0 for b in range(len(Iij.row(0)))]\n",
    "    for b,_ in enumerate(lista):\n",
    "        lista[b] = Iij.row(a)[b].integrate((x, min(a,b)*h, (min(a,b)+1)*h))\n",
    "    klist.append(lista)\n",
    "\n",
    "Kij = Matrix(klist); Kij"
   ]
  },
  {
   "cell_type": "markdown",
   "id": "4de8c0db-52f9-49ea-b722-158362bf1cc7",
   "metadata": {},
   "source": [
    "## Implementing vector representation of rhs function"
   ]
  },
  {
   "cell_type": "code",
   "execution_count": 55,
   "id": "9b483b88-c2a8-46be-a500-fbe6aaced922",
   "metadata": {},
   "outputs": [
    {
     "data": {
      "image/png": "[encoded data removed]",
      "text/latex": [
       "$\\displaystyle x - 0.5$"
      ],
      "text/plain": [
       "x - 0.5"
      ]
     },
     "execution_count": 55,
     "metadata": {},
     "output_type": "execute_result"
    }
   ],
   "source": [
    "# The rhs function may be defined as a sympy object\n",
    "\n",
    "rhs = x - 1/2; rhs"
   ]
  },
  {
   "cell_type": "code",
   "execution_count": 78,
   "id": "450ef26f-759b-4d70-b340-441d41c17db2",
   "metadata": {},
   "outputs": [
    {
     "data": {
      "text/latex": [
       "$\\displaystyle \\left[\\begin{matrix}x - 0.5\\\\x - 0.5\\\\x - 0.5\\\\x - 0.5\\\\x - 0.5\\\\x - 0.5\\\\x - 0.5\\\\x - 0.5\\\\x - 0.5\\\\x - 0.5\\end{matrix}\\right]$"
      ],
      "text/plain": [
       "⎡x - 0.5⎤\n",
       "⎢       ⎥\n",
       "⎢x - 0.5⎥\n",
       "⎢       ⎥\n",
       "⎢x - 0.5⎥\n",
       "⎢       ⎥\n",
       "⎢x - 0.5⎥\n",
       "⎢       ⎥\n",
       "⎢x - 0.5⎥\n",
       "⎢       ⎥\n",
       "⎢x - 0.5⎥\n",
       "⎢       ⎥\n",
       "⎢x - 0.5⎥\n",
       "⎢       ⎥\n",
       "⎢x - 0.5⎥\n",
       "⎢       ⎥\n",
       "⎢x - 0.5⎥\n",
       "⎢       ⎥\n",
       "⎣x - 0.5⎦"
      ]
     },
     "execution_count": 78,
     "metadata": {},
     "output_type": "execute_result"
    }
   ],
   "source": [
    "rhsi = Matrix([rhs for i in range(n)]); rhsi"
   ]
  },
  {
   "cell_type": "code",
   "execution_count": 89,
   "id": "f9e4ef7d-cf8f-4917-9b6a-f45bd309f576",
   "metadata": {},
   "outputs": [
    {
     "data": {
      "text/latex": [
       "$\\displaystyle \\left[\\begin{matrix}- 0.333333333333333 h^{2} + 0.5 h \\left(1.0 h + 0.5\\right) - 0.5 h\\\\4.5 h^{2} - 1.5 h\\\\7.5 h^{2} - 1.5 h\\\\10.5 h^{2} - 1.5 h\\\\13.5 h^{2} - 1.5 h\\\\16.5 h^{2} - 1.5 h\\\\19.5 h^{2} - 1.5 h\\\\22.5 h^{2} - 1.5 h\\\\25.5 h^{2} - 1.5 h\\\\28.5 h^{2} - 1.5 h\\\\110.333333333333 h^{2} + 10.5 h \\left(- 8.0 h - 0.5\\right) + 4.0 h\\end{matrix}\\right]$"
      ],
      "text/plain": [
       "⎡                     2                              ⎤\n",
       "⎢- 0.333333333333333⋅h  + 0.5⋅h⋅(1.0⋅h + 0.5) - 0.5⋅h⎥\n",
       "⎢                                                    ⎥\n",
       "⎢                        2                           ⎥\n",
       "⎢                   4.5⋅h  - 1.5⋅h                   ⎥\n",
       "⎢                                                    ⎥\n",
       "⎢                        2                           ⎥\n",
       "⎢                   7.5⋅h  - 1.5⋅h                   ⎥\n",
       "⎢                                                    ⎥\n",
       "⎢                        2                           ⎥\n",
       "⎢                  10.5⋅h  - 1.5⋅h                   ⎥\n",
       "⎢                                                    ⎥\n",
       "⎢                        2                           ⎥\n",
       "⎢                  13.5⋅h  - 1.5⋅h                   ⎥\n",
       "⎢                                                    ⎥\n",
       "⎢                        2                           ⎥\n",
       "⎢                  16.5⋅h  - 1.5⋅h                   ⎥\n",
       "⎢                                                    ⎥\n",
       "⎢                        2                           ⎥\n",
       "⎢                  19.5⋅h  - 1.5⋅h                   ⎥\n",
       "⎢                                                    ⎥\n",
       "⎢                        2                           ⎥\n",
       "⎢                  22.5⋅h  - 1.5⋅h                   ⎥\n",
       "⎢                                                    ⎥\n",
       "⎢                        2                           ⎥\n",
       "⎢                  25.5⋅h  - 1.5⋅h                   ⎥\n",
       "⎢                                                    ⎥\n",
       "⎢                        2                           ⎥\n",
       "⎢                  28.5⋅h  - 1.5⋅h                   ⎥\n",
       "⎢                                                    ⎥\n",
       "⎢                  2                                 ⎥\n",
       "⎣110.333333333333⋅h  + 10.5⋅h⋅(-8.0⋅h - 0.5) + 4.0⋅h ⎦"
      ]
     },
     "execution_count": 89,
     "metadata": {},
     "output_type": "execute_result"
    }
   ],
   "source": [
    "rhslist = []\n",
    "for row in range(len(e.col(0))):\n",
    "    rhslist.append((e.row(row)*rhsi).integrate((x, (row)*h, (row+1)*h)))\n",
    "\n",
    "Matrix(rhslist)"
   ]
  },
  {
   "cell_type": "code",
   "execution_count": 85,
   "id": "808a1b6a-4048-4733-a54d-2e13992c3bc1",
   "metadata": {},
   "outputs": [
    {
     "data": {
      "text/latex": [
       "$\\displaystyle \\left[\\begin{matrix}- 0.333333333333333 h^{2} + 0.5 h \\left(1.0 h + 0.5\\right) - 0.5 h\\end{matrix}\\right]$"
      ],
      "text/plain": [
       "⎡                     2                              ⎤\n",
       "⎣- 0.333333333333333⋅h  + 0.5⋅h⋅(1.0⋅h + 0.5) - 0.5⋅h⎦"
      ]
     },
     "execution_count": 85,
     "metadata": {},
     "output_type": "execute_result"
    }
   ],
   "source": [
    "Integral(Matrix(elist).row(0)*rhsi, (x, 0, h)).doit()"
   ]
  },
  {
   "cell_type": "code",
   "execution_count": 69,
   "id": "27e429d3-3a6b-4d35-9341-19df21ff8b7d",
   "metadata": {},
   "outputs": [
    {
     "data": {
      "image/png": "[encoded data removed]",
      "text/latex": [
       "$\\displaystyle 1.0 h^{2} - 1.0 h$"
      ],
      "text/plain": [
       "     2    \n",
       "1.0⋅h  - h"
      ]
     },
     "execution_count": 69,
     "metadata": {},
     "output_type": "execute_result"
    }
   ],
   "source": [
    "((Matrix(elist).T*rhsi).row(0)[0]).integrate((x, 0, h))"
   ]
  }
 ],
 "metadata": {
  "kernelspec": {
   "display_name": "mmp",
   "language": "python",
   "name": "mmp"
  },
  "language_info": {
   "codemirror_mode": {
    "name": "ipython",
    "version": 3
   },
   "file_extension": ".py",
   "mimetype": "text/x-python",
   "name": "python",
   "nbconvert_exporter": "python",
   "pygments_lexer": "ipython3",
   "version": "3.9.12"
  }
 },
 "nbformat": 4,
 "nbformat_minor": 5
}
