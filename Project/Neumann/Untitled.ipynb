{
 "cells": [
  {
   "cell_type": "markdown",
   "id": "be31d391-4559-4860-afd0-3471dda885a6",
   "metadata": {},
   "source": [
    "# Finite elements for IVBP with Neumann conditions"
   ]
  },
  {
   "cell_type": "markdown",
   "id": "04d9a03e-06eb-481d-b780-bb4bbb28053f",
   "metadata": {},
   "source": []
  }
 ],
 "metadata": {
  "kernelspec": {
   "display_name": "mmp",
   "language": "python",
   "name": "mmp"
  },
  "language_info": {
   "codemirror_mode": {
    "name": "ipython",
    "version": 3
   },
   "file_extension": ".py",
   "mimetype": "text/x-python",
   "name": "python",
   "nbconvert_exporter": "python",
   "pygments_lexer": "ipython3",
   "version": "3.9.12"
  }
 },
 "nbformat": 4,
 "nbformat_minor": 5
}
